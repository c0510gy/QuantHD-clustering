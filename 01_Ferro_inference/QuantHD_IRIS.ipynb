{
 "cells": [
  {
   "cell_type": "code",
   "execution_count": 1,
   "metadata": {},
   "outputs": [],
   "source": [
    "import sys\n",
    "sys.path.append('../')\n",
    "import clustering_tester\n",
    "from tqdm.notebook import tqdm"
   ]
  },
  {
   "cell_type": "code",
   "execution_count": 2,
   "metadata": {},
   "outputs": [],
   "source": [
    "DIM = 10000\n",
    "MAX_SAMPLES = 10000\n",
    "BITS = 3\n",
    "EPOCHS = 40"
   ]
  },
  {
   "cell_type": "code",
   "execution_count": 3,
   "metadata": {},
   "outputs": [
    {
     "data": {
      "application/vnd.jupyter.widget-view+json": {
       "model_id": "754126ca375d4647be3b3c39724c6f66",
       "version_major": 2,
       "version_minor": 0
      },
      "text/plain": [
       "  0%|          | 0/10 [00:00<?, ?it/s]"
      ]
     },
     "metadata": {},
     "output_type": "display_data"
    },
    {
     "name": "stdout",
     "output_type": "stream",
     "text": [
      "selected initial labels: [0, 1, 2]\n"
     ]
    },
    {
     "name": "stderr",
     "output_type": "stream",
     "text": [
      "/Users/sang-geon/git_reps/QuantHD-clustering/venv/lib/python3.8/site-packages/scipy/stats/_stats_py.py:2579: UserWarning: The given NumPy array is not writable, and PyTorch does not support non-writable tensors. This means writing to this tensor will result in undefined behavior. You may want to copy the array to protect its data or make it writable before converting it to a tensor. This type of warning will be suppressed for the rest of this program. (Triggered internally at  /Users/distiller/project/pytorch/torch/csrc/utils/tensor_numpy.cpp:178.)\n",
      "  z[np.broadcast_to(isconst, z.shape)] = np.nan\n"
     ]
    },
    {
     "name": "stdout",
     "output_type": "stream",
     "text": [
      "0.10666666666666667\n",
      "selected initial labels: [0, 2, 2]\n",
      "0.2\n",
      "selected initial labels: [0, 1, 2]\n",
      "0.5266666666666666\n",
      "selected initial labels: [0, 1, 1]\n",
      "0.4666666666666667\n",
      "selected initial labels: [0, 1, 1]\n",
      "0.29333333333333333\n",
      "selected initial labels: [0, 1, 1]\n",
      "0.13333333333333333\n",
      "selected initial labels: [0, 0, 1]\n",
      "0.5266666666666666\n",
      "selected initial labels: [0, 2, 2]\n",
      "0.24\n",
      "selected initial labels: [0, 1, 2]\n",
      "0.06666666666666667\n",
      "selected initial labels: [0, 1, 1]\n",
      "0.49333333333333335\n"
     ]
    }
   ],
   "source": [
    "histories = []\n",
    "for trial in tqdm(range(10)):\n",
    "  history = clustering_tester.run_clustering(\n",
    "    *clustering_tester.get_iris_dataset(MAX_SAMPLES),\n",
    "    BITS,\n",
    "    DIM,\n",
    "    EPOCHS,\n",
    "    clustering_tester.get_prob_tables_from_json('../prob_table.json')['27C_Front_10nm_3bit'],\n",
    "    flip_inference_only=True\n",
    "  )\n",
    "  histories.append(history)"
   ]
  },
  {
   "cell_type": "code",
   "execution_count": 4,
   "metadata": {},
   "outputs": [
    {
     "data": {
      "image/png": "[encoded data removed]",
      "text/plain": [
       "<Figure size 720x504 with 1 Axes>"
      ]
     },
     "metadata": {
      "needs_background": "light"
     },
     "output_type": "display_data"
    }
   ],
   "source": [
    "clustering_tester.plot_histories(histories)"
   ]
  }
 ],
 "metadata": {
  "interpreter": {
   "hash": "1bf9375872625b9969ad2a164b0e1bb1ff57dc43ce6d3e9b7d00df6c4b93696e"
  },
  "kernelspec": {
   "display_name": "Python 3.8.10 64-bit ('venv': venv)",
   "language": "python",
   "name": "python3"
  },
  "language_info": {
   "codemirror_mode": {
    "name": "ipython",
    "version": 3
   },
   "file_extension": ".py",
   "mimetype": "text/x-python",
   "name": "python",
   "nbconvert_exporter": "python",
   "pygments_lexer": "ipython3",
   "version": "3.8.10"
  },
  "orig_nbformat": 4
 },
 "nbformat": 4,
 "nbformat_minor": 2
}
