{
 "cells": [
  {
   "cell_type": "code",
   "execution_count": 1,
   "metadata": {},
   "outputs": [],
   "source": [
    "import sys\n",
    "sys.path.append('../')\n",
    "import clustering_tester\n",
    "from tqdm.notebook import tqdm"
   ]
  },
  {
   "cell_type": "code",
   "execution_count": 2,
   "metadata": {},
   "outputs": [],
   "source": [
    "DIM = 10000\n",
    "MAX_SAMPLES = 10000\n",
    "BITS = 3\n",
    "EPOCHS = 40"
   ]
  },
  {
   "cell_type": "code",
   "execution_count": 3,
   "metadata": {},
   "outputs": [
    {
     "data": {
      "application/vnd.jupyter.widget-view+json": {
       "model_id": "213df82c455e44e3b109cb3643d8c126",
       "version_major": 2,
       "version_minor": 0
      },
      "text/plain": [
       "  0%|          | 0/10 [00:00<?, ?it/s]"
      ]
     },
     "metadata": {},
     "output_type": "display_data"
    },
    {
     "name": "stderr",
     "output_type": "stream",
     "text": [
      "Loading dataset isolet from isolet\n",
      "Loading train data... train data of shape (6238, 617) loaded\n",
      "Loading test data...  test  data of shape (1559, 617) loaded\n",
      "Data Loaded. Num of features = 617 Num of Classes = 26/Users/sang-geon/git_reps/QuantHD-clustering/01_Ferro_inference/../hd_clustering/encoder.py:61: UserWarning: An output with one or more elements was resized since it had shape [63, 10000], which does not match the required output shape [1, 10000].This behavior is deprecated, and in a future PyTorch release outputs will not be resized unless they have zero elements. You can explicitly reuse an out tensor t by resizing it, inplace, to zero elements with t.resize_(0). (Triggered internally at  /Users/distiller/project/pytorch/aten/src/ATen/native/Resize.cpp:24.)\n",
      "  torch.matmul(x[i:i+bsize], self.basis.T, out=temp)\n"
     ]
    },
    {
     "name": "stdout",
     "output_type": "stream",
     "text": [
      "selected initial labels: [1, 2, 3, 3, 4, 5, 5, 6, 6, 8, 9, 13, 16, 16, 16, 16, 16, 17, 18, 20, 20, 22, 23, 24, 24, 25]\n"
     ]
    },
    {
     "name": "stderr",
     "output_type": "stream",
     "text": [
      "/Users/sang-geon/git_reps/QuantHD-clustering/venv/lib/python3.8/site-packages/scipy/stats/_stats_py.py:2579: UserWarning: The given NumPy array is not writable, and PyTorch does not support non-writable tensors. This means writing to this tensor will result in undefined behavior. You may want to copy the array to protect its data or make it writable before converting it to a tensor. This type of warning will be suppressed for the rest of this program. (Triggered internally at  /Users/distiller/project/pytorch/torch/csrc/utils/tensor_numpy.cpp:178.)\n",
      "  z[np.broadcast_to(isconst, z.shape)] = np.nan\n"
     ]
    },
    {
     "name": "stdout",
     "output_type": "stream",
     "text": [
      "0.10403975633215774\n"
     ]
    },
    {
     "name": "stderr",
     "output_type": "stream",
     "text": [
      "Loading dataset isolet from isolet\n",
      "Loading train data... train data of shape (6238, 617) loaded\n",
      "Loading test data...  test  data of shape (1559, 617) loaded\n",
      "Data Loaded. Num of features = 617 Num of Classes = 26/Users/sang-geon/git_reps/QuantHD-clustering/01_Ferro_inference/../hd_clustering/encoder.py:61: UserWarning: An output with one or more elements was resized since it had shape [63, 10000], which does not match the required output shape [1, 10000].This behavior is deprecated, and in a future PyTorch release outputs will not be resized unless they have zero elements. You can explicitly reuse an out tensor t by resizing it, inplace, to zero elements with t.resize_(0). (Triggered internally at  /Users/distiller/project/pytorch/aten/src/ATen/native/Resize.cpp:24.)\n",
      "  torch.matmul(x[i:i+bsize], self.basis.T, out=temp)\n"
     ]
    },
    {
     "name": "stdout",
     "output_type": "stream",
     "text": [
      "selected initial labels: [1, 3, 8, 10, 11, 12, 12, 12, 15, 15, 16, 17, 18, 20, 20, 20, 21, 22, 22, 22, 23, 23, 23, 23, 24, 25]\n",
      "0.01891631933311959\n"
     ]
    },
    {
     "name": "stderr",
     "output_type": "stream",
     "text": [
      "Loading dataset isolet from isolet\n",
      "Loading train data... train data of shape (6238, 617) loaded\n",
      "Loading test data...  test  data of shape (1559, 617) loaded\n",
      "Data Loaded. Num of features = 617 Num of Classes = 26/Users/sang-geon/git_reps/QuantHD-clustering/01_Ferro_inference/../hd_clustering/encoder.py:61: UserWarning: An output with one or more elements was resized since it had shape [63, 10000], which does not match the required output shape [1, 10000].This behavior is deprecated, and in a future PyTorch release outputs will not be resized unless they have zero elements. You can explicitly reuse an out tensor t by resizing it, inplace, to zero elements with t.resize_(0). (Triggered internally at  /Users/distiller/project/pytorch/aten/src/ATen/native/Resize.cpp:24.)\n",
      "  torch.matmul(x[i:i+bsize], self.basis.T, out=temp)\n"
     ]
    },
    {
     "name": "stdout",
     "output_type": "stream",
     "text": [
      "selected initial labels: [2, 2, 4, 4, 4, 5, 6, 7, 7, 8, 8, 8, 10, 13, 15, 16, 16, 17, 18, 20, 21, 22, 24, 24, 24, 25]\n",
      "0.029015710163513946\n"
     ]
    },
    {
     "name": "stderr",
     "output_type": "stream",
     "text": [
      "Loading dataset isolet from isolet\n",
      "Loading train data... train data of shape (6238, 617) loaded\n",
      "Loading test data...  test  data of shape (1559, 617) loaded\n",
      "Data Loaded. Num of features = 617 Num of Classes = 26/Users/sang-geon/git_reps/QuantHD-clustering/01_Ferro_inference/../hd_clustering/encoder.py:61: UserWarning: An output with one or more elements was resized since it had shape [63, 10000], which does not match the required output shape [1, 10000].This behavior is deprecated, and in a future PyTorch release outputs will not be resized unless they have zero elements. You can explicitly reuse an out tensor t by resizing it, inplace, to zero elements with t.resize_(0). (Triggered internally at  /Users/distiller/project/pytorch/aten/src/ATen/native/Resize.cpp:24.)\n",
      "  torch.matmul(x[i:i+bsize], self.basis.T, out=temp)\n"
     ]
    },
    {
     "name": "stdout",
     "output_type": "stream",
     "text": [
      "selected initial labels: [0, 2, 4, 5, 5, 7, 7, 9, 9, 9, 11, 11, 13, 16, 16, 16, 17, 18, 20, 20, 20, 23, 24, 24, 25, 25]\n",
      "0.050977877524847705\n"
     ]
    },
    {
     "name": "stderr",
     "output_type": "stream",
     "text": [
      "Loading dataset isolet from isolet\n",
      "Loading train data... train data of shape (6238, 617) loaded\n",
      "Loading test data...  test  data of shape (1559, 617) loaded\n",
      "Data Loaded. Num of features = 617 Num of Classes = 26/Users/sang-geon/git_reps/QuantHD-clustering/01_Ferro_inference/../hd_clustering/encoder.py:61: UserWarning: An output with one or more elements was resized since it had shape [63, 10000], which does not match the required output shape [1, 10000].This behavior is deprecated, and in a future PyTorch release outputs will not be resized unless they have zero elements. You can explicitly reuse an out tensor t by resizing it, inplace, to zero elements with t.resize_(0). (Triggered internally at  /Users/distiller/project/pytorch/aten/src/ATen/native/Resize.cpp:24.)\n",
      "  torch.matmul(x[i:i+bsize], self.basis.T, out=temp)\n"
     ]
    },
    {
     "name": "stdout",
     "output_type": "stream",
     "text": [
      "selected initial labels: [0, 0, 3, 4, 4, 7, 10, 11, 12, 15, 16, 16, 16, 17, 18, 18, 18, 19, 20, 20, 21, 22, 23, 23, 24, 25]\n",
      "0.0706957358127605\n"
     ]
    },
    {
     "name": "stderr",
     "output_type": "stream",
     "text": [
      "Loading dataset isolet from isolet\n",
      "Loading train data... train data of shape (6238, 617) loaded\n",
      "Loading test data...  test  data of shape (1559, 617) loaded\n",
      "Data Loaded. Num of features = 617 Num of Classes = 26/Users/sang-geon/git_reps/QuantHD-clustering/01_Ferro_inference/../hd_clustering/encoder.py:61: UserWarning: An output with one or more elements was resized since it had shape [63, 10000], which does not match the required output shape [1, 10000].This behavior is deprecated, and in a future PyTorch release outputs will not be resized unless they have zero elements. You can explicitly reuse an out tensor t by resizing it, inplace, to zero elements with t.resize_(0). (Triggered internally at  /Users/distiller/project/pytorch/aten/src/ATen/native/Resize.cpp:24.)\n",
      "  torch.matmul(x[i:i+bsize], self.basis.T, out=temp)\n"
     ]
    },
    {
     "name": "stdout",
     "output_type": "stream",
     "text": [
      "selected initial labels: [0, 1, 1, 1, 2, 4, 6, 7, 8, 8, 9, 9, 10, 11, 12, 13, 16, 17, 21, 21, 22, 22, 23, 24, 24, 24]\n",
      "0.03510740621994229\n"
     ]
    },
    {
     "name": "stderr",
     "output_type": "stream",
     "text": [
      "Loading dataset isolet from isolet\n",
      "Loading train data... train data of shape (6238, 617) loaded\n",
      "Loading test data...  test  data of shape (1559, 617) loaded\n",
      "Data Loaded. Num of features = 617 Num of Classes = 26/Users/sang-geon/git_reps/QuantHD-clustering/01_Ferro_inference/../hd_clustering/encoder.py:61: UserWarning: An output with one or more elements was resized since it had shape [63, 10000], which does not match the required output shape [1, 10000].This behavior is deprecated, and in a future PyTorch release outputs will not be resized unless they have zero elements. You can explicitly reuse an out tensor t by resizing it, inplace, to zero elements with t.resize_(0). (Triggered internally at  /Users/distiller/project/pytorch/aten/src/ATen/native/Resize.cpp:24.)\n",
      "  torch.matmul(x[i:i+bsize], self.basis.T, out=temp)\n"
     ]
    },
    {
     "name": "stdout",
     "output_type": "stream",
     "text": [
      "selected initial labels: [0, 3, 4, 4, 5, 5, 6, 7, 7, 7, 8, 10, 12, 12, 15, 16, 16, 16, 16, 19, 20, 21, 22, 22, 23, 24]\n",
      "0.010259698621352998\n"
     ]
    },
    {
     "name": "stderr",
     "output_type": "stream",
     "text": [
      "Loading dataset isolet from isolet\n",
      "Loading train data... train data of shape (6238, 617) loaded\n",
      "Loading test data...  test  data of shape (1559, 617) loaded\n",
      "Data Loaded. Num of features = 617 Num of Classes = 26/Users/sang-geon/git_reps/QuantHD-clustering/01_Ferro_inference/../hd_clustering/encoder.py:61: UserWarning: An output with one or more elements was resized since it had shape [63, 10000], which does not match the required output shape [1, 10000].This behavior is deprecated, and in a future PyTorch release outputs will not be resized unless they have zero elements. You can explicitly reuse an out tensor t by resizing it, inplace, to zero elements with t.resize_(0). (Triggered internally at  /Users/distiller/project/pytorch/aten/src/ATen/native/Resize.cpp:24.)\n",
      "  torch.matmul(x[i:i+bsize], self.basis.T, out=temp)\n"
     ]
    },
    {
     "name": "stdout",
     "output_type": "stream",
     "text": [
      "selected initial labels: [0, 3, 5, 6, 6, 7, 9, 10, 11, 12, 13, 15, 16, 17, 17, 18, 18, 18, 20, 20, 21, 22, 22, 24, 25, 25]\n",
      "0.028053863417762104\n"
     ]
    },
    {
     "name": "stderr",
     "output_type": "stream",
     "text": [
      "Loading dataset isolet from isolet\n",
      "Loading train data... train data of shape (6238, 617) loaded\n",
      "Loading test data...  test  data of shape (1559, 617) loaded\n",
      "Data Loaded. Num of features = 617 Num of Classes = 26/Users/sang-geon/git_reps/QuantHD-clustering/01_Ferro_inference/../hd_clustering/encoder.py:61: UserWarning: An output with one or more elements was resized since it had shape [63, 10000], which does not match the required output shape [1, 10000].This behavior is deprecated, and in a future PyTorch release outputs will not be resized unless they have zero elements. You can explicitly reuse an out tensor t by resizing it, inplace, to zero elements with t.resize_(0). (Triggered internally at  /Users/distiller/project/pytorch/aten/src/ATen/native/Resize.cpp:24.)\n",
      "  torch.matmul(x[i:i+bsize], self.basis.T, out=temp)\n"
     ]
    },
    {
     "name": "stdout",
     "output_type": "stream",
     "text": [
      "selected initial labels: [0, 1, 2, 2, 4, 4, 5, 7, 9, 11, 11, 13, 14, 16, 17, 18, 18, 18, 21, 22, 22, 22, 24, 24, 25, 25]\n",
      "0.017794164796409107\n"
     ]
    },
    {
     "name": "stderr",
     "output_type": "stream",
     "text": [
      "Loading dataset isolet from isolet\n",
      "Loading train data... train data of shape (6238, 617) loaded\n",
      "Loading test data...  test  data of shape (1559, 617) loaded\n",
      "Data Loaded. Num of features = 617 Num of Classes = 26/Users/sang-geon/git_reps/QuantHD-clustering/01_Ferro_inference/../hd_clustering/encoder.py:61: UserWarning: An output with one or more elements was resized since it had shape [63, 10000], which does not match the required output shape [1, 10000].This behavior is deprecated, and in a future PyTorch release outputs will not be resized unless they have zero elements. You can explicitly reuse an out tensor t by resizing it, inplace, to zero elements with t.resize_(0). (Triggered internally at  /Users/distiller/project/pytorch/aten/src/ATen/native/Resize.cpp:24.)\n",
      "  torch.matmul(x[i:i+bsize], self.basis.T, out=temp)\n"
     ]
    },
    {
     "name": "stdout",
     "output_type": "stream",
     "text": [
      "selected initial labels: [0, 0, 2, 2, 5, 7, 8, 9, 13, 15, 16, 16, 17, 18, 18, 18, 18, 19, 19, 19, 19, 20, 20, 22, 24, 25]\n",
      "0.08945174735492145\n"
     ]
    }
   ],
   "source": [
    "histories = []\n",
    "for trial in tqdm(range(10)):\n",
    "  history = clustering_tester.run_clustering(\n",
    "    *clustering_tester.get_isolet_dataset(MAX_SAMPLES),\n",
    "    BITS,\n",
    "    DIM,\n",
    "    EPOCHS,\n",
    "    clustering_tester.get_prob_tables_from_json('../prob_table.json')['27C_Front_10nm_3bit'],\n",
    "    flip_inference_only=True\n",
    "  )\n",
    "  histories.append(history)"
   ]
  },
  {
   "cell_type": "code",
   "execution_count": 4,
   "metadata": {},
   "outputs": [
    {
     "data": {
      "image/png": "[encoded data removed]",
      "text/plain": [
       "<Figure size 720x504 with 1 Axes>"
      ]
     },
     "metadata": {
      "needs_background": "light"
     },
     "output_type": "display_data"
    }
   ],
   "source": [
    "clustering_tester.plot_histories(histories)"
   ]
  }
 ],
 "metadata": {
  "interpreter": {
   "hash": "1bf9375872625b9969ad2a164b0e1bb1ff57dc43ce6d3e9b7d00df6c4b93696e"
  },
  "kernelspec": {
   "display_name": "Python 3.8.10 64-bit ('venv': venv)",
   "language": "python",
   "name": "python3"
  },
  "language_info": {
   "codemirror_mode": {
    "name": "ipython",
    "version": 3
   },
   "file_extension": ".py",
   "mimetype": "text/x-python",
   "name": "python",
   "nbconvert_exporter": "python",
   "pygments_lexer": "ipython3",
   "version": "3.8.10"
  },
  "orig_nbformat": 4
 },
 "nbformat": 4,
 "nbformat_minor": 2
}
