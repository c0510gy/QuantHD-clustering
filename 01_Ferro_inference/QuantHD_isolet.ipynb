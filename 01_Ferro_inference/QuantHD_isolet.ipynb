{
  "cells": [
    {
      "cell_type": "code",
      "execution_count": 5,
      "metadata": {
        "id": "1W8e7Cz9G8Ag"
      },
      "outputs": [],
      "source": [
        "import sys\n",
        "sys.path.append('../')\n",
        "import clustering_tester\n",
        "from tqdm.notebook import tqdm"
      ]
    },
    {
      "cell_type": "code",
      "execution_count": 6,
      "metadata": {
        "id": "EGIDruSqG8Aj"
      },
      "outputs": [],
      "source": [
        "DIM = 10000\n",
        "MAX_SAMPLES = 10000\n",
        "BITS = 3\n",
        "EPOCHS = 30"
      ]
    },
    {
      "cell_type": "code",
      "execution_count": 7,
      "metadata": {
        "colab": {
          "base_uri": "https://localhost:8080/",
          "height": 1000,
          "referenced_widgets": [
            "05de0e909d7a447a8251efd4422bd9e6",
            "174a955a009b460592350490d3f03f98",
            "59b5cbc1df624c4fbdce9115356a0c69",
            "68ca61ec2943442cae9255b55cd39b7a",
            "0d3a7f164a8a4353aa2dce0696ad8414",
            "27d8d157293243a1b152a72623883ee5",
            "871e106bf8e64ac4a8b6a837d74d2453",
            "6d989ed124f449af87c63080e65056f2",
            "75689d4c7278473eb0cb6c9f487a763e",
            "989501b10a32472a82c3ea9defbbdbd7",
            "5c3a1d98cdb64ec8a5a2d54c8f231ea0"
          ]
        },
        "id": "lMXl3XT7G8Aj",
        "outputId": "091f57a4-5565-4a8d-b081-908c76815fe2"
      },
      "outputs": [
        {
          "data": {
            "application/vnd.jupyter.widget-view+json": {
              "model_id": "05de0e909d7a447a8251efd4422bd9e6",
              "version_major": 2,
              "version_minor": 0
            },
            "text/plain": [
              "  0%|          | 0/10 [00:00<?, ?it/s]"
            ]
          },
          "metadata": {},
          "output_type": "display_data"
        },
        {
          "name": "stderr",
          "output_type": "stream",
          "text": [
            "Loading dataset isolet from isolet\n",
            "Loading train data... train data of shape (6238, 617) loaded\n",
            "Loading test data...  test  data of shape (1559, 617) loaded\n",
            "Data Loaded. Num of features = 617 Num of Classes = 26./QuantHD-clustering/hd_clustering/encoder.py:61: UserWarning: An output with one or more elements was resized since it had shape [63, 10000], which does not match the required output shape [1, 10000].This behavior is deprecated, and in a future PyTorch release outputs will not be resized unless they have zero elements. You can explicitly reuse an out tensor t by resizing it, inplace, to zero elements with t.resize_(0). (Triggered internally at  ../aten/src/ATen/native/Resize.cpp:24.)\n",
            "  torch.matmul(x[i:i+bsize], self.basis.T, out=temp)\n"
          ]
        },
        {
          "name": "stdout",
          "output_type": "stream",
          "text": [
            "selected initial labels: [0, 0, 1, 2, 2, 3, 5, 7, 8, 8, 9, 15, 15, 15, 16, 16, 17, 17, 18, 19, 21, 21, 21, 24, 24, 24]\n",
            "0.5652452709201667\n"
          ]
        },
        {
          "name": "stderr",
          "output_type": "stream",
          "text": [
            "Loading dataset isolet from isolet\n",
            "Loading train data... train data of shape (6238, 617) loaded\n",
            "Loading test data...  test  data of shape (1559, 617) loaded\n",
            "Data Loaded. Num of features = 617 Num of Classes = 26./QuantHD-clustering/hd_clustering/encoder.py:61: UserWarning: An output with one or more elements was resized since it had shape [63, 10000], which does not match the required output shape [1, 10000].This behavior is deprecated, and in a future PyTorch release outputs will not be resized unless they have zero elements. You can explicitly reuse an out tensor t by resizing it, inplace, to zero elements with t.resize_(0). (Triggered internally at  ../aten/src/ATen/native/Resize.cpp:24.)\n",
            "  torch.matmul(x[i:i+bsize], self.basis.T, out=temp)\n"
          ]
        },
        {
          "name": "stdout",
          "output_type": "stream",
          "text": [
            "selected initial labels: [0, 3, 4, 6, 6, 7, 8, 9, 10, 10, 11, 11, 12, 12, 13, 16, 16, 17, 18, 18, 18, 20, 20, 21, 21, 24]\n",
            "0.6142994549535108\n"
          ]
        },
        {
          "name": "stderr",
          "output_type": "stream",
          "text": [
            "Loading dataset isolet from isolet\n",
            "Loading train data... train data of shape (6238, 617) loaded\n",
            "Loading test data...  test  data of shape (1559, 617) loaded\n",
            "Data Loaded. Num of features = 617 Num of Classes = 26./QuantHD-clustering/hd_clustering/encoder.py:61: UserWarning: An output with one or more elements was resized since it had shape [63, 10000], which does not match the required output shape [1, 10000].This behavior is deprecated, and in a future PyTorch release outputs will not be resized unless they have zero elements. You can explicitly reuse an out tensor t by resizing it, inplace, to zero elements with t.resize_(0). (Triggered internally at  ../aten/src/ATen/native/Resize.cpp:24.)\n",
            "  torch.matmul(x[i:i+bsize], self.basis.T, out=temp)\n"
          ]
        },
        {
          "name": "stdout",
          "output_type": "stream",
          "text": [
            "selected initial labels: [0, 1, 10, 11, 12, 13, 13, 14, 15, 15, 18, 19, 19, 20, 20, 20, 20, 21, 21, 21, 22, 22, 24, 25, 25, 25]\n",
            "0.5570695735812761\n"
          ]
        },
        {
          "name": "stderr",
          "output_type": "stream",
          "text": [
            "Loading dataset isolet from isolet\n",
            "Loading train data... train data of shape (6238, 617) loaded\n",
            "Loading test data...  test  data of shape (1559, 617) loaded\n",
            "Data Loaded. Num of features = 617 Num of Classes = 26./QuantHD-clustering/hd_clustering/encoder.py:61: UserWarning: An output with one or more elements was resized since it had shape [63, 10000], which does not match the required output shape [1, 10000].This behavior is deprecated, and in a future PyTorch release outputs will not be resized unless they have zero elements. You can explicitly reuse an out tensor t by resizing it, inplace, to zero elements with t.resize_(0). (Triggered internally at  ../aten/src/ATen/native/Resize.cpp:24.)\n",
            "  torch.matmul(x[i:i+bsize], self.basis.T, out=temp)\n"
          ]
        },
        {
          "name": "stdout",
          "output_type": "stream",
          "text": [
            "selected initial labels: [1, 1, 2, 3, 4, 4, 5, 7, 7, 8, 9, 10, 10, 11, 11, 12, 12, 16, 17, 19, 20, 22, 22, 23, 24, 25]\n",
            "0.5604360371914076\n"
          ]
        },
        {
          "name": "stderr",
          "output_type": "stream",
          "text": [
            "Loading dataset isolet from isolet\n",
            "Loading train data... train data of shape (6238, 617) loaded\n",
            "Loading test data...  test  data of shape (1559, 617) loaded\n",
            "Data Loaded. Num of features = 617 Num of Classes = 26./QuantHD-clustering/hd_clustering/encoder.py:61: UserWarning: An output with one or more elements was resized since it had shape [63, 10000], which does not match the required output shape [1, 10000].This behavior is deprecated, and in a future PyTorch release outputs will not be resized unless they have zero elements. You can explicitly reuse an out tensor t by resizing it, inplace, to zero elements with t.resize_(0). (Triggered internally at  ../aten/src/ATen/native/Resize.cpp:24.)\n",
            "  torch.matmul(x[i:i+bsize], self.basis.T, out=temp)\n"
          ]
        },
        {
          "name": "stdout",
          "output_type": "stream",
          "text": [
            "selected initial labels: [0, 1, 1, 3, 5, 6, 7, 8, 11, 13, 13, 13, 14, 14, 15, 15, 16, 16, 17, 21, 22, 23, 23, 24, 25, 25]\n",
            "0.6082077588970825\n"
          ]
        },
        {
          "name": "stderr",
          "output_type": "stream",
          "text": [
            "Loading dataset isolet from isolet\n",
            "Loading train data... train data of shape (6238, 617) loaded\n",
            "Loading test data...  test  data of shape (1559, 617) loaded\n",
            "Data Loaded. Num of features = 617 Num of Classes = 26./QuantHD-clustering/hd_clustering/encoder.py:61: UserWarning: An output with one or more elements was resized since it had shape [63, 10000], which does not match the required output shape [1, 10000].This behavior is deprecated, and in a future PyTorch release outputs will not be resized unless they have zero elements. You can explicitly reuse an out tensor t by resizing it, inplace, to zero elements with t.resize_(0). (Triggered internally at  ../aten/src/ATen/native/Resize.cpp:24.)\n",
            "  torch.matmul(x[i:i+bsize], self.basis.T, out=temp)\n"
          ]
        },
        {
          "name": "stdout",
          "output_type": "stream",
          "text": [
            "selected initial labels: [0, 0, 1, 2, 3, 5, 5, 5, 7, 9, 9, 10, 12, 12, 14, 16, 17, 18, 20, 21, 21, 22, 22, 24, 24, 24]\n",
            "0.5787111253606926\n"
          ]
        },
        {
          "name": "stderr",
          "output_type": "stream",
          "text": [
            "Loading dataset isolet from isolet\n",
            "Loading train data... train data of shape (6238, 617) loaded\n",
            "Loading test data...  test  data of shape (1559, 617) loaded\n",
            "Data Loaded. Num of features = 617 Num of Classes = 26./QuantHD-clustering/hd_clustering/encoder.py:61: UserWarning: An output with one or more elements was resized since it had shape [63, 10000], which does not match the required output shape [1, 10000].This behavior is deprecated, and in a future PyTorch release outputs will not be resized unless they have zero elements. You can explicitly reuse an out tensor t by resizing it, inplace, to zero elements with t.resize_(0). (Triggered internally at  ../aten/src/ATen/native/Resize.cpp:24.)\n",
            "  torch.matmul(x[i:i+bsize], self.basis.T, out=temp)\n"
          ]
        },
        {
          "name": "stdout",
          "output_type": "stream",
          "text": [
            "selected initial labels: [1, 1, 2, 3, 3, 6, 6, 6, 7, 7, 10, 10, 11, 12, 12, 14, 16, 16, 18, 19, 20, 20, 21, 22, 24, 25]\n",
            "0.5383135620391151\n"
          ]
        },
        {
          "name": "stderr",
          "output_type": "stream",
          "text": [
            "Loading dataset isolet from isolet\n",
            "Loading train data... train data of shape (6238, 617) loaded\n",
            "Loading test data...  test  data of shape (1559, 617) loaded\n",
            "Data Loaded. Num of features = 617 Num of Classes = 26./QuantHD-clustering/hd_clustering/encoder.py:61: UserWarning: An output with one or more elements was resized since it had shape [63, 10000], which does not match the required output shape [1, 10000].This behavior is deprecated, and in a future PyTorch release outputs will not be resized unless they have zero elements. You can explicitly reuse an out tensor t by resizing it, inplace, to zero elements with t.resize_(0). (Triggered internally at  ../aten/src/ATen/native/Resize.cpp:24.)\n",
            "  torch.matmul(x[i:i+bsize], self.basis.T, out=temp)\n"
          ]
        },
        {
          "name": "stdout",
          "output_type": "stream",
          "text": [
            "selected initial labels: [0, 1, 2, 3, 5, 6, 6, 6, 10, 11, 13, 13, 14, 14, 15, 16, 16, 17, 20, 21, 22, 22, 23, 23, 24, 24]\n",
            "0.5876883616543764\n"
          ]
        },
        {
          "name": "stderr",
          "output_type": "stream",
          "text": [
            "Loading dataset isolet from isolet\n",
            "Loading train data... train data of shape (6238, 617) loaded\n",
            "Loading test data...  test  data of shape (1559, 617) loaded\n",
            "Data Loaded. Num of features = 617 Num of Classes = 26./QuantHD-clustering/hd_clustering/encoder.py:61: UserWarning: An output with one or more elements was resized since it had shape [63, 10000], which does not match the required output shape [1, 10000].This behavior is deprecated, and in a future PyTorch release outputs will not be resized unless they have zero elements. You can explicitly reuse an out tensor t by resizing it, inplace, to zero elements with t.resize_(0). (Triggered internally at  ../aten/src/ATen/native/Resize.cpp:24.)\n",
            "  torch.matmul(x[i:i+bsize], self.basis.T, out=temp)\n"
          ]
        },
        {
          "name": "stdout",
          "output_type": "stream",
          "text": [
            "selected initial labels: [0, 1, 3, 4, 4, 6, 7, 8, 12, 13, 14, 15, 15, 15, 15, 17, 18, 18, 19, 20, 20, 22, 22, 24, 24, 25]\n",
            "0.592337287592177\n"
          ]
        },
        {
          "name": "stderr",
          "output_type": "stream",
          "text": [
            "Loading dataset isolet from isolet\n",
            "Loading train data... train data of shape (6238, 617) loaded\n",
            "Loading test data...  test  data of shape (1559, 617) loaded\n",
            "Data Loaded. Num of features = 617 Num of Classes = 26./QuantHD-clustering/hd_clustering/encoder.py:61: UserWarning: An output with one or more elements was resized since it had shape [63, 10000], which does not match the required output shape [1, 10000].This behavior is deprecated, and in a future PyTorch release outputs will not be resized unless they have zero elements. You can explicitly reuse an out tensor t by resizing it, inplace, to zero elements with t.resize_(0). (Triggered internally at  ../aten/src/ATen/native/Resize.cpp:24.)\n",
            "  torch.matmul(x[i:i+bsize], self.basis.T, out=temp)\n"
          ]
        },
        {
          "name": "stdout",
          "output_type": "stream",
          "text": [
            "selected initial labels: [1, 2, 3, 4, 4, 4, 4, 5, 5, 8, 8, 10, 10, 11, 11, 12, 12, 17, 17, 17, 18, 21, 22, 24, 25, 25]\n",
            "0.6130169926258416\n"
          ]
        }
      ],
      "source": [
        "histories = []\n",
        "for trial in tqdm(range(10)):\n",
        "  history = clustering_tester.run_clustering(\n",
        "    *clustering_tester.get_isolet_dataset(MAX_SAMPLES),\n",
        "    BITS,\n",
        "    DIM,\n",
        "    EPOCHS,\n",
        "    clustering_tester.get_prob_tables_from_json('../prob_table.json')['27C_Front_10nm_3bit'],\n",
        "    flip_inference_only=True\n",
        "  )\n",
        "  histories.append(history)"
      ]
    },
    {
      "cell_type": "code",
      "execution_count": 8,
      "metadata": {
        "colab": {
          "base_uri": "https://localhost:8080/",
          "height": 442
        },
        "id": "c7K3Cnw0G8Al",
        "outputId": "e533b9cc-8571-43a5-ee04-62b58fa0e0d5"
      },
      "outputs": [
        {
          "data": {
            "image/png": "[encoded data removed]",
            "text/plain": [
              "<Figure size 720x504 with 1 Axes>"
            ]
          },
          "metadata": {
            "needs_background": "light"
          },
          "output_type": "display_data"
        }
      ],
      "source": [
        "clustering_tester.plot_histories(histories)"
      ]
    },
    {
      "cell_type": "code",
      "execution_count": 9,
      "metadata": {
        "colab": {
          "base_uri": "https://localhost:8080/",
          "height": 1000,
          "referenced_widgets": [
            "8d885c3e5d3b42fb8b0cec81ea6c6f8f",
            "f8856918da2e4a5387a0328ac5f5ce4a",
            "f96f7635172347efb9bb5d098aac3c52",
            "504352d534124c0080b57d1d7516fba9",
            "43bee91afad04869a0e9663c557e0c44",
            "20c6cefe096344e29c78a371b4962373",
            "7a20399a3d2f4232b08959e1e7c40c36",
            "18d44017627d489d8ef89ac22b439718",
            "0e8ededf21d14777b904d9648d1a0de6",
            "ec19d2e65f124ec6b5216fa13bcf1e8b",
            "42d9348726294f8d80b2d07a59607bda"
          ]
        },
        "id": "xXNTi-PIG8Al",
        "outputId": "2723f2da-41d5-4dc1-f3fb-42bc7d1d7a12"
      },
      "outputs": [
        {
          "data": {
            "application/vnd.jupyter.widget-view+json": {
              "model_id": "8d885c3e5d3b42fb8b0cec81ea6c6f8f",
              "version_major": 2,
              "version_minor": 0
            },
            "text/plain": [
              "  0%|          | 0/10 [00:00<?, ?it/s]"
            ]
          },
          "metadata": {},
          "output_type": "display_data"
        },
        {
          "name": "stderr",
          "output_type": "stream",
          "text": [
            "Loading dataset isolet from isolet\n",
            "Loading train data... train data of shape (6238, 617) loaded\n",
            "Loading test data...  test  data of shape (1559, 617) loaded\n",
            "Data Loaded. Num of features = 617 Num of Classes = 26./QuantHD-clustering/hd_clustering/encoder.py:61: UserWarning: An output with one or more elements was resized since it had shape [63, 10000], which does not match the required output shape [1, 10000].This behavior is deprecated, and in a future PyTorch release outputs will not be resized unless they have zero elements. You can explicitly reuse an out tensor t by resizing it, inplace, to zero elements with t.resize_(0). (Triggered internally at  ../aten/src/ATen/native/Resize.cpp:24.)\n",
            "  torch.matmul(x[i:i+bsize], self.basis.T, out=temp)\n"
          ]
        },
        {
          "name": "stdout",
          "output_type": "stream",
          "text": [
            "selected initial labels: [0, 2, 3, 3, 4, 9, 12, 13, 13, 13, 14, 15, 15, 16, 16, 17, 17, 18, 19, 19, 20, 20, 21, 22, 22, 23]\n",
            "0.5787111253606926\n"
          ]
        },
        {
          "name": "stderr",
          "output_type": "stream",
          "text": [
            "Loading dataset isolet from isolet\n",
            "Loading train data... train data of shape (6238, 617) loaded\n",
            "Loading test data...  test  data of shape (1559, 617) loaded\n",
            "Data Loaded. Num of features = 617 Num of Classes = 26./QuantHD-clustering/hd_clustering/encoder.py:61: UserWarning: An output with one or more elements was resized since it had shape [63, 10000], which does not match the required output shape [1, 10000].This behavior is deprecated, and in a future PyTorch release outputs will not be resized unless they have zero elements. You can explicitly reuse an out tensor t by resizing it, inplace, to zero elements with t.resize_(0). (Triggered internally at  ../aten/src/ATen/native/Resize.cpp:24.)\n",
            "  torch.matmul(x[i:i+bsize], self.basis.T, out=temp)\n"
          ]
        },
        {
          "name": "stdout",
          "output_type": "stream",
          "text": [
            "selected initial labels: [0, 0, 2, 3, 5, 6, 7, 7, 7, 8, 9, 12, 13, 15, 15, 17, 18, 20, 20, 20, 22, 22, 22, 25, 25, 25]\n",
            "0.5258095543443412\n"
          ]
        },
        {
          "name": "stderr",
          "output_type": "stream",
          "text": [
            "Loading dataset isolet from isolet\n",
            "Loading train data... train data of shape (6238, 617) loaded\n",
            "Loading test data...  test  data of shape (1559, 617) loaded\n",
            "Data Loaded. Num of features = 617 Num of Classes = 26./QuantHD-clustering/hd_clustering/encoder.py:61: UserWarning: An output with one or more elements was resized since it had shape [63, 10000], which does not match the required output shape [1, 10000].This behavior is deprecated, and in a future PyTorch release outputs will not be resized unless they have zero elements. You can explicitly reuse an out tensor t by resizing it, inplace, to zero elements with t.resize_(0). (Triggered internally at  ../aten/src/ATen/native/Resize.cpp:24.)\n",
            "  torch.matmul(x[i:i+bsize], self.basis.T, out=temp)\n"
          ]
        },
        {
          "name": "stdout",
          "output_type": "stream",
          "text": [
            "selected initial labels: [2, 3, 3, 5, 7, 8, 9, 9, 11, 12, 13, 14, 14, 14, 15, 15, 16, 16, 17, 18, 18, 19, 19, 23, 24, 25]\n",
            "0.5673292722026291\n"
          ]
        },
        {
          "name": "stderr",
          "output_type": "stream",
          "text": [
            "Loading dataset isolet from isolet\n",
            "Loading train data... train data of shape (6238, 617) loaded\n",
            "Loading test data...  test  data of shape (1559, 617) loaded\n",
            "Data Loaded. Num of features = 617 Num of Classes = 26./QuantHD-clustering/hd_clustering/encoder.py:61: UserWarning: An output with one or more elements was resized since it had shape [63, 10000], which does not match the required output shape [1, 10000].This behavior is deprecated, and in a future PyTorch release outputs will not be resized unless they have zero elements. You can explicitly reuse an out tensor t by resizing it, inplace, to zero elements with t.resize_(0). (Triggered internally at  ../aten/src/ATen/native/Resize.cpp:24.)\n",
            "  torch.matmul(x[i:i+bsize], self.basis.T, out=temp)\n"
          ]
        },
        {
          "name": "stdout",
          "output_type": "stream",
          "text": [
            "selected initial labels: [2, 2, 3, 3, 5, 7, 7, 9, 9, 10, 11, 14, 14, 15, 16, 16, 17, 18, 19, 20, 20, 21, 22, 23, 23, 24]\n",
            "0.594581596665598\n"
          ]
        },
        {
          "name": "stderr",
          "output_type": "stream",
          "text": [
            "Loading dataset isolet from isolet\n",
            "Loading train data... train data of shape (6238, 617) loaded\n",
            "Loading test data...  test  data of shape (1559, 617) loaded\n",
            "Data Loaded. Num of features = 617 Num of Classes = 26./QuantHD-clustering/hd_clustering/encoder.py:61: UserWarning: An output with one or more elements was resized since it had shape [63, 10000], which does not match the required output shape [1, 10000].This behavior is deprecated, and in a future PyTorch release outputs will not be resized unless they have zero elements. You can explicitly reuse an out tensor t by resizing it, inplace, to zero elements with t.resize_(0). (Triggered internally at  ../aten/src/ATen/native/Resize.cpp:24.)\n",
            "  torch.matmul(x[i:i+bsize], self.basis.T, out=temp)\n"
          ]
        },
        {
          "name": "stdout",
          "output_type": "stream",
          "text": [
            "selected initial labels: [0, 1, 1, 1, 2, 2, 4, 5, 5, 5, 5, 8, 9, 9, 9, 11, 14, 15, 20, 22, 23, 23, 24, 25, 25, 25]\n",
            "0.5652452709201667\n"
          ]
        },
        {
          "name": "stderr",
          "output_type": "stream",
          "text": [
            "Loading dataset isolet from isolet\n",
            "Loading train data... train data of shape (6238, 617) loaded\n",
            "Loading test data...  test  data of shape (1559, 617) loaded\n",
            "Data Loaded. Num of features = 617 Num of Classes = 26./QuantHD-clustering/hd_clustering/encoder.py:61: UserWarning: An output with one or more elements was resized since it had shape [63, 10000], which does not match the required output shape [1, 10000].This behavior is deprecated, and in a future PyTorch release outputs will not be resized unless they have zero elements. You can explicitly reuse an out tensor t by resizing it, inplace, to zero elements with t.resize_(0). (Triggered internally at  ../aten/src/ATen/native/Resize.cpp:24.)\n",
            "  torch.matmul(x[i:i+bsize], self.basis.T, out=temp)\n"
          ]
        },
        {
          "name": "stdout",
          "output_type": "stream",
          "text": [
            "selected initial labels: [2, 2, 4, 5, 5, 6, 6, 7, 9, 10, 11, 12, 13, 13, 15, 17, 17, 17, 20, 21, 21, 22, 22, 23, 24, 25]\n",
            "0.5716575825585123\n"
          ]
        },
        {
          "name": "stderr",
          "output_type": "stream",
          "text": [
            "Loading dataset isolet from isolet\n",
            "Loading train data... train data of shape (6238, 617) loaded\n",
            "Loading test data...  test  data of shape (1559, 617) loaded\n",
            "Data Loaded. Num of features = 617 Num of Classes = 26./QuantHD-clustering/hd_clustering/encoder.py:61: UserWarning: An output with one or more elements was resized since it had shape [63, 10000], which does not match the required output shape [1, 10000].This behavior is deprecated, and in a future PyTorch release outputs will not be resized unless they have zero elements. You can explicitly reuse an out tensor t by resizing it, inplace, to zero elements with t.resize_(0). (Triggered internally at  ../aten/src/ATen/native/Resize.cpp:24.)\n",
            "  torch.matmul(x[i:i+bsize], self.basis.T, out=temp)\n"
          ]
        },
        {
          "name": "stdout",
          "output_type": "stream",
          "text": [
            "selected initial labels: [1, 3, 3, 4, 5, 5, 7, 9, 10, 10, 11, 12, 12, 13, 14, 17, 17, 18, 19, 20, 22, 22, 22, 22, 23, 24]\n",
            "0.5872074382815005\n"
          ]
        },
        {
          "name": "stderr",
          "output_type": "stream",
          "text": [
            "Loading dataset isolet from isolet\n",
            "Loading train data... train data of shape (6238, 617) loaded\n",
            "Loading test data...  test  data of shape (1559, 617) loaded\n",
            "Data Loaded. Num of features = 617 Num of Classes = 26./QuantHD-clustering/hd_clustering/encoder.py:61: UserWarning: An output with one or more elements was resized since it had shape [63, 10000], which does not match the required output shape [1, 10000].This behavior is deprecated, and in a future PyTorch release outputs will not be resized unless they have zero elements. You can explicitly reuse an out tensor t by resizing it, inplace, to zero elements with t.resize_(0). (Triggered internally at  ../aten/src/ATen/native/Resize.cpp:24.)\n",
            "  torch.matmul(x[i:i+bsize], self.basis.T, out=temp)\n"
          ]
        },
        {
          "name": "stdout",
          "output_type": "stream",
          "text": [
            "selected initial labels: [1, 4, 4, 5, 8, 8, 8, 9, 9, 11, 12, 13, 14, 15, 16, 17, 17, 18, 19, 19, 20, 22, 23, 24, 24, 25]\n",
            "0.5955434434113498\n"
          ]
        },
        {
          "name": "stderr",
          "output_type": "stream",
          "text": [
            "Loading dataset isolet from isolet\n",
            "Loading train data... train data of shape (6238, 617) loaded\n",
            "Loading test data...  test  data of shape (1559, 617) loaded\n",
            "Data Loaded. Num of features = 617 Num of Classes = 26./QuantHD-clustering/hd_clustering/encoder.py:61: UserWarning: An output with one or more elements was resized since it had shape [63, 10000], which does not match the required output shape [1, 10000].This behavior is deprecated, and in a future PyTorch release outputs will not be resized unless they have zero elements. You can explicitly reuse an out tensor t by resizing it, inplace, to zero elements with t.resize_(0). (Triggered internally at  ../aten/src/ATen/native/Resize.cpp:24.)\n",
            "  torch.matmul(x[i:i+bsize], self.basis.T, out=temp)\n"
          ]
        },
        {
          "name": "stdout",
          "output_type": "stream",
          "text": [
            "selected initial labels: [0, 0, 1, 2, 3, 5, 5, 6, 7, 7, 7, 9, 9, 10, 10, 12, 12, 14, 16, 18, 20, 22, 22, 23, 24, 25]\n",
            "0.6125360692529657\n"
          ]
        },
        {
          "name": "stderr",
          "output_type": "stream",
          "text": [
            "Loading dataset isolet from isolet\n",
            "Loading train data... train data of shape (6238, 617) loaded\n",
            "Loading test data...  test  data of shape (1559, 617) loaded\n",
            "Data Loaded. Num of features = 617 Num of Classes = 26./QuantHD-clustering/hd_clustering/encoder.py:61: UserWarning: An output with one or more elements was resized since it had shape [63, 10000], which does not match the required output shape [1, 10000].This behavior is deprecated, and in a future PyTorch release outputs will not be resized unless they have zero elements. You can explicitly reuse an out tensor t by resizing it, inplace, to zero elements with t.resize_(0). (Triggered internally at  ../aten/src/ATen/native/Resize.cpp:24.)\n",
            "  torch.matmul(x[i:i+bsize], self.basis.T, out=temp)\n"
          ]
        },
        {
          "name": "stdout",
          "output_type": "stream",
          "text": [
            "selected initial labels: [0, 1, 1, 2, 2, 3, 4, 4, 5, 7, 7, 8, 9, 9, 12, 13, 16, 18, 18, 18, 19, 20, 22, 22, 22, 23]\n",
            "0.5822378967617826\n"
          ]
        }
      ],
      "source": [
        "histories = []\n",
        "for trial in tqdm(range(10)):\n",
        "  history = clustering_tester.run_clustering(\n",
        "    *clustering_tester.get_isolet_dataset(MAX_SAMPLES),\n",
        "    BITS,\n",
        "    DIM,\n",
        "    EPOCHS,\n",
        "    clustering_tester.get_prob_tables_from_json('../prob_table.json')['80C_Back_3nm_3bit'],\n",
        "    flip_inference_only=True\n",
        "  )\n",
        "  histories.append(history)"
      ]
    },
    {
      "cell_type": "code",
      "execution_count": 10,
      "metadata": {
        "colab": {
          "base_uri": "https://localhost:8080/",
          "height": 442
        },
        "id": "lTiIr1kUG8Al",
        "outputId": "12aeaef7-b764-42b2-a0c5-c554b6a974b8"
      },
      "outputs": [
        {
          "data": {
            "image/png": "[encoded data removed]",
            "text/plain": [
              "<Figure size 720x504 with 1 Axes>"
            ]
          },
          "metadata": {
            "needs_background": "light"
          },
          "output_type": "display_data"
        }
      ],
      "source": [
        "clustering_tester.plot_histories(histories)"
      ]
    },
    {
      "cell_type": "code",
      "execution_count": 11,
      "metadata": {
        "colab": {
          "base_uri": "https://localhost:8080/",
          "height": 1000,
          "referenced_widgets": [
            "ab6aec4591dd435e9f6e19221cd2c07a",
            "fa578ad0fecf4ac69c41a311a0e11c42",
            "98fbdde21aa6447dbbd15c4e90417d15",
            "528d1116fc1d4d1f88ba658e11380598",
            "dae7a6b1717c486294737ed38e496a4f",
            "b7ae435661d74195a6bc778a9d6e1602",
            "7fa5d61dc0ee45daa892ad0e3fcc8d88",
            "0b13cdb05d954b6c84c2a50ce3a61e4e",
            "e0e6aa9db57249c48bee062190ee4db6",
            "ead5b0e4241741368509b8f113f8098f",
            "98cafc5f37344c9c9b9ac1b96a82dab8"
          ]
        },
        "id": "ff-a2iYFG8Am",
        "outputId": "83279b2e-e0bf-4f6c-a566-4fca03388cb5"
      },
      "outputs": [
        {
          "data": {
            "application/vnd.jupyter.widget-view+json": {
              "model_id": "ab6aec4591dd435e9f6e19221cd2c07a",
              "version_major": 2,
              "version_minor": 0
            },
            "text/plain": [
              "  0%|          | 0/10 [00:00<?, ?it/s]"
            ]
          },
          "metadata": {},
          "output_type": "display_data"
        },
        {
          "name": "stderr",
          "output_type": "stream",
          "text": [
            "Loading dataset isolet from isolet\n",
            "Loading train data... train data of shape (6238, 617) loaded\n",
            "Loading test data...  test  data of shape (1559, 617) loaded\n",
            "Data Loaded. Num of features = 617 Num of Classes = 26./QuantHD-clustering/hd_clustering/encoder.py:61: UserWarning: An output with one or more elements was resized since it had shape [63, 10000], which does not match the required output shape [1, 10000].This behavior is deprecated, and in a future PyTorch release outputs will not be resized unless they have zero elements. You can explicitly reuse an out tensor t by resizing it, inplace, to zero elements with t.resize_(0). (Triggered internally at  ../aten/src/ATen/native/Resize.cpp:24.)\n",
            "  torch.matmul(x[i:i+bsize], self.basis.T, out=temp)\n"
          ]
        },
        {
          "name": "stdout",
          "output_type": "stream",
          "text": [
            "selected initial labels: [1, 2, 2, 3, 4, 4, 5, 7, 8, 9, 11, 13, 13, 14, 14, 17, 17, 18, 19, 19, 19, 20, 22, 23, 24, 25]\n",
            "0.647162552100032\n"
          ]
        },
        {
          "name": "stderr",
          "output_type": "stream",
          "text": [
            "Loading dataset isolet from isolet\n",
            "Loading train data... train data of shape (6238, 617) loaded\n",
            "Loading test data...  test  data of shape (1559, 617) loaded\n",
            "Data Loaded. Num of features = 617 Num of Classes = 26./QuantHD-clustering/hd_clustering/encoder.py:61: UserWarning: An output with one or more elements was resized since it had shape [63, 10000], which does not match the required output shape [1, 10000].This behavior is deprecated, and in a future PyTorch release outputs will not be resized unless they have zero elements. You can explicitly reuse an out tensor t by resizing it, inplace, to zero elements with t.resize_(0). (Triggered internally at  ../aten/src/ATen/native/Resize.cpp:24.)\n",
            "  torch.matmul(x[i:i+bsize], self.basis.T, out=temp)\n"
          ]
        },
        {
          "name": "stdout",
          "output_type": "stream",
          "text": [
            "selected initial labels: [0, 0, 1, 2, 5, 8, 9, 11, 11, 11, 12, 15, 15, 16, 18, 19, 20, 21, 23, 23, 23, 24, 24, 24, 25, 25]\n",
            "0.6134979159987175\n"
          ]
        },
        {
          "name": "stderr",
          "output_type": "stream",
          "text": [
            "Loading dataset isolet from isolet\n",
            "Loading train data... train data of shape (6238, 617) loaded\n",
            "Loading test data...  test  data of shape (1559, 617) loaded\n",
            "Data Loaded. Num of features = 617 Num of Classes = 26./QuantHD-clustering/hd_clustering/encoder.py:61: UserWarning: An output with one or more elements was resized since it had shape [63, 10000], which does not match the required output shape [1, 10000].This behavior is deprecated, and in a future PyTorch release outputs will not be resized unless they have zero elements. You can explicitly reuse an out tensor t by resizing it, inplace, to zero elements with t.resize_(0). (Triggered internally at  ../aten/src/ATen/native/Resize.cpp:24.)\n",
            "  torch.matmul(x[i:i+bsize], self.basis.T, out=temp)\n"
          ]
        },
        {
          "name": "stdout",
          "output_type": "stream",
          "text": [
            "selected initial labels: [0, 1, 2, 2, 3, 5, 7, 8, 8, 9, 11, 11, 12, 12, 12, 15, 16, 17, 17, 17, 17, 18, 19, 20, 21, 25]\n",
            "0.5759858929143956\n"
          ]
        },
        {
          "name": "stderr",
          "output_type": "stream",
          "text": [
            "Loading dataset isolet from isolet\n",
            "Loading train data... train data of shape (6238, 617) loaded\n",
            "Loading test data...  test  data of shape (1559, 617) loaded\n",
            "Data Loaded. Num of features = 617 Num of Classes = 26./QuantHD-clustering/hd_clustering/encoder.py:61: UserWarning: An output with one or more elements was resized since it had shape [63, 10000], which does not match the required output shape [1, 10000].This behavior is deprecated, and in a future PyTorch release outputs will not be resized unless they have zero elements. You can explicitly reuse an out tensor t by resizing it, inplace, to zero elements with t.resize_(0). (Triggered internally at  ../aten/src/ATen/native/Resize.cpp:24.)\n",
            "  torch.matmul(x[i:i+bsize], self.basis.T, out=temp)\n"
          ]
        },
        {
          "name": "stdout",
          "output_type": "stream",
          "text": [
            "selected initial labels: [0, 1, 4, 4, 5, 7, 9, 12, 12, 14, 15, 15, 17, 18, 19, 20, 20, 21, 21, 22, 22, 22, 23, 24, 25, 25]\n",
            "0.6072459121513305\n"
          ]
        },
        {
          "name": "stderr",
          "output_type": "stream",
          "text": [
            "Loading dataset isolet from isolet\n",
            "Loading train data... train data of shape (6238, 617) loaded\n",
            "Loading test data...  test  data of shape (1559, 617) loaded\n",
            "Data Loaded. Num of features = 617 Num of Classes = 26./QuantHD-clustering/hd_clustering/encoder.py:61: UserWarning: An output with one or more elements was resized since it had shape [63, 10000], which does not match the required output shape [1, 10000].This behavior is deprecated, and in a future PyTorch release outputs will not be resized unless they have zero elements. You can explicitly reuse an out tensor t by resizing it, inplace, to zero elements with t.resize_(0). (Triggered internally at  ../aten/src/ATen/native/Resize.cpp:24.)\n",
            "  torch.matmul(x[i:i+bsize], self.basis.T, out=temp)\n"
          ]
        },
        {
          "name": "stdout",
          "output_type": "stream",
          "text": [
            "selected initial labels: [0, 0, 2, 2, 3, 5, 6, 8, 9, 11, 11, 12, 12, 13, 13, 13, 14, 15, 16, 17, 18, 21, 22, 23, 23, 25]\n",
            "0.5957037512023085\n"
          ]
        },
        {
          "name": "stderr",
          "output_type": "stream",
          "text": [
            "Loading dataset isolet from isolet\n",
            "Loading train data... train data of shape (6238, 617) loaded\n",
            "Loading test data...  test  data of shape (1559, 617) loaded\n",
            "Data Loaded. Num of features = 617 Num of Classes = 26./QuantHD-clustering/hd_clustering/encoder.py:61: UserWarning: An output with one or more elements was resized since it had shape [63, 10000], which does not match the required output shape [1, 10000].This behavior is deprecated, and in a future PyTorch release outputs will not be resized unless they have zero elements. You can explicitly reuse an out tensor t by resizing it, inplace, to zero elements with t.resize_(0). (Triggered internally at  ../aten/src/ATen/native/Resize.cpp:24.)\n",
            "  torch.matmul(x[i:i+bsize], self.basis.T, out=temp)\n"
          ]
        },
        {
          "name": "stdout",
          "output_type": "stream",
          "text": [
            "selected initial labels: [1, 3, 4, 4, 5, 5, 9, 9, 9, 11, 11, 11, 12, 14, 14, 15, 15, 17, 17, 18, 20, 20, 21, 22, 22, 25]\n",
            "0.5623597306829112\n"
          ]
        },
        {
          "name": "stderr",
          "output_type": "stream",
          "text": [
            "Loading dataset isolet from isolet\n",
            "Loading train data... train data of shape (6238, 617) loaded\n",
            "Loading test data...  test  data of shape (1559, 617) loaded\n",
            "Data Loaded. Num of features = 617 Num of Classes = 26./QuantHD-clustering/hd_clustering/encoder.py:61: UserWarning: An output with one or more elements was resized since it had shape [63, 10000], which does not match the required output shape [1, 10000].This behavior is deprecated, and in a future PyTorch release outputs will not be resized unless they have zero elements. You can explicitly reuse an out tensor t by resizing it, inplace, to zero elements with t.resize_(0). (Triggered internally at  ../aten/src/ATen/native/Resize.cpp:24.)\n",
            "  torch.matmul(x[i:i+bsize], self.basis.T, out=temp)\n"
          ]
        },
        {
          "name": "stdout",
          "output_type": "stream",
          "text": [
            "selected initial labels: [2, 3, 3, 5, 5, 6, 6, 10, 10, 10, 10, 11, 11, 11, 12, 13, 13, 15, 15, 15, 17, 18, 22, 23, 24, 25]\n",
            "0.5918563642193011\n"
          ]
        },
        {
          "name": "stderr",
          "output_type": "stream",
          "text": [
            "Loading dataset isolet from isolet\n",
            "Loading train data... train data of shape (6238, 617) loaded\n",
            "Loading test data...  test  data of shape (1559, 617) loaded\n",
            "Data Loaded. Num of features = 617 Num of Classes = 26./QuantHD-clustering/hd_clustering/encoder.py:61: UserWarning: An output with one or more elements was resized since it had shape [63, 10000], which does not match the required output shape [1, 10000].This behavior is deprecated, and in a future PyTorch release outputs will not be resized unless they have zero elements. You can explicitly reuse an out tensor t by resizing it, inplace, to zero elements with t.resize_(0). (Triggered internally at  ../aten/src/ATen/native/Resize.cpp:24.)\n",
            "  torch.matmul(x[i:i+bsize], self.basis.T, out=temp)\n"
          ]
        },
        {
          "name": "stdout",
          "output_type": "stream",
          "text": [
            "selected initial labels: [1, 2, 2, 3, 3, 5, 6, 6, 7, 11, 12, 13, 13, 14, 16, 16, 17, 19, 19, 21, 22, 23, 23, 24, 24, 24]\n",
            "0.6308111574222507\n"
          ]
        },
        {
          "name": "stderr",
          "output_type": "stream",
          "text": [
            "Loading dataset isolet from isolet\n",
            "Loading train data... train data of shape (6238, 617) loaded\n",
            "Loading test data...  test  data of shape (1559, 617) loaded\n",
            "Data Loaded. Num of features = 617 Num of Classes = 26./QuantHD-clustering/hd_clustering/encoder.py:61: UserWarning: An output with one or more elements was resized since it had shape [63, 10000], which does not match the required output shape [1, 10000].This behavior is deprecated, and in a future PyTorch release outputs will not be resized unless they have zero elements. You can explicitly reuse an out tensor t by resizing it, inplace, to zero elements with t.resize_(0). (Triggered internally at  ../aten/src/ATen/native/Resize.cpp:24.)\n",
            "  torch.matmul(x[i:i+bsize], self.basis.T, out=temp)\n"
          ]
        },
        {
          "name": "stdout",
          "output_type": "stream",
          "text": [
            "selected initial labels: [2, 3, 3, 5, 6, 7, 8, 8, 9, 11, 13, 14, 15, 15, 16, 17, 17, 18, 19, 19, 19, 21, 22, 22, 25, 25]\n",
            "0.5617184995190766\n"
          ]
        },
        {
          "name": "stderr",
          "output_type": "stream",
          "text": [
            "Loading dataset isolet from isolet\n",
            "Loading train data... train data of shape (6238, 617) loaded\n",
            "Loading test data...  test  data of shape (1559, 617) loaded\n",
            "Data Loaded. Num of features = 617 Num of Classes = 26./QuantHD-clustering/hd_clustering/encoder.py:61: UserWarning: An output with one or more elements was resized since it had shape [63, 10000], which does not match the required output shape [1, 10000].This behavior is deprecated, and in a future PyTorch release outputs will not be resized unless they have zero elements. You can explicitly reuse an out tensor t by resizing it, inplace, to zero elements with t.resize_(0). (Triggered internally at  ../aten/src/ATen/native/Resize.cpp:24.)\n",
            "  torch.matmul(x[i:i+bsize], self.basis.T, out=temp)\n"
          ]
        },
        {
          "name": "stdout",
          "output_type": "stream",
          "text": [
            "selected initial labels: [0, 0, 0, 1, 2, 2, 3, 4, 5, 7, 8, 9, 11, 11, 13, 13, 16, 17, 17, 21, 21, 21, 22, 23, 24, 25]\n",
            "0.634658544405258\n"
          ]
        }
      ],
      "source": [
        "histories = []\n",
        "for trial in tqdm(range(10)):\n",
        "  history = clustering_tester.run_clustering(\n",
        "    *clustering_tester.get_isolet_dataset(MAX_SAMPLES),\n",
        "    BITS,\n",
        "    DIM,\n",
        "    EPOCHS,\n",
        "    clustering_tester.get_prob_tables_from_json('../prob_table.json')['27C_Front_3nm_3bit'],\n",
        "    flip_inference_only=True\n",
        "  )\n",
        "  histories.append(history)"
      ]
    },
    {
      "cell_type": "code",
      "execution_count": 12,
      "metadata": {
        "colab": {
          "base_uri": "https://localhost:8080/",
          "height": 442
        },
        "id": "CVUhEBVaG8Am",
        "outputId": "2925b8ec-16b1-494a-8725-eea69dc6de2a"
      },
      "outputs": [
        {
          "data": {
            "image/png": "[encoded data removed]",
            "text/plain": [
              "<Figure size 720x504 with 1 Axes>"
            ]
          },
          "metadata": {
            "needs_background": "light"
          },
          "output_type": "display_data"
        }
      ],
      "source": [
        "clustering_tester.plot_histories(histories)"
      ]
    },
    {
      "cell_type": "code",
      "execution_count": 13,
      "metadata": {
        "id": "GRfwNBpIG8An"
      },
      "outputs": [],
      "source": [
        "BITS = 4"
      ]
    },
    {
      "cell_type": "code",
      "execution_count": 14,
      "metadata": {
        "colab": {
          "base_uri": "https://localhost:8080/",
          "height": 1000,
          "referenced_widgets": [
            "4598995e176d49d7a3eff00e062364de",
            "95f1af67005c4ad0be1a8ff5c2dc5a64",
            "1969149bae7442db95175ec668486bbb",
            "54946a41eba040eebf89e7f12f17ed6e",
            "fd79a1ac22dc45559acefde4b8216710",
            "537b0ccf30eb4d14b4c4f76de9467ec0",
            "37edc53160664e6983b0ed28bfb42a81",
            "1ed629dc66b04e65af32e1f8992bd144",
            "74732c3729684933858da6b537f3cc9a",
            "50c81e75d058402b9d636c6892fefcca",
            "900eceee2b54470b8a0bff0ca49624f4"
          ]
        },
        "id": "gRueBDyLG8An",
        "outputId": "70155a4c-1d36-4945-dcae-ff17e0c98936"
      },
      "outputs": [
        {
          "data": {
            "application/vnd.jupyter.widget-view+json": {
              "model_id": "4598995e176d49d7a3eff00e062364de",
              "version_major": 2,
              "version_minor": 0
            },
            "text/plain": [
              "  0%|          | 0/10 [00:00<?, ?it/s]"
            ]
          },
          "metadata": {},
          "output_type": "display_data"
        },
        {
          "name": "stderr",
          "output_type": "stream",
          "text": [
            "Loading dataset isolet from isolet\n",
            "Loading train data... train data of shape (6238, 617) loaded\n",
            "Loading test data...  test  data of shape (1559, 617) loaded\n",
            "Data Loaded. Num of features = 617 Num of Classes = 26./QuantHD-clustering/hd_clustering/encoder.py:61: UserWarning: An output with one or more elements was resized since it had shape [63, 10000], which does not match the required output shape [1, 10000].This behavior is deprecated, and in a future PyTorch release outputs will not be resized unless they have zero elements. You can explicitly reuse an out tensor t by resizing it, inplace, to zero elements with t.resize_(0). (Triggered internally at  ../aten/src/ATen/native/Resize.cpp:24.)\n",
            "  torch.matmul(x[i:i+bsize], self.basis.T, out=temp)\n"
          ]
        },
        {
          "name": "stdout",
          "output_type": "stream",
          "text": [
            "selected initial labels: [2, 4, 4, 4, 6, 7, 8, 8, 8, 9, 12, 12, 12, 13, 13, 16, 17, 17, 18, 20, 20, 21, 22, 22, 24, 25]\n",
            "0.5727797370952228\n"
          ]
        },
        {
          "name": "stderr",
          "output_type": "stream",
          "text": [
            "Loading dataset isolet from isolet\n",
            "Loading train data... train data of shape (6238, 617) loaded\n",
            "Loading test data...  test  data of shape (1559, 617) loaded\n",
            "Data Loaded. Num of features = 617 Num of Classes = 26./QuantHD-clustering/hd_clustering/encoder.py:61: UserWarning: An output with one or more elements was resized since it had shape [63, 10000], which does not match the required output shape [1, 10000].This behavior is deprecated, and in a future PyTorch release outputs will not be resized unless they have zero elements. You can explicitly reuse an out tensor t by resizing it, inplace, to zero elements with t.resize_(0). (Triggered internally at  ../aten/src/ATen/native/Resize.cpp:24.)\n",
            "  torch.matmul(x[i:i+bsize], self.basis.T, out=temp)\n"
          ]
        },
        {
          "name": "stdout",
          "output_type": "stream",
          "text": [
            "selected initial labels: [1, 2, 5, 5, 6, 7, 8, 9, 12, 12, 12, 13, 13, 14, 16, 17, 17, 17, 17, 18, 19, 20, 22, 23, 23, 25]\n",
            "0.5993908303943571\n"
          ]
        },
        {
          "name": "stderr",
          "output_type": "stream",
          "text": [
            "Loading dataset isolet from isolet\n",
            "Loading train data... train data of shape (6238, 617) loaded\n",
            "Loading test data...  test  data of shape (1559, 617) loaded\n",
            "Data Loaded. Num of features = 617 Num of Classes = 26./QuantHD-clustering/hd_clustering/encoder.py:61: UserWarning: An output with one or more elements was resized since it had shape [63, 10000], which does not match the required output shape [1, 10000].This behavior is deprecated, and in a future PyTorch release outputs will not be resized unless they have zero elements. You can explicitly reuse an out tensor t by resizing it, inplace, to zero elements with t.resize_(0). (Triggered internally at  ../aten/src/ATen/native/Resize.cpp:24.)\n",
            "  torch.matmul(x[i:i+bsize], self.basis.T, out=temp)\n"
          ]
        },
        {
          "name": "stdout",
          "output_type": "stream",
          "text": [
            "selected initial labels: [2, 2, 4, 5, 6, 7, 7, 9, 11, 11, 11, 12, 13, 13, 14, 16, 17, 17, 18, 20, 21, 21, 21, 24, 24, 25]\n",
            "0.5617184995190766\n"
          ]
        },
        {
          "name": "stderr",
          "output_type": "stream",
          "text": [
            "Loading dataset isolet from isolet\n",
            "Loading train data... train data of shape (6238, 617) loaded\n",
            "Loading test data...  test  data of shape (1559, 617) loaded\n",
            "Data Loaded. Num of features = 617 Num of Classes = 26./QuantHD-clustering/hd_clustering/encoder.py:61: UserWarning: An output with one or more elements was resized since it had shape [63, 10000], which does not match the required output shape [1, 10000].This behavior is deprecated, and in a future PyTorch release outputs will not be resized unless they have zero elements. You can explicitly reuse an out tensor t by resizing it, inplace, to zero elements with t.resize_(0). (Triggered internally at  ../aten/src/ATen/native/Resize.cpp:24.)\n",
            "  torch.matmul(x[i:i+bsize], self.basis.T, out=temp)\n"
          ]
        },
        {
          "name": "stdout",
          "output_type": "stream",
          "text": [
            "selected initial labels: [1, 2, 2, 3, 4, 5, 6, 6, 7, 8, 10, 11, 12, 13, 13, 14, 15, 16, 17, 20, 21, 22, 22, 23, 23, 24]\n",
            "0.5753446617505611\n"
          ]
        },
        {
          "name": "stderr",
          "output_type": "stream",
          "text": [
            "Loading dataset isolet from isolet\n",
            "Loading train data... train data of shape (6238, 617) loaded\n",
            "Loading test data...  test  data of shape (1559, 617) loaded\n",
            "Data Loaded. Num of features = 617 Num of Classes = 26./QuantHD-clustering/hd_clustering/encoder.py:61: UserWarning: An output with one or more elements was resized since it had shape [63, 10000], which does not match the required output shape [1, 10000].This behavior is deprecated, and in a future PyTorch release outputs will not be resized unless they have zero elements. You can explicitly reuse an out tensor t by resizing it, inplace, to zero elements with t.resize_(0). (Triggered internally at  ../aten/src/ATen/native/Resize.cpp:24.)\n",
            "  torch.matmul(x[i:i+bsize], self.basis.T, out=temp)\n"
          ]
        },
        {
          "name": "stdout",
          "output_type": "stream",
          "text": [
            "selected initial labels: [0, 2, 2, 2, 2, 7, 7, 8, 10, 12, 14, 14, 15, 15, 16, 17, 17, 18, 18, 18, 19, 22, 22, 23, 24, 25]\n",
            "0.5950625200384738\n"
          ]
        },
        {
          "name": "stderr",
          "output_type": "stream",
          "text": [
            "Loading dataset isolet from isolet\n",
            "Loading train data... train data of shape (6238, 617) loaded\n",
            "Loading test data...  test  data of shape (1559, 617) loaded\n",
            "Data Loaded. Num of features = 617 Num of Classes = 26./QuantHD-clustering/hd_clustering/encoder.py:61: UserWarning: An output with one or more elements was resized since it had shape [63, 10000], which does not match the required output shape [1, 10000].This behavior is deprecated, and in a future PyTorch release outputs will not be resized unless they have zero elements. You can explicitly reuse an out tensor t by resizing it, inplace, to zero elements with t.resize_(0). (Triggered internally at  ../aten/src/ATen/native/Resize.cpp:24.)\n",
            "  torch.matmul(x[i:i+bsize], self.basis.T, out=temp)\n"
          ]
        },
        {
          "name": "stdout",
          "output_type": "stream",
          "text": [
            "selected initial labels: [0, 2, 4, 4, 5, 5, 5, 6, 10, 10, 10, 11, 11, 12, 14, 16, 18, 19, 19, 20, 22, 22, 22, 24, 25, 25]\n",
            "0.6141391471625521\n"
          ]
        },
        {
          "name": "stderr",
          "output_type": "stream",
          "text": [
            "Loading dataset isolet from isolet\n",
            "Loading train data... train data of shape (6238, 617) loaded\n",
            "Loading test data...  test  data of shape (1559, 617) loaded\n",
            "Data Loaded. Num of features = 617 Num of Classes = 26./QuantHD-clustering/hd_clustering/encoder.py:61: UserWarning: An output with one or more elements was resized since it had shape [63, 10000], which does not match the required output shape [1, 10000].This behavior is deprecated, and in a future PyTorch release outputs will not be resized unless they have zero elements. You can explicitly reuse an out tensor t by resizing it, inplace, to zero elements with t.resize_(0). (Triggered internally at  ../aten/src/ATen/native/Resize.cpp:24.)\n",
            "  torch.matmul(x[i:i+bsize], self.basis.T, out=temp)\n"
          ]
        },
        {
          "name": "stdout",
          "output_type": "stream",
          "text": [
            "selected initial labels: [0, 0, 1, 2, 2, 5, 5, 6, 9, 10, 10, 12, 13, 15, 15, 17, 18, 19, 20, 22, 24, 24, 24, 24, 25, 25]\n",
            "0.5219621673613337\n"
          ]
        },
        {
          "name": "stderr",
          "output_type": "stream",
          "text": [
            "Loading dataset isolet from isolet\n",
            "Loading train data... train data of shape (6238, 617) loaded\n",
            "Loading test data...  test  data of shape (1559, 617) loaded\n",
            "Data Loaded. Num of features = 617 Num of Classes = 26./QuantHD-clustering/hd_clustering/encoder.py:61: UserWarning: An output with one or more elements was resized since it had shape [63, 10000], which does not match the required output shape [1, 10000].This behavior is deprecated, and in a future PyTorch release outputs will not be resized unless they have zero elements. You can explicitly reuse an out tensor t by resizing it, inplace, to zero elements with t.resize_(0). (Triggered internally at  ../aten/src/ATen/native/Resize.cpp:24.)\n",
            "  torch.matmul(x[i:i+bsize], self.basis.T, out=temp)\n"
          ]
        },
        {
          "name": "stdout",
          "output_type": "stream",
          "text": [
            "selected initial labels: [1, 2, 2, 3, 7, 8, 9, 10, 10, 12, 14, 15, 15, 16, 16, 20, 21, 21, 22, 22, 22, 23, 24, 24, 24, 25]\n",
            "0.5535428021801859\n"
          ]
        },
        {
          "name": "stderr",
          "output_type": "stream",
          "text": [
            "Loading dataset isolet from isolet\n",
            "Loading train data... train data of shape (6238, 617) loaded\n",
            "Loading test data...  test  data of shape (1559, 617) loaded\n",
            "Data Loaded. Num of features = 617 Num of Classes = 26./QuantHD-clustering/hd_clustering/encoder.py:61: UserWarning: An output with one or more elements was resized since it had shape [63, 10000], which does not match the required output shape [1, 10000].This behavior is deprecated, and in a future PyTorch release outputs will not be resized unless they have zero elements. You can explicitly reuse an out tensor t by resizing it, inplace, to zero elements with t.resize_(0). (Triggered internally at  ../aten/src/ATen/native/Resize.cpp:24.)\n",
            "  torch.matmul(x[i:i+bsize], self.basis.T, out=temp)\n"
          ]
        },
        {
          "name": "stdout",
          "output_type": "stream",
          "text": [
            "selected initial labels: [1, 2, 5, 5, 8, 9, 10, 11, 12, 12, 13, 14, 15, 16, 16, 17, 17, 18, 19, 19, 19, 20, 20, 20, 23, 23]\n",
            "0.5722988137223469\n"
          ]
        },
        {
          "name": "stderr",
          "output_type": "stream",
          "text": [
            "Loading dataset isolet from isolet\n",
            "Loading train data... train data of shape (6238, 617) loaded\n",
            "Loading test data...  test  data of shape (1559, 617) loaded\n",
            "Data Loaded. Num of features = 617 Num of Classes = 26./QuantHD-clustering/hd_clustering/encoder.py:61: UserWarning: An output with one or more elements was resized since it had shape [63, 10000], which does not match the required output shape [1, 10000].This behavior is deprecated, and in a future PyTorch release outputs will not be resized unless they have zero elements. You can explicitly reuse an out tensor t by resizing it, inplace, to zero elements with t.resize_(0). (Triggered internally at  ../aten/src/ATen/native/Resize.cpp:24.)\n",
            "  torch.matmul(x[i:i+bsize], self.basis.T, out=temp)\n"
          ]
        },
        {
          "name": "stdout",
          "output_type": "stream",
          "text": [
            "selected initial labels: [0, 1, 1, 2, 3, 4, 5, 5, 7, 7, 8, 10, 11, 14, 14, 16, 18, 19, 21, 22, 22, 22, 23, 23, 24, 24]\n",
            "0.5838409746713691\n"
          ]
        }
      ],
      "source": [
        "histories = []\n",
        "for trial in tqdm(range(10)):\n",
        "  history = clustering_tester.run_clustering(\n",
        "    *clustering_tester.get_isolet_dataset(MAX_SAMPLES),\n",
        "    BITS,\n",
        "    DIM,\n",
        "    EPOCHS,\n",
        "    clustering_tester.get_prob_tables_from_json('../prob_table.json')['27C_Front_10nm_4bit'],\n",
        "    flip_inference_only=True\n",
        "  )\n",
        "  histories.append(history)"
      ]
    },
    {
      "cell_type": "code",
      "execution_count": 15,
      "metadata": {
        "colab": {
          "base_uri": "https://localhost:8080/",
          "height": 442
        },
        "id": "Wt2MRb2-G8Ao",
        "outputId": "92c9b44f-4bfe-4879-b318-689dacbc33c8"
      },
      "outputs": [
        {
          "data": {
            "image/png": "[encoded data removed]",
            "text/plain": [
              "<Figure size 720x504 with 1 Axes>"
            ]
          },
          "metadata": {
            "needs_background": "light"
          },
          "output_type": "display_data"
        }
      ],
      "source": [
        "clustering_tester.plot_histories(histories)"
      ]
    },
    {
      "cell_type": "code",
      "execution_count": 16,
      "metadata": {
        "colab": {
          "base_uri": "https://localhost:8080/",
          "height": 1000,
          "referenced_widgets": [
            "b981f0925e2f42f492330134cf57198f",
            "d795648407b54c91ab0cff753de5eca9",
            "4592c3c4f21842c5bcf6f763fb6fd004",
            "5af4d20d972040e490eb15249b94895d",
            "eccb267771f44588ba7aaad54a69537f",
            "746dbb6536a44f2ab748d111a90c33b3",
            "4508ee78e44d4d7a83808864a9fd103b",
            "9ecdcefc0037449aa5924be8014e17c1",
            "e61a9d1a72fe4135b3c06247dfc9f594",
            "345c6f770db04a6db3864e2f73341e05",
            "695fd81305d44f7fba8c30bbffd57ca5"
          ]
        },
        "id": "W-VtpkwIG8Ao",
        "outputId": "1f673a9a-76da-4181-aafa-5a596912bd86"
      },
      "outputs": [
        {
          "data": {
            "application/vnd.jupyter.widget-view+json": {
              "model_id": "b981f0925e2f42f492330134cf57198f",
              "version_major": 2,
              "version_minor": 0
            },
            "text/plain": [
              "  0%|          | 0/10 [00:00<?, ?it/s]"
            ]
          },
          "metadata": {},
          "output_type": "display_data"
        },
        {
          "name": "stderr",
          "output_type": "stream",
          "text": [
            "Loading dataset isolet from isolet\n",
            "Loading train data... train data of shape (6238, 617) loaded\n",
            "Loading test data...  test  data of shape (1559, 617) loaded\n",
            "Data Loaded. Num of features = 617 Num of Classes = 26./QuantHD-clustering/hd_clustering/encoder.py:61: UserWarning: An output with one or more elements was resized since it had shape [63, 10000], which does not match the required output shape [1, 10000].This behavior is deprecated, and in a future PyTorch release outputs will not be resized unless they have zero elements. You can explicitly reuse an out tensor t by resizing it, inplace, to zero elements with t.resize_(0). (Triggered internally at  ../aten/src/ATen/native/Resize.cpp:24.)\n",
            "  torch.matmul(x[i:i+bsize], self.basis.T, out=temp)\n"
          ]
        },
        {
          "name": "stdout",
          "output_type": "stream",
          "text": [
            "selected initial labels: [2, 2, 3, 3, 4, 5, 5, 5, 7, 8, 10, 12, 14, 16, 16, 16, 19, 20, 21, 21, 22, 22, 22, 24, 25, 25]\n",
            "0.5274126322539275\n"
          ]
        },
        {
          "name": "stderr",
          "output_type": "stream",
          "text": [
            "Loading dataset isolet from isolet\n",
            "Loading train data... train data of shape (6238, 617) loaded\n",
            "Loading test data...  test  data of shape (1559, 617) loaded\n",
            "Data Loaded. Num of features = 617 Num of Classes = 26./QuantHD-clustering/hd_clustering/encoder.py:61: UserWarning: An output with one or more elements was resized since it had shape [63, 10000], which does not match the required output shape [1, 10000].This behavior is deprecated, and in a future PyTorch release outputs will not be resized unless they have zero elements. You can explicitly reuse an out tensor t by resizing it, inplace, to zero elements with t.resize_(0). (Triggered internally at  ../aten/src/ATen/native/Resize.cpp:24.)\n",
            "  torch.matmul(x[i:i+bsize], self.basis.T, out=temp)\n"
          ]
        },
        {
          "name": "stdout",
          "output_type": "stream",
          "text": [
            "selected initial labels: [0, 0, 1, 1, 1, 2, 3, 7, 7, 8, 9, 11, 12, 12, 13, 14, 14, 15, 16, 17, 18, 21, 23, 23, 24, 25]\n",
            "0.628887463930747\n"
          ]
        },
        {
          "name": "stderr",
          "output_type": "stream",
          "text": [
            "Loading dataset isolet from isolet\n",
            "Loading train data... train data of shape (6238, 617) loaded\n",
            "Loading test data...  test  data of shape (1559, 617) loaded\n",
            "Data Loaded. Num of features = 617 Num of Classes = 26./QuantHD-clustering/hd_clustering/encoder.py:61: UserWarning: An output with one or more elements was resized since it had shape [63, 10000], which does not match the required output shape [1, 10000].This behavior is deprecated, and in a future PyTorch release outputs will not be resized unless they have zero elements. You can explicitly reuse an out tensor t by resizing it, inplace, to zero elements with t.resize_(0). (Triggered internally at  ../aten/src/ATen/native/Resize.cpp:24.)\n",
            "  torch.matmul(x[i:i+bsize], self.basis.T, out=temp)\n"
          ]
        },
        {
          "name": "stdout",
          "output_type": "stream",
          "text": [
            "selected initial labels: [1, 1, 1, 3, 3, 4, 5, 7, 8, 8, 9, 10, 11, 13, 13, 14, 15, 15, 17, 18, 19, 20, 20, 21, 22, 22]\n",
            "0.5852837447899968\n"
          ]
        },
        {
          "name": "stderr",
          "output_type": "stream",
          "text": [
            "Loading dataset isolet from isolet\n",
            "Loading train data... train data of shape (6238, 617) loaded\n",
            "Loading test data...  test  data of shape (1559, 617) loaded\n",
            "Data Loaded. Num of features = 617 Num of Classes = 26./QuantHD-clustering/hd_clustering/encoder.py:61: UserWarning: An output with one or more elements was resized since it had shape [63, 10000], which does not match the required output shape [1, 10000].This behavior is deprecated, and in a future PyTorch release outputs will not be resized unless they have zero elements. You can explicitly reuse an out tensor t by resizing it, inplace, to zero elements with t.resize_(0). (Triggered internally at  ../aten/src/ATen/native/Resize.cpp:24.)\n",
            "  torch.matmul(x[i:i+bsize], self.basis.T, out=temp)\n"
          ]
        },
        {
          "name": "stdout",
          "output_type": "stream",
          "text": [
            "selected initial labels: [1, 2, 3, 5, 5, 6, 7, 9, 9, 10, 10, 11, 12, 12, 14, 14, 15, 15, 15, 16, 16, 22, 23, 24, 24, 24]\n",
            "0.6093299134337928\n"
          ]
        },
        {
          "name": "stderr",
          "output_type": "stream",
          "text": [
            "Loading dataset isolet from isolet\n",
            "Loading train data... train data of shape (6238, 617) loaded\n",
            "Loading test data...  test  data of shape (1559, 617) loaded\n",
            "Data Loaded. Num of features = 617 Num of Classes = 26./QuantHD-clustering/hd_clustering/encoder.py:61: UserWarning: An output with one or more elements was resized since it had shape [63, 10000], which does not match the required output shape [1, 10000].This behavior is deprecated, and in a future PyTorch release outputs will not be resized unless they have zero elements. You can explicitly reuse an out tensor t by resizing it, inplace, to zero elements with t.resize_(0). (Triggered internally at  ../aten/src/ATen/native/Resize.cpp:24.)\n",
            "  torch.matmul(x[i:i+bsize], self.basis.T, out=temp)\n"
          ]
        },
        {
          "name": "stdout",
          "output_type": "stream",
          "text": [
            "selected initial labels: [0, 1, 1, 2, 4, 5, 8, 8, 8, 8, 9, 10, 11, 11, 12, 12, 13, 15, 16, 17, 17, 18, 22, 24, 24, 25]\n",
            "0.5742225072138506\n"
          ]
        },
        {
          "name": "stderr",
          "output_type": "stream",
          "text": [
            "Loading dataset isolet from isolet\n",
            "Loading train data... train data of shape (6238, 617) loaded\n",
            "Loading test data...  test  data of shape (1559, 617) loaded\n",
            "Data Loaded. Num of features = 617 Num of Classes = 26./QuantHD-clustering/hd_clustering/encoder.py:61: UserWarning: An output with one or more elements was resized since it had shape [63, 10000], which does not match the required output shape [1, 10000].This behavior is deprecated, and in a future PyTorch release outputs will not be resized unless they have zero elements. You can explicitly reuse an out tensor t by resizing it, inplace, to zero elements with t.resize_(0). (Triggered internally at  ../aten/src/ATen/native/Resize.cpp:24.)\n",
            "  torch.matmul(x[i:i+bsize], self.basis.T, out=temp)\n"
          ]
        },
        {
          "name": "stdout",
          "output_type": "stream",
          "text": [
            "selected initial labels: [2, 3, 5, 6, 8, 9, 10, 12, 14, 14, 15, 17, 17, 18, 19, 19, 19, 20, 20, 20, 21, 21, 22, 22, 24, 24]\n",
            "0.541038794485412\n"
          ]
        },
        {
          "name": "stderr",
          "output_type": "stream",
          "text": [
            "Loading dataset isolet from isolet\n",
            "Loading train data... train data of shape (6238, 617) loaded\n",
            "Loading test data...  test  data of shape (1559, 617) loaded\n",
            "Data Loaded. Num of features = 617 Num of Classes = 26./QuantHD-clustering/hd_clustering/encoder.py:61: UserWarning: An output with one or more elements was resized since it had shape [63, 10000], which does not match the required output shape [1, 10000].This behavior is deprecated, and in a future PyTorch release outputs will not be resized unless they have zero elements. You can explicitly reuse an out tensor t by resizing it, inplace, to zero elements with t.resize_(0). (Triggered internally at  ../aten/src/ATen/native/Resize.cpp:24.)\n",
            "  torch.matmul(x[i:i+bsize], self.basis.T, out=temp)\n"
          ]
        },
        {
          "name": "stdout",
          "output_type": "stream",
          "text": [
            "selected initial labels: [0, 1, 4, 5, 5, 5, 8, 9, 11, 12, 12, 12, 15, 16, 16, 17, 17, 17, 20, 20, 20, 21, 21, 22, 22, 25]\n",
            "0.5867265149086246\n"
          ]
        },
        {
          "name": "stderr",
          "output_type": "stream",
          "text": [
            "Loading dataset isolet from isolet\n",
            "Loading train data... train data of shape (6238, 617) loaded\n",
            "Loading test data...  test  data of shape (1559, 617) loaded\n",
            "Data Loaded. Num of features = 617 Num of Classes = 26./QuantHD-clustering/hd_clustering/encoder.py:61: UserWarning: An output with one or more elements was resized since it had shape [63, 10000], which does not match the required output shape [1, 10000].This behavior is deprecated, and in a future PyTorch release outputs will not be resized unless they have zero elements. You can explicitly reuse an out tensor t by resizing it, inplace, to zero elements with t.resize_(0). (Triggered internally at  ../aten/src/ATen/native/Resize.cpp:24.)\n",
            "  torch.matmul(x[i:i+bsize], self.basis.T, out=temp)\n"
          ]
        },
        {
          "name": "stdout",
          "output_type": "stream",
          "text": [
            "selected initial labels: [0, 1, 2, 3, 4, 5, 5, 5, 6, 7, 7, 7, 8, 12, 14, 14, 15, 16, 19, 20, 20, 21, 21, 22, 22, 25]\n",
            "0.5556268034626483\n"
          ]
        },
        {
          "name": "stderr",
          "output_type": "stream",
          "text": [
            "Loading dataset isolet from isolet\n",
            "Loading train data... train data of shape (6238, 617) loaded\n",
            "Loading test data...  test  data of shape (1559, 617) loaded\n",
            "Data Loaded. Num of features = 617 Num of Classes = 26./QuantHD-clustering/hd_clustering/encoder.py:61: UserWarning: An output with one or more elements was resized since it had shape [63, 10000], which does not match the required output shape [1, 10000].This behavior is deprecated, and in a future PyTorch release outputs will not be resized unless they have zero elements. You can explicitly reuse an out tensor t by resizing it, inplace, to zero elements with t.resize_(0). (Triggered internally at  ../aten/src/ATen/native/Resize.cpp:24.)\n",
            "  torch.matmul(x[i:i+bsize], self.basis.T, out=temp)\n"
          ]
        },
        {
          "name": "stdout",
          "output_type": "stream",
          "text": [
            "selected initial labels: [0, 0, 1, 3, 4, 5, 5, 6, 6, 7, 8, 9, 9, 10, 10, 10, 11, 12, 13, 14, 14, 20, 23, 24, 25, 25]\n",
            "0.6114139147162552\n"
          ]
        },
        {
          "name": "stderr",
          "output_type": "stream",
          "text": [
            "Loading dataset isolet from isolet\n",
            "Loading train data... train data of shape (6238, 617) loaded\n",
            "Loading test data...  test  data of shape (1559, 617) loaded\n",
            "Data Loaded. Num of features = 617 Num of Classes = 26./QuantHD-clustering/hd_clustering/encoder.py:61: UserWarning: An output with one or more elements was resized since it had shape [63, 10000], which does not match the required output shape [1, 10000].This behavior is deprecated, and in a future PyTorch release outputs will not be resized unless they have zero elements. You can explicitly reuse an out tensor t by resizing it, inplace, to zero elements with t.resize_(0). (Triggered internally at  ../aten/src/ATen/native/Resize.cpp:24.)\n",
            "  torch.matmul(x[i:i+bsize], self.basis.T, out=temp)\n"
          ]
        },
        {
          "name": "stdout",
          "output_type": "stream",
          "text": [
            "selected initial labels: [0, 1, 1, 2, 3, 4, 5, 6, 7, 9, 11, 11, 11, 11, 11, 13, 14, 17, 18, 21, 21, 22, 23, 24, 24, 24]\n",
            "0.6054825264507855\n"
          ]
        }
      ],
      "source": [
        "histories = []\n",
        "for trial in tqdm(range(10)):\n",
        "  history = clustering_tester.run_clustering(\n",
        "    *clustering_tester.get_isolet_dataset(MAX_SAMPLES),\n",
        "    BITS,\n",
        "    DIM,\n",
        "    EPOCHS,\n",
        "    clustering_tester.get_prob_tables_from_json('../prob_table.json')['27C_Back_3nm_4bit'],\n",
        "    flip_inference_only=True\n",
        "  )\n",
        "  histories.append(history)"
      ]
    },
    {
      "cell_type": "code",
      "execution_count": 17,
      "metadata": {
        "colab": {
          "base_uri": "https://localhost:8080/",
          "height": 442
        },
        "id": "3M8i26EQG8Ao",
        "outputId": "9ffcf020-3e7d-4b9e-b220-b9b6c93d78e6"
      },
      "outputs": [
        {
          "data": {
            "image/png": "[encoded data removed]",
            "text/plain": [
              "<Figure size 720x504 with 1 Axes>"
            ]
          },
          "metadata": {
            "needs_background": "light"
          },
          "output_type": "display_data"
        }
      ],
      "source": [
        "clustering_tester.plot_histories(histories)"
      ]
    },
    {
      "cell_type": "code",
      "execution_count": 18,
      "metadata": {
        "colab": {
          "base_uri": "https://localhost:8080/",
          "height": 1000,
          "referenced_widgets": [
            "a8bc39ac30c84aa193da7c3c4e302444",
            "4b3a0c4bb0cf47e4ba1319cbff7727af",
            "9b213ee8aa3b4da39571aeb03564e7dd",
            "7fd711d3a6fa4e408f6ae9f0227574c2",
            "023a7bc6bd01455491dd47add1e518bc",
            "9c70e188fab04360bc921a68865857fb",
            "de167ff939fd4563a7718ec29fec5456",
            "363db651aa2a4dff92fc2a90ce8569bd",
            "8361d446c3d143ffb6e59f1d54997fc0",
            "15e740444c7d43e8962f4a8cd45e06b4",
            "62a85216743f4e6a96b65df0d93fe85f"
          ]
        },
        "id": "uLyDH54RG8Ap",
        "outputId": "454da8ff-0c2f-4329-9158-a96478cfe4e3"
      },
      "outputs": [
        {
          "data": {
            "application/vnd.jupyter.widget-view+json": {
              "model_id": "a8bc39ac30c84aa193da7c3c4e302444",
              "version_major": 2,
              "version_minor": 0
            },
            "text/plain": [
              "  0%|          | 0/10 [00:00<?, ?it/s]"
            ]
          },
          "metadata": {},
          "output_type": "display_data"
        },
        {
          "name": "stderr",
          "output_type": "stream",
          "text": [
            "Loading dataset isolet from isolet\n",
            "Loading train data... train data of shape (6238, 617) loaded\n",
            "Loading test data...  test  data of shape (1559, 617) loaded\n",
            "Data Loaded. Num of features = 617 Num of Classes = 26./QuantHD-clustering/hd_clustering/encoder.py:61: UserWarning: An output with one or more elements was resized since it had shape [63, 10000], which does not match the required output shape [1, 10000].This behavior is deprecated, and in a future PyTorch release outputs will not be resized unless they have zero elements. You can explicitly reuse an out tensor t by resizing it, inplace, to zero elements with t.resize_(0). (Triggered internally at  ../aten/src/ATen/native/Resize.cpp:24.)\n",
            "  torch.matmul(x[i:i+bsize], self.basis.T, out=temp)\n"
          ]
        },
        {
          "name": "stdout",
          "output_type": "stream",
          "text": [
            "selected initial labels: [1, 4, 5, 5, 6, 7, 8, 9, 10, 10, 11, 11, 12, 12, 14, 17, 17, 18, 18, 18, 20, 20, 22, 23, 23, 24]\n",
            "0.5817569733889068\n"
          ]
        },
        {
          "name": "stderr",
          "output_type": "stream",
          "text": [
            "Loading dataset isolet from isolet\n",
            "Loading train data... train data of shape (6238, 617) loaded\n",
            "Loading test data...  test  data of shape (1559, 617) loaded\n",
            "Data Loaded. Num of features = 617 Num of Classes = 26./QuantHD-clustering/hd_clustering/encoder.py:61: UserWarning: An output with one or more elements was resized since it had shape [63, 10000], which does not match the required output shape [1, 10000].This behavior is deprecated, and in a future PyTorch release outputs will not be resized unless they have zero elements. You can explicitly reuse an out tensor t by resizing it, inplace, to zero elements with t.resize_(0). (Triggered internally at  ../aten/src/ATen/native/Resize.cpp:24.)\n",
            "  torch.matmul(x[i:i+bsize], self.basis.T, out=temp)\n"
          ]
        },
        {
          "name": "stdout",
          "output_type": "stream",
          "text": [
            "selected initial labels: [0, 5, 5, 6, 8, 8, 13, 13, 13, 14, 14, 14, 15, 16, 17, 17, 18, 19, 19, 20, 23, 24, 24, 25, 25, 25]\n",
            "0.5634818852196217\n"
          ]
        },
        {
          "name": "stderr",
          "output_type": "stream",
          "text": [
            "Loading dataset isolet from isolet\n",
            "Loading train data... train data of shape (6238, 617) loaded\n",
            "Loading test data...  test  data of shape (1559, 617) loaded\n",
            "Data Loaded. Num of features = 617 Num of Classes = 26./QuantHD-clustering/hd_clustering/encoder.py:61: UserWarning: An output with one or more elements was resized since it had shape [63, 10000], which does not match the required output shape [1, 10000].This behavior is deprecated, and in a future PyTorch release outputs will not be resized unless they have zero elements. You can explicitly reuse an out tensor t by resizing it, inplace, to zero elements with t.resize_(0). (Triggered internally at  ../aten/src/ATen/native/Resize.cpp:24.)\n",
            "  torch.matmul(x[i:i+bsize], self.basis.T, out=temp)\n"
          ]
        },
        {
          "name": "stdout",
          "output_type": "stream",
          "text": [
            "selected initial labels: [0, 0, 1, 2, 3, 3, 5, 5, 6, 6, 7, 8, 9, 9, 10, 11, 12, 12, 15, 15, 19, 20, 20, 22, 24, 24]\n",
            "0.5237255530618788\n"
          ]
        },
        {
          "name": "stderr",
          "output_type": "stream",
          "text": [
            "Loading dataset isolet from isolet\n",
            "Loading train data... train data of shape (6238, 617) loaded\n",
            "Loading test data...  test  data of shape (1559, 617) loaded\n",
            "Data Loaded. Num of features = 617 Num of Classes = 26./QuantHD-clustering/hd_clustering/encoder.py:61: UserWarning: An output with one or more elements was resized since it had shape [63, 10000], which does not match the required output shape [1, 10000].This behavior is deprecated, and in a future PyTorch release outputs will not be resized unless they have zero elements. You can explicitly reuse an out tensor t by resizing it, inplace, to zero elements with t.resize_(0). (Triggered internally at  ../aten/src/ATen/native/Resize.cpp:24.)\n",
            "  torch.matmul(x[i:i+bsize], self.basis.T, out=temp)\n"
          ]
        },
        {
          "name": "stdout",
          "output_type": "stream",
          "text": [
            "selected initial labels: [1, 2, 2, 5, 7, 7, 8, 9, 9, 10, 12, 13, 13, 14, 16, 17, 17, 19, 19, 20, 21, 21, 22, 25, 25, 25]\n",
            "0.5597948060275729\n"
          ]
        },
        {
          "name": "stderr",
          "output_type": "stream",
          "text": [
            "Loading dataset isolet from isolet\n",
            "Loading train data... train data of shape (6238, 617) loaded\n",
            "Loading test data...  test  data of shape (1559, 617) loaded\n",
            "Data Loaded. Num of features = 617 Num of Classes = 26./QuantHD-clustering/hd_clustering/encoder.py:61: UserWarning: An output with one or more elements was resized since it had shape [63, 10000], which does not match the required output shape [1, 10000].This behavior is deprecated, and in a future PyTorch release outputs will not be resized unless they have zero elements. You can explicitly reuse an out tensor t by resizing it, inplace, to zero elements with t.resize_(0). (Triggered internally at  ../aten/src/ATen/native/Resize.cpp:24.)\n",
            "  torch.matmul(x[i:i+bsize], self.basis.T, out=temp)\n"
          ]
        },
        {
          "name": "stdout",
          "output_type": "stream",
          "text": [
            "selected initial labels: [2, 2, 4, 5, 7, 8, 9, 9, 9, 10, 12, 12, 13, 14, 15, 15, 17, 18, 19, 19, 21, 22, 23, 23, 24, 25]\n",
            "0.6365822378967618\n"
          ]
        },
        {
          "name": "stderr",
          "output_type": "stream",
          "text": [
            "Loading dataset isolet from isolet\n",
            "Loading train data... train data of shape (6238, 617) loaded\n",
            "Loading test data...  test  data of shape (1559, 617) loaded\n",
            "Data Loaded. Num of features = 617 Num of Classes = 26./QuantHD-clustering/hd_clustering/encoder.py:61: UserWarning: An output with one or more elements was resized since it had shape [63, 10000], which does not match the required output shape [1, 10000].This behavior is deprecated, and in a future PyTorch release outputs will not be resized unless they have zero elements. You can explicitly reuse an out tensor t by resizing it, inplace, to zero elements with t.resize_(0). (Triggered internally at  ../aten/src/ATen/native/Resize.cpp:24.)\n",
            "  torch.matmul(x[i:i+bsize], self.basis.T, out=temp)\n"
          ]
        },
        {
          "name": "stdout",
          "output_type": "stream",
          "text": [
            "selected initial labels: [0, 0, 0, 1, 2, 3, 4, 6, 7, 9, 11, 11, 12, 14, 16, 16, 17, 18, 18, 18, 21, 22, 22, 23, 24, 25]\n",
            "0.5825585123436999\n"
          ]
        },
        {
          "name": "stderr",
          "output_type": "stream",
          "text": [
            "Loading dataset isolet from isolet\n",
            "Loading train data... train data of shape (6238, 617) loaded\n",
            "Loading test data...  test  data of shape (1559, 617) loaded\n",
            "Data Loaded. Num of features = 617 Num of Classes = 26./QuantHD-clustering/hd_clustering/encoder.py:61: UserWarning: An output with one or more elements was resized since it had shape [63, 10000], which does not match the required output shape [1, 10000].This behavior is deprecated, and in a future PyTorch release outputs will not be resized unless they have zero elements. You can explicitly reuse an out tensor t by resizing it, inplace, to zero elements with t.resize_(0). (Triggered internally at  ../aten/src/ATen/native/Resize.cpp:24.)\n",
            "  torch.matmul(x[i:i+bsize], self.basis.T, out=temp)\n"
          ]
        },
        {
          "name": "stdout",
          "output_type": "stream",
          "text": [
            "selected initial labels: [2, 3, 3, 4, 4, 5, 6, 7, 8, 8, 13, 13, 14, 14, 15, 16, 17, 17, 18, 20, 21, 22, 23, 24, 25, 25]\n",
            "0.616864379608849\n"
          ]
        },
        {
          "name": "stderr",
          "output_type": "stream",
          "text": [
            "Loading dataset isolet from isolet\n",
            "Loading train data... train data of shape (6238, 617) loaded\n",
            "Loading test data...  test  data of shape (1559, 617) loaded\n",
            "Data Loaded. Num of features = 617 Num of Classes = 26./QuantHD-clustering/hd_clustering/encoder.py:61: UserWarning: An output with one or more elements was resized since it had shape [63, 10000], which does not match the required output shape [1, 10000].This behavior is deprecated, and in a future PyTorch release outputs will not be resized unless they have zero elements. You can explicitly reuse an out tensor t by resizing it, inplace, to zero elements with t.resize_(0). (Triggered internally at  ../aten/src/ATen/native/Resize.cpp:24.)\n",
            "  torch.matmul(x[i:i+bsize], self.basis.T, out=temp)\n"
          ]
        },
        {
          "name": "stdout",
          "output_type": "stream",
          "text": [
            "selected initial labels: [2, 2, 2, 4, 5, 5, 7, 7, 9, 9, 10, 12, 13, 13, 14, 15, 16, 17, 19, 20, 21, 21, 22, 22, 22, 24]\n",
            "0.5822378967617826\n"
          ]
        },
        {
          "name": "stderr",
          "output_type": "stream",
          "text": [
            "Loading dataset isolet from isolet\n",
            "Loading train data... train data of shape (6238, 617) loaded\n",
            "Loading test data...  test  data of shape (1559, 617) loaded\n",
            "Data Loaded. Num of features = 617 Num of Classes = 26./QuantHD-clustering/hd_clustering/encoder.py:61: UserWarning: An output with one or more elements was resized since it had shape [63, 10000], which does not match the required output shape [1, 10000].This behavior is deprecated, and in a future PyTorch release outputs will not be resized unless they have zero elements. You can explicitly reuse an out tensor t by resizing it, inplace, to zero elements with t.resize_(0). (Triggered internally at  ../aten/src/ATen/native/Resize.cpp:24.)\n",
            "  torch.matmul(x[i:i+bsize], self.basis.T, out=temp)\n"
          ]
        },
        {
          "name": "stdout",
          "output_type": "stream",
          "text": [
            "selected initial labels: [0, 1, 1, 3, 4, 4, 6, 7, 8, 9, 10, 11, 12, 12, 13, 14, 16, 16, 18, 19, 20, 20, 22, 24, 24, 25]\n",
            "0.5796729721064444\n"
          ]
        },
        {
          "name": "stderr",
          "output_type": "stream",
          "text": [
            "Loading dataset isolet from isolet\n",
            "Loading train data... train data of shape (6238, 617) loaded\n",
            "Loading test data...  test  data of shape (1559, 617) loaded\n",
            "Data Loaded. Num of features = 617 Num of Classes = 26./QuantHD-clustering/hd_clustering/encoder.py:61: UserWarning: An output with one or more elements was resized since it had shape [63, 10000], which does not match the required output shape [1, 10000].This behavior is deprecated, and in a future PyTorch release outputs will not be resized unless they have zero elements. You can explicitly reuse an out tensor t by resizing it, inplace, to zero elements with t.resize_(0). (Triggered internally at  ../aten/src/ATen/native/Resize.cpp:24.)\n",
            "  torch.matmul(x[i:i+bsize], self.basis.T, out=temp)\n"
          ]
        },
        {
          "name": "stdout",
          "output_type": "stream",
          "text": [
            "selected initial labels: [0, 0, 2, 3, 3, 5, 5, 5, 6, 6, 8, 8, 10, 12, 12, 13, 13, 14, 17, 20, 21, 22, 22, 23, 24, 24]\n",
            "0.5915357486373838\n"
          ]
        }
      ],
      "source": [
        "histories = []\n",
        "for trial in tqdm(range(10)):\n",
        "  history = clustering_tester.run_clustering(\n",
        "    *clustering_tester.get_isolet_dataset(MAX_SAMPLES),\n",
        "    BITS,\n",
        "    DIM,\n",
        "    EPOCHS,\n",
        "    clustering_tester.get_prob_tables_from_json('../prob_table.json')['80C_Back_3nm_4bit'],\n",
        "    flip_inference_only=True\n",
        "  )\n",
        "  histories.append(history)"
      ]
    },
    {
      "cell_type": "code",
      "execution_count": 19,
      "metadata": {
        "colab": {
          "base_uri": "https://localhost:8080/",
          "height": 442
        },
        "id": "YlcSpma-G8Ap",
        "outputId": "02ca850f-ceda-4f19-e207-ba8e32683e40"
      },
      "outputs": [
        {
          "data": {
            "image/png": "[encoded data removed]",
            "text/plain": [
              "<Figure size 720x504 with 1 Axes>"
            ]
          },
          "metadata": {
            "needs_background": "light"
          },
          "output_type": "display_data"
        }
      ],
      "source": [
        "clustering_tester.plot_histories(histories)"
      ]
    },
    {
      "cell_type": "code",
      "execution_count": null,
      "metadata": {
        "id": "AewSJXyYH8sI"
      },
      "outputs": [],
      "source": []
    }
  ],
  "metadata": {
    "colab": {
      "collapsed_sections": [],
      "name": "QuantHD_isolet_01.ipynb",
      "provenance": []
    },
    "interpreter": {
      "hash": "07de9944a25ef994c7b45139c87e20861ad03da0f19921b48f76d01e36a1dc33"
    },
    "kernelspec": {
      "display_name": "Python 3.8.10 ('venv': venv)",
      "language": "python",
      "name": "python3"
    },
    "language_info": {
      "codemirror_mode": {
        "name": "ipython",
        "version": 3
      },
      "file_extension": ".py",
      "mimetype": "text/x-python",
      "name": "python",
      "nbconvert_exporter": "python",
      "pygments_lexer": "ipython3",
      "version": "3.8.10"
    },
    "orig_nbformat": 4,
    "widgets": {
      "application/vnd.jupyter.widget-state+json": {
        "023a7bc6bd01455491dd47add1e518bc": {
          "model_module": "@jupyter-widgets/base",
          "model_module_version": "1.2.0",
          "model_name": "LayoutModel",
          "state": {
            "_model_module": "@jupyter-widgets/base",
            "_model_module_version": "1.2.0",
            "_model_name": "LayoutModel",
            "_view_count": null,
            "_view_module": "@jupyter-widgets/base",
            "_view_module_version": "1.2.0",
            "_view_name": "LayoutView",
            "align_content": null,
            "align_items": null,
            "align_self": null,
            "border": null,
            "bottom": null,
            "display": null,
            "flex": null,
            "flex_flow": null,
            "grid_area": null,
            "grid_auto_columns": null,
            "grid_auto_flow": null,
            "grid_auto_rows": null,
            "grid_column": null,
            "grid_gap": null,
            "grid_row": null,
            "grid_template_areas": null,
            "grid_template_columns": null,
            "grid_template_rows": null,
            "height": null,
            "justify_content": null,
            "justify_items": null,
            "left": null,
            "margin": null,
            "max_height": null,
            "max_width": null,
            "min_height": null,
            "min_width": null,
            "object_fit": null,
            "object_position": null,
            "order": null,
            "overflow": null,
            "overflow_x": null,
            "overflow_y": null,
            "padding": null,
            "right": null,
            "top": null,
            "visibility": null,
            "width": null
          }
        },
        "05de0e909d7a447a8251efd4422bd9e6": {
          "model_module": "@jupyter-widgets/controls",
          "model_module_version": "1.5.0",
          "model_name": "HBoxModel",
          "state": {
            "_dom_classes": [],
            "_model_module": "@jupyter-widgets/controls",
            "_model_module_version": "1.5.0",
            "_model_name": "HBoxModel",
            "_view_count": null,
            "_view_module": "@jupyter-widgets/controls",
            "_view_module_version": "1.5.0",
            "_view_name": "HBoxView",
            "box_style": "",
            "children": [
              "IPY_MODEL_174a955a009b460592350490d3f03f98",
              "IPY_MODEL_59b5cbc1df624c4fbdce9115356a0c69",
              "IPY_MODEL_68ca61ec2943442cae9255b55cd39b7a"
            ],
            "layout": "IPY_MODEL_0d3a7f164a8a4353aa2dce0696ad8414"
          }
        },
        "0b13cdb05d954b6c84c2a50ce3a61e4e": {
          "model_module": "@jupyter-widgets/base",
          "model_module_version": "1.2.0",
          "model_name": "LayoutModel",
          "state": {
            "_model_module": "@jupyter-widgets/base",
            "_model_module_version": "1.2.0",
            "_model_name": "LayoutModel",
            "_view_count": null,
            "_view_module": "@jupyter-widgets/base",
            "_view_module_version": "1.2.0",
            "_view_name": "LayoutView",
            "align_content": null,
            "align_items": null,
            "align_self": null,
            "border": null,
            "bottom": null,
            "display": null,
            "flex": null,
            "flex_flow": null,
            "grid_area": null,
            "grid_auto_columns": null,
            "grid_auto_flow": null,
            "grid_auto_rows": null,
            "grid_column": null,
            "grid_gap": null,
            "grid_row": null,
            "grid_template_areas": null,
            "grid_template_columns": null,
            "grid_template_rows": null,
            "height": null,
            "justify_content": null,
            "justify_items": null,
            "left": null,
            "margin": null,
            "max_height": null,
            "max_width": null,
            "min_height": null,
            "min_width": null,
            "object_fit": null,
            "object_position": null,
            "order": null,
            "overflow": null,
            "overflow_x": null,
            "overflow_y": null,
            "padding": null,
            "right": null,
            "top": null,
            "visibility": null,
            "width": null
          }
        },
        "0d3a7f164a8a4353aa2dce0696ad8414": {
          "model_module": "@jupyter-widgets/base",
          "model_module_version": "1.2.0",
          "model_name": "LayoutModel",
          "state": {
            "_model_module": "@jupyter-widgets/base",
            "_model_module_version": "1.2.0",
            "_model_name": "LayoutModel",
            "_view_count": null,
            "_view_module": "@jupyter-widgets/base",
            "_view_module_version": "1.2.0",
            "_view_name": "LayoutView",
            "align_content": null,
            "align_items": null,
            "align_self": null,
            "border": null,
            "bottom": null,
            "display": null,
            "flex": null,
            "flex_flow": null,
            "grid_area": null,
            "grid_auto_columns": null,
            "grid_auto_flow": null,
            "grid_auto_rows": null,
            "grid_column": null,
            "grid_gap": null,
            "grid_row": null,
            "grid_template_areas": null,
            "grid_template_columns": null,
            "grid_template_rows": null,
            "height": null,
            "justify_content": null,
            "justify_items": null,
            "left": null,
            "margin": null,
            "max_height": null,
            "max_width": null,
            "min_height": null,
            "min_width": null,
            "object_fit": null,
            "object_position": null,
            "order": null,
            "overflow": null,
            "overflow_x": null,
            "overflow_y": null,
            "padding": null,
            "right": null,
            "top": null,
            "visibility": null,
            "width": null
          }
        },
        "0e8ededf21d14777b904d9648d1a0de6": {
          "model_module": "@jupyter-widgets/controls",
          "model_module_version": "1.5.0",
          "model_name": "ProgressStyleModel",
          "state": {
            "_model_module": "@jupyter-widgets/controls",
            "_model_module_version": "1.5.0",
            "_model_name": "ProgressStyleModel",
            "_view_count": null,
            "_view_module": "@jupyter-widgets/base",
            "_view_module_version": "1.2.0",
            "_view_name": "StyleView",
            "bar_color": null,
            "description_width": ""
          }
        },
        "15e740444c7d43e8962f4a8cd45e06b4": {
          "model_module": "@jupyter-widgets/base",
          "model_module_version": "1.2.0",
          "model_name": "LayoutModel",
          "state": {
            "_model_module": "@jupyter-widgets/base",
            "_model_module_version": "1.2.0",
            "_model_name": "LayoutModel",
            "_view_count": null,
            "_view_module": "@jupyter-widgets/base",
            "_view_module_version": "1.2.0",
            "_view_name": "LayoutView",
            "align_content": null,
            "align_items": null,
            "align_self": null,
            "border": null,
            "bottom": null,
            "display": null,
            "flex": null,
            "flex_flow": null,
            "grid_area": null,
            "grid_auto_columns": null,
            "grid_auto_flow": null,
            "grid_auto_rows": null,
            "grid_column": null,
            "grid_gap": null,
            "grid_row": null,
            "grid_template_areas": null,
            "grid_template_columns": null,
            "grid_template_rows": null,
            "height": null,
            "justify_content": null,
            "justify_items": null,
            "left": null,
            "margin": null,
            "max_height": null,
            "max_width": null,
            "min_height": null,
            "min_width": null,
            "object_fit": null,
            "object_position": null,
            "order": null,
            "overflow": null,
            "overflow_x": null,
            "overflow_y": null,
            "padding": null,
            "right": null,
            "top": null,
            "visibility": null,
            "width": null
          }
        },
        "174a955a009b460592350490d3f03f98": {
          "model_module": "@jupyter-widgets/controls",
          "model_module_version": "1.5.0",
          "model_name": "HTMLModel",
          "state": {
            "_dom_classes": [],
            "_model_module": "@jupyter-widgets/controls",
            "_model_module_version": "1.5.0",
            "_model_name": "HTMLModel",
            "_view_count": null,
            "_view_module": "@jupyter-widgets/controls",
            "_view_module_version": "1.5.0",
            "_view_name": "HTMLView",
            "description": "",
            "description_tooltip": null,
            "layout": "IPY_MODEL_27d8d157293243a1b152a72623883ee5",
            "placeholder": "​",
            "style": "IPY_MODEL_871e106bf8e64ac4a8b6a837d74d2453",
            "value": "100%"
          }
        },
        "18d44017627d489d8ef89ac22b439718": {
          "model_module": "@jupyter-widgets/base",
          "model_module_version": "1.2.0",
          "model_name": "LayoutModel",
          "state": {
            "_model_module": "@jupyter-widgets/base",
            "_model_module_version": "1.2.0",
            "_model_name": "LayoutModel",
            "_view_count": null,
            "_view_module": "@jupyter-widgets/base",
            "_view_module_version": "1.2.0",
            "_view_name": "LayoutView",
            "align_content": null,
            "align_items": null,
            "align_self": null,
            "border": null,
            "bottom": null,
            "display": null,
            "flex": null,
            "flex_flow": null,
            "grid_area": null,
            "grid_auto_columns": null,
            "grid_auto_flow": null,
            "grid_auto_rows": null,
            "grid_column": null,
            "grid_gap": null,
            "grid_row": null,
            "grid_template_areas": null,
            "grid_template_columns": null,
            "grid_template_rows": null,
            "height": null,
            "justify_content": null,
            "justify_items": null,
            "left": null,
            "margin": null,
            "max_height": null,
            "max_width": null,
            "min_height": null,
            "min_width": null,
            "object_fit": null,
            "object_position": null,
            "order": null,
            "overflow": null,
            "overflow_x": null,
            "overflow_y": null,
            "padding": null,
            "right": null,
            "top": null,
            "visibility": null,
            "width": null
          }
        },
        "1969149bae7442db95175ec668486bbb": {
          "model_module": "@jupyter-widgets/controls",
          "model_module_version": "1.5.0",
          "model_name": "FloatProgressModel",
          "state": {
            "_dom_classes": [],
            "_model_module": "@jupyter-widgets/controls",
            "_model_module_version": "1.5.0",
            "_model_name": "FloatProgressModel",
            "_view_count": null,
            "_view_module": "@jupyter-widgets/controls",
            "_view_module_version": "1.5.0",
            "_view_name": "ProgressView",
            "bar_style": "success",
            "description": "",
            "description_tooltip": null,
            "layout": "IPY_MODEL_1ed629dc66b04e65af32e1f8992bd144",
            "max": 10,
            "min": 0,
            "orientation": "horizontal",
            "style": "IPY_MODEL_74732c3729684933858da6b537f3cc9a",
            "value": 10
          }
        },
        "1ed629dc66b04e65af32e1f8992bd144": {
          "model_module": "@jupyter-widgets/base",
          "model_module_version": "1.2.0",
          "model_name": "LayoutModel",
          "state": {
            "_model_module": "@jupyter-widgets/base",
            "_model_module_version": "1.2.0",
            "_model_name": "LayoutModel",
            "_view_count": null,
            "_view_module": "@jupyter-widgets/base",
            "_view_module_version": "1.2.0",
            "_view_name": "LayoutView",
            "align_content": null,
            "align_items": null,
            "align_self": null,
            "border": null,
            "bottom": null,
            "display": null,
            "flex": null,
            "flex_flow": null,
            "grid_area": null,
            "grid_auto_columns": null,
            "grid_auto_flow": null,
            "grid_auto_rows": null,
            "grid_column": null,
            "grid_gap": null,
            "grid_row": null,
            "grid_template_areas": null,
            "grid_template_columns": null,
            "grid_template_rows": null,
            "height": null,
            "justify_content": null,
            "justify_items": null,
            "left": null,
            "margin": null,
            "max_height": null,
            "max_width": null,
            "min_height": null,
            "min_width": null,
            "object_fit": null,
            "object_position": null,
            "order": null,
            "overflow": null,
            "overflow_x": null,
            "overflow_y": null,
            "padding": null,
            "right": null,
            "top": null,
            "visibility": null,
            "width": null
          }
        },
        "20c6cefe096344e29c78a371b4962373": {
          "model_module": "@jupyter-widgets/base",
          "model_module_version": "1.2.0",
          "model_name": "LayoutModel",
          "state": {
            "_model_module": "@jupyter-widgets/base",
            "_model_module_version": "1.2.0",
            "_model_name": "LayoutModel",
            "_view_count": null,
            "_view_module": "@jupyter-widgets/base",
            "_view_module_version": "1.2.0",
            "_view_name": "LayoutView",
            "align_content": null,
            "align_items": null,
            "align_self": null,
            "border": null,
            "bottom": null,
            "display": null,
            "flex": null,
            "flex_flow": null,
            "grid_area": null,
            "grid_auto_columns": null,
            "grid_auto_flow": null,
            "grid_auto_rows": null,
            "grid_column": null,
            "grid_gap": null,
            "grid_row": null,
            "grid_template_areas": null,
            "grid_template_columns": null,
            "grid_template_rows": null,
            "height": null,
            "justify_content": null,
            "justify_items": null,
            "left": null,
            "margin": null,
            "max_height": null,
            "max_width": null,
            "min_height": null,
            "min_width": null,
            "object_fit": null,
            "object_position": null,
            "order": null,
            "overflow": null,
            "overflow_x": null,
            "overflow_y": null,
            "padding": null,
            "right": null,
            "top": null,
            "visibility": null,
            "width": null
          }
        },
        "27d8d157293243a1b152a72623883ee5": {
          "model_module": "@jupyter-widgets/base",
          "model_module_version": "1.2.0",
          "model_name": "LayoutModel",
          "state": {
            "_model_module": "@jupyter-widgets/base",
            "_model_module_version": "1.2.0",
            "_model_name": "LayoutModel",
            "_view_count": null,
            "_view_module": "@jupyter-widgets/base",
            "_view_module_version": "1.2.0",
            "_view_name": "LayoutView",
            "align_content": null,
            "align_items": null,
            "align_self": null,
            "border": null,
            "bottom": null,
            "display": null,
            "flex": null,
            "flex_flow": null,
            "grid_area": null,
            "grid_auto_columns": null,
            "grid_auto_flow": null,
            "grid_auto_rows": null,
            "grid_column": null,
            "grid_gap": null,
            "grid_row": null,
            "grid_template_areas": null,
            "grid_template_columns": null,
            "grid_template_rows": null,
            "height": null,
            "justify_content": null,
            "justify_items": null,
            "left": null,
            "margin": null,
            "max_height": null,
            "max_width": null,
            "min_height": null,
            "min_width": null,
            "object_fit": null,
            "object_position": null,
            "order": null,
            "overflow": null,
            "overflow_x": null,
            "overflow_y": null,
            "padding": null,
            "right": null,
            "top": null,
            "visibility": null,
            "width": null
          }
        },
        "345c6f770db04a6db3864e2f73341e05": {
          "model_module": "@jupyter-widgets/base",
          "model_module_version": "1.2.0",
          "model_name": "LayoutModel",
          "state": {
            "_model_module": "@jupyter-widgets/base",
            "_model_module_version": "1.2.0",
            "_model_name": "LayoutModel",
            "_view_count": null,
            "_view_module": "@jupyter-widgets/base",
            "_view_module_version": "1.2.0",
            "_view_name": "LayoutView",
            "align_content": null,
            "align_items": null,
            "align_self": null,
            "border": null,
            "bottom": null,
            "display": null,
            "flex": null,
            "flex_flow": null,
            "grid_area": null,
            "grid_auto_columns": null,
            "grid_auto_flow": null,
            "grid_auto_rows": null,
            "grid_column": null,
            "grid_gap": null,
            "grid_row": null,
            "grid_template_areas": null,
            "grid_template_columns": null,
            "grid_template_rows": null,
            "height": null,
            "justify_content": null,
            "justify_items": null,
            "left": null,
            "margin": null,
            "max_height": null,
            "max_width": null,
            "min_height": null,
            "min_width": null,
            "object_fit": null,
            "object_position": null,
            "order": null,
            "overflow": null,
            "overflow_x": null,
            "overflow_y": null,
            "padding": null,
            "right": null,
            "top": null,
            "visibility": null,
            "width": null
          }
        },
        "363db651aa2a4dff92fc2a90ce8569bd": {
          "model_module": "@jupyter-widgets/base",
          "model_module_version": "1.2.0",
          "model_name": "LayoutModel",
          "state": {
            "_model_module": "@jupyter-widgets/base",
            "_model_module_version": "1.2.0",
            "_model_name": "LayoutModel",
            "_view_count": null,
            "_view_module": "@jupyter-widgets/base",
            "_view_module_version": "1.2.0",
            "_view_name": "LayoutView",
            "align_content": null,
            "align_items": null,
            "align_self": null,
            "border": null,
            "bottom": null,
            "display": null,
            "flex": null,
            "flex_flow": null,
            "grid_area": null,
            "grid_auto_columns": null,
            "grid_auto_flow": null,
            "grid_auto_rows": null,
            "grid_column": null,
            "grid_gap": null,
            "grid_row": null,
            "grid_template_areas": null,
            "grid_template_columns": null,
            "grid_template_rows": null,
            "height": null,
            "justify_content": null,
            "justify_items": null,
            "left": null,
            "margin": null,
            "max_height": null,
            "max_width": null,
            "min_height": null,
            "min_width": null,
            "object_fit": null,
            "object_position": null,
            "order": null,
            "overflow": null,
            "overflow_x": null,
            "overflow_y": null,
            "padding": null,
            "right": null,
            "top": null,
            "visibility": null,
            "width": null
          }
        },
        "37edc53160664e6983b0ed28bfb42a81": {
          "model_module": "@jupyter-widgets/controls",
          "model_module_version": "1.5.0",
          "model_name": "DescriptionStyleModel",
          "state": {
            "_model_module": "@jupyter-widgets/controls",
            "_model_module_version": "1.5.0",
            "_model_name": "DescriptionStyleModel",
            "_view_count": null,
            "_view_module": "@jupyter-widgets/base",
            "_view_module_version": "1.2.0",
            "_view_name": "StyleView",
            "description_width": ""
          }
        },
        "42d9348726294f8d80b2d07a59607bda": {
          "model_module": "@jupyter-widgets/controls",
          "model_module_version": "1.5.0",
          "model_name": "DescriptionStyleModel",
          "state": {
            "_model_module": "@jupyter-widgets/controls",
            "_model_module_version": "1.5.0",
            "_model_name": "DescriptionStyleModel",
            "_view_count": null,
            "_view_module": "@jupyter-widgets/base",
            "_view_module_version": "1.2.0",
            "_view_name": "StyleView",
            "description_width": ""
          }
        },
        "43bee91afad04869a0e9663c557e0c44": {
          "model_module": "@jupyter-widgets/base",
          "model_module_version": "1.2.0",
          "model_name": "LayoutModel",
          "state": {
            "_model_module": "@jupyter-widgets/base",
            "_model_module_version": "1.2.0",
            "_model_name": "LayoutModel",
            "_view_count": null,
            "_view_module": "@jupyter-widgets/base",
            "_view_module_version": "1.2.0",
            "_view_name": "LayoutView",
            "align_content": null,
            "align_items": null,
            "align_self": null,
            "border": null,
            "bottom": null,
            "display": null,
            "flex": null,
            "flex_flow": null,
            "grid_area": null,
            "grid_auto_columns": null,
            "grid_auto_flow": null,
            "grid_auto_rows": null,
            "grid_column": null,
            "grid_gap": null,
            "grid_row": null,
            "grid_template_areas": null,
            "grid_template_columns": null,
            "grid_template_rows": null,
            "height": null,
            "justify_content": null,
            "justify_items": null,
            "left": null,
            "margin": null,
            "max_height": null,
            "max_width": null,
            "min_height": null,
            "min_width": null,
            "object_fit": null,
            "object_position": null,
            "order": null,
            "overflow": null,
            "overflow_x": null,
            "overflow_y": null,
            "padding": null,
            "right": null,
            "top": null,
            "visibility": null,
            "width": null
          }
        },
        "4508ee78e44d4d7a83808864a9fd103b": {
          "model_module": "@jupyter-widgets/controls",
          "model_module_version": "1.5.0",
          "model_name": "DescriptionStyleModel",
          "state": {
            "_model_module": "@jupyter-widgets/controls",
            "_model_module_version": "1.5.0",
            "_model_name": "DescriptionStyleModel",
            "_view_count": null,
            "_view_module": "@jupyter-widgets/base",
            "_view_module_version": "1.2.0",
            "_view_name": "StyleView",
            "description_width": ""
          }
        },
        "4592c3c4f21842c5bcf6f763fb6fd004": {
          "model_module": "@jupyter-widgets/controls",
          "model_module_version": "1.5.0",
          "model_name": "FloatProgressModel",
          "state": {
            "_dom_classes": [],
            "_model_module": "@jupyter-widgets/controls",
            "_model_module_version": "1.5.0",
            "_model_name": "FloatProgressModel",
            "_view_count": null,
            "_view_module": "@jupyter-widgets/controls",
            "_view_module_version": "1.5.0",
            "_view_name": "ProgressView",
            "bar_style": "success",
            "description": "",
            "description_tooltip": null,
            "layout": "IPY_MODEL_9ecdcefc0037449aa5924be8014e17c1",
            "max": 10,
            "min": 0,
            "orientation": "horizontal",
            "style": "IPY_MODEL_e61a9d1a72fe4135b3c06247dfc9f594",
            "value": 10
          }
        },
        "4598995e176d49d7a3eff00e062364de": {
          "model_module": "@jupyter-widgets/controls",
          "model_module_version": "1.5.0",
          "model_name": "HBoxModel",
          "state": {
            "_dom_classes": [],
            "_model_module": "@jupyter-widgets/controls",
            "_model_module_version": "1.5.0",
            "_model_name": "HBoxModel",
            "_view_count": null,
            "_view_module": "@jupyter-widgets/controls",
            "_view_module_version": "1.5.0",
            "_view_name": "HBoxView",
            "box_style": "",
            "children": [
              "IPY_MODEL_95f1af67005c4ad0be1a8ff5c2dc5a64",
              "IPY_MODEL_1969149bae7442db95175ec668486bbb",
              "IPY_MODEL_54946a41eba040eebf89e7f12f17ed6e"
            ],
            "layout": "IPY_MODEL_fd79a1ac22dc45559acefde4b8216710"
          }
        },
        "4b3a0c4bb0cf47e4ba1319cbff7727af": {
          "model_module": "@jupyter-widgets/controls",
          "model_module_version": "1.5.0",
          "model_name": "HTMLModel",
          "state": {
            "_dom_classes": [],
            "_model_module": "@jupyter-widgets/controls",
            "_model_module_version": "1.5.0",
            "_model_name": "HTMLModel",
            "_view_count": null,
            "_view_module": "@jupyter-widgets/controls",
            "_view_module_version": "1.5.0",
            "_view_name": "HTMLView",
            "description": "",
            "description_tooltip": null,
            "layout": "IPY_MODEL_9c70e188fab04360bc921a68865857fb",
            "placeholder": "​",
            "style": "IPY_MODEL_de167ff939fd4563a7718ec29fec5456",
            "value": "100%"
          }
        },
        "504352d534124c0080b57d1d7516fba9": {
          "model_module": "@jupyter-widgets/controls",
          "model_module_version": "1.5.0",
          "model_name": "HTMLModel",
          "state": {
            "_dom_classes": [],
            "_model_module": "@jupyter-widgets/controls",
            "_model_module_version": "1.5.0",
            "_model_name": "HTMLModel",
            "_view_count": null,
            "_view_module": "@jupyter-widgets/controls",
            "_view_module_version": "1.5.0",
            "_view_name": "HTMLView",
            "description": "",
            "description_tooltip": null,
            "layout": "IPY_MODEL_ec19d2e65f124ec6b5216fa13bcf1e8b",
            "placeholder": "​",
            "style": "IPY_MODEL_42d9348726294f8d80b2d07a59607bda",
            "value": " 10/10 [2:38:36&lt;00:00, 954.81s/it]"
          }
        },
        "50c81e75d058402b9d636c6892fefcca": {
          "model_module": "@jupyter-widgets/base",
          "model_module_version": "1.2.0",
          "model_name": "LayoutModel",
          "state": {
            "_model_module": "@jupyter-widgets/base",
            "_model_module_version": "1.2.0",
            "_model_name": "LayoutModel",
            "_view_count": null,
            "_view_module": "@jupyter-widgets/base",
            "_view_module_version": "1.2.0",
            "_view_name": "LayoutView",
            "align_content": null,
            "align_items": null,
            "align_self": null,
            "border": null,
            "bottom": null,
            "display": null,
            "flex": null,
            "flex_flow": null,
            "grid_area": null,
            "grid_auto_columns": null,
            "grid_auto_flow": null,
            "grid_auto_rows": null,
            "grid_column": null,
            "grid_gap": null,
            "grid_row": null,
            "grid_template_areas": null,
            "grid_template_columns": null,
            "grid_template_rows": null,
            "height": null,
            "justify_content": null,
            "justify_items": null,
            "left": null,
            "margin": null,
            "max_height": null,
            "max_width": null,
            "min_height": null,
            "min_width": null,
            "object_fit": null,
            "object_position": null,
            "order": null,
            "overflow": null,
            "overflow_x": null,
            "overflow_y": null,
            "padding": null,
            "right": null,
            "top": null,
            "visibility": null,
            "width": null
          }
        },
        "528d1116fc1d4d1f88ba658e11380598": {
          "model_module": "@jupyter-widgets/controls",
          "model_module_version": "1.5.0",
          "model_name": "HTMLModel",
          "state": {
            "_dom_classes": [],
            "_model_module": "@jupyter-widgets/controls",
            "_model_module_version": "1.5.0",
            "_model_name": "HTMLModel",
            "_view_count": null,
            "_view_module": "@jupyter-widgets/controls",
            "_view_module_version": "1.5.0",
            "_view_name": "HTMLView",
            "description": "",
            "description_tooltip": null,
            "layout": "IPY_MODEL_ead5b0e4241741368509b8f113f8098f",
            "placeholder": "​",
            "style": "IPY_MODEL_98cafc5f37344c9c9b9ac1b96a82dab8",
            "value": " 10/10 [2:38:37&lt;00:00, 951.14s/it]"
          }
        },
        "537b0ccf30eb4d14b4c4f76de9467ec0": {
          "model_module": "@jupyter-widgets/base",
          "model_module_version": "1.2.0",
          "model_name": "LayoutModel",
          "state": {
            "_model_module": "@jupyter-widgets/base",
            "_model_module_version": "1.2.0",
            "_model_name": "LayoutModel",
            "_view_count": null,
            "_view_module": "@jupyter-widgets/base",
            "_view_module_version": "1.2.0",
            "_view_name": "LayoutView",
            "align_content": null,
            "align_items": null,
            "align_self": null,
            "border": null,
            "bottom": null,
            "display": null,
            "flex": null,
            "flex_flow": null,
            "grid_area": null,
            "grid_auto_columns": null,
            "grid_auto_flow": null,
            "grid_auto_rows": null,
            "grid_column": null,
            "grid_gap": null,
            "grid_row": null,
            "grid_template_areas": null,
            "grid_template_columns": null,
            "grid_template_rows": null,
            "height": null,
            "justify_content": null,
            "justify_items": null,
            "left": null,
            "margin": null,
            "max_height": null,
            "max_width": null,
            "min_height": null,
            "min_width": null,
            "object_fit": null,
            "object_position": null,
            "order": null,
            "overflow": null,
            "overflow_x": null,
            "overflow_y": null,
            "padding": null,
            "right": null,
            "top": null,
            "visibility": null,
            "width": null
          }
        },
        "54946a41eba040eebf89e7f12f17ed6e": {
          "model_module": "@jupyter-widgets/controls",
          "model_module_version": "1.5.0",
          "model_name": "HTMLModel",
          "state": {
            "_dom_classes": [],
            "_model_module": "@jupyter-widgets/controls",
            "_model_module_version": "1.5.0",
            "_model_name": "HTMLModel",
            "_view_count": null,
            "_view_module": "@jupyter-widgets/controls",
            "_view_module_version": "1.5.0",
            "_view_name": "HTMLView",
            "description": "",
            "description_tooltip": null,
            "layout": "IPY_MODEL_50c81e75d058402b9d636c6892fefcca",
            "placeholder": "​",
            "style": "IPY_MODEL_900eceee2b54470b8a0bff0ca49624f4",
            "value": " 10/10 [2:44:03&lt;00:00, 982.87s/it]"
          }
        },
        "59b5cbc1df624c4fbdce9115356a0c69": {
          "model_module": "@jupyter-widgets/controls",
          "model_module_version": "1.5.0",
          "model_name": "FloatProgressModel",
          "state": {
            "_dom_classes": [],
            "_model_module": "@jupyter-widgets/controls",
            "_model_module_version": "1.5.0",
            "_model_name": "FloatProgressModel",
            "_view_count": null,
            "_view_module": "@jupyter-widgets/controls",
            "_view_module_version": "1.5.0",
            "_view_name": "ProgressView",
            "bar_style": "success",
            "description": "",
            "description_tooltip": null,
            "layout": "IPY_MODEL_6d989ed124f449af87c63080e65056f2",
            "max": 10,
            "min": 0,
            "orientation": "horizontal",
            "style": "IPY_MODEL_75689d4c7278473eb0cb6c9f487a763e",
            "value": 10
          }
        },
        "5af4d20d972040e490eb15249b94895d": {
          "model_module": "@jupyter-widgets/controls",
          "model_module_version": "1.5.0",
          "model_name": "HTMLModel",
          "state": {
            "_dom_classes": [],
            "_model_module": "@jupyter-widgets/controls",
            "_model_module_version": "1.5.0",
            "_model_name": "HTMLModel",
            "_view_count": null,
            "_view_module": "@jupyter-widgets/controls",
            "_view_module_version": "1.5.0",
            "_view_name": "HTMLView",
            "description": "",
            "description_tooltip": null,
            "layout": "IPY_MODEL_345c6f770db04a6db3864e2f73341e05",
            "placeholder": "​",
            "style": "IPY_MODEL_695fd81305d44f7fba8c30bbffd57ca5",
            "value": " 10/10 [2:44:40&lt;00:00, 984.88s/it]"
          }
        },
        "5c3a1d98cdb64ec8a5a2d54c8f231ea0": {
          "model_module": "@jupyter-widgets/controls",
          "model_module_version": "1.5.0",
          "model_name": "DescriptionStyleModel",
          "state": {
            "_model_module": "@jupyter-widgets/controls",
            "_model_module_version": "1.5.0",
            "_model_name": "DescriptionStyleModel",
            "_view_count": null,
            "_view_module": "@jupyter-widgets/base",
            "_view_module_version": "1.2.0",
            "_view_name": "StyleView",
            "description_width": ""
          }
        },
        "62a85216743f4e6a96b65df0d93fe85f": {
          "model_module": "@jupyter-widgets/controls",
          "model_module_version": "1.5.0",
          "model_name": "DescriptionStyleModel",
          "state": {
            "_model_module": "@jupyter-widgets/controls",
            "_model_module_version": "1.5.0",
            "_model_name": "DescriptionStyleModel",
            "_view_count": null,
            "_view_module": "@jupyter-widgets/base",
            "_view_module_version": "1.2.0",
            "_view_name": "StyleView",
            "description_width": ""
          }
        },
        "68ca61ec2943442cae9255b55cd39b7a": {
          "model_module": "@jupyter-widgets/controls",
          "model_module_version": "1.5.0",
          "model_name": "HTMLModel",
          "state": {
            "_dom_classes": [],
            "_model_module": "@jupyter-widgets/controls",
            "_model_module_version": "1.5.0",
            "_model_name": "HTMLModel",
            "_view_count": null,
            "_view_module": "@jupyter-widgets/controls",
            "_view_module_version": "1.5.0",
            "_view_name": "HTMLView",
            "description": "",
            "description_tooltip": null,
            "layout": "IPY_MODEL_989501b10a32472a82c3ea9defbbdbd7",
            "placeholder": "​",
            "style": "IPY_MODEL_5c3a1d98cdb64ec8a5a2d54c8f231ea0",
            "value": " 10/10 [2:38:57&lt;00:00, 948.66s/it]"
          }
        },
        "695fd81305d44f7fba8c30bbffd57ca5": {
          "model_module": "@jupyter-widgets/controls",
          "model_module_version": "1.5.0",
          "model_name": "DescriptionStyleModel",
          "state": {
            "_model_module": "@jupyter-widgets/controls",
            "_model_module_version": "1.5.0",
            "_model_name": "DescriptionStyleModel",
            "_view_count": null,
            "_view_module": "@jupyter-widgets/base",
            "_view_module_version": "1.2.0",
            "_view_name": "StyleView",
            "description_width": ""
          }
        },
        "6d989ed124f449af87c63080e65056f2": {
          "model_module": "@jupyter-widgets/base",
          "model_module_version": "1.2.0",
          "model_name": "LayoutModel",
          "state": {
            "_model_module": "@jupyter-widgets/base",
            "_model_module_version": "1.2.0",
            "_model_name": "LayoutModel",
            "_view_count": null,
            "_view_module": "@jupyter-widgets/base",
            "_view_module_version": "1.2.0",
            "_view_name": "LayoutView",
            "align_content": null,
            "align_items": null,
            "align_self": null,
            "border": null,
            "bottom": null,
            "display": null,
            "flex": null,
            "flex_flow": null,
            "grid_area": null,
            "grid_auto_columns": null,
            "grid_auto_flow": null,
            "grid_auto_rows": null,
            "grid_column": null,
            "grid_gap": null,
            "grid_row": null,
            "grid_template_areas": null,
            "grid_template_columns": null,
            "grid_template_rows": null,
            "height": null,
            "justify_content": null,
            "justify_items": null,
            "left": null,
            "margin": null,
            "max_height": null,
            "max_width": null,
            "min_height": null,
            "min_width": null,
            "object_fit": null,
            "object_position": null,
            "order": null,
            "overflow": null,
            "overflow_x": null,
            "overflow_y": null,
            "padding": null,
            "right": null,
            "top": null,
            "visibility": null,
            "width": null
          }
        },
        "746dbb6536a44f2ab748d111a90c33b3": {
          "model_module": "@jupyter-widgets/base",
          "model_module_version": "1.2.0",
          "model_name": "LayoutModel",
          "state": {
            "_model_module": "@jupyter-widgets/base",
            "_model_module_version": "1.2.0",
            "_model_name": "LayoutModel",
            "_view_count": null,
            "_view_module": "@jupyter-widgets/base",
            "_view_module_version": "1.2.0",
            "_view_name": "LayoutView",
            "align_content": null,
            "align_items": null,
            "align_self": null,
            "border": null,
            "bottom": null,
            "display": null,
            "flex": null,
            "flex_flow": null,
            "grid_area": null,
            "grid_auto_columns": null,
            "grid_auto_flow": null,
            "grid_auto_rows": null,
            "grid_column": null,
            "grid_gap": null,
            "grid_row": null,
            "grid_template_areas": null,
            "grid_template_columns": null,
            "grid_template_rows": null,
            "height": null,
            "justify_content": null,
            "justify_items": null,
            "left": null,
            "margin": null,
            "max_height": null,
            "max_width": null,
            "min_height": null,
            "min_width": null,
            "object_fit": null,
            "object_position": null,
            "order": null,
            "overflow": null,
            "overflow_x": null,
            "overflow_y": null,
            "padding": null,
            "right": null,
            "top": null,
            "visibility": null,
            "width": null
          }
        },
        "74732c3729684933858da6b537f3cc9a": {
          "model_module": "@jupyter-widgets/controls",
          "model_module_version": "1.5.0",
          "model_name": "ProgressStyleModel",
          "state": {
            "_model_module": "@jupyter-widgets/controls",
            "_model_module_version": "1.5.0",
            "_model_name": "ProgressStyleModel",
            "_view_count": null,
            "_view_module": "@jupyter-widgets/base",
            "_view_module_version": "1.2.0",
            "_view_name": "StyleView",
            "bar_color": null,
            "description_width": ""
          }
        },
        "75689d4c7278473eb0cb6c9f487a763e": {
          "model_module": "@jupyter-widgets/controls",
          "model_module_version": "1.5.0",
          "model_name": "ProgressStyleModel",
          "state": {
            "_model_module": "@jupyter-widgets/controls",
            "_model_module_version": "1.5.0",
            "_model_name": "ProgressStyleModel",
            "_view_count": null,
            "_view_module": "@jupyter-widgets/base",
            "_view_module_version": "1.2.0",
            "_view_name": "StyleView",
            "bar_color": null,
            "description_width": ""
          }
        },
        "7a20399a3d2f4232b08959e1e7c40c36": {
          "model_module": "@jupyter-widgets/controls",
          "model_module_version": "1.5.0",
          "model_name": "DescriptionStyleModel",
          "state": {
            "_model_module": "@jupyter-widgets/controls",
            "_model_module_version": "1.5.0",
            "_model_name": "DescriptionStyleModel",
            "_view_count": null,
            "_view_module": "@jupyter-widgets/base",
            "_view_module_version": "1.2.0",
            "_view_name": "StyleView",
            "description_width": ""
          }
        },
        "7fa5d61dc0ee45daa892ad0e3fcc8d88": {
          "model_module": "@jupyter-widgets/controls",
          "model_module_version": "1.5.0",
          "model_name": "DescriptionStyleModel",
          "state": {
            "_model_module": "@jupyter-widgets/controls",
            "_model_module_version": "1.5.0",
            "_model_name": "DescriptionStyleModel",
            "_view_count": null,
            "_view_module": "@jupyter-widgets/base",
            "_view_module_version": "1.2.0",
            "_view_name": "StyleView",
            "description_width": ""
          }
        },
        "7fd711d3a6fa4e408f6ae9f0227574c2": {
          "model_module": "@jupyter-widgets/controls",
          "model_module_version": "1.5.0",
          "model_name": "HTMLModel",
          "state": {
            "_dom_classes": [],
            "_model_module": "@jupyter-widgets/controls",
            "_model_module_version": "1.5.0",
            "_model_name": "HTMLModel",
            "_view_count": null,
            "_view_module": "@jupyter-widgets/controls",
            "_view_module_version": "1.5.0",
            "_view_name": "HTMLView",
            "description": "",
            "description_tooltip": null,
            "layout": "IPY_MODEL_15e740444c7d43e8962f4a8cd45e06b4",
            "placeholder": "​",
            "style": "IPY_MODEL_62a85216743f4e6a96b65df0d93fe85f",
            "value": " 10/10 [2:44:34&lt;00:00, 986.75s/it]"
          }
        },
        "8361d446c3d143ffb6e59f1d54997fc0": {
          "model_module": "@jupyter-widgets/controls",
          "model_module_version": "1.5.0",
          "model_name": "ProgressStyleModel",
          "state": {
            "_model_module": "@jupyter-widgets/controls",
            "_model_module_version": "1.5.0",
            "_model_name": "ProgressStyleModel",
            "_view_count": null,
            "_view_module": "@jupyter-widgets/base",
            "_view_module_version": "1.2.0",
            "_view_name": "StyleView",
            "bar_color": null,
            "description_width": ""
          }
        },
        "871e106bf8e64ac4a8b6a837d74d2453": {
          "model_module": "@jupyter-widgets/controls",
          "model_module_version": "1.5.0",
          "model_name": "DescriptionStyleModel",
          "state": {
            "_model_module": "@jupyter-widgets/controls",
            "_model_module_version": "1.5.0",
            "_model_name": "DescriptionStyleModel",
            "_view_count": null,
            "_view_module": "@jupyter-widgets/base",
            "_view_module_version": "1.2.0",
            "_view_name": "StyleView",
            "description_width": ""
          }
        },
        "8d885c3e5d3b42fb8b0cec81ea6c6f8f": {
          "model_module": "@jupyter-widgets/controls",
          "model_module_version": "1.5.0",
          "model_name": "HBoxModel",
          "state": {
            "_dom_classes": [],
            "_model_module": "@jupyter-widgets/controls",
            "_model_module_version": "1.5.0",
            "_model_name": "HBoxModel",
            "_view_count": null,
            "_view_module": "@jupyter-widgets/controls",
            "_view_module_version": "1.5.0",
            "_view_name": "HBoxView",
            "box_style": "",
            "children": [
              "IPY_MODEL_f8856918da2e4a5387a0328ac5f5ce4a",
              "IPY_MODEL_f96f7635172347efb9bb5d098aac3c52",
              "IPY_MODEL_504352d534124c0080b57d1d7516fba9"
            ],
            "layout": "IPY_MODEL_43bee91afad04869a0e9663c557e0c44"
          }
        },
        "900eceee2b54470b8a0bff0ca49624f4": {
          "model_module": "@jupyter-widgets/controls",
          "model_module_version": "1.5.0",
          "model_name": "DescriptionStyleModel",
          "state": {
            "_model_module": "@jupyter-widgets/controls",
            "_model_module_version": "1.5.0",
            "_model_name": "DescriptionStyleModel",
            "_view_count": null,
            "_view_module": "@jupyter-widgets/base",
            "_view_module_version": "1.2.0",
            "_view_name": "StyleView",
            "description_width": ""
          }
        },
        "95f1af67005c4ad0be1a8ff5c2dc5a64": {
          "model_module": "@jupyter-widgets/controls",
          "model_module_version": "1.5.0",
          "model_name": "HTMLModel",
          "state": {
            "_dom_classes": [],
            "_model_module": "@jupyter-widgets/controls",
            "_model_module_version": "1.5.0",
            "_model_name": "HTMLModel",
            "_view_count": null,
            "_view_module": "@jupyter-widgets/controls",
            "_view_module_version": "1.5.0",
            "_view_name": "HTMLView",
            "description": "",
            "description_tooltip": null,
            "layout": "IPY_MODEL_537b0ccf30eb4d14b4c4f76de9467ec0",
            "placeholder": "​",
            "style": "IPY_MODEL_37edc53160664e6983b0ed28bfb42a81",
            "value": "100%"
          }
        },
        "989501b10a32472a82c3ea9defbbdbd7": {
          "model_module": "@jupyter-widgets/base",
          "model_module_version": "1.2.0",
          "model_name": "LayoutModel",
          "state": {
            "_model_module": "@jupyter-widgets/base",
            "_model_module_version": "1.2.0",
            "_model_name": "LayoutModel",
            "_view_count": null,
            "_view_module": "@jupyter-widgets/base",
            "_view_module_version": "1.2.0",
            "_view_name": "LayoutView",
            "align_content": null,
            "align_items": null,
            "align_self": null,
            "border": null,
            "bottom": null,
            "display": null,
            "flex": null,
            "flex_flow": null,
            "grid_area": null,
            "grid_auto_columns": null,
            "grid_auto_flow": null,
            "grid_auto_rows": null,
            "grid_column": null,
            "grid_gap": null,
            "grid_row": null,
            "grid_template_areas": null,
            "grid_template_columns": null,
            "grid_template_rows": null,
            "height": null,
            "justify_content": null,
            "justify_items": null,
            "left": null,
            "margin": null,
            "max_height": null,
            "max_width": null,
            "min_height": null,
            "min_width": null,
            "object_fit": null,
            "object_position": null,
            "order": null,
            "overflow": null,
            "overflow_x": null,
            "overflow_y": null,
            "padding": null,
            "right": null,
            "top": null,
            "visibility": null,
            "width": null
          }
        },
        "98cafc5f37344c9c9b9ac1b96a82dab8": {
          "model_module": "@jupyter-widgets/controls",
          "model_module_version": "1.5.0",
          "model_name": "DescriptionStyleModel",
          "state": {
            "_model_module": "@jupyter-widgets/controls",
            "_model_module_version": "1.5.0",
            "_model_name": "DescriptionStyleModel",
            "_view_count": null,
            "_view_module": "@jupyter-widgets/base",
            "_view_module_version": "1.2.0",
            "_view_name": "StyleView",
            "description_width": ""
          }
        },
        "98fbdde21aa6447dbbd15c4e90417d15": {
          "model_module": "@jupyter-widgets/controls",
          "model_module_version": "1.5.0",
          "model_name": "FloatProgressModel",
          "state": {
            "_dom_classes": [],
            "_model_module": "@jupyter-widgets/controls",
            "_model_module_version": "1.5.0",
            "_model_name": "FloatProgressModel",
            "_view_count": null,
            "_view_module": "@jupyter-widgets/controls",
            "_view_module_version": "1.5.0",
            "_view_name": "ProgressView",
            "bar_style": "success",
            "description": "",
            "description_tooltip": null,
            "layout": "IPY_MODEL_0b13cdb05d954b6c84c2a50ce3a61e4e",
            "max": 10,
            "min": 0,
            "orientation": "horizontal",
            "style": "IPY_MODEL_e0e6aa9db57249c48bee062190ee4db6",
            "value": 10
          }
        },
        "9b213ee8aa3b4da39571aeb03564e7dd": {
          "model_module": "@jupyter-widgets/controls",
          "model_module_version": "1.5.0",
          "model_name": "FloatProgressModel",
          "state": {
            "_dom_classes": [],
            "_model_module": "@jupyter-widgets/controls",
            "_model_module_version": "1.5.0",
            "_model_name": "FloatProgressModel",
            "_view_count": null,
            "_view_module": "@jupyter-widgets/controls",
            "_view_module_version": "1.5.0",
            "_view_name": "ProgressView",
            "bar_style": "success",
            "description": "",
            "description_tooltip": null,
            "layout": "IPY_MODEL_363db651aa2a4dff92fc2a90ce8569bd",
            "max": 10,
            "min": 0,
            "orientation": "horizontal",
            "style": "IPY_MODEL_8361d446c3d143ffb6e59f1d54997fc0",
            "value": 10
          }
        },
        "9c70e188fab04360bc921a68865857fb": {
          "model_module": "@jupyter-widgets/base",
          "model_module_version": "1.2.0",
          "model_name": "LayoutModel",
          "state": {
            "_model_module": "@jupyter-widgets/base",
            "_model_module_version": "1.2.0",
            "_model_name": "LayoutModel",
            "_view_count": null,
            "_view_module": "@jupyter-widgets/base",
            "_view_module_version": "1.2.0",
            "_view_name": "LayoutView",
            "align_content": null,
            "align_items": null,
            "align_self": null,
            "border": null,
            "bottom": null,
            "display": null,
            "flex": null,
            "flex_flow": null,
            "grid_area": null,
            "grid_auto_columns": null,
            "grid_auto_flow": null,
            "grid_auto_rows": null,
            "grid_column": null,
            "grid_gap": null,
            "grid_row": null,
            "grid_template_areas": null,
            "grid_template_columns": null,
            "grid_template_rows": null,
            "height": null,
            "justify_content": null,
            "justify_items": null,
            "left": null,
            "margin": null,
            "max_height": null,
            "max_width": null,
            "min_height": null,
            "min_width": null,
            "object_fit": null,
            "object_position": null,
            "order": null,
            "overflow": null,
            "overflow_x": null,
            "overflow_y": null,
            "padding": null,
            "right": null,
            "top": null,
            "visibility": null,
            "width": null
          }
        },
        "9ecdcefc0037449aa5924be8014e17c1": {
          "model_module": "@jupyter-widgets/base",
          "model_module_version": "1.2.0",
          "model_name": "LayoutModel",
          "state": {
            "_model_module": "@jupyter-widgets/base",
            "_model_module_version": "1.2.0",
            "_model_name": "LayoutModel",
            "_view_count": null,
            "_view_module": "@jupyter-widgets/base",
            "_view_module_version": "1.2.0",
            "_view_name": "LayoutView",
            "align_content": null,
            "align_items": null,
            "align_self": null,
            "border": null,
            "bottom": null,
            "display": null,
            "flex": null,
            "flex_flow": null,
            "grid_area": null,
            "grid_auto_columns": null,
            "grid_auto_flow": null,
            "grid_auto_rows": null,
            "grid_column": null,
            "grid_gap": null,
            "grid_row": null,
            "grid_template_areas": null,
            "grid_template_columns": null,
            "grid_template_rows": null,
            "height": null,
            "justify_content": null,
            "justify_items": null,
            "left": null,
            "margin": null,
            "max_height": null,
            "max_width": null,
            "min_height": null,
            "min_width": null,
            "object_fit": null,
            "object_position": null,
            "order": null,
            "overflow": null,
            "overflow_x": null,
            "overflow_y": null,
            "padding": null,
            "right": null,
            "top": null,
            "visibility": null,
            "width": null
          }
        },
        "a8bc39ac30c84aa193da7c3c4e302444": {
          "model_module": "@jupyter-widgets/controls",
          "model_module_version": "1.5.0",
          "model_name": "HBoxModel",
          "state": {
            "_dom_classes": [],
            "_model_module": "@jupyter-widgets/controls",
            "_model_module_version": "1.5.0",
            "_model_name": "HBoxModel",
            "_view_count": null,
            "_view_module": "@jupyter-widgets/controls",
            "_view_module_version": "1.5.0",
            "_view_name": "HBoxView",
            "box_style": "",
            "children": [
              "IPY_MODEL_4b3a0c4bb0cf47e4ba1319cbff7727af",
              "IPY_MODEL_9b213ee8aa3b4da39571aeb03564e7dd",
              "IPY_MODEL_7fd711d3a6fa4e408f6ae9f0227574c2"
            ],
            "layout": "IPY_MODEL_023a7bc6bd01455491dd47add1e518bc"
          }
        },
        "ab6aec4591dd435e9f6e19221cd2c07a": {
          "model_module": "@jupyter-widgets/controls",
          "model_module_version": "1.5.0",
          "model_name": "HBoxModel",
          "state": {
            "_dom_classes": [],
            "_model_module": "@jupyter-widgets/controls",
            "_model_module_version": "1.5.0",
            "_model_name": "HBoxModel",
            "_view_count": null,
            "_view_module": "@jupyter-widgets/controls",
            "_view_module_version": "1.5.0",
            "_view_name": "HBoxView",
            "box_style": "",
            "children": [
              "IPY_MODEL_fa578ad0fecf4ac69c41a311a0e11c42",
              "IPY_MODEL_98fbdde21aa6447dbbd15c4e90417d15",
              "IPY_MODEL_528d1116fc1d4d1f88ba658e11380598"
            ],
            "layout": "IPY_MODEL_dae7a6b1717c486294737ed38e496a4f"
          }
        },
        "b7ae435661d74195a6bc778a9d6e1602": {
          "model_module": "@jupyter-widgets/base",
          "model_module_version": "1.2.0",
          "model_name": "LayoutModel",
          "state": {
            "_model_module": "@jupyter-widgets/base",
            "_model_module_version": "1.2.0",
            "_model_name": "LayoutModel",
            "_view_count": null,
            "_view_module": "@jupyter-widgets/base",
            "_view_module_version": "1.2.0",
            "_view_name": "LayoutView",
            "align_content": null,
            "align_items": null,
            "align_self": null,
            "border": null,
            "bottom": null,
            "display": null,
            "flex": null,
            "flex_flow": null,
            "grid_area": null,
            "grid_auto_columns": null,
            "grid_auto_flow": null,
            "grid_auto_rows": null,
            "grid_column": null,
            "grid_gap": null,
            "grid_row": null,
            "grid_template_areas": null,
            "grid_template_columns": null,
            "grid_template_rows": null,
            "height": null,
            "justify_content": null,
            "justify_items": null,
            "left": null,
            "margin": null,
            "max_height": null,
            "max_width": null,
            "min_height": null,
            "min_width": null,
            "object_fit": null,
            "object_position": null,
            "order": null,
            "overflow": null,
            "overflow_x": null,
            "overflow_y": null,
            "padding": null,
            "right": null,
            "top": null,
            "visibility": null,
            "width": null
          }
        },
        "b981f0925e2f42f492330134cf57198f": {
          "model_module": "@jupyter-widgets/controls",
          "model_module_version": "1.5.0",
          "model_name": "HBoxModel",
          "state": {
            "_dom_classes": [],
            "_model_module": "@jupyter-widgets/controls",
            "_model_module_version": "1.5.0",
            "_model_name": "HBoxModel",
            "_view_count": null,
            "_view_module": "@jupyter-widgets/controls",
            "_view_module_version": "1.5.0",
            "_view_name": "HBoxView",
            "box_style": "",
            "children": [
              "IPY_MODEL_d795648407b54c91ab0cff753de5eca9",
              "IPY_MODEL_4592c3c4f21842c5bcf6f763fb6fd004",
              "IPY_MODEL_5af4d20d972040e490eb15249b94895d"
            ],
            "layout": "IPY_MODEL_eccb267771f44588ba7aaad54a69537f"
          }
        },
        "d795648407b54c91ab0cff753de5eca9": {
          "model_module": "@jupyter-widgets/controls",
          "model_module_version": "1.5.0",
          "model_name": "HTMLModel",
          "state": {
            "_dom_classes": [],
            "_model_module": "@jupyter-widgets/controls",
            "_model_module_version": "1.5.0",
            "_model_name": "HTMLModel",
            "_view_count": null,
            "_view_module": "@jupyter-widgets/controls",
            "_view_module_version": "1.5.0",
            "_view_name": "HTMLView",
            "description": "",
            "description_tooltip": null,
            "layout": "IPY_MODEL_746dbb6536a44f2ab748d111a90c33b3",
            "placeholder": "​",
            "style": "IPY_MODEL_4508ee78e44d4d7a83808864a9fd103b",
            "value": "100%"
          }
        },
        "dae7a6b1717c486294737ed38e496a4f": {
          "model_module": "@jupyter-widgets/base",
          "model_module_version": "1.2.0",
          "model_name": "LayoutModel",
          "state": {
            "_model_module": "@jupyter-widgets/base",
            "_model_module_version": "1.2.0",
            "_model_name": "LayoutModel",
            "_view_count": null,
            "_view_module": "@jupyter-widgets/base",
            "_view_module_version": "1.2.0",
            "_view_name": "LayoutView",
            "align_content": null,
            "align_items": null,
            "align_self": null,
            "border": null,
            "bottom": null,
            "display": null,
            "flex": null,
            "flex_flow": null,
            "grid_area": null,
            "grid_auto_columns": null,
            "grid_auto_flow": null,
            "grid_auto_rows": null,
            "grid_column": null,
            "grid_gap": null,
            "grid_row": null,
            "grid_template_areas": null,
            "grid_template_columns": null,
            "grid_template_rows": null,
            "height": null,
            "justify_content": null,
            "justify_items": null,
            "left": null,
            "margin": null,
            "max_height": null,
            "max_width": null,
            "min_height": null,
            "min_width": null,
            "object_fit": null,
            "object_position": null,
            "order": null,
            "overflow": null,
            "overflow_x": null,
            "overflow_y": null,
            "padding": null,
            "right": null,
            "top": null,
            "visibility": null,
            "width": null
          }
        },
        "de167ff939fd4563a7718ec29fec5456": {
          "model_module": "@jupyter-widgets/controls",
          "model_module_version": "1.5.0",
          "model_name": "DescriptionStyleModel",
          "state": {
            "_model_module": "@jupyter-widgets/controls",
            "_model_module_version": "1.5.0",
            "_model_name": "DescriptionStyleModel",
            "_view_count": null,
            "_view_module": "@jupyter-widgets/base",
            "_view_module_version": "1.2.0",
            "_view_name": "StyleView",
            "description_width": ""
          }
        },
        "e0e6aa9db57249c48bee062190ee4db6": {
          "model_module": "@jupyter-widgets/controls",
          "model_module_version": "1.5.0",
          "model_name": "ProgressStyleModel",
          "state": {
            "_model_module": "@jupyter-widgets/controls",
            "_model_module_version": "1.5.0",
            "_model_name": "ProgressStyleModel",
            "_view_count": null,
            "_view_module": "@jupyter-widgets/base",
            "_view_module_version": "1.2.0",
            "_view_name": "StyleView",
            "bar_color": null,
            "description_width": ""
          }
        },
        "e61a9d1a72fe4135b3c06247dfc9f594": {
          "model_module": "@jupyter-widgets/controls",
          "model_module_version": "1.5.0",
          "model_name": "ProgressStyleModel",
          "state": {
            "_model_module": "@jupyter-widgets/controls",
            "_model_module_version": "1.5.0",
            "_model_name": "ProgressStyleModel",
            "_view_count": null,
            "_view_module": "@jupyter-widgets/base",
            "_view_module_version": "1.2.0",
            "_view_name": "StyleView",
            "bar_color": null,
            "description_width": ""
          }
        },
        "ead5b0e4241741368509b8f113f8098f": {
          "model_module": "@jupyter-widgets/base",
          "model_module_version": "1.2.0",
          "model_name": "LayoutModel",
          "state": {
            "_model_module": "@jupyter-widgets/base",
            "_model_module_version": "1.2.0",
            "_model_name": "LayoutModel",
            "_view_count": null,
            "_view_module": "@jupyter-widgets/base",
            "_view_module_version": "1.2.0",
            "_view_name": "LayoutView",
            "align_content": null,
            "align_items": null,
            "align_self": null,
            "border": null,
            "bottom": null,
            "display": null,
            "flex": null,
            "flex_flow": null,
            "grid_area": null,
            "grid_auto_columns": null,
            "grid_auto_flow": null,
            "grid_auto_rows": null,
            "grid_column": null,
            "grid_gap": null,
            "grid_row": null,
            "grid_template_areas": null,
            "grid_template_columns": null,
            "grid_template_rows": null,
            "height": null,
            "justify_content": null,
            "justify_items": null,
            "left": null,
            "margin": null,
            "max_height": null,
            "max_width": null,
            "min_height": null,
            "min_width": null,
            "object_fit": null,
            "object_position": null,
            "order": null,
            "overflow": null,
            "overflow_x": null,
            "overflow_y": null,
            "padding": null,
            "right": null,
            "top": null,
            "visibility": null,
            "width": null
          }
        },
        "ec19d2e65f124ec6b5216fa13bcf1e8b": {
          "model_module": "@jupyter-widgets/base",
          "model_module_version": "1.2.0",
          "model_name": "LayoutModel",
          "state": {
            "_model_module": "@jupyter-widgets/base",
            "_model_module_version": "1.2.0",
            "_model_name": "LayoutModel",
            "_view_count": null,
            "_view_module": "@jupyter-widgets/base",
            "_view_module_version": "1.2.0",
            "_view_name": "LayoutView",
            "align_content": null,
            "align_items": null,
            "align_self": null,
            "border": null,
            "bottom": null,
            "display": null,
            "flex": null,
            "flex_flow": null,
            "grid_area": null,
            "grid_auto_columns": null,
            "grid_auto_flow": null,
            "grid_auto_rows": null,
            "grid_column": null,
            "grid_gap": null,
            "grid_row": null,
            "grid_template_areas": null,
            "grid_template_columns": null,
            "grid_template_rows": null,
            "height": null,
            "justify_content": null,
            "justify_items": null,
            "left": null,
            "margin": null,
            "max_height": null,
            "max_width": null,
            "min_height": null,
            "min_width": null,
            "object_fit": null,
            "object_position": null,
            "order": null,
            "overflow": null,
            "overflow_x": null,
            "overflow_y": null,
            "padding": null,
            "right": null,
            "top": null,
            "visibility": null,
            "width": null
          }
        },
        "eccb267771f44588ba7aaad54a69537f": {
          "model_module": "@jupyter-widgets/base",
          "model_module_version": "1.2.0",
          "model_name": "LayoutModel",
          "state": {
            "_model_module": "@jupyter-widgets/base",
            "_model_module_version": "1.2.0",
            "_model_name": "LayoutModel",
            "_view_count": null,
            "_view_module": "@jupyter-widgets/base",
            "_view_module_version": "1.2.0",
            "_view_name": "LayoutView",
            "align_content": null,
            "align_items": null,
            "align_self": null,
            "border": null,
            "bottom": null,
            "display": null,
            "flex": null,
            "flex_flow": null,
            "grid_area": null,
            "grid_auto_columns": null,
            "grid_auto_flow": null,
            "grid_auto_rows": null,
            "grid_column": null,
            "grid_gap": null,
            "grid_row": null,
            "grid_template_areas": null,
            "grid_template_columns": null,
            "grid_template_rows": null,
            "height": null,
            "justify_content": null,
            "justify_items": null,
            "left": null,
            "margin": null,
            "max_height": null,
            "max_width": null,
            "min_height": null,
            "min_width": null,
            "object_fit": null,
            "object_position": null,
            "order": null,
            "overflow": null,
            "overflow_x": null,
            "overflow_y": null,
            "padding": null,
            "right": null,
            "top": null,
            "visibility": null,
            "width": null
          }
        },
        "f8856918da2e4a5387a0328ac5f5ce4a": {
          "model_module": "@jupyter-widgets/controls",
          "model_module_version": "1.5.0",
          "model_name": "HTMLModel",
          "state": {
            "_dom_classes": [],
            "_model_module": "@jupyter-widgets/controls",
            "_model_module_version": "1.5.0",
            "_model_name": "HTMLModel",
            "_view_count": null,
            "_view_module": "@jupyter-widgets/controls",
            "_view_module_version": "1.5.0",
            "_view_name": "HTMLView",
            "description": "",
            "description_tooltip": null,
            "layout": "IPY_MODEL_20c6cefe096344e29c78a371b4962373",
            "placeholder": "​",
            "style": "IPY_MODEL_7a20399a3d2f4232b08959e1e7c40c36",
            "value": "100%"
          }
        },
        "f96f7635172347efb9bb5d098aac3c52": {
          "model_module": "@jupyter-widgets/controls",
          "model_module_version": "1.5.0",
          "model_name": "FloatProgressModel",
          "state": {
            "_dom_classes": [],
            "_model_module": "@jupyter-widgets/controls",
            "_model_module_version": "1.5.0",
            "_model_name": "FloatProgressModel",
            "_view_count": null,
            "_view_module": "@jupyter-widgets/controls",
            "_view_module_version": "1.5.0",
            "_view_name": "ProgressView",
            "bar_style": "success",
            "description": "",
            "description_tooltip": null,
            "layout": "IPY_MODEL_18d44017627d489d8ef89ac22b439718",
            "max": 10,
            "min": 0,
            "orientation": "horizontal",
            "style": "IPY_MODEL_0e8ededf21d14777b904d9648d1a0de6",
            "value": 10
          }
        },
        "fa578ad0fecf4ac69c41a311a0e11c42": {
          "model_module": "@jupyter-widgets/controls",
          "model_module_version": "1.5.0",
          "model_name": "HTMLModel",
          "state": {
            "_dom_classes": [],
            "_model_module": "@jupyter-widgets/controls",
            "_model_module_version": "1.5.0",
            "_model_name": "HTMLModel",
            "_view_count": null,
            "_view_module": "@jupyter-widgets/controls",
            "_view_module_version": "1.5.0",
            "_view_name": "HTMLView",
            "description": "",
            "description_tooltip": null,
            "layout": "IPY_MODEL_b7ae435661d74195a6bc778a9d6e1602",
            "placeholder": "​",
            "style": "IPY_MODEL_7fa5d61dc0ee45daa892ad0e3fcc8d88",
            "value": "100%"
          }
        },
        "fd79a1ac22dc45559acefde4b8216710": {
          "model_module": "@jupyter-widgets/base",
          "model_module_version": "1.2.0",
          "model_name": "LayoutModel",
          "state": {
            "_model_module": "@jupyter-widgets/base",
            "_model_module_version": "1.2.0",
            "_model_name": "LayoutModel",
            "_view_count": null,
            "_view_module": "@jupyter-widgets/base",
            "_view_module_version": "1.2.0",
            "_view_name": "LayoutView",
            "align_content": null,
            "align_items": null,
            "align_self": null,
            "border": null,
            "bottom": null,
            "display": null,
            "flex": null,
            "flex_flow": null,
            "grid_area": null,
            "grid_auto_columns": null,
            "grid_auto_flow": null,
            "grid_auto_rows": null,
            "grid_column": null,
            "grid_gap": null,
            "grid_row": null,
            "grid_template_areas": null,
            "grid_template_columns": null,
            "grid_template_rows": null,
            "height": null,
            "justify_content": null,
            "justify_items": null,
            "left": null,
            "margin": null,
            "max_height": null,
            "max_width": null,
            "min_height": null,
            "min_width": null,
            "object_fit": null,
            "object_position": null,
            "order": null,
            "overflow": null,
            "overflow_x": null,
            "overflow_y": null,
            "padding": null,
            "right": null,
            "top": null,
            "visibility": null,
            "width": null
          }
        }
      }
    }
  },
  "nbformat": 4,
  "nbformat_minor": 0
}
