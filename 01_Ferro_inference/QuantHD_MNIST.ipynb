{
  "cells": [
    {
      "cell_type": "code",
      "execution_count": 3,
      "metadata": {
        "id": "1W8e7Cz9G8Ag"
      },
      "outputs": [],
      "source": [
        "import sys\n",
        "sys.path.append('../')\n",
        "import clustering_tester\n",
        "from tqdm.notebook import tqdm"
      ]
    },
    {
      "cell_type": "code",
      "execution_count": 4,
      "metadata": {
        "id": "EGIDruSqG8Aj"
      },
      "outputs": [],
      "source": [
        "DIM = 10000\n",
        "MAX_SAMPLES = 10000\n",
        "BITS = 3\n",
        "EPOCHS = 30"
      ]
    },
    {
      "cell_type": "code",
      "execution_count": 9,
      "metadata": {
        "colab": {
          "base_uri": "https://localhost:8080/",
          "height": 917,
          "referenced_widgets": [
            "dfc9201cda324903a1b4925a97619237",
            "07986701f101496a86d7b2501971bb02",
            "251462c1b9fb4da28e883f907a124f9e",
            "fcd7cd514a1d4bc8b649c5ed1cdfc5db",
            "75eb39f587974a53ab0162636cb5d452",
            "276950db63d24c44a090ddf5161fbceb",
            "54121ab91a69439cb891e12e6b8ce52c",
            "cc8485d7070d4510b7e6db76d3248025",
            "beb919e735294df6b941938c00b4e1f3",
            "b662b481dbc94bd19938af2facb4918f",
            "e66668f03b834d81911628812534e0c7"
          ]
        },
        "id": "lMXl3XT7G8Aj",
        "outputId": "cca9db19-c05f-42a9-b8ab-af86f74f3e7f"
      },
      "outputs": [
        {
          "data": {
            "application/vnd.jupyter.widget-view+json": {
              "model_id": "dfc9201cda324903a1b4925a97619237",
              "version_major": 2,
              "version_minor": 0
            },
            "text/plain": [
              "  0%|          | 0/10 [00:00<?, ?it/s]"
            ]
          },
          "metadata": {},
          "output_type": "display_data"
        },
        {
          "name": "stderr",
          "output_type": "stream",
          "text": [
            "Loading dataset mnist from mnist\n",
            "Loading train data... train data of shape (60000, 784) loaded\n",
            "Loading test data...  test  data of shape (10000, 784) loaded\n",
            "Data Loaded. Num of features = 784 Num of Classes = 10"
          ]
        },
        {
          "name": "stdout",
          "output_type": "stream",
          "text": [
            "selected initial labels: [0, 1, 2, 3, 5, 7, 7, 7, 9, 9]\n",
            "0.6232\n"
          ]
        },
        {
          "name": "stderr",
          "output_type": "stream",
          "text": [
            "Loading dataset mnist from mnist\n",
            "Loading train data... train data of shape (60000, 784) loaded\n",
            "Loading test data...  test  data of shape (10000, 784) loaded\n",
            "Data Loaded. Num of features = 784 Num of Classes = 10"
          ]
        },
        {
          "name": "stdout",
          "output_type": "stream",
          "text": [
            "selected initial labels: [0, 1, 1, 1, 4, 4, 4, 5, 6, 7]\n",
            "0.595\n"
          ]
        },
        {
          "name": "stderr",
          "output_type": "stream",
          "text": [
            "Loading dataset mnist from mnist\n",
            "Loading train data... train data of shape (60000, 784) loaded\n",
            "Loading test data...  test  data of shape (10000, 784) loaded\n",
            "Data Loaded. Num of features = 784 Num of Classes = 10"
          ]
        },
        {
          "name": "stdout",
          "output_type": "stream",
          "text": [
            "selected initial labels: [0, 1, 1, 2, 2, 3, 5, 6, 6, 8]\n",
            "0.6345\n"
          ]
        },
        {
          "name": "stderr",
          "output_type": "stream",
          "text": [
            "Loading dataset mnist from mnist\n",
            "Loading train data... train data of shape (60000, 784) loaded\n",
            "Loading test data...  test  data of shape (10000, 784) loaded\n",
            "Data Loaded. Num of features = 784 Num of Classes = 10"
          ]
        },
        {
          "name": "stdout",
          "output_type": "stream",
          "text": [
            "selected initial labels: [1, 2, 3, 4, 5, 5, 6, 8, 9, 9]\n",
            "0.6077\n"
          ]
        },
        {
          "name": "stderr",
          "output_type": "stream",
          "text": [
            "Loading dataset mnist from mnist\n",
            "Loading train data... train data of shape (60000, 784) loaded\n",
            "Loading test data...  test  data of shape (10000, 784) loaded\n",
            "Data Loaded. Num of features = 784 Num of Classes = 10"
          ]
        },
        {
          "name": "stdout",
          "output_type": "stream",
          "text": [
            "selected initial labels: [0, 1, 3, 4, 4, 5, 6, 7, 7, 8]\n",
            "0.693\n"
          ]
        },
        {
          "name": "stderr",
          "output_type": "stream",
          "text": [
            "Loading dataset mnist from mnist\n",
            "Loading train data... train data of shape (60000, 784) loaded\n",
            "Loading test data...  test  data of shape (10000, 784) loaded\n",
            "Data Loaded. Num of features = 784 Num of Classes = 10"
          ]
        },
        {
          "name": "stdout",
          "output_type": "stream",
          "text": [
            "selected initial labels: [0, 1, 3, 5, 7, 8, 8, 9, 9, 9]\n",
            "0.6057\n"
          ]
        },
        {
          "name": "stderr",
          "output_type": "stream",
          "text": [
            "Loading dataset mnist from mnist\n",
            "Loading train data... train data of shape (60000, 784) loaded\n",
            "Loading test data...  test  data of shape (10000, 784) loaded\n",
            "Data Loaded. Num of features = 784 Num of Classes = 10"
          ]
        },
        {
          "name": "stdout",
          "output_type": "stream",
          "text": [
            "selected initial labels: [0, 0, 1, 1, 2, 3, 5, 6, 8, 9]\n",
            "0.6545\n"
          ]
        },
        {
          "name": "stderr",
          "output_type": "stream",
          "text": [
            "Loading dataset mnist from mnist\n",
            "Loading train data... train data of shape (60000, 784) loaded\n",
            "Loading test data...  test  data of shape (10000, 784) loaded\n",
            "Data Loaded. Num of features = 784 Num of Classes = 10"
          ]
        },
        {
          "name": "stdout",
          "output_type": "stream",
          "text": [
            "selected initial labels: [0, 0, 0, 1, 1, 1, 3, 3, 9, 9]\n",
            "0.636\n"
          ]
        },
        {
          "name": "stderr",
          "output_type": "stream",
          "text": [
            "Loading dataset mnist from mnist\n",
            "Loading train data... train data of shape (60000, 784) loaded\n",
            "Loading test data...  test  data of shape (10000, 784) loaded\n",
            "Data Loaded. Num of features = 784 Num of Classes = 10"
          ]
        },
        {
          "name": "stdout",
          "output_type": "stream",
          "text": [
            "selected initial labels: [0, 1, 2, 2, 3, 3, 6, 7, 9, 9]\n",
            "0.6654\n"
          ]
        },
        {
          "name": "stderr",
          "output_type": "stream",
          "text": [
            "Loading dataset mnist from mnist\n",
            "Loading train data... train data of shape (60000, 784) loaded\n",
            "Loading test data...  test  data of shape (10000, 784) loaded\n",
            "Data Loaded. Num of features = 784 Num of Classes = 10"
          ]
        },
        {
          "name": "stdout",
          "output_type": "stream",
          "text": [
            "selected initial labels: [3, 4, 4, 5, 6, 7, 7, 7, 8, 9]\n",
            "0.6541\n"
          ]
        }
      ],
      "source": [
        "histories = []\n",
        "for trial in tqdm(range(10)):\n",
        "  history = clustering_tester.run_clustering(\n",
        "    *clustering_tester.get_mnist_dataset(MAX_SAMPLES),\n",
        "    BITS,\n",
        "    DIM,\n",
        "    EPOCHS,\n",
        "    clustering_tester.get_prob_tables_from_json('../prob_table.json')['27C_Front_10nm_3bit'],\n",
        "    flip_inference_only=True\n",
        "  )\n",
        "  histories.append(history)"
      ]
    },
    {
      "cell_type": "code",
      "execution_count": 10,
      "metadata": {
        "colab": {
          "base_uri": "https://localhost:8080/",
          "height": 442
        },
        "id": "c7K3Cnw0G8Al",
        "outputId": "84c95f78-4f33-416a-d848-305ef0ff3d65"
      },
      "outputs": [
        {
          "data": {
            "image/png": "[encoded data removed]",
            "text/plain": [
              "<Figure size 720x504 with 1 Axes>"
            ]
          },
          "metadata": {
            "needs_background": "light"
          },
          "output_type": "display_data"
        }
      ],
      "source": [
        "clustering_tester.plot_histories(histories)"
      ]
    },
    {
      "cell_type": "code",
      "execution_count": 11,
      "metadata": {
        "colab": {
          "base_uri": "https://localhost:8080/",
          "height": 917,
          "referenced_widgets": [
            "88b9f4410efd4328b2cc190aedca9fa8",
            "2c6e848e13754a7abac6c19866c28f61",
            "2b6b82591e7a4d69a0f6db6a6c0f83b0",
            "84b7b623066143a596752587252d8f63",
            "3345957ad252498b9824c6a474dff1ca",
            "67e17c0ce142465d83835e3b05a39a21",
            "c992567cf851421ba3a51c2be7dd7b5a",
            "6bffc8dbd68c4f2c85d0710e97ee7e6e",
            "0ef84993a6e04c08988fbc530e2bad80",
            "8a26679456844c44b8a931f54644ef6c",
            "254b447bacfd432586b9113b1f286dfe"
          ]
        },
        "id": "xXNTi-PIG8Al",
        "outputId": "60228a3b-78e4-4a58-9ded-d8cd246fbf3b"
      },
      "outputs": [
        {
          "data": {
            "application/vnd.jupyter.widget-view+json": {
              "model_id": "88b9f4410efd4328b2cc190aedca9fa8",
              "version_major": 2,
              "version_minor": 0
            },
            "text/plain": [
              "  0%|          | 0/10 [00:00<?, ?it/s]"
            ]
          },
          "metadata": {},
          "output_type": "display_data"
        },
        {
          "name": "stderr",
          "output_type": "stream",
          "text": [
            "Loading dataset mnist from mnist\n",
            "Loading train data... train data of shape (60000, 784) loaded\n",
            "Loading test data...  test  data of shape (10000, 784) loaded\n",
            "Data Loaded. Num of features = 784 Num of Classes = 10"
          ]
        },
        {
          "name": "stdout",
          "output_type": "stream",
          "text": [
            "selected initial labels: [0, 1, 2, 3, 6, 6, 6, 7, 8, 9]\n",
            "0.6191\n"
          ]
        },
        {
          "name": "stderr",
          "output_type": "stream",
          "text": [
            "Loading dataset mnist from mnist\n",
            "Loading train data... train data of shape (60000, 784) loaded\n",
            "Loading test data...  test  data of shape (10000, 784) loaded\n",
            "Data Loaded. Num of features = 784 Num of Classes = 10"
          ]
        },
        {
          "name": "stdout",
          "output_type": "stream",
          "text": [
            "selected initial labels: [0, 0, 2, 4, 4, 4, 6, 6, 7, 7]\n",
            "0.6594\n"
          ]
        },
        {
          "name": "stderr",
          "output_type": "stream",
          "text": [
            "Loading dataset mnist from mnist\n",
            "Loading train data... train data of shape (60000, 784) loaded\n",
            "Loading test data...  test  data of shape (10000, 784) loaded\n",
            "Data Loaded. Num of features = 784 Num of Classes = 10"
          ]
        },
        {
          "name": "stdout",
          "output_type": "stream",
          "text": [
            "selected initial labels: [0, 0, 1, 2, 2, 4, 4, 7, 7, 8]\n",
            "0.6138\n"
          ]
        },
        {
          "name": "stderr",
          "output_type": "stream",
          "text": [
            "Loading dataset mnist from mnist\n",
            "Loading train data... train data of shape (60000, 784) loaded\n",
            "Loading test data...  test  data of shape (10000, 784) loaded\n",
            "Data Loaded. Num of features = 784 Num of Classes = 10"
          ]
        },
        {
          "name": "stdout",
          "output_type": "stream",
          "text": [
            "selected initial labels: [0, 0, 1, 2, 3, 4, 4, 8, 9, 9]\n",
            "0.6538\n"
          ]
        },
        {
          "name": "stderr",
          "output_type": "stream",
          "text": [
            "Loading dataset mnist from mnist\n",
            "Loading train data... train data of shape (60000, 784) loaded\n",
            "Loading test data...  test  data of shape (10000, 784) loaded\n",
            "Data Loaded. Num of features = 784 Num of Classes = 10"
          ]
        },
        {
          "name": "stdout",
          "output_type": "stream",
          "text": [
            "selected initial labels: [0, 1, 2, 3, 3, 3, 4, 5, 6, 7]\n",
            "0.6584\n"
          ]
        },
        {
          "name": "stderr",
          "output_type": "stream",
          "text": [
            "Loading dataset mnist from mnist\n",
            "Loading train data... train data of shape (60000, 784) loaded\n",
            "Loading test data...  test  data of shape (10000, 784) loaded\n",
            "Data Loaded. Num of features = 784 Num of Classes = 10"
          ]
        },
        {
          "name": "stdout",
          "output_type": "stream",
          "text": [
            "selected initial labels: [0, 0, 0, 1, 2, 4, 6, 7, 7, 9]\n",
            "0.6263\n"
          ]
        },
        {
          "name": "stderr",
          "output_type": "stream",
          "text": [
            "Loading dataset mnist from mnist\n",
            "Loading train data... train data of shape (60000, 784) loaded\n",
            "Loading test data...  test  data of shape (10000, 784) loaded\n",
            "Data Loaded. Num of features = 784 Num of Classes = 10"
          ]
        },
        {
          "name": "stdout",
          "output_type": "stream",
          "text": [
            "selected initial labels: [0, 1, 1, 3, 3, 7, 7, 7, 8, 9]\n",
            "0.6088\n"
          ]
        },
        {
          "name": "stderr",
          "output_type": "stream",
          "text": [
            "Loading dataset mnist from mnist\n",
            "Loading train data... train data of shape (60000, 784) loaded\n",
            "Loading test data...  test  data of shape (10000, 784) loaded\n",
            "Data Loaded. Num of features = 784 Num of Classes = 10"
          ]
        },
        {
          "name": "stdout",
          "output_type": "stream",
          "text": [
            "selected initial labels: [0, 2, 3, 5, 5, 6, 6, 7, 8, 9]\n",
            "0.6345\n"
          ]
        },
        {
          "name": "stderr",
          "output_type": "stream",
          "text": [
            "Loading dataset mnist from mnist\n",
            "Loading train data... train data of shape (60000, 784) loaded\n",
            "Loading test data...  test  data of shape (10000, 784) loaded\n",
            "Data Loaded. Num of features = 784 Num of Classes = 10"
          ]
        },
        {
          "name": "stdout",
          "output_type": "stream",
          "text": [
            "selected initial labels: [0, 0, 1, 2, 4, 4, 4, 6, 7, 9]\n",
            "0.6272\n"
          ]
        },
        {
          "name": "stderr",
          "output_type": "stream",
          "text": [
            "Loading dataset mnist from mnist\n",
            "Loading train data... train data of shape (60000, 784) loaded\n",
            "Loading test data...  test  data of shape (10000, 784) loaded\n",
            "Data Loaded. Num of features = 784 Num of Classes = 10"
          ]
        },
        {
          "name": "stdout",
          "output_type": "stream",
          "text": [
            "selected initial labels: [0, 0, 1, 1, 4, 5, 5, 6, 8, 8]\n",
            "0.6341\n"
          ]
        }
      ],
      "source": [
        "histories = []\n",
        "for trial in tqdm(range(10)):\n",
        "  history = clustering_tester.run_clustering(\n",
        "    *clustering_tester.get_mnist_dataset(MAX_SAMPLES),\n",
        "    BITS,\n",
        "    DIM,\n",
        "    EPOCHS,\n",
        "    clustering_tester.get_prob_tables_from_json('../prob_table.json')['80C_Back_3nm_3bit'],\n",
        "    flip_inference_only=True\n",
        "  )\n",
        "  histories.append(history)"
      ]
    },
    {
      "cell_type": "code",
      "execution_count": 12,
      "metadata": {
        "colab": {
          "base_uri": "https://localhost:8080/",
          "height": 442
        },
        "id": "lTiIr1kUG8Al",
        "outputId": "e5416a49-a628-4534-a984-cc3417eb769f"
      },
      "outputs": [
        {
          "data": {
            "image/png": "[encoded data removed]",
            "text/plain": [
              "<Figure size 720x504 with 1 Axes>"
            ]
          },
          "metadata": {
            "needs_background": "light"
          },
          "output_type": "display_data"
        }
      ],
      "source": [
        "clustering_tester.plot_histories(histories)"
      ]
    },
    {
      "cell_type": "code",
      "execution_count": 13,
      "metadata": {
        "colab": {
          "base_uri": "https://localhost:8080/",
          "height": 917,
          "referenced_widgets": [
            "5f719042f0c84c33b3711ed49aba078b",
            "68bafc6b23f04994aedafaf9c36a581f",
            "44e0382e19ef485281d708501fbc8c49",
            "fb08551f620d4570aeb991b4cd986ba5",
            "651f3c6cb2814cd89e07b14d8634058f",
            "bc13e8edd33041c29eae48fce319153f",
            "5b7e1f19024a42c384a55e1c61fffab1",
            "affe8c636edc494cb062a42dce43971c",
            "e86a0aaf3a324be4a8fbc14caa4d6a9f",
            "a9d2477237b24710acce56270fa6919e",
            "ad192605b0b84f8a81d9521cbd33909a"
          ]
        },
        "id": "ff-a2iYFG8Am",
        "outputId": "c0fd8ea7-12e3-4bef-e839-16dbc95ad3b5"
      },
      "outputs": [
        {
          "data": {
            "application/vnd.jupyter.widget-view+json": {
              "model_id": "5f719042f0c84c33b3711ed49aba078b",
              "version_major": 2,
              "version_minor": 0
            },
            "text/plain": [
              "  0%|          | 0/10 [00:00<?, ?it/s]"
            ]
          },
          "metadata": {},
          "output_type": "display_data"
        },
        {
          "name": "stderr",
          "output_type": "stream",
          "text": [
            "Loading dataset mnist from mnist\n",
            "Loading train data... train data of shape (60000, 784) loaded\n",
            "Loading test data...  test  data of shape (10000, 784) loaded\n",
            "Data Loaded. Num of features = 784 Num of Classes = 10"
          ]
        },
        {
          "name": "stdout",
          "output_type": "stream",
          "text": [
            "selected initial labels: [0, 1, 2, 4, 5, 5, 5, 6, 6, 9]\n",
            "0.6064\n"
          ]
        },
        {
          "name": "stderr",
          "output_type": "stream",
          "text": [
            "Loading dataset mnist from mnist\n",
            "Loading train data... train data of shape (60000, 784) loaded\n",
            "Loading test data...  test  data of shape (10000, 784) loaded\n",
            "Data Loaded. Num of features = 784 Num of Classes = 10"
          ]
        },
        {
          "name": "stdout",
          "output_type": "stream",
          "text": [
            "selected initial labels: [0, 1, 1, 2, 3, 5, 6, 7, 9, 9]\n",
            "0.6323\n"
          ]
        },
        {
          "name": "stderr",
          "output_type": "stream",
          "text": [
            "Loading dataset mnist from mnist\n",
            "Loading train data... train data of shape (60000, 784) loaded\n",
            "Loading test data...  test  data of shape (10000, 784) loaded\n",
            "Data Loaded. Num of features = 784 Num of Classes = 10"
          ]
        },
        {
          "name": "stdout",
          "output_type": "stream",
          "text": [
            "selected initial labels: [0, 1, 1, 1, 2, 4, 6, 6, 7, 8]\n",
            "0.6274\n"
          ]
        },
        {
          "name": "stderr",
          "output_type": "stream",
          "text": [
            "Loading dataset mnist from mnist\n",
            "Loading train data... train data of shape (60000, 784) loaded\n",
            "Loading test data...  test  data of shape (10000, 784) loaded\n",
            "Data Loaded. Num of features = 784 Num of Classes = 10"
          ]
        },
        {
          "name": "stdout",
          "output_type": "stream",
          "text": [
            "selected initial labels: [0, 0, 1, 1, 2, 3, 6, 7, 8, 8]\n",
            "0.6329\n"
          ]
        },
        {
          "name": "stderr",
          "output_type": "stream",
          "text": [
            "Loading dataset mnist from mnist\n",
            "Loading train data... train data of shape (60000, 784) loaded\n",
            "Loading test data...  test  data of shape (10000, 784) loaded\n",
            "Data Loaded. Num of features = 784 Num of Classes = 10"
          ]
        },
        {
          "name": "stdout",
          "output_type": "stream",
          "text": [
            "selected initial labels: [0, 1, 2, 2, 3, 3, 4, 5, 6, 9]\n",
            "0.6344\n"
          ]
        },
        {
          "name": "stderr",
          "output_type": "stream",
          "text": [
            "Loading dataset mnist from mnist\n",
            "Loading train data... train data of shape (60000, 784) loaded\n",
            "Loading test data...  test  data of shape (10000, 784) loaded\n",
            "Data Loaded. Num of features = 784 Num of Classes = 10"
          ]
        },
        {
          "name": "stdout",
          "output_type": "stream",
          "text": [
            "selected initial labels: [1, 3, 3, 4, 4, 4, 5, 5, 6, 6]\n",
            "0.6604\n"
          ]
        },
        {
          "name": "stderr",
          "output_type": "stream",
          "text": [
            "Loading dataset mnist from mnist\n",
            "Loading train data... train data of shape (60000, 784) loaded\n",
            "Loading test data...  test  data of shape (10000, 784) loaded\n",
            "Data Loaded. Num of features = 784 Num of Classes = 10"
          ]
        },
        {
          "name": "stdout",
          "output_type": "stream",
          "text": [
            "selected initial labels: [0, 1, 1, 2, 3, 4, 5, 5, 5, 6]\n",
            "0.6376\n"
          ]
        },
        {
          "name": "stderr",
          "output_type": "stream",
          "text": [
            "Loading dataset mnist from mnist\n",
            "Loading train data... train data of shape (60000, 784) loaded\n",
            "Loading test data...  test  data of shape (10000, 784) loaded\n",
            "Data Loaded. Num of features = 784 Num of Classes = 10"
          ]
        },
        {
          "name": "stdout",
          "output_type": "stream",
          "text": [
            "selected initial labels: [0, 0, 3, 4, 5, 7, 8, 8, 8, 9]\n",
            "0.6993\n"
          ]
        },
        {
          "name": "stderr",
          "output_type": "stream",
          "text": [
            "Loading dataset mnist from mnist\n",
            "Loading train data... train data of shape (60000, 784) loaded\n",
            "Loading test data...  test  data of shape (10000, 784) loaded\n",
            "Data Loaded. Num of features = 784 Num of Classes = 10"
          ]
        },
        {
          "name": "stdout",
          "output_type": "stream",
          "text": [
            "selected initial labels: [1, 1, 2, 4, 6, 7, 8, 9, 9, 9]\n",
            "0.6371\n"
          ]
        },
        {
          "name": "stderr",
          "output_type": "stream",
          "text": [
            "Loading dataset mnist from mnist\n",
            "Loading train data... train data of shape (60000, 784) loaded\n",
            "Loading test data...  test  data of shape (10000, 784) loaded\n",
            "Data Loaded. Num of features = 784 Num of Classes = 10"
          ]
        },
        {
          "name": "stdout",
          "output_type": "stream",
          "text": [
            "selected initial labels: [0, 0, 1, 2, 5, 6, 7, 7, 9, 9]\n",
            "0.6375\n"
          ]
        }
      ],
      "source": [
        "histories = []\n",
        "for trial in tqdm(range(10)):\n",
        "  history = clustering_tester.run_clustering(\n",
        "    *clustering_tester.get_mnist_dataset(MAX_SAMPLES),\n",
        "    BITS,\n",
        "    DIM,\n",
        "    EPOCHS,\n",
        "    clustering_tester.get_prob_tables_from_json('../prob_table.json')['27C_Front_3nm_3bit'],\n",
        "    flip_inference_only=True\n",
        "  )\n",
        "  histories.append(history)"
      ]
    },
    {
      "cell_type": "code",
      "execution_count": 14,
      "metadata": {
        "colab": {
          "base_uri": "https://localhost:8080/",
          "height": 442
        },
        "id": "CVUhEBVaG8Am",
        "outputId": "5c08fc92-b18a-46d2-ea33-188f1965de26"
      },
      "outputs": [
        {
          "data": {
            "image/png": "[encoded data removed]",
            "text/plain": [
              "<Figure size 720x504 with 1 Axes>"
            ]
          },
          "metadata": {
            "needs_background": "light"
          },
          "output_type": "display_data"
        }
      ],
      "source": [
        "clustering_tester.plot_histories(histories)"
      ]
    },
    {
      "cell_type": "code",
      "execution_count": 15,
      "metadata": {
        "id": "GRfwNBpIG8An"
      },
      "outputs": [],
      "source": [
        "BITS = 4"
      ]
    },
    {
      "cell_type": "code",
      "execution_count": 16,
      "metadata": {
        "colab": {
          "base_uri": "https://localhost:8080/",
          "height": 917,
          "referenced_widgets": [
            "aa2d6839219343dfbc0235e54b70576c",
            "856084822db0434794df5711741941d2",
            "c5caffd5b62f42e4a6eccd397cd4eeae",
            "77688bc01e9144a7aa6cee5bf8864ab9",
            "cf7076a972db4811b032b9f355299673",
            "38c50ab08d7d4c00bf210006c30494ee",
            "1a76d8fa034b44bd9552b4855a53f41c",
            "fe109f2e71d449359768ade275ca3984",
            "6f86cab5caab498caa5172ff82d0fc7a",
            "92414ca3d38246709e295588231bc1c2",
            "5fcbc38a55df464a9e33269c9b7625b3"
          ]
        },
        "id": "gRueBDyLG8An",
        "outputId": "289cdf68-97f4-466b-8e52-4c1d7936b627"
      },
      "outputs": [
        {
          "data": {
            "application/vnd.jupyter.widget-view+json": {
              "model_id": "aa2d6839219343dfbc0235e54b70576c",
              "version_major": 2,
              "version_minor": 0
            },
            "text/plain": [
              "  0%|          | 0/10 [00:00<?, ?it/s]"
            ]
          },
          "metadata": {},
          "output_type": "display_data"
        },
        {
          "name": "stderr",
          "output_type": "stream",
          "text": [
            "Loading dataset mnist from mnist\n",
            "Loading train data... train data of shape (60000, 784) loaded\n",
            "Loading test data...  test  data of shape (10000, 784) loaded\n",
            "Data Loaded. Num of features = 784 Num of Classes = 10"
          ]
        },
        {
          "name": "stdout",
          "output_type": "stream",
          "text": [
            "selected initial labels: [0, 1, 1, 1, 2, 4, 6, 7, 8, 9]\n",
            "0.6346\n"
          ]
        },
        {
          "name": "stderr",
          "output_type": "stream",
          "text": [
            "Loading dataset mnist from mnist\n",
            "Loading train data... train data of shape (60000, 784) loaded\n",
            "Loading test data...  test  data of shape (10000, 784) loaded\n",
            "Data Loaded. Num of features = 784 Num of Classes = 10"
          ]
        },
        {
          "name": "stdout",
          "output_type": "stream",
          "text": [
            "selected initial labels: [0, 1, 2, 3, 5, 5, 7, 7, 7, 9]\n",
            "0.621\n"
          ]
        },
        {
          "name": "stderr",
          "output_type": "stream",
          "text": [
            "Loading dataset mnist from mnist\n",
            "Loading train data... train data of shape (60000, 784) loaded\n",
            "Loading test data...  test  data of shape (10000, 784) loaded\n",
            "Data Loaded. Num of features = 784 Num of Classes = 10"
          ]
        },
        {
          "name": "stdout",
          "output_type": "stream",
          "text": [
            "selected initial labels: [0, 0, 4, 4, 4, 4, 6, 7, 8, 9]\n",
            "0.6674\n"
          ]
        },
        {
          "name": "stderr",
          "output_type": "stream",
          "text": [
            "Loading dataset mnist from mnist\n",
            "Loading train data... train data of shape (60000, 784) loaded\n",
            "Loading test data...  test  data of shape (10000, 784) loaded\n",
            "Data Loaded. Num of features = 784 Num of Classes = 10"
          ]
        },
        {
          "name": "stdout",
          "output_type": "stream",
          "text": [
            "selected initial labels: [1, 2, 3, 4, 4, 5, 5, 5, 9, 9]\n",
            "0.6261\n"
          ]
        },
        {
          "name": "stderr",
          "output_type": "stream",
          "text": [
            "Loading dataset mnist from mnist\n",
            "Loading train data... train data of shape (60000, 784) loaded\n",
            "Loading test data...  test  data of shape (10000, 784) loaded\n",
            "Data Loaded. Num of features = 784 Num of Classes = 10"
          ]
        },
        {
          "name": "stdout",
          "output_type": "stream",
          "text": [
            "selected initial labels: [1, 1, 2, 4, 5, 6, 6, 7, 8, 8]\n",
            "0.6251\n"
          ]
        },
        {
          "name": "stderr",
          "output_type": "stream",
          "text": [
            "Loading dataset mnist from mnist\n",
            "Loading train data... train data of shape (60000, 784) loaded\n",
            "Loading test data...  test  data of shape (10000, 784) loaded\n",
            "Data Loaded. Num of features = 784 Num of Classes = 10"
          ]
        },
        {
          "name": "stdout",
          "output_type": "stream",
          "text": [
            "selected initial labels: [0, 1, 1, 2, 3, 5, 6, 7, 8, 9]\n",
            "0.6568\n"
          ]
        },
        {
          "name": "stderr",
          "output_type": "stream",
          "text": [
            "Loading dataset mnist from mnist\n",
            "Loading train data... train data of shape (60000, 784) loaded\n",
            "Loading test data...  test  data of shape (10000, 784) loaded\n",
            "Data Loaded. Num of features = 784 Num of Classes = 10"
          ]
        },
        {
          "name": "stdout",
          "output_type": "stream",
          "text": [
            "selected initial labels: [0, 0, 1, 4, 7, 7, 8, 8, 8, 9]\n",
            "0.6373\n"
          ]
        },
        {
          "name": "stderr",
          "output_type": "stream",
          "text": [
            "Loading dataset mnist from mnist\n",
            "Loading train data... train data of shape (60000, 784) loaded\n",
            "Loading test data...  test  data of shape (10000, 784) loaded\n",
            "Data Loaded. Num of features = 784 Num of Classes = 10"
          ]
        },
        {
          "name": "stdout",
          "output_type": "stream",
          "text": [
            "selected initial labels: [1, 2, 2, 4, 4, 5, 7, 7, 7, 8]\n",
            "0.6289\n"
          ]
        },
        {
          "name": "stderr",
          "output_type": "stream",
          "text": [
            "Loading dataset mnist from mnist\n",
            "Loading train data... train data of shape (60000, 784) loaded\n",
            "Loading test data...  test  data of shape (10000, 784) loaded\n",
            "Data Loaded. Num of features = 784 Num of Classes = 10"
          ]
        },
        {
          "name": "stdout",
          "output_type": "stream",
          "text": [
            "selected initial labels: [1, 3, 3, 4, 4, 5, 6, 8, 9, 9]\n",
            "0.6299\n"
          ]
        },
        {
          "name": "stderr",
          "output_type": "stream",
          "text": [
            "Loading dataset mnist from mnist\n",
            "Loading train data... train data of shape (60000, 784) loaded\n",
            "Loading test data...  test  data of shape (10000, 784) loaded\n",
            "Data Loaded. Num of features = 784 Num of Classes = 10"
          ]
        },
        {
          "name": "stdout",
          "output_type": "stream",
          "text": [
            "selected initial labels: [1, 1, 2, 3, 4, 4, 5, 6, 6, 8]\n",
            "0.6219\n"
          ]
        }
      ],
      "source": [
        "histories = []\n",
        "for trial in tqdm(range(10)):\n",
        "  history = clustering_tester.run_clustering(\n",
        "    *clustering_tester.get_mnist_dataset(MAX_SAMPLES),\n",
        "    BITS,\n",
        "    DIM,\n",
        "    EPOCHS,\n",
        "    clustering_tester.get_prob_tables_from_json('../prob_table.json')['27C_Front_10nm_4bit'],\n",
        "    flip_inference_only=True\n",
        "  )\n",
        "  histories.append(history)"
      ]
    },
    {
      "cell_type": "code",
      "execution_count": 17,
      "metadata": {
        "colab": {
          "base_uri": "https://localhost:8080/",
          "height": 442
        },
        "id": "Wt2MRb2-G8Ao",
        "outputId": "722b92fc-3878-41dc-ccf5-4e4e3d84f04f"
      },
      "outputs": [
        {
          "data": {
            "image/png": "[encoded data removed]",
            "text/plain": [
              "<Figure size 720x504 with 1 Axes>"
            ]
          },
          "metadata": {
            "needs_background": "light"
          },
          "output_type": "display_data"
        }
      ],
      "source": [
        "clustering_tester.plot_histories(histories)"
      ]
    },
    {
      "cell_type": "code",
      "execution_count": 18,
      "metadata": {
        "colab": {
          "base_uri": "https://localhost:8080/",
          "height": 917,
          "referenced_widgets": [
            "0effb54ef512473cb3bf99bedb09f20b",
            "dc988bfc77d6495abb61b7c6e89494f1",
            "d8b9db45571f4ad7b64b81be7e95e001",
            "1cb270136e5d411198bbd69506071b60",
            "b89953f1d73946309a488ae8fb5102b7",
            "4478623c152a4be5b880a9980fee8e4c",
            "083ddf330758415ba2461649ad4bc7e2",
            "3ab87a131f08417bb484b1748698fc0a",
            "8268e5e53ddc45d68f87ee0bbde88d76",
            "96e62438494d455bb0eac71e1fec897c",
            "706f29c4b0a948f58bc234cc2f86a5a7"
          ]
        },
        "id": "W-VtpkwIG8Ao",
        "outputId": "cefe13e3-3de2-4be9-9153-52f76101be7f"
      },
      "outputs": [
        {
          "data": {
            "application/vnd.jupyter.widget-view+json": {
              "model_id": "0effb54ef512473cb3bf99bedb09f20b",
              "version_major": 2,
              "version_minor": 0
            },
            "text/plain": [
              "  0%|          | 0/10 [00:00<?, ?it/s]"
            ]
          },
          "metadata": {},
          "output_type": "display_data"
        },
        {
          "name": "stderr",
          "output_type": "stream",
          "text": [
            "Loading dataset mnist from mnist\n",
            "Loading train data... train data of shape (60000, 784) loaded\n",
            "Loading test data...  test  data of shape (10000, 784) loaded\n",
            "Data Loaded. Num of features = 784 Num of Classes = 10"
          ]
        },
        {
          "name": "stdout",
          "output_type": "stream",
          "text": [
            "selected initial labels: [1, 2, 2, 2, 2, 3, 3, 4, 7, 8]\n",
            "0.6147\n"
          ]
        },
        {
          "name": "stderr",
          "output_type": "stream",
          "text": [
            "Loading dataset mnist from mnist\n",
            "Loading train data... train data of shape (60000, 784) loaded\n",
            "Loading test data...  test  data of shape (10000, 784) loaded\n",
            "Data Loaded. Num of features = 784 Num of Classes = 10"
          ]
        },
        {
          "name": "stdout",
          "output_type": "stream",
          "text": [
            "selected initial labels: [0, 1, 1, 1, 2, 2, 2, 6, 7, 8]\n",
            "0.6374\n"
          ]
        },
        {
          "name": "stderr",
          "output_type": "stream",
          "text": [
            "Loading dataset mnist from mnist\n",
            "Loading train data... train data of shape (60000, 784) loaded\n",
            "Loading test data...  test  data of shape (10000, 784) loaded\n",
            "Data Loaded. Num of features = 784 Num of Classes = 10"
          ]
        },
        {
          "name": "stdout",
          "output_type": "stream",
          "text": [
            "selected initial labels: [0, 1, 2, 2, 3, 3, 4, 5, 9, 9]\n",
            "0.6636\n"
          ]
        },
        {
          "name": "stderr",
          "output_type": "stream",
          "text": [
            "Loading dataset mnist from mnist\n",
            "Loading train data... train data of shape (60000, 784) loaded\n",
            "Loading test data...  test  data of shape (10000, 784) loaded\n",
            "Data Loaded. Num of features = 784 Num of Classes = 10"
          ]
        },
        {
          "name": "stdout",
          "output_type": "stream",
          "text": [
            "selected initial labels: [1, 2, 4, 4, 5, 5, 6, 6, 6, 6]\n",
            "0.6269\n"
          ]
        },
        {
          "name": "stderr",
          "output_type": "stream",
          "text": [
            "Loading dataset mnist from mnist\n",
            "Loading train data... train data of shape (60000, 784) loaded\n",
            "Loading test data...  test  data of shape (10000, 784) loaded\n",
            "Data Loaded. Num of features = 784 Num of Classes = 10"
          ]
        },
        {
          "name": "stdout",
          "output_type": "stream",
          "text": [
            "selected initial labels: [0, 2, 3, 4, 6, 6, 6, 6, 7, 8]\n",
            "0.611\n"
          ]
        },
        {
          "name": "stderr",
          "output_type": "stream",
          "text": [
            "Loading dataset mnist from mnist\n",
            "Loading train data... train data of shape (60000, 784) loaded\n",
            "Loading test data...  test  data of shape (10000, 784) loaded\n",
            "Data Loaded. Num of features = 784 Num of Classes = 10"
          ]
        },
        {
          "name": "stdout",
          "output_type": "stream",
          "text": [
            "selected initial labels: [0, 1, 2, 2, 3, 3, 5, 5, 6, 7]\n",
            "0.6685\n"
          ]
        },
        {
          "name": "stderr",
          "output_type": "stream",
          "text": [
            "Loading dataset mnist from mnist\n",
            "Loading train data... train data of shape (60000, 784) loaded\n",
            "Loading test data...  test  data of shape (10000, 784) loaded\n",
            "Data Loaded. Num of features = 784 Num of Classes = 10"
          ]
        },
        {
          "name": "stdout",
          "output_type": "stream",
          "text": [
            "selected initial labels: [0, 0, 1, 1, 2, 6, 7, 7, 7, 9]\n",
            "0.5811\n"
          ]
        },
        {
          "name": "stderr",
          "output_type": "stream",
          "text": [
            "Loading dataset mnist from mnist\n",
            "Loading train data... train data of shape (60000, 784) loaded\n",
            "Loading test data...  test  data of shape (10000, 784) loaded\n",
            "Data Loaded. Num of features = 784 Num of Classes = 10"
          ]
        },
        {
          "name": "stdout",
          "output_type": "stream",
          "text": [
            "selected initial labels: [0, 0, 0, 1, 1, 1, 2, 4, 6, 9]\n",
            "0.6231\n"
          ]
        },
        {
          "name": "stderr",
          "output_type": "stream",
          "text": [
            "Loading dataset mnist from mnist\n",
            "Loading train data... train data of shape (60000, 784) loaded\n",
            "Loading test data...  test  data of shape (10000, 784) loaded\n",
            "Data Loaded. Num of features = 784 Num of Classes = 10"
          ]
        },
        {
          "name": "stdout",
          "output_type": "stream",
          "text": [
            "selected initial labels: [0, 1, 1, 3, 3, 4, 5, 7, 7, 8]\n",
            "0.5845\n"
          ]
        },
        {
          "name": "stderr",
          "output_type": "stream",
          "text": [
            "Loading dataset mnist from mnist\n",
            "Loading train data... train data of shape (60000, 784) loaded\n",
            "Loading test data...  test  data of shape (10000, 784) loaded\n",
            "Data Loaded. Num of features = 784 Num of Classes = 10"
          ]
        },
        {
          "name": "stdout",
          "output_type": "stream",
          "text": [
            "selected initial labels: [0, 2, 4, 4, 5, 5, 5, 7, 7, 8]\n",
            "0.7061\n"
          ]
        }
      ],
      "source": [
        "histories = []\n",
        "for trial in tqdm(range(10)):\n",
        "  history = clustering_tester.run_clustering(\n",
        "    *clustering_tester.get_mnist_dataset(MAX_SAMPLES),\n",
        "    BITS,\n",
        "    DIM,\n",
        "    EPOCHS,\n",
        "    clustering_tester.get_prob_tables_from_json('../prob_table.json')['27C_Back_3nm_4bit'],\n",
        "    flip_inference_only=True\n",
        "  )\n",
        "  histories.append(history)"
      ]
    },
    {
      "cell_type": "code",
      "execution_count": 19,
      "metadata": {
        "colab": {
          "base_uri": "https://localhost:8080/",
          "height": 442
        },
        "id": "3M8i26EQG8Ao",
        "outputId": "1d4962eb-ddb2-4c47-8cbd-ff4d472531da"
      },
      "outputs": [
        {
          "data": {
            "image/png": "[encoded data removed]",
            "text/plain": [
              "<Figure size 720x504 with 1 Axes>"
            ]
          },
          "metadata": {
            "needs_background": "light"
          },
          "output_type": "display_data"
        }
      ],
      "source": [
        "clustering_tester.plot_histories(histories)"
      ]
    },
    {
      "cell_type": "code",
      "execution_count": 20,
      "metadata": {
        "colab": {
          "base_uri": "https://localhost:8080/",
          "height": 917,
          "referenced_widgets": [
            "85afe13bc76341f0991c9a35285b3a23",
            "9d092b2eb40240debd78df2a1753b548",
            "4005dc27fd6746ed9027752d310d58f5",
            "8b2d6ff582cb405883ee01553cf1d76d",
            "ac9e77cb040d474c97f7e84e61954b67",
            "c4571ff9dabf4eaeac9cc0b40fb93a6c",
            "20045f930f98473096d6849cd7a53bf4",
            "884d8c300c52445b857766a1826af674",
            "ead40c81daf549caa2a4ab57a0cd6ed7",
            "c0fec1dae2954f729e3ed3a33ce6198b",
            "039fff92882843a7ab1853db62c42afd"
          ]
        },
        "id": "uLyDH54RG8Ap",
        "outputId": "6b8bb215-ff3c-44a6-b28b-42ca8b84fadd"
      },
      "outputs": [
        {
          "data": {
            "application/vnd.jupyter.widget-view+json": {
              "model_id": "85afe13bc76341f0991c9a35285b3a23",
              "version_major": 2,
              "version_minor": 0
            },
            "text/plain": [
              "  0%|          | 0/10 [00:00<?, ?it/s]"
            ]
          },
          "metadata": {},
          "output_type": "display_data"
        },
        {
          "name": "stderr",
          "output_type": "stream",
          "text": [
            "Loading dataset mnist from mnist\n",
            "Loading train data... train data of shape (60000, 784) loaded\n",
            "Loading test data...  test  data of shape (10000, 784) loaded\n",
            "Data Loaded. Num of features = 784 Num of Classes = 10"
          ]
        },
        {
          "name": "stdout",
          "output_type": "stream",
          "text": [
            "selected initial labels: [0, 2, 2, 3, 3, 5, 7, 8, 9, 9]\n",
            "0.6268\n"
          ]
        },
        {
          "name": "stderr",
          "output_type": "stream",
          "text": [
            "Loading dataset mnist from mnist\n",
            "Loading train data... train data of shape (60000, 784) loaded\n",
            "Loading test data...  test  data of shape (10000, 784) loaded\n",
            "Data Loaded. Num of features = 784 Num of Classes = 10"
          ]
        },
        {
          "name": "stdout",
          "output_type": "stream",
          "text": [
            "selected initial labels: [0, 2, 5, 5, 6, 6, 7, 7, 7, 8]\n",
            "0.6523\n"
          ]
        },
        {
          "name": "stderr",
          "output_type": "stream",
          "text": [
            "Loading dataset mnist from mnist\n",
            "Loading train data... train data of shape (60000, 784) loaded\n",
            "Loading test data...  test  data of shape (10000, 784) loaded\n",
            "Data Loaded. Num of features = 784 Num of Classes = 10"
          ]
        },
        {
          "name": "stdout",
          "output_type": "stream",
          "text": [
            "selected initial labels: [0, 1, 1, 2, 2, 6, 6, 6, 7, 8]\n",
            "0.5558\n"
          ]
        },
        {
          "name": "stderr",
          "output_type": "stream",
          "text": [
            "Loading dataset mnist from mnist\n",
            "Loading train data... train data of shape (60000, 784) loaded\n",
            "Loading test data...  test  data of shape (10000, 784) loaded\n",
            "Data Loaded. Num of features = 784 Num of Classes = 10"
          ]
        },
        {
          "name": "stdout",
          "output_type": "stream",
          "text": [
            "selected initial labels: [3, 3, 4, 5, 6, 6, 8, 8, 9, 9]\n",
            "0.653\n"
          ]
        },
        {
          "name": "stderr",
          "output_type": "stream",
          "text": [
            "Loading dataset mnist from mnist\n",
            "Loading train data... train data of shape (60000, 784) loaded\n",
            "Loading test data...  test  data of shape (10000, 784) loaded\n",
            "Data Loaded. Num of features = 784 Num of Classes = 10"
          ]
        },
        {
          "name": "stdout",
          "output_type": "stream",
          "text": [
            "selected initial labels: [0, 2, 3, 3, 5, 5, 7, 8, 8, 9]\n",
            "0.6282\n"
          ]
        },
        {
          "name": "stderr",
          "output_type": "stream",
          "text": [
            "Loading dataset mnist from mnist\n",
            "Loading train data... train data of shape (60000, 784) loaded\n",
            "Loading test data...  test  data of shape (10000, 784) loaded\n",
            "Data Loaded. Num of features = 784 Num of Classes = 10"
          ]
        },
        {
          "name": "stdout",
          "output_type": "stream",
          "text": [
            "selected initial labels: [0, 1, 2, 3, 4, 4, 5, 7, 7, 8]\n",
            "0.6255\n"
          ]
        },
        {
          "name": "stderr",
          "output_type": "stream",
          "text": [
            "Loading dataset mnist from mnist\n",
            "Loading train data... train data of shape (60000, 784) loaded\n",
            "Loading test data...  test  data of shape (10000, 784) loaded\n",
            "Data Loaded. Num of features = 784 Num of Classes = 10"
          ]
        },
        {
          "name": "stdout",
          "output_type": "stream",
          "text": [
            "selected initial labels: [0, 2, 5, 5, 6, 7, 7, 8, 8, 9]\n",
            "0.6323\n"
          ]
        },
        {
          "name": "stderr",
          "output_type": "stream",
          "text": [
            "Loading dataset mnist from mnist\n",
            "Loading train data... train data of shape (60000, 784) loaded\n",
            "Loading test data...  test  data of shape (10000, 784) loaded\n",
            "Data Loaded. Num of features = 784 Num of Classes = 10"
          ]
        },
        {
          "name": "stdout",
          "output_type": "stream",
          "text": [
            "selected initial labels: [1, 1, 3, 3, 3, 6, 7, 7, 7, 9]\n",
            "0.6461\n"
          ]
        },
        {
          "name": "stderr",
          "output_type": "stream",
          "text": [
            "Loading dataset mnist from mnist\n",
            "Loading train data... train data of shape (60000, 784) loaded\n",
            "Loading test data...  test  data of shape (10000, 784) loaded\n",
            "Data Loaded. Num of features = 784 Num of Classes = 10"
          ]
        },
        {
          "name": "stdout",
          "output_type": "stream",
          "text": [
            "selected initial labels: [0, 1, 1, 2, 2, 4, 5, 6, 9, 9]\n",
            "0.6599\n"
          ]
        },
        {
          "name": "stderr",
          "output_type": "stream",
          "text": [
            "Loading dataset mnist from mnist\n",
            "Loading train data... train data of shape (60000, 784) loaded\n",
            "Loading test data...  test  data of shape (10000, 784) loaded\n",
            "Data Loaded. Num of features = 784 Num of Classes = 10"
          ]
        },
        {
          "name": "stdout",
          "output_type": "stream",
          "text": [
            "selected initial labels: [0, 1, 2, 2, 3, 3, 3, 4, 8, 8]\n",
            "0.5919\n"
          ]
        }
      ],
      "source": [
        "histories = []\n",
        "for trial in tqdm(range(10)):\n",
        "  history = clustering_tester.run_clustering(\n",
        "    *clustering_tester.get_mnist_dataset(MAX_SAMPLES),\n",
        "    BITS,\n",
        "    DIM,\n",
        "    EPOCHS,\n",
        "    clustering_tester.get_prob_tables_from_json('../prob_table.json')['80C_Back_3nm_4bit'],\n",
        "    flip_inference_only=True\n",
        "  )\n",
        "  histories.append(history)"
      ]
    },
    {
      "cell_type": "code",
      "execution_count": 21,
      "metadata": {
        "colab": {
          "base_uri": "https://localhost:8080/",
          "height": 442
        },
        "id": "YlcSpma-G8Ap",
        "outputId": "579e834b-8c4e-4708-ef5f-788c66aa7859"
      },
      "outputs": [
        {
          "data": {
            "image/png": "[encoded data removed]",
            "text/plain": [
              "<Figure size 720x504 with 1 Axes>"
            ]
          },
          "metadata": {
            "needs_background": "light"
          },
          "output_type": "display_data"
        }
      ],
      "source": [
        "clustering_tester.plot_histories(histories)"
      ]
    },
    {
      "cell_type": "code",
      "execution_count": null,
      "metadata": {
        "id": "AewSJXyYH8sI"
      },
      "outputs": [],
      "source": []
    }
  ],
  "metadata": {
    "colab": {
      "collapsed_sections": [],
      "name": "QuantHD_MNIST_01.ipynb",
      "provenance": []
    },
    "interpreter": {
      "hash": "07de9944a25ef994c7b45139c87e20861ad03da0f19921b48f76d01e36a1dc33"
    },
    "kernelspec": {
      "display_name": "Python 3.8.10 ('venv': venv)",
      "language": "python",
      "name": "python3"
    },
    "language_info": {
      "codemirror_mode": {
        "name": "ipython",
        "version": 3
      },
      "file_extension": ".py",
      "mimetype": "text/x-python",
      "name": "python",
      "nbconvert_exporter": "python",
      "pygments_lexer": "ipython3",
      "version": "3.8.10"
    },
    "orig_nbformat": 4,
    "widgets": {
      "application/vnd.jupyter.widget-state+json": {
        "039fff92882843a7ab1853db62c42afd": {
          "model_module": "@jupyter-widgets/controls",
          "model_module_version": "1.5.0",
          "model_name": "DescriptionStyleModel",
          "state": {
            "_model_module": "@jupyter-widgets/controls",
            "_model_module_version": "1.5.0",
            "_model_name": "DescriptionStyleModel",
            "_view_count": null,
            "_view_module": "@jupyter-widgets/base",
            "_view_module_version": "1.2.0",
            "_view_name": "StyleView",
            "description_width": ""
          }
        },
        "07986701f101496a86d7b2501971bb02": {
          "model_module": "@jupyter-widgets/controls",
          "model_module_version": "1.5.0",
          "model_name": "HTMLModel",
          "state": {
            "_dom_classes": [],
            "_model_module": "@jupyter-widgets/controls",
            "_model_module_version": "1.5.0",
            "_model_name": "HTMLModel",
            "_view_count": null,
            "_view_module": "@jupyter-widgets/controls",
            "_view_module_version": "1.5.0",
            "_view_name": "HTMLView",
            "description": "",
            "description_tooltip": null,
            "layout": "IPY_MODEL_276950db63d24c44a090ddf5161fbceb",
            "placeholder": "​",
            "style": "IPY_MODEL_54121ab91a69439cb891e12e6b8ce52c",
            "value": "100%"
          }
        },
        "083ddf330758415ba2461649ad4bc7e2": {
          "model_module": "@jupyter-widgets/controls",
          "model_module_version": "1.5.0",
          "model_name": "DescriptionStyleModel",
          "state": {
            "_model_module": "@jupyter-widgets/controls",
            "_model_module_version": "1.5.0",
            "_model_name": "DescriptionStyleModel",
            "_view_count": null,
            "_view_module": "@jupyter-widgets/base",
            "_view_module_version": "1.2.0",
            "_view_name": "StyleView",
            "description_width": ""
          }
        },
        "0ef84993a6e04c08988fbc530e2bad80": {
          "model_module": "@jupyter-widgets/controls",
          "model_module_version": "1.5.0",
          "model_name": "ProgressStyleModel",
          "state": {
            "_model_module": "@jupyter-widgets/controls",
            "_model_module_version": "1.5.0",
            "_model_name": "ProgressStyleModel",
            "_view_count": null,
            "_view_module": "@jupyter-widgets/base",
            "_view_module_version": "1.2.0",
            "_view_name": "StyleView",
            "bar_color": null,
            "description_width": ""
          }
        },
        "0effb54ef512473cb3bf99bedb09f20b": {
          "model_module": "@jupyter-widgets/controls",
          "model_module_version": "1.5.0",
          "model_name": "HBoxModel",
          "state": {
            "_dom_classes": [],
            "_model_module": "@jupyter-widgets/controls",
            "_model_module_version": "1.5.0",
            "_model_name": "HBoxModel",
            "_view_count": null,
            "_view_module": "@jupyter-widgets/controls",
            "_view_module_version": "1.5.0",
            "_view_name": "HBoxView",
            "box_style": "",
            "children": [
              "IPY_MODEL_dc988bfc77d6495abb61b7c6e89494f1",
              "IPY_MODEL_d8b9db45571f4ad7b64b81be7e95e001",
              "IPY_MODEL_1cb270136e5d411198bbd69506071b60"
            ],
            "layout": "IPY_MODEL_b89953f1d73946309a488ae8fb5102b7"
          }
        },
        "1a76d8fa034b44bd9552b4855a53f41c": {
          "model_module": "@jupyter-widgets/controls",
          "model_module_version": "1.5.0",
          "model_name": "DescriptionStyleModel",
          "state": {
            "_model_module": "@jupyter-widgets/controls",
            "_model_module_version": "1.5.0",
            "_model_name": "DescriptionStyleModel",
            "_view_count": null,
            "_view_module": "@jupyter-widgets/base",
            "_view_module_version": "1.2.0",
            "_view_name": "StyleView",
            "description_width": ""
          }
        },
        "1cb270136e5d411198bbd69506071b60": {
          "model_module": "@jupyter-widgets/controls",
          "model_module_version": "1.5.0",
          "model_name": "HTMLModel",
          "state": {
            "_dom_classes": [],
            "_model_module": "@jupyter-widgets/controls",
            "_model_module_version": "1.5.0",
            "_model_name": "HTMLModel",
            "_view_count": null,
            "_view_module": "@jupyter-widgets/controls",
            "_view_module_version": "1.5.0",
            "_view_name": "HTMLView",
            "description": "",
            "description_tooltip": null,
            "layout": "IPY_MODEL_96e62438494d455bb0eac71e1fec897c",
            "placeholder": "​",
            "style": "IPY_MODEL_706f29c4b0a948f58bc234cc2f86a5a7",
            "value": " 10/10 [3:10:29&lt;00:00, 1144.52s/it]"
          }
        },
        "20045f930f98473096d6849cd7a53bf4": {
          "model_module": "@jupyter-widgets/controls",
          "model_module_version": "1.5.0",
          "model_name": "DescriptionStyleModel",
          "state": {
            "_model_module": "@jupyter-widgets/controls",
            "_model_module_version": "1.5.0",
            "_model_name": "DescriptionStyleModel",
            "_view_count": null,
            "_view_module": "@jupyter-widgets/base",
            "_view_module_version": "1.2.0",
            "_view_name": "StyleView",
            "description_width": ""
          }
        },
        "251462c1b9fb4da28e883f907a124f9e": {
          "model_module": "@jupyter-widgets/controls",
          "model_module_version": "1.5.0",
          "model_name": "FloatProgressModel",
          "state": {
            "_dom_classes": [],
            "_model_module": "@jupyter-widgets/controls",
            "_model_module_version": "1.5.0",
            "_model_name": "FloatProgressModel",
            "_view_count": null,
            "_view_module": "@jupyter-widgets/controls",
            "_view_module_version": "1.5.0",
            "_view_name": "ProgressView",
            "bar_style": "success",
            "description": "",
            "description_tooltip": null,
            "layout": "IPY_MODEL_cc8485d7070d4510b7e6db76d3248025",
            "max": 10,
            "min": 0,
            "orientation": "horizontal",
            "style": "IPY_MODEL_beb919e735294df6b941938c00b4e1f3",
            "value": 10
          }
        },
        "254b447bacfd432586b9113b1f286dfe": {
          "model_module": "@jupyter-widgets/controls",
          "model_module_version": "1.5.0",
          "model_name": "DescriptionStyleModel",
          "state": {
            "_model_module": "@jupyter-widgets/controls",
            "_model_module_version": "1.5.0",
            "_model_name": "DescriptionStyleModel",
            "_view_count": null,
            "_view_module": "@jupyter-widgets/base",
            "_view_module_version": "1.2.0",
            "_view_name": "StyleView",
            "description_width": ""
          }
        },
        "276950db63d24c44a090ddf5161fbceb": {
          "model_module": "@jupyter-widgets/base",
          "model_module_version": "1.2.0",
          "model_name": "LayoutModel",
          "state": {
            "_model_module": "@jupyter-widgets/base",
            "_model_module_version": "1.2.0",
            "_model_name": "LayoutModel",
            "_view_count": null,
            "_view_module": "@jupyter-widgets/base",
            "_view_module_version": "1.2.0",
            "_view_name": "LayoutView",
            "align_content": null,
            "align_items": null,
            "align_self": null,
            "border": null,
            "bottom": null,
            "display": null,
            "flex": null,
            "flex_flow": null,
            "grid_area": null,
            "grid_auto_columns": null,
            "grid_auto_flow": null,
            "grid_auto_rows": null,
            "grid_column": null,
            "grid_gap": null,
            "grid_row": null,
            "grid_template_areas": null,
            "grid_template_columns": null,
            "grid_template_rows": null,
            "height": null,
            "justify_content": null,
            "justify_items": null,
            "left": null,
            "margin": null,
            "max_height": null,
            "max_width": null,
            "min_height": null,
            "min_width": null,
            "object_fit": null,
            "object_position": null,
            "order": null,
            "overflow": null,
            "overflow_x": null,
            "overflow_y": null,
            "padding": null,
            "right": null,
            "top": null,
            "visibility": null,
            "width": null
          }
        },
        "2b6b82591e7a4d69a0f6db6a6c0f83b0": {
          "model_module": "@jupyter-widgets/controls",
          "model_module_version": "1.5.0",
          "model_name": "FloatProgressModel",
          "state": {
            "_dom_classes": [],
            "_model_module": "@jupyter-widgets/controls",
            "_model_module_version": "1.5.0",
            "_model_name": "FloatProgressModel",
            "_view_count": null,
            "_view_module": "@jupyter-widgets/controls",
            "_view_module_version": "1.5.0",
            "_view_name": "ProgressView",
            "bar_style": "success",
            "description": "",
            "description_tooltip": null,
            "layout": "IPY_MODEL_6bffc8dbd68c4f2c85d0710e97ee7e6e",
            "max": 10,
            "min": 0,
            "orientation": "horizontal",
            "style": "IPY_MODEL_0ef84993a6e04c08988fbc530e2bad80",
            "value": 10
          }
        },
        "2c6e848e13754a7abac6c19866c28f61": {
          "model_module": "@jupyter-widgets/controls",
          "model_module_version": "1.5.0",
          "model_name": "HTMLModel",
          "state": {
            "_dom_classes": [],
            "_model_module": "@jupyter-widgets/controls",
            "_model_module_version": "1.5.0",
            "_model_name": "HTMLModel",
            "_view_count": null,
            "_view_module": "@jupyter-widgets/controls",
            "_view_module_version": "1.5.0",
            "_view_name": "HTMLView",
            "description": "",
            "description_tooltip": null,
            "layout": "IPY_MODEL_67e17c0ce142465d83835e3b05a39a21",
            "placeholder": "​",
            "style": "IPY_MODEL_c992567cf851421ba3a51c2be7dd7b5a",
            "value": "100%"
          }
        },
        "3345957ad252498b9824c6a474dff1ca": {
          "model_module": "@jupyter-widgets/base",
          "model_module_version": "1.2.0",
          "model_name": "LayoutModel",
          "state": {
            "_model_module": "@jupyter-widgets/base",
            "_model_module_version": "1.2.0",
            "_model_name": "LayoutModel",
            "_view_count": null,
            "_view_module": "@jupyter-widgets/base",
            "_view_module_version": "1.2.0",
            "_view_name": "LayoutView",
            "align_content": null,
            "align_items": null,
            "align_self": null,
            "border": null,
            "bottom": null,
            "display": null,
            "flex": null,
            "flex_flow": null,
            "grid_area": null,
            "grid_auto_columns": null,
            "grid_auto_flow": null,
            "grid_auto_rows": null,
            "grid_column": null,
            "grid_gap": null,
            "grid_row": null,
            "grid_template_areas": null,
            "grid_template_columns": null,
            "grid_template_rows": null,
            "height": null,
            "justify_content": null,
            "justify_items": null,
            "left": null,
            "margin": null,
            "max_height": null,
            "max_width": null,
            "min_height": null,
            "min_width": null,
            "object_fit": null,
            "object_position": null,
            "order": null,
            "overflow": null,
            "overflow_x": null,
            "overflow_y": null,
            "padding": null,
            "right": null,
            "top": null,
            "visibility": null,
            "width": null
          }
        },
        "38c50ab08d7d4c00bf210006c30494ee": {
          "model_module": "@jupyter-widgets/base",
          "model_module_version": "1.2.0",
          "model_name": "LayoutModel",
          "state": {
            "_model_module": "@jupyter-widgets/base",
            "_model_module_version": "1.2.0",
            "_model_name": "LayoutModel",
            "_view_count": null,
            "_view_module": "@jupyter-widgets/base",
            "_view_module_version": "1.2.0",
            "_view_name": "LayoutView",
            "align_content": null,
            "align_items": null,
            "align_self": null,
            "border": null,
            "bottom": null,
            "display": null,
            "flex": null,
            "flex_flow": null,
            "grid_area": null,
            "grid_auto_columns": null,
            "grid_auto_flow": null,
            "grid_auto_rows": null,
            "grid_column": null,
            "grid_gap": null,
            "grid_row": null,
            "grid_template_areas": null,
            "grid_template_columns": null,
            "grid_template_rows": null,
            "height": null,
            "justify_content": null,
            "justify_items": null,
            "left": null,
            "margin": null,
            "max_height": null,
            "max_width": null,
            "min_height": null,
            "min_width": null,
            "object_fit": null,
            "object_position": null,
            "order": null,
            "overflow": null,
            "overflow_x": null,
            "overflow_y": null,
            "padding": null,
            "right": null,
            "top": null,
            "visibility": null,
            "width": null
          }
        },
        "3ab87a131f08417bb484b1748698fc0a": {
          "model_module": "@jupyter-widgets/base",
          "model_module_version": "1.2.0",
          "model_name": "LayoutModel",
          "state": {
            "_model_module": "@jupyter-widgets/base",
            "_model_module_version": "1.2.0",
            "_model_name": "LayoutModel",
            "_view_count": null,
            "_view_module": "@jupyter-widgets/base",
            "_view_module_version": "1.2.0",
            "_view_name": "LayoutView",
            "align_content": null,
            "align_items": null,
            "align_self": null,
            "border": null,
            "bottom": null,
            "display": null,
            "flex": null,
            "flex_flow": null,
            "grid_area": null,
            "grid_auto_columns": null,
            "grid_auto_flow": null,
            "grid_auto_rows": null,
            "grid_column": null,
            "grid_gap": null,
            "grid_row": null,
            "grid_template_areas": null,
            "grid_template_columns": null,
            "grid_template_rows": null,
            "height": null,
            "justify_content": null,
            "justify_items": null,
            "left": null,
            "margin": null,
            "max_height": null,
            "max_width": null,
            "min_height": null,
            "min_width": null,
            "object_fit": null,
            "object_position": null,
            "order": null,
            "overflow": null,
            "overflow_x": null,
            "overflow_y": null,
            "padding": null,
            "right": null,
            "top": null,
            "visibility": null,
            "width": null
          }
        },
        "4005dc27fd6746ed9027752d310d58f5": {
          "model_module": "@jupyter-widgets/controls",
          "model_module_version": "1.5.0",
          "model_name": "FloatProgressModel",
          "state": {
            "_dom_classes": [],
            "_model_module": "@jupyter-widgets/controls",
            "_model_module_version": "1.5.0",
            "_model_name": "FloatProgressModel",
            "_view_count": null,
            "_view_module": "@jupyter-widgets/controls",
            "_view_module_version": "1.5.0",
            "_view_name": "ProgressView",
            "bar_style": "success",
            "description": "",
            "description_tooltip": null,
            "layout": "IPY_MODEL_884d8c300c52445b857766a1826af674",
            "max": 10,
            "min": 0,
            "orientation": "horizontal",
            "style": "IPY_MODEL_ead40c81daf549caa2a4ab57a0cd6ed7",
            "value": 10
          }
        },
        "4478623c152a4be5b880a9980fee8e4c": {
          "model_module": "@jupyter-widgets/base",
          "model_module_version": "1.2.0",
          "model_name": "LayoutModel",
          "state": {
            "_model_module": "@jupyter-widgets/base",
            "_model_module_version": "1.2.0",
            "_model_name": "LayoutModel",
            "_view_count": null,
            "_view_module": "@jupyter-widgets/base",
            "_view_module_version": "1.2.0",
            "_view_name": "LayoutView",
            "align_content": null,
            "align_items": null,
            "align_self": null,
            "border": null,
            "bottom": null,
            "display": null,
            "flex": null,
            "flex_flow": null,
            "grid_area": null,
            "grid_auto_columns": null,
            "grid_auto_flow": null,
            "grid_auto_rows": null,
            "grid_column": null,
            "grid_gap": null,
            "grid_row": null,
            "grid_template_areas": null,
            "grid_template_columns": null,
            "grid_template_rows": null,
            "height": null,
            "justify_content": null,
            "justify_items": null,
            "left": null,
            "margin": null,
            "max_height": null,
            "max_width": null,
            "min_height": null,
            "min_width": null,
            "object_fit": null,
            "object_position": null,
            "order": null,
            "overflow": null,
            "overflow_x": null,
            "overflow_y": null,
            "padding": null,
            "right": null,
            "top": null,
            "visibility": null,
            "width": null
          }
        },
        "44e0382e19ef485281d708501fbc8c49": {
          "model_module": "@jupyter-widgets/controls",
          "model_module_version": "1.5.0",
          "model_name": "FloatProgressModel",
          "state": {
            "_dom_classes": [],
            "_model_module": "@jupyter-widgets/controls",
            "_model_module_version": "1.5.0",
            "_model_name": "FloatProgressModel",
            "_view_count": null,
            "_view_module": "@jupyter-widgets/controls",
            "_view_module_version": "1.5.0",
            "_view_name": "ProgressView",
            "bar_style": "success",
            "description": "",
            "description_tooltip": null,
            "layout": "IPY_MODEL_affe8c636edc494cb062a42dce43971c",
            "max": 10,
            "min": 0,
            "orientation": "horizontal",
            "style": "IPY_MODEL_e86a0aaf3a324be4a8fbc14caa4d6a9f",
            "value": 10
          }
        },
        "54121ab91a69439cb891e12e6b8ce52c": {
          "model_module": "@jupyter-widgets/controls",
          "model_module_version": "1.5.0",
          "model_name": "DescriptionStyleModel",
          "state": {
            "_model_module": "@jupyter-widgets/controls",
            "_model_module_version": "1.5.0",
            "_model_name": "DescriptionStyleModel",
            "_view_count": null,
            "_view_module": "@jupyter-widgets/base",
            "_view_module_version": "1.2.0",
            "_view_name": "StyleView",
            "description_width": ""
          }
        },
        "5b7e1f19024a42c384a55e1c61fffab1": {
          "model_module": "@jupyter-widgets/controls",
          "model_module_version": "1.5.0",
          "model_name": "DescriptionStyleModel",
          "state": {
            "_model_module": "@jupyter-widgets/controls",
            "_model_module_version": "1.5.0",
            "_model_name": "DescriptionStyleModel",
            "_view_count": null,
            "_view_module": "@jupyter-widgets/base",
            "_view_module_version": "1.2.0",
            "_view_name": "StyleView",
            "description_width": ""
          }
        },
        "5f719042f0c84c33b3711ed49aba078b": {
          "model_module": "@jupyter-widgets/controls",
          "model_module_version": "1.5.0",
          "model_name": "HBoxModel",
          "state": {
            "_dom_classes": [],
            "_model_module": "@jupyter-widgets/controls",
            "_model_module_version": "1.5.0",
            "_model_name": "HBoxModel",
            "_view_count": null,
            "_view_module": "@jupyter-widgets/controls",
            "_view_module_version": "1.5.0",
            "_view_name": "HBoxView",
            "box_style": "",
            "children": [
              "IPY_MODEL_68bafc6b23f04994aedafaf9c36a581f",
              "IPY_MODEL_44e0382e19ef485281d708501fbc8c49",
              "IPY_MODEL_fb08551f620d4570aeb991b4cd986ba5"
            ],
            "layout": "IPY_MODEL_651f3c6cb2814cd89e07b14d8634058f"
          }
        },
        "5fcbc38a55df464a9e33269c9b7625b3": {
          "model_module": "@jupyter-widgets/controls",
          "model_module_version": "1.5.0",
          "model_name": "DescriptionStyleModel",
          "state": {
            "_model_module": "@jupyter-widgets/controls",
            "_model_module_version": "1.5.0",
            "_model_name": "DescriptionStyleModel",
            "_view_count": null,
            "_view_module": "@jupyter-widgets/base",
            "_view_module_version": "1.2.0",
            "_view_name": "StyleView",
            "description_width": ""
          }
        },
        "651f3c6cb2814cd89e07b14d8634058f": {
          "model_module": "@jupyter-widgets/base",
          "model_module_version": "1.2.0",
          "model_name": "LayoutModel",
          "state": {
            "_model_module": "@jupyter-widgets/base",
            "_model_module_version": "1.2.0",
            "_model_name": "LayoutModel",
            "_view_count": null,
            "_view_module": "@jupyter-widgets/base",
            "_view_module_version": "1.2.0",
            "_view_name": "LayoutView",
            "align_content": null,
            "align_items": null,
            "align_self": null,
            "border": null,
            "bottom": null,
            "display": null,
            "flex": null,
            "flex_flow": null,
            "grid_area": null,
            "grid_auto_columns": null,
            "grid_auto_flow": null,
            "grid_auto_rows": null,
            "grid_column": null,
            "grid_gap": null,
            "grid_row": null,
            "grid_template_areas": null,
            "grid_template_columns": null,
            "grid_template_rows": null,
            "height": null,
            "justify_content": null,
            "justify_items": null,
            "left": null,
            "margin": null,
            "max_height": null,
            "max_width": null,
            "min_height": null,
            "min_width": null,
            "object_fit": null,
            "object_position": null,
            "order": null,
            "overflow": null,
            "overflow_x": null,
            "overflow_y": null,
            "padding": null,
            "right": null,
            "top": null,
            "visibility": null,
            "width": null
          }
        },
        "67e17c0ce142465d83835e3b05a39a21": {
          "model_module": "@jupyter-widgets/base",
          "model_module_version": "1.2.0",
          "model_name": "LayoutModel",
          "state": {
            "_model_module": "@jupyter-widgets/base",
            "_model_module_version": "1.2.0",
            "_model_name": "LayoutModel",
            "_view_count": null,
            "_view_module": "@jupyter-widgets/base",
            "_view_module_version": "1.2.0",
            "_view_name": "LayoutView",
            "align_content": null,
            "align_items": null,
            "align_self": null,
            "border": null,
            "bottom": null,
            "display": null,
            "flex": null,
            "flex_flow": null,
            "grid_area": null,
            "grid_auto_columns": null,
            "grid_auto_flow": null,
            "grid_auto_rows": null,
            "grid_column": null,
            "grid_gap": null,
            "grid_row": null,
            "grid_template_areas": null,
            "grid_template_columns": null,
            "grid_template_rows": null,
            "height": null,
            "justify_content": null,
            "justify_items": null,
            "left": null,
            "margin": null,
            "max_height": null,
            "max_width": null,
            "min_height": null,
            "min_width": null,
            "object_fit": null,
            "object_position": null,
            "order": null,
            "overflow": null,
            "overflow_x": null,
            "overflow_y": null,
            "padding": null,
            "right": null,
            "top": null,
            "visibility": null,
            "width": null
          }
        },
        "68bafc6b23f04994aedafaf9c36a581f": {
          "model_module": "@jupyter-widgets/controls",
          "model_module_version": "1.5.0",
          "model_name": "HTMLModel",
          "state": {
            "_dom_classes": [],
            "_model_module": "@jupyter-widgets/controls",
            "_model_module_version": "1.5.0",
            "_model_name": "HTMLModel",
            "_view_count": null,
            "_view_module": "@jupyter-widgets/controls",
            "_view_module_version": "1.5.0",
            "_view_name": "HTMLView",
            "description": "",
            "description_tooltip": null,
            "layout": "IPY_MODEL_bc13e8edd33041c29eae48fce319153f",
            "placeholder": "​",
            "style": "IPY_MODEL_5b7e1f19024a42c384a55e1c61fffab1",
            "value": "100%"
          }
        },
        "6bffc8dbd68c4f2c85d0710e97ee7e6e": {
          "model_module": "@jupyter-widgets/base",
          "model_module_version": "1.2.0",
          "model_name": "LayoutModel",
          "state": {
            "_model_module": "@jupyter-widgets/base",
            "_model_module_version": "1.2.0",
            "_model_name": "LayoutModel",
            "_view_count": null,
            "_view_module": "@jupyter-widgets/base",
            "_view_module_version": "1.2.0",
            "_view_name": "LayoutView",
            "align_content": null,
            "align_items": null,
            "align_self": null,
            "border": null,
            "bottom": null,
            "display": null,
            "flex": null,
            "flex_flow": null,
            "grid_area": null,
            "grid_auto_columns": null,
            "grid_auto_flow": null,
            "grid_auto_rows": null,
            "grid_column": null,
            "grid_gap": null,
            "grid_row": null,
            "grid_template_areas": null,
            "grid_template_columns": null,
            "grid_template_rows": null,
            "height": null,
            "justify_content": null,
            "justify_items": null,
            "left": null,
            "margin": null,
            "max_height": null,
            "max_width": null,
            "min_height": null,
            "min_width": null,
            "object_fit": null,
            "object_position": null,
            "order": null,
            "overflow": null,
            "overflow_x": null,
            "overflow_y": null,
            "padding": null,
            "right": null,
            "top": null,
            "visibility": null,
            "width": null
          }
        },
        "6f86cab5caab498caa5172ff82d0fc7a": {
          "model_module": "@jupyter-widgets/controls",
          "model_module_version": "1.5.0",
          "model_name": "ProgressStyleModel",
          "state": {
            "_model_module": "@jupyter-widgets/controls",
            "_model_module_version": "1.5.0",
            "_model_name": "ProgressStyleModel",
            "_view_count": null,
            "_view_module": "@jupyter-widgets/base",
            "_view_module_version": "1.2.0",
            "_view_name": "StyleView",
            "bar_color": null,
            "description_width": ""
          }
        },
        "706f29c4b0a948f58bc234cc2f86a5a7": {
          "model_module": "@jupyter-widgets/controls",
          "model_module_version": "1.5.0",
          "model_name": "DescriptionStyleModel",
          "state": {
            "_model_module": "@jupyter-widgets/controls",
            "_model_module_version": "1.5.0",
            "_model_name": "DescriptionStyleModel",
            "_view_count": null,
            "_view_module": "@jupyter-widgets/base",
            "_view_module_version": "1.2.0",
            "_view_name": "StyleView",
            "description_width": ""
          }
        },
        "75eb39f587974a53ab0162636cb5d452": {
          "model_module": "@jupyter-widgets/base",
          "model_module_version": "1.2.0",
          "model_name": "LayoutModel",
          "state": {
            "_model_module": "@jupyter-widgets/base",
            "_model_module_version": "1.2.0",
            "_model_name": "LayoutModel",
            "_view_count": null,
            "_view_module": "@jupyter-widgets/base",
            "_view_module_version": "1.2.0",
            "_view_name": "LayoutView",
            "align_content": null,
            "align_items": null,
            "align_self": null,
            "border": null,
            "bottom": null,
            "display": null,
            "flex": null,
            "flex_flow": null,
            "grid_area": null,
            "grid_auto_columns": null,
            "grid_auto_flow": null,
            "grid_auto_rows": null,
            "grid_column": null,
            "grid_gap": null,
            "grid_row": null,
            "grid_template_areas": null,
            "grid_template_columns": null,
            "grid_template_rows": null,
            "height": null,
            "justify_content": null,
            "justify_items": null,
            "left": null,
            "margin": null,
            "max_height": null,
            "max_width": null,
            "min_height": null,
            "min_width": null,
            "object_fit": null,
            "object_position": null,
            "order": null,
            "overflow": null,
            "overflow_x": null,
            "overflow_y": null,
            "padding": null,
            "right": null,
            "top": null,
            "visibility": null,
            "width": null
          }
        },
        "77688bc01e9144a7aa6cee5bf8864ab9": {
          "model_module": "@jupyter-widgets/controls",
          "model_module_version": "1.5.0",
          "model_name": "HTMLModel",
          "state": {
            "_dom_classes": [],
            "_model_module": "@jupyter-widgets/controls",
            "_model_module_version": "1.5.0",
            "_model_name": "HTMLModel",
            "_view_count": null,
            "_view_module": "@jupyter-widgets/controls",
            "_view_module_version": "1.5.0",
            "_view_name": "HTMLView",
            "description": "",
            "description_tooltip": null,
            "layout": "IPY_MODEL_92414ca3d38246709e295588231bc1c2",
            "placeholder": "​",
            "style": "IPY_MODEL_5fcbc38a55df464a9e33269c9b7625b3",
            "value": " 10/10 [3:11:13&lt;00:00, 1141.07s/it]"
          }
        },
        "8268e5e53ddc45d68f87ee0bbde88d76": {
          "model_module": "@jupyter-widgets/controls",
          "model_module_version": "1.5.0",
          "model_name": "ProgressStyleModel",
          "state": {
            "_model_module": "@jupyter-widgets/controls",
            "_model_module_version": "1.5.0",
            "_model_name": "ProgressStyleModel",
            "_view_count": null,
            "_view_module": "@jupyter-widgets/base",
            "_view_module_version": "1.2.0",
            "_view_name": "StyleView",
            "bar_color": null,
            "description_width": ""
          }
        },
        "84b7b623066143a596752587252d8f63": {
          "model_module": "@jupyter-widgets/controls",
          "model_module_version": "1.5.0",
          "model_name": "HTMLModel",
          "state": {
            "_dom_classes": [],
            "_model_module": "@jupyter-widgets/controls",
            "_model_module_version": "1.5.0",
            "_model_name": "HTMLModel",
            "_view_count": null,
            "_view_module": "@jupyter-widgets/controls",
            "_view_module_version": "1.5.0",
            "_view_name": "HTMLView",
            "description": "",
            "description_tooltip": null,
            "layout": "IPY_MODEL_8a26679456844c44b8a931f54644ef6c",
            "placeholder": "​",
            "style": "IPY_MODEL_254b447bacfd432586b9113b1f286dfe",
            "value": " 10/10 [3:02:55&lt;00:00, 1098.72s/it]"
          }
        },
        "856084822db0434794df5711741941d2": {
          "model_module": "@jupyter-widgets/controls",
          "model_module_version": "1.5.0",
          "model_name": "HTMLModel",
          "state": {
            "_dom_classes": [],
            "_model_module": "@jupyter-widgets/controls",
            "_model_module_version": "1.5.0",
            "_model_name": "HTMLModel",
            "_view_count": null,
            "_view_module": "@jupyter-widgets/controls",
            "_view_module_version": "1.5.0",
            "_view_name": "HTMLView",
            "description": "",
            "description_tooltip": null,
            "layout": "IPY_MODEL_38c50ab08d7d4c00bf210006c30494ee",
            "placeholder": "​",
            "style": "IPY_MODEL_1a76d8fa034b44bd9552b4855a53f41c",
            "value": "100%"
          }
        },
        "85afe13bc76341f0991c9a35285b3a23": {
          "model_module": "@jupyter-widgets/controls",
          "model_module_version": "1.5.0",
          "model_name": "HBoxModel",
          "state": {
            "_dom_classes": [],
            "_model_module": "@jupyter-widgets/controls",
            "_model_module_version": "1.5.0",
            "_model_name": "HBoxModel",
            "_view_count": null,
            "_view_module": "@jupyter-widgets/controls",
            "_view_module_version": "1.5.0",
            "_view_name": "HBoxView",
            "box_style": "",
            "children": [
              "IPY_MODEL_9d092b2eb40240debd78df2a1753b548",
              "IPY_MODEL_4005dc27fd6746ed9027752d310d58f5",
              "IPY_MODEL_8b2d6ff582cb405883ee01553cf1d76d"
            ],
            "layout": "IPY_MODEL_ac9e77cb040d474c97f7e84e61954b67"
          }
        },
        "884d8c300c52445b857766a1826af674": {
          "model_module": "@jupyter-widgets/base",
          "model_module_version": "1.2.0",
          "model_name": "LayoutModel",
          "state": {
            "_model_module": "@jupyter-widgets/base",
            "_model_module_version": "1.2.0",
            "_model_name": "LayoutModel",
            "_view_count": null,
            "_view_module": "@jupyter-widgets/base",
            "_view_module_version": "1.2.0",
            "_view_name": "LayoutView",
            "align_content": null,
            "align_items": null,
            "align_self": null,
            "border": null,
            "bottom": null,
            "display": null,
            "flex": null,
            "flex_flow": null,
            "grid_area": null,
            "grid_auto_columns": null,
            "grid_auto_flow": null,
            "grid_auto_rows": null,
            "grid_column": null,
            "grid_gap": null,
            "grid_row": null,
            "grid_template_areas": null,
            "grid_template_columns": null,
            "grid_template_rows": null,
            "height": null,
            "justify_content": null,
            "justify_items": null,
            "left": null,
            "margin": null,
            "max_height": null,
            "max_width": null,
            "min_height": null,
            "min_width": null,
            "object_fit": null,
            "object_position": null,
            "order": null,
            "overflow": null,
            "overflow_x": null,
            "overflow_y": null,
            "padding": null,
            "right": null,
            "top": null,
            "visibility": null,
            "width": null
          }
        },
        "88b9f4410efd4328b2cc190aedca9fa8": {
          "model_module": "@jupyter-widgets/controls",
          "model_module_version": "1.5.0",
          "model_name": "HBoxModel",
          "state": {
            "_dom_classes": [],
            "_model_module": "@jupyter-widgets/controls",
            "_model_module_version": "1.5.0",
            "_model_name": "HBoxModel",
            "_view_count": null,
            "_view_module": "@jupyter-widgets/controls",
            "_view_module_version": "1.5.0",
            "_view_name": "HBoxView",
            "box_style": "",
            "children": [
              "IPY_MODEL_2c6e848e13754a7abac6c19866c28f61",
              "IPY_MODEL_2b6b82591e7a4d69a0f6db6a6c0f83b0",
              "IPY_MODEL_84b7b623066143a596752587252d8f63"
            ],
            "layout": "IPY_MODEL_3345957ad252498b9824c6a474dff1ca"
          }
        },
        "8a26679456844c44b8a931f54644ef6c": {
          "model_module": "@jupyter-widgets/base",
          "model_module_version": "1.2.0",
          "model_name": "LayoutModel",
          "state": {
            "_model_module": "@jupyter-widgets/base",
            "_model_module_version": "1.2.0",
            "_model_name": "LayoutModel",
            "_view_count": null,
            "_view_module": "@jupyter-widgets/base",
            "_view_module_version": "1.2.0",
            "_view_name": "LayoutView",
            "align_content": null,
            "align_items": null,
            "align_self": null,
            "border": null,
            "bottom": null,
            "display": null,
            "flex": null,
            "flex_flow": null,
            "grid_area": null,
            "grid_auto_columns": null,
            "grid_auto_flow": null,
            "grid_auto_rows": null,
            "grid_column": null,
            "grid_gap": null,
            "grid_row": null,
            "grid_template_areas": null,
            "grid_template_columns": null,
            "grid_template_rows": null,
            "height": null,
            "justify_content": null,
            "justify_items": null,
            "left": null,
            "margin": null,
            "max_height": null,
            "max_width": null,
            "min_height": null,
            "min_width": null,
            "object_fit": null,
            "object_position": null,
            "order": null,
            "overflow": null,
            "overflow_x": null,
            "overflow_y": null,
            "padding": null,
            "right": null,
            "top": null,
            "visibility": null,
            "width": null
          }
        },
        "8b2d6ff582cb405883ee01553cf1d76d": {
          "model_module": "@jupyter-widgets/controls",
          "model_module_version": "1.5.0",
          "model_name": "HTMLModel",
          "state": {
            "_dom_classes": [],
            "_model_module": "@jupyter-widgets/controls",
            "_model_module_version": "1.5.0",
            "_model_name": "HTMLModel",
            "_view_count": null,
            "_view_module": "@jupyter-widgets/controls",
            "_view_module_version": "1.5.0",
            "_view_name": "HTMLView",
            "description": "",
            "description_tooltip": null,
            "layout": "IPY_MODEL_c0fec1dae2954f729e3ed3a33ce6198b",
            "placeholder": "​",
            "style": "IPY_MODEL_039fff92882843a7ab1853db62c42afd",
            "value": " 10/10 [3:10:45&lt;00:00, 1142.20s/it]"
          }
        },
        "92414ca3d38246709e295588231bc1c2": {
          "model_module": "@jupyter-widgets/base",
          "model_module_version": "1.2.0",
          "model_name": "LayoutModel",
          "state": {
            "_model_module": "@jupyter-widgets/base",
            "_model_module_version": "1.2.0",
            "_model_name": "LayoutModel",
            "_view_count": null,
            "_view_module": "@jupyter-widgets/base",
            "_view_module_version": "1.2.0",
            "_view_name": "LayoutView",
            "align_content": null,
            "align_items": null,
            "align_self": null,
            "border": null,
            "bottom": null,
            "display": null,
            "flex": null,
            "flex_flow": null,
            "grid_area": null,
            "grid_auto_columns": null,
            "grid_auto_flow": null,
            "grid_auto_rows": null,
            "grid_column": null,
            "grid_gap": null,
            "grid_row": null,
            "grid_template_areas": null,
            "grid_template_columns": null,
            "grid_template_rows": null,
            "height": null,
            "justify_content": null,
            "justify_items": null,
            "left": null,
            "margin": null,
            "max_height": null,
            "max_width": null,
            "min_height": null,
            "min_width": null,
            "object_fit": null,
            "object_position": null,
            "order": null,
            "overflow": null,
            "overflow_x": null,
            "overflow_y": null,
            "padding": null,
            "right": null,
            "top": null,
            "visibility": null,
            "width": null
          }
        },
        "96e62438494d455bb0eac71e1fec897c": {
          "model_module": "@jupyter-widgets/base",
          "model_module_version": "1.2.0",
          "model_name": "LayoutModel",
          "state": {
            "_model_module": "@jupyter-widgets/base",
            "_model_module_version": "1.2.0",
            "_model_name": "LayoutModel",
            "_view_count": null,
            "_view_module": "@jupyter-widgets/base",
            "_view_module_version": "1.2.0",
            "_view_name": "LayoutView",
            "align_content": null,
            "align_items": null,
            "align_self": null,
            "border": null,
            "bottom": null,
            "display": null,
            "flex": null,
            "flex_flow": null,
            "grid_area": null,
            "grid_auto_columns": null,
            "grid_auto_flow": null,
            "grid_auto_rows": null,
            "grid_column": null,
            "grid_gap": null,
            "grid_row": null,
            "grid_template_areas": null,
            "grid_template_columns": null,
            "grid_template_rows": null,
            "height": null,
            "justify_content": null,
            "justify_items": null,
            "left": null,
            "margin": null,
            "max_height": null,
            "max_width": null,
            "min_height": null,
            "min_width": null,
            "object_fit": null,
            "object_position": null,
            "order": null,
            "overflow": null,
            "overflow_x": null,
            "overflow_y": null,
            "padding": null,
            "right": null,
            "top": null,
            "visibility": null,
            "width": null
          }
        },
        "9d092b2eb40240debd78df2a1753b548": {
          "model_module": "@jupyter-widgets/controls",
          "model_module_version": "1.5.0",
          "model_name": "HTMLModel",
          "state": {
            "_dom_classes": [],
            "_model_module": "@jupyter-widgets/controls",
            "_model_module_version": "1.5.0",
            "_model_name": "HTMLModel",
            "_view_count": null,
            "_view_module": "@jupyter-widgets/controls",
            "_view_module_version": "1.5.0",
            "_view_name": "HTMLView",
            "description": "",
            "description_tooltip": null,
            "layout": "IPY_MODEL_c4571ff9dabf4eaeac9cc0b40fb93a6c",
            "placeholder": "​",
            "style": "IPY_MODEL_20045f930f98473096d6849cd7a53bf4",
            "value": "100%"
          }
        },
        "a9d2477237b24710acce56270fa6919e": {
          "model_module": "@jupyter-widgets/base",
          "model_module_version": "1.2.0",
          "model_name": "LayoutModel",
          "state": {
            "_model_module": "@jupyter-widgets/base",
            "_model_module_version": "1.2.0",
            "_model_name": "LayoutModel",
            "_view_count": null,
            "_view_module": "@jupyter-widgets/base",
            "_view_module_version": "1.2.0",
            "_view_name": "LayoutView",
            "align_content": null,
            "align_items": null,
            "align_self": null,
            "border": null,
            "bottom": null,
            "display": null,
            "flex": null,
            "flex_flow": null,
            "grid_area": null,
            "grid_auto_columns": null,
            "grid_auto_flow": null,
            "grid_auto_rows": null,
            "grid_column": null,
            "grid_gap": null,
            "grid_row": null,
            "grid_template_areas": null,
            "grid_template_columns": null,
            "grid_template_rows": null,
            "height": null,
            "justify_content": null,
            "justify_items": null,
            "left": null,
            "margin": null,
            "max_height": null,
            "max_width": null,
            "min_height": null,
            "min_width": null,
            "object_fit": null,
            "object_position": null,
            "order": null,
            "overflow": null,
            "overflow_x": null,
            "overflow_y": null,
            "padding": null,
            "right": null,
            "top": null,
            "visibility": null,
            "width": null
          }
        },
        "aa2d6839219343dfbc0235e54b70576c": {
          "model_module": "@jupyter-widgets/controls",
          "model_module_version": "1.5.0",
          "model_name": "HBoxModel",
          "state": {
            "_dom_classes": [],
            "_model_module": "@jupyter-widgets/controls",
            "_model_module_version": "1.5.0",
            "_model_name": "HBoxModel",
            "_view_count": null,
            "_view_module": "@jupyter-widgets/controls",
            "_view_module_version": "1.5.0",
            "_view_name": "HBoxView",
            "box_style": "",
            "children": [
              "IPY_MODEL_856084822db0434794df5711741941d2",
              "IPY_MODEL_c5caffd5b62f42e4a6eccd397cd4eeae",
              "IPY_MODEL_77688bc01e9144a7aa6cee5bf8864ab9"
            ],
            "layout": "IPY_MODEL_cf7076a972db4811b032b9f355299673"
          }
        },
        "ac9e77cb040d474c97f7e84e61954b67": {
          "model_module": "@jupyter-widgets/base",
          "model_module_version": "1.2.0",
          "model_name": "LayoutModel",
          "state": {
            "_model_module": "@jupyter-widgets/base",
            "_model_module_version": "1.2.0",
            "_model_name": "LayoutModel",
            "_view_count": null,
            "_view_module": "@jupyter-widgets/base",
            "_view_module_version": "1.2.0",
            "_view_name": "LayoutView",
            "align_content": null,
            "align_items": null,
            "align_self": null,
            "border": null,
            "bottom": null,
            "display": null,
            "flex": null,
            "flex_flow": null,
            "grid_area": null,
            "grid_auto_columns": null,
            "grid_auto_flow": null,
            "grid_auto_rows": null,
            "grid_column": null,
            "grid_gap": null,
            "grid_row": null,
            "grid_template_areas": null,
            "grid_template_columns": null,
            "grid_template_rows": null,
            "height": null,
            "justify_content": null,
            "justify_items": null,
            "left": null,
            "margin": null,
            "max_height": null,
            "max_width": null,
            "min_height": null,
            "min_width": null,
            "object_fit": null,
            "object_position": null,
            "order": null,
            "overflow": null,
            "overflow_x": null,
            "overflow_y": null,
            "padding": null,
            "right": null,
            "top": null,
            "visibility": null,
            "width": null
          }
        },
        "ad192605b0b84f8a81d9521cbd33909a": {
          "model_module": "@jupyter-widgets/controls",
          "model_module_version": "1.5.0",
          "model_name": "DescriptionStyleModel",
          "state": {
            "_model_module": "@jupyter-widgets/controls",
            "_model_module_version": "1.5.0",
            "_model_name": "DescriptionStyleModel",
            "_view_count": null,
            "_view_module": "@jupyter-widgets/base",
            "_view_module_version": "1.2.0",
            "_view_name": "StyleView",
            "description_width": ""
          }
        },
        "affe8c636edc494cb062a42dce43971c": {
          "model_module": "@jupyter-widgets/base",
          "model_module_version": "1.2.0",
          "model_name": "LayoutModel",
          "state": {
            "_model_module": "@jupyter-widgets/base",
            "_model_module_version": "1.2.0",
            "_model_name": "LayoutModel",
            "_view_count": null,
            "_view_module": "@jupyter-widgets/base",
            "_view_module_version": "1.2.0",
            "_view_name": "LayoutView",
            "align_content": null,
            "align_items": null,
            "align_self": null,
            "border": null,
            "bottom": null,
            "display": null,
            "flex": null,
            "flex_flow": null,
            "grid_area": null,
            "grid_auto_columns": null,
            "grid_auto_flow": null,
            "grid_auto_rows": null,
            "grid_column": null,
            "grid_gap": null,
            "grid_row": null,
            "grid_template_areas": null,
            "grid_template_columns": null,
            "grid_template_rows": null,
            "height": null,
            "justify_content": null,
            "justify_items": null,
            "left": null,
            "margin": null,
            "max_height": null,
            "max_width": null,
            "min_height": null,
            "min_width": null,
            "object_fit": null,
            "object_position": null,
            "order": null,
            "overflow": null,
            "overflow_x": null,
            "overflow_y": null,
            "padding": null,
            "right": null,
            "top": null,
            "visibility": null,
            "width": null
          }
        },
        "b662b481dbc94bd19938af2facb4918f": {
          "model_module": "@jupyter-widgets/base",
          "model_module_version": "1.2.0",
          "model_name": "LayoutModel",
          "state": {
            "_model_module": "@jupyter-widgets/base",
            "_model_module_version": "1.2.0",
            "_model_name": "LayoutModel",
            "_view_count": null,
            "_view_module": "@jupyter-widgets/base",
            "_view_module_version": "1.2.0",
            "_view_name": "LayoutView",
            "align_content": null,
            "align_items": null,
            "align_self": null,
            "border": null,
            "bottom": null,
            "display": null,
            "flex": null,
            "flex_flow": null,
            "grid_area": null,
            "grid_auto_columns": null,
            "grid_auto_flow": null,
            "grid_auto_rows": null,
            "grid_column": null,
            "grid_gap": null,
            "grid_row": null,
            "grid_template_areas": null,
            "grid_template_columns": null,
            "grid_template_rows": null,
            "height": null,
            "justify_content": null,
            "justify_items": null,
            "left": null,
            "margin": null,
            "max_height": null,
            "max_width": null,
            "min_height": null,
            "min_width": null,
            "object_fit": null,
            "object_position": null,
            "order": null,
            "overflow": null,
            "overflow_x": null,
            "overflow_y": null,
            "padding": null,
            "right": null,
            "top": null,
            "visibility": null,
            "width": null
          }
        },
        "b89953f1d73946309a488ae8fb5102b7": {
          "model_module": "@jupyter-widgets/base",
          "model_module_version": "1.2.0",
          "model_name": "LayoutModel",
          "state": {
            "_model_module": "@jupyter-widgets/base",
            "_model_module_version": "1.2.0",
            "_model_name": "LayoutModel",
            "_view_count": null,
            "_view_module": "@jupyter-widgets/base",
            "_view_module_version": "1.2.0",
            "_view_name": "LayoutView",
            "align_content": null,
            "align_items": null,
            "align_self": null,
            "border": null,
            "bottom": null,
            "display": null,
            "flex": null,
            "flex_flow": null,
            "grid_area": null,
            "grid_auto_columns": null,
            "grid_auto_flow": null,
            "grid_auto_rows": null,
            "grid_column": null,
            "grid_gap": null,
            "grid_row": null,
            "grid_template_areas": null,
            "grid_template_columns": null,
            "grid_template_rows": null,
            "height": null,
            "justify_content": null,
            "justify_items": null,
            "left": null,
            "margin": null,
            "max_height": null,
            "max_width": null,
            "min_height": null,
            "min_width": null,
            "object_fit": null,
            "object_position": null,
            "order": null,
            "overflow": null,
            "overflow_x": null,
            "overflow_y": null,
            "padding": null,
            "right": null,
            "top": null,
            "visibility": null,
            "width": null
          }
        },
        "bc13e8edd33041c29eae48fce319153f": {
          "model_module": "@jupyter-widgets/base",
          "model_module_version": "1.2.0",
          "model_name": "LayoutModel",
          "state": {
            "_model_module": "@jupyter-widgets/base",
            "_model_module_version": "1.2.0",
            "_model_name": "LayoutModel",
            "_view_count": null,
            "_view_module": "@jupyter-widgets/base",
            "_view_module_version": "1.2.0",
            "_view_name": "LayoutView",
            "align_content": null,
            "align_items": null,
            "align_self": null,
            "border": null,
            "bottom": null,
            "display": null,
            "flex": null,
            "flex_flow": null,
            "grid_area": null,
            "grid_auto_columns": null,
            "grid_auto_flow": null,
            "grid_auto_rows": null,
            "grid_column": null,
            "grid_gap": null,
            "grid_row": null,
            "grid_template_areas": null,
            "grid_template_columns": null,
            "grid_template_rows": null,
            "height": null,
            "justify_content": null,
            "justify_items": null,
            "left": null,
            "margin": null,
            "max_height": null,
            "max_width": null,
            "min_height": null,
            "min_width": null,
            "object_fit": null,
            "object_position": null,
            "order": null,
            "overflow": null,
            "overflow_x": null,
            "overflow_y": null,
            "padding": null,
            "right": null,
            "top": null,
            "visibility": null,
            "width": null
          }
        },
        "beb919e735294df6b941938c00b4e1f3": {
          "model_module": "@jupyter-widgets/controls",
          "model_module_version": "1.5.0",
          "model_name": "ProgressStyleModel",
          "state": {
            "_model_module": "@jupyter-widgets/controls",
            "_model_module_version": "1.5.0",
            "_model_name": "ProgressStyleModel",
            "_view_count": null,
            "_view_module": "@jupyter-widgets/base",
            "_view_module_version": "1.2.0",
            "_view_name": "StyleView",
            "bar_color": null,
            "description_width": ""
          }
        },
        "c0fec1dae2954f729e3ed3a33ce6198b": {
          "model_module": "@jupyter-widgets/base",
          "model_module_version": "1.2.0",
          "model_name": "LayoutModel",
          "state": {
            "_model_module": "@jupyter-widgets/base",
            "_model_module_version": "1.2.0",
            "_model_name": "LayoutModel",
            "_view_count": null,
            "_view_module": "@jupyter-widgets/base",
            "_view_module_version": "1.2.0",
            "_view_name": "LayoutView",
            "align_content": null,
            "align_items": null,
            "align_self": null,
            "border": null,
            "bottom": null,
            "display": null,
            "flex": null,
            "flex_flow": null,
            "grid_area": null,
            "grid_auto_columns": null,
            "grid_auto_flow": null,
            "grid_auto_rows": null,
            "grid_column": null,
            "grid_gap": null,
            "grid_row": null,
            "grid_template_areas": null,
            "grid_template_columns": null,
            "grid_template_rows": null,
            "height": null,
            "justify_content": null,
            "justify_items": null,
            "left": null,
            "margin": null,
            "max_height": null,
            "max_width": null,
            "min_height": null,
            "min_width": null,
            "object_fit": null,
            "object_position": null,
            "order": null,
            "overflow": null,
            "overflow_x": null,
            "overflow_y": null,
            "padding": null,
            "right": null,
            "top": null,
            "visibility": null,
            "width": null
          }
        },
        "c4571ff9dabf4eaeac9cc0b40fb93a6c": {
          "model_module": "@jupyter-widgets/base",
          "model_module_version": "1.2.0",
          "model_name": "LayoutModel",
          "state": {
            "_model_module": "@jupyter-widgets/base",
            "_model_module_version": "1.2.0",
            "_model_name": "LayoutModel",
            "_view_count": null,
            "_view_module": "@jupyter-widgets/base",
            "_view_module_version": "1.2.0",
            "_view_name": "LayoutView",
            "align_content": null,
            "align_items": null,
            "align_self": null,
            "border": null,
            "bottom": null,
            "display": null,
            "flex": null,
            "flex_flow": null,
            "grid_area": null,
            "grid_auto_columns": null,
            "grid_auto_flow": null,
            "grid_auto_rows": null,
            "grid_column": null,
            "grid_gap": null,
            "grid_row": null,
            "grid_template_areas": null,
            "grid_template_columns": null,
            "grid_template_rows": null,
            "height": null,
            "justify_content": null,
            "justify_items": null,
            "left": null,
            "margin": null,
            "max_height": null,
            "max_width": null,
            "min_height": null,
            "min_width": null,
            "object_fit": null,
            "object_position": null,
            "order": null,
            "overflow": null,
            "overflow_x": null,
            "overflow_y": null,
            "padding": null,
            "right": null,
            "top": null,
            "visibility": null,
            "width": null
          }
        },
        "c5caffd5b62f42e4a6eccd397cd4eeae": {
          "model_module": "@jupyter-widgets/controls",
          "model_module_version": "1.5.0",
          "model_name": "FloatProgressModel",
          "state": {
            "_dom_classes": [],
            "_model_module": "@jupyter-widgets/controls",
            "_model_module_version": "1.5.0",
            "_model_name": "FloatProgressModel",
            "_view_count": null,
            "_view_module": "@jupyter-widgets/controls",
            "_view_module_version": "1.5.0",
            "_view_name": "ProgressView",
            "bar_style": "success",
            "description": "",
            "description_tooltip": null,
            "layout": "IPY_MODEL_fe109f2e71d449359768ade275ca3984",
            "max": 10,
            "min": 0,
            "orientation": "horizontal",
            "style": "IPY_MODEL_6f86cab5caab498caa5172ff82d0fc7a",
            "value": 10
          }
        },
        "c992567cf851421ba3a51c2be7dd7b5a": {
          "model_module": "@jupyter-widgets/controls",
          "model_module_version": "1.5.0",
          "model_name": "DescriptionStyleModel",
          "state": {
            "_model_module": "@jupyter-widgets/controls",
            "_model_module_version": "1.5.0",
            "_model_name": "DescriptionStyleModel",
            "_view_count": null,
            "_view_module": "@jupyter-widgets/base",
            "_view_module_version": "1.2.0",
            "_view_name": "StyleView",
            "description_width": ""
          }
        },
        "cc8485d7070d4510b7e6db76d3248025": {
          "model_module": "@jupyter-widgets/base",
          "model_module_version": "1.2.0",
          "model_name": "LayoutModel",
          "state": {
            "_model_module": "@jupyter-widgets/base",
            "_model_module_version": "1.2.0",
            "_model_name": "LayoutModel",
            "_view_count": null,
            "_view_module": "@jupyter-widgets/base",
            "_view_module_version": "1.2.0",
            "_view_name": "LayoutView",
            "align_content": null,
            "align_items": null,
            "align_self": null,
            "border": null,
            "bottom": null,
            "display": null,
            "flex": null,
            "flex_flow": null,
            "grid_area": null,
            "grid_auto_columns": null,
            "grid_auto_flow": null,
            "grid_auto_rows": null,
            "grid_column": null,
            "grid_gap": null,
            "grid_row": null,
            "grid_template_areas": null,
            "grid_template_columns": null,
            "grid_template_rows": null,
            "height": null,
            "justify_content": null,
            "justify_items": null,
            "left": null,
            "margin": null,
            "max_height": null,
            "max_width": null,
            "min_height": null,
            "min_width": null,
            "object_fit": null,
            "object_position": null,
            "order": null,
            "overflow": null,
            "overflow_x": null,
            "overflow_y": null,
            "padding": null,
            "right": null,
            "top": null,
            "visibility": null,
            "width": null
          }
        },
        "cf7076a972db4811b032b9f355299673": {
          "model_module": "@jupyter-widgets/base",
          "model_module_version": "1.2.0",
          "model_name": "LayoutModel",
          "state": {
            "_model_module": "@jupyter-widgets/base",
            "_model_module_version": "1.2.0",
            "_model_name": "LayoutModel",
            "_view_count": null,
            "_view_module": "@jupyter-widgets/base",
            "_view_module_version": "1.2.0",
            "_view_name": "LayoutView",
            "align_content": null,
            "align_items": null,
            "align_self": null,
            "border": null,
            "bottom": null,
            "display": null,
            "flex": null,
            "flex_flow": null,
            "grid_area": null,
            "grid_auto_columns": null,
            "grid_auto_flow": null,
            "grid_auto_rows": null,
            "grid_column": null,
            "grid_gap": null,
            "grid_row": null,
            "grid_template_areas": null,
            "grid_template_columns": null,
            "grid_template_rows": null,
            "height": null,
            "justify_content": null,
            "justify_items": null,
            "left": null,
            "margin": null,
            "max_height": null,
            "max_width": null,
            "min_height": null,
            "min_width": null,
            "object_fit": null,
            "object_position": null,
            "order": null,
            "overflow": null,
            "overflow_x": null,
            "overflow_y": null,
            "padding": null,
            "right": null,
            "top": null,
            "visibility": null,
            "width": null
          }
        },
        "d8b9db45571f4ad7b64b81be7e95e001": {
          "model_module": "@jupyter-widgets/controls",
          "model_module_version": "1.5.0",
          "model_name": "FloatProgressModel",
          "state": {
            "_dom_classes": [],
            "_model_module": "@jupyter-widgets/controls",
            "_model_module_version": "1.5.0",
            "_model_name": "FloatProgressModel",
            "_view_count": null,
            "_view_module": "@jupyter-widgets/controls",
            "_view_module_version": "1.5.0",
            "_view_name": "ProgressView",
            "bar_style": "success",
            "description": "",
            "description_tooltip": null,
            "layout": "IPY_MODEL_3ab87a131f08417bb484b1748698fc0a",
            "max": 10,
            "min": 0,
            "orientation": "horizontal",
            "style": "IPY_MODEL_8268e5e53ddc45d68f87ee0bbde88d76",
            "value": 10
          }
        },
        "dc988bfc77d6495abb61b7c6e89494f1": {
          "model_module": "@jupyter-widgets/controls",
          "model_module_version": "1.5.0",
          "model_name": "HTMLModel",
          "state": {
            "_dom_classes": [],
            "_model_module": "@jupyter-widgets/controls",
            "_model_module_version": "1.5.0",
            "_model_name": "HTMLModel",
            "_view_count": null,
            "_view_module": "@jupyter-widgets/controls",
            "_view_module_version": "1.5.0",
            "_view_name": "HTMLView",
            "description": "",
            "description_tooltip": null,
            "layout": "IPY_MODEL_4478623c152a4be5b880a9980fee8e4c",
            "placeholder": "​",
            "style": "IPY_MODEL_083ddf330758415ba2461649ad4bc7e2",
            "value": "100%"
          }
        },
        "dfc9201cda324903a1b4925a97619237": {
          "model_module": "@jupyter-widgets/controls",
          "model_module_version": "1.5.0",
          "model_name": "HBoxModel",
          "state": {
            "_dom_classes": [],
            "_model_module": "@jupyter-widgets/controls",
            "_model_module_version": "1.5.0",
            "_model_name": "HBoxModel",
            "_view_count": null,
            "_view_module": "@jupyter-widgets/controls",
            "_view_module_version": "1.5.0",
            "_view_name": "HBoxView",
            "box_style": "",
            "children": [
              "IPY_MODEL_07986701f101496a86d7b2501971bb02",
              "IPY_MODEL_251462c1b9fb4da28e883f907a124f9e",
              "IPY_MODEL_fcd7cd514a1d4bc8b649c5ed1cdfc5db"
            ],
            "layout": "IPY_MODEL_75eb39f587974a53ab0162636cb5d452"
          }
        },
        "e66668f03b834d81911628812534e0c7": {
          "model_module": "@jupyter-widgets/controls",
          "model_module_version": "1.5.0",
          "model_name": "DescriptionStyleModel",
          "state": {
            "_model_module": "@jupyter-widgets/controls",
            "_model_module_version": "1.5.0",
            "_model_name": "DescriptionStyleModel",
            "_view_count": null,
            "_view_module": "@jupyter-widgets/base",
            "_view_module_version": "1.2.0",
            "_view_name": "StyleView",
            "description_width": ""
          }
        },
        "e86a0aaf3a324be4a8fbc14caa4d6a9f": {
          "model_module": "@jupyter-widgets/controls",
          "model_module_version": "1.5.0",
          "model_name": "ProgressStyleModel",
          "state": {
            "_model_module": "@jupyter-widgets/controls",
            "_model_module_version": "1.5.0",
            "_model_name": "ProgressStyleModel",
            "_view_count": null,
            "_view_module": "@jupyter-widgets/base",
            "_view_module_version": "1.2.0",
            "_view_name": "StyleView",
            "bar_color": null,
            "description_width": ""
          }
        },
        "ead40c81daf549caa2a4ab57a0cd6ed7": {
          "model_module": "@jupyter-widgets/controls",
          "model_module_version": "1.5.0",
          "model_name": "ProgressStyleModel",
          "state": {
            "_model_module": "@jupyter-widgets/controls",
            "_model_module_version": "1.5.0",
            "_model_name": "ProgressStyleModel",
            "_view_count": null,
            "_view_module": "@jupyter-widgets/base",
            "_view_module_version": "1.2.0",
            "_view_name": "StyleView",
            "bar_color": null,
            "description_width": ""
          }
        },
        "fb08551f620d4570aeb991b4cd986ba5": {
          "model_module": "@jupyter-widgets/controls",
          "model_module_version": "1.5.0",
          "model_name": "HTMLModel",
          "state": {
            "_dom_classes": [],
            "_model_module": "@jupyter-widgets/controls",
            "_model_module_version": "1.5.0",
            "_model_name": "HTMLModel",
            "_view_count": null,
            "_view_module": "@jupyter-widgets/controls",
            "_view_module_version": "1.5.0",
            "_view_name": "HTMLView",
            "description": "",
            "description_tooltip": null,
            "layout": "IPY_MODEL_a9d2477237b24710acce56270fa6919e",
            "placeholder": "​",
            "style": "IPY_MODEL_ad192605b0b84f8a81d9521cbd33909a",
            "value": " 10/10 [3:03:32&lt;00:00, 1102.93s/it]"
          }
        },
        "fcd7cd514a1d4bc8b649c5ed1cdfc5db": {
          "model_module": "@jupyter-widgets/controls",
          "model_module_version": "1.5.0",
          "model_name": "HTMLModel",
          "state": {
            "_dom_classes": [],
            "_model_module": "@jupyter-widgets/controls",
            "_model_module_version": "1.5.0",
            "_model_name": "HTMLModel",
            "_view_count": null,
            "_view_module": "@jupyter-widgets/controls",
            "_view_module_version": "1.5.0",
            "_view_name": "HTMLView",
            "description": "",
            "description_tooltip": null,
            "layout": "IPY_MODEL_b662b481dbc94bd19938af2facb4918f",
            "placeholder": "​",
            "style": "IPY_MODEL_e66668f03b834d81911628812534e0c7",
            "value": " 10/10 [2:58:56&lt;00:00, 1082.48s/it]"
          }
        },
        "fe109f2e71d449359768ade275ca3984": {
          "model_module": "@jupyter-widgets/base",
          "model_module_version": "1.2.0",
          "model_name": "LayoutModel",
          "state": {
            "_model_module": "@jupyter-widgets/base",
            "_model_module_version": "1.2.0",
            "_model_name": "LayoutModel",
            "_view_count": null,
            "_view_module": "@jupyter-widgets/base",
            "_view_module_version": "1.2.0",
            "_view_name": "LayoutView",
            "align_content": null,
            "align_items": null,
            "align_self": null,
            "border": null,
            "bottom": null,
            "display": null,
            "flex": null,
            "flex_flow": null,
            "grid_area": null,
            "grid_auto_columns": null,
            "grid_auto_flow": null,
            "grid_auto_rows": null,
            "grid_column": null,
            "grid_gap": null,
            "grid_row": null,
            "grid_template_areas": null,
            "grid_template_columns": null,
            "grid_template_rows": null,
            "height": null,
            "justify_content": null,
            "justify_items": null,
            "left": null,
            "margin": null,
            "max_height": null,
            "max_width": null,
            "min_height": null,
            "min_width": null,
            "object_fit": null,
            "object_position": null,
            "order": null,
            "overflow": null,
            "overflow_x": null,
            "overflow_y": null,
            "padding": null,
            "right": null,
            "top": null,
            "visibility": null,
            "width": null
          }
        }
      }
    }
  },
  "nbformat": 4,
  "nbformat_minor": 0
}
