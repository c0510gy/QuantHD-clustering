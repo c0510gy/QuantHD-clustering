{
  "cells": [
    {
      "cell_type": "code",
      "execution_count": 3,
      "metadata": {
        "id": "6wDFt_pSICLK"
      },
      "outputs": [],
      "source": [
        "import sys\n",
        "sys.path.append('../')\n",
        "import clustering_tester\n",
        "from tqdm.notebook import tqdm"
      ]
    },
    {
      "cell_type": "code",
      "execution_count": 4,
      "metadata": {
        "id": "AC_HbjdRICLO"
      },
      "outputs": [],
      "source": [
        "DIM = 10000\n",
        "MAX_SAMPLES = 10000\n",
        "BITS = 3\n",
        "EPOCHS = 30"
      ]
    },
    {
      "cell_type": "code",
      "execution_count": 5,
      "metadata": {
        "colab": {
          "base_uri": "https://localhost:8080/",
          "height": 1000,
          "referenced_widgets": [
            "79caaae0e20641a6b89cc8b3995f8922",
            "560f903fe4b44968bb8c440bc0b245ad",
            "7eca866a57c74f2baa662088ae59e8cd",
            "757973b9a1294c438a3558c20e908148",
            "d148b7bb12a44951a38809b799bed539",
            "0028c883dcfa4b8996c43941b14400df",
            "c8e987a060764a4bb9b645cd9b9e70c7",
            "2c3c038f42d749d4b55f3c5524009ea0",
            "0a09d28863434c9faa5325132206a6ff",
            "0223a27048f74baeb266ac85f2062a12",
            "e3921341190d479bbf96f3108b240b9d"
          ]
        },
        "id": "Mori3EXWICLO",
        "outputId": "ed55aa1e-229a-4781-e4c6-1411d9cf09df"
      },
      "outputs": [
        {
          "data": {
            "application/vnd.jupyter.widget-view+json": {
              "model_id": "79caaae0e20641a6b89cc8b3995f8922",
              "version_major": 2,
              "version_minor": 0
            },
            "text/plain": [
              "  0%|          | 0/10 [00:00<?, ?it/s]"
            ]
          },
          "metadata": {},
          "output_type": "display_data"
        },
        {
          "name": "stderr",
          "output_type": "stream",
          "text": [
            "Loading dataset isolet from isolet\n",
            "Loading train data... train data of shape (6238, 617) loaded\n",
            "Loading test data...  test  data of shape (1559, 617) loaded\n",
            "Data Loaded. Num of features = 617 Num of Classes = 26./QuantHD-clustering/hd_clustering/encoder.py:61: UserWarning: An output with one or more elements was resized since it had shape [63, 10000], which does not match the required output shape [1, 10000].This behavior is deprecated, and in a future PyTorch release outputs will not be resized unless they have zero elements. You can explicitly reuse an out tensor t by resizing it, inplace, to zero elements with t.resize_(0). (Triggered internally at  ../aten/src/ATen/native/Resize.cpp:24.)\n",
            "  torch.matmul(x[i:i+bsize], self.basis.T, out=temp)\n"
          ]
        },
        {
          "name": "stdout",
          "output_type": "stream",
          "text": [
            "selected initial labels: [0, 2, 3, 3, 4, 5, 8, 9, 10, 11, 14, 15, 16, 16, 16, 17, 19, 20, 20, 21, 22, 22, 23, 24, 24, 25]\n",
            "0.5416800256492466\n"
          ]
        },
        {
          "name": "stderr",
          "output_type": "stream",
          "text": [
            "Loading dataset isolet from isolet\n",
            "Loading train data... train data of shape (6238, 617) loaded\n",
            "Loading test data...  test  data of shape (1559, 617) loaded\n",
            "Data Loaded. Num of features = 617 Num of Classes = 26./QuantHD-clustering/hd_clustering/encoder.py:61: UserWarning: An output with one or more elements was resized since it had shape [63, 10000], which does not match the required output shape [1, 10000].This behavior is deprecated, and in a future PyTorch release outputs will not be resized unless they have zero elements. You can explicitly reuse an out tensor t by resizing it, inplace, to zero elements with t.resize_(0). (Triggered internally at  ../aten/src/ATen/native/Resize.cpp:24.)\n",
            "  torch.matmul(x[i:i+bsize], self.basis.T, out=temp)\n"
          ]
        },
        {
          "name": "stdout",
          "output_type": "stream",
          "text": [
            "selected initial labels: [1, 3, 7, 8, 9, 9, 9, 11, 12, 14, 15, 15, 17, 18, 18, 19, 20, 21, 22, 22, 22, 22, 23, 23, 24, 25]\n",
            "0.5755049695415198\n"
          ]
        },
        {
          "name": "stderr",
          "output_type": "stream",
          "text": [
            "Loading dataset isolet from isolet\n",
            "Loading train data... train data of shape (6238, 617) loaded\n",
            "Loading test data...  test  data of shape (1559, 617) loaded\n",
            "Data Loaded. Num of features = 617 Num of Classes = 26./QuantHD-clustering/hd_clustering/encoder.py:61: UserWarning: An output with one or more elements was resized since it had shape [63, 10000], which does not match the required output shape [1, 10000].This behavior is deprecated, and in a future PyTorch release outputs will not be resized unless they have zero elements. You can explicitly reuse an out tensor t by resizing it, inplace, to zero elements with t.resize_(0). (Triggered internally at  ../aten/src/ATen/native/Resize.cpp:24.)\n",
            "  torch.matmul(x[i:i+bsize], self.basis.T, out=temp)\n"
          ]
        },
        {
          "name": "stdout",
          "output_type": "stream",
          "text": [
            "selected initial labels: [4, 4, 6, 7, 7, 7, 10, 11, 12, 13, 14, 15, 15, 16, 17, 17, 18, 18, 20, 21, 22, 22, 23, 23, 24, 25]\n",
            "0.607085604360372\n"
          ]
        },
        {
          "name": "stderr",
          "output_type": "stream",
          "text": [
            "Loading dataset isolet from isolet\n",
            "Loading train data... train data of shape (6238, 617) loaded\n",
            "Loading test data...  test  data of shape (1559, 617) loaded\n",
            "Data Loaded. Num of features = 617 Num of Classes = 26./QuantHD-clustering/hd_clustering/encoder.py:61: UserWarning: An output with one or more elements was resized since it had shape [63, 10000], which does not match the required output shape [1, 10000].This behavior is deprecated, and in a future PyTorch release outputs will not be resized unless they have zero elements. You can explicitly reuse an out tensor t by resizing it, inplace, to zero elements with t.resize_(0). (Triggered internally at  ../aten/src/ATen/native/Resize.cpp:24.)\n",
            "  torch.matmul(x[i:i+bsize], self.basis.T, out=temp)\n"
          ]
        },
        {
          "name": "stdout",
          "output_type": "stream",
          "text": [
            "selected initial labels: [4, 5, 5, 7, 8, 9, 10, 12, 13, 14, 16, 17, 17, 18, 19, 19, 19, 20, 20, 20, 20, 21, 22, 22, 25, 25]\n",
            "0.5716575825585123\n"
          ]
        },
        {
          "name": "stderr",
          "output_type": "stream",
          "text": [
            "Loading dataset isolet from isolet\n",
            "Loading train data... train data of shape (6238, 617) loaded\n",
            "Loading test data...  test  data of shape (1559, 617) loaded\n",
            "Data Loaded. Num of features = 617 Num of Classes = 26./QuantHD-clustering/hd_clustering/encoder.py:61: UserWarning: An output with one or more elements was resized since it had shape [63, 10000], which does not match the required output shape [1, 10000].This behavior is deprecated, and in a future PyTorch release outputs will not be resized unless they have zero elements. You can explicitly reuse an out tensor t by resizing it, inplace, to zero elements with t.resize_(0). (Triggered internally at  ../aten/src/ATen/native/Resize.cpp:24.)\n",
            "  torch.matmul(x[i:i+bsize], self.basis.T, out=temp)\n"
          ]
        },
        {
          "name": "stdout",
          "output_type": "stream",
          "text": [
            "selected initial labels: [0, 0, 1, 1, 2, 2, 4, 6, 7, 8, 10, 11, 12, 12, 13, 14, 16, 16, 18, 18, 20, 20, 22, 22, 22, 24]\n",
            "0.5482526450785509\n"
          ]
        },
        {
          "name": "stderr",
          "output_type": "stream",
          "text": [
            "Loading dataset isolet from isolet\n",
            "Loading train data... train data of shape (6238, 617) loaded\n",
            "Loading test data...  test  data of shape (1559, 617) loaded\n",
            "Data Loaded. Num of features = 617 Num of Classes = 26./QuantHD-clustering/hd_clustering/encoder.py:61: UserWarning: An output with one or more elements was resized since it had shape [63, 10000], which does not match the required output shape [1, 10000].This behavior is deprecated, and in a future PyTorch release outputs will not be resized unless they have zero elements. You can explicitly reuse an out tensor t by resizing it, inplace, to zero elements with t.resize_(0). (Triggered internally at  ../aten/src/ATen/native/Resize.cpp:24.)\n",
            "  torch.matmul(x[i:i+bsize], self.basis.T, out=temp)\n"
          ]
        },
        {
          "name": "stdout",
          "output_type": "stream",
          "text": [
            "selected initial labels: [0, 0, 1, 1, 3, 4, 6, 7, 7, 8, 8, 10, 10, 13, 14, 16, 17, 19, 20, 20, 20, 21, 21, 21, 23, 24]\n",
            "0.592337287592177\n"
          ]
        },
        {
          "name": "stderr",
          "output_type": "stream",
          "text": [
            "Loading dataset isolet from isolet\n",
            "Loading train data... train data of shape (6238, 617) loaded\n",
            "Loading test data...  test  data of shape (1559, 617) loaded\n",
            "Data Loaded. Num of features = 617 Num of Classes = 26./QuantHD-clustering/hd_clustering/encoder.py:61: UserWarning: An output with one or more elements was resized since it had shape [63, 10000], which does not match the required output shape [1, 10000].This behavior is deprecated, and in a future PyTorch release outputs will not be resized unless they have zero elements. You can explicitly reuse an out tensor t by resizing it, inplace, to zero elements with t.resize_(0). (Triggered internally at  ../aten/src/ATen/native/Resize.cpp:24.)\n",
            "  torch.matmul(x[i:i+bsize], self.basis.T, out=temp)\n"
          ]
        },
        {
          "name": "stdout",
          "output_type": "stream",
          "text": [
            "selected initial labels: [0, 1, 2, 3, 4, 6, 7, 7, 11, 11, 12, 12, 12, 13, 13, 15, 15, 15, 16, 17, 17, 18, 20, 22, 24, 25]\n",
            "0.5856043603719141\n"
          ]
        },
        {
          "name": "stderr",
          "output_type": "stream",
          "text": [
            "Loading dataset isolet from isolet\n",
            "Loading train data... train data of shape (6238, 617) loaded\n",
            "Loading test data...  test  data of shape (1559, 617) loaded\n",
            "Data Loaded. Num of features = 617 Num of Classes = 26./QuantHD-clustering/hd_clustering/encoder.py:61: UserWarning: An output with one or more elements was resized since it had shape [63, 10000], which does not match the required output shape [1, 10000].This behavior is deprecated, and in a future PyTorch release outputs will not be resized unless they have zero elements. You can explicitly reuse an out tensor t by resizing it, inplace, to zero elements with t.resize_(0). (Triggered internally at  ../aten/src/ATen/native/Resize.cpp:24.)\n",
            "  torch.matmul(x[i:i+bsize], self.basis.T, out=temp)\n"
          ]
        },
        {
          "name": "stdout",
          "output_type": "stream",
          "text": [
            "selected initial labels: [0, 1, 1, 2, 2, 2, 3, 6, 6, 7, 8, 8, 9, 10, 11, 12, 13, 15, 15, 16, 18, 18, 20, 22, 23, 24]\n",
            "0.6160628406540558\n"
          ]
        },
        {
          "name": "stderr",
          "output_type": "stream",
          "text": [
            "Loading dataset isolet from isolet\n",
            "Loading train data... train data of shape (6238, 617) loaded\n",
            "Loading test data...  test  data of shape (1559, 617) loaded\n",
            "Data Loaded. Num of features = 617 Num of Classes = 26./QuantHD-clustering/hd_clustering/encoder.py:61: UserWarning: An output with one or more elements was resized since it had shape [63, 10000], which does not match the required output shape [1, 10000].This behavior is deprecated, and in a future PyTorch release outputs will not be resized unless they have zero elements. You can explicitly reuse an out tensor t by resizing it, inplace, to zero elements with t.resize_(0). (Triggered internally at  ../aten/src/ATen/native/Resize.cpp:24.)\n",
            "  torch.matmul(x[i:i+bsize], self.basis.T, out=temp)\n"
          ]
        },
        {
          "name": "stdout",
          "output_type": "stream",
          "text": [
            "selected initial labels: [0, 0, 1, 1, 2, 4, 6, 7, 8, 10, 11, 12, 13, 13, 13, 14, 14, 14, 14, 15, 17, 17, 19, 22, 23, 25]\n",
            "0.5580314203270279\n"
          ]
        },
        {
          "name": "stderr",
          "output_type": "stream",
          "text": [
            "Loading dataset isolet from isolet\n",
            "Loading train data... train data of shape (6238, 617) loaded\n",
            "Loading test data...  test  data of shape (1559, 617) loaded\n",
            "Data Loaded. Num of features = 617 Num of Classes = 26./QuantHD-clustering/hd_clustering/encoder.py:61: UserWarning: An output with one or more elements was resized since it had shape [63, 10000], which does not match the required output shape [1, 10000].This behavior is deprecated, and in a future PyTorch release outputs will not be resized unless they have zero elements. You can explicitly reuse an out tensor t by resizing it, inplace, to zero elements with t.resize_(0). (Triggered internally at  ../aten/src/ATen/native/Resize.cpp:24.)\n",
            "  torch.matmul(x[i:i+bsize], self.basis.T, out=temp)\n"
          ]
        },
        {
          "name": "stdout",
          "output_type": "stream",
          "text": [
            "selected initial labels: [1, 2, 3, 4, 4, 5, 5, 7, 9, 10, 11, 12, 13, 14, 15, 15, 16, 16, 17, 19, 21, 22, 22, 23, 24, 24]\n",
            "0.6183071497274768\n"
          ]
        }
      ],
      "source": [
        "histories = []\n",
        "for trial in tqdm(range(10)):\n",
        "  history = clustering_tester.run_clustering(\n",
        "    *clustering_tester.get_isolet_dataset(MAX_SAMPLES),\n",
        "    BITS,\n",
        "    DIM,\n",
        "    EPOCHS,\n",
        "    clustering_tester.get_prob_tables_from_json('../prob_table.json')['27C_Front_10nm_3bit']\n",
        "  )\n",
        "  histories.append(history)"
      ]
    },
    {
      "cell_type": "code",
      "execution_count": 6,
      "metadata": {
        "colab": {
          "base_uri": "https://localhost:8080/",
          "height": 443
        },
        "id": "8f5-a6aUICLP",
        "outputId": "47e55887-3e40-4320-ea3c-539b862355b0"
      },
      "outputs": [
        {
          "data": {
            "image/png": "[encoded data removed]",
            "text/plain": [
              "<Figure size 720x504 with 1 Axes>"
            ]
          },
          "metadata": {
            "needs_background": "light"
          },
          "output_type": "display_data"
        }
      ],
      "source": [
        "clustering_tester.plot_histories(histories)"
      ]
    },
    {
      "cell_type": "code",
      "execution_count": 7,
      "metadata": {
        "colab": {
          "base_uri": "https://localhost:8080/",
          "height": 1000,
          "referenced_widgets": [
            "bfef8c813d234fd79c8a4d65d86c6e86",
            "7714a9e83359492a815c0a2e7a74cf4e",
            "1adb4b3b7a95433d85467089e42dbfe0",
            "1cf71e85b0a14780a0fdb831649f1b93",
            "2048d060f9da433dbdda5a3c7a089e76",
            "a3348f75260241d09cb6a66166e52cf2",
            "485b0ed2190b4617aeff6637b4432347",
            "573ffb548bc945058a9248af109f980f",
            "bc5d7af3cc784c699b56d2f536855bcb",
            "f21b1b53a07340edad4deac402244ea5",
            "cb4b5c3e43c04f56a5f4b5922807d09d"
          ]
        },
        "id": "savzbP3sICLQ",
        "outputId": "c8c787e8-eb16-4926-a51f-8c3199065024"
      },
      "outputs": [
        {
          "data": {
            "application/vnd.jupyter.widget-view+json": {
              "model_id": "bfef8c813d234fd79c8a4d65d86c6e86",
              "version_major": 2,
              "version_minor": 0
            },
            "text/plain": [
              "  0%|          | 0/10 [00:00<?, ?it/s]"
            ]
          },
          "metadata": {},
          "output_type": "display_data"
        },
        {
          "name": "stderr",
          "output_type": "stream",
          "text": [
            "Loading dataset isolet from isolet\n",
            "Loading train data... train data of shape (6238, 617) loaded\n",
            "Loading test data...  test  data of shape (1559, 617) loaded\n",
            "Data Loaded. Num of features = 617 Num of Classes = 26./QuantHD-clustering/hd_clustering/encoder.py:61: UserWarning: An output with one or more elements was resized since it had shape [63, 10000], which does not match the required output shape [1, 10000].This behavior is deprecated, and in a future PyTorch release outputs will not be resized unless they have zero elements. You can explicitly reuse an out tensor t by resizing it, inplace, to zero elements with t.resize_(0). (Triggered internally at  ../aten/src/ATen/native/Resize.cpp:24.)\n",
            "  torch.matmul(x[i:i+bsize], self.basis.T, out=temp)\n"
          ]
        },
        {
          "name": "stdout",
          "output_type": "stream",
          "text": [
            "selected initial labels: [0, 0, 0, 1, 3, 3, 6, 8, 8, 8, 9, 9, 10, 10, 11, 12, 12, 15, 17, 17, 18, 19, 20, 20, 22, 23]\n",
            "0.5785508175697339\n"
          ]
        },
        {
          "name": "stderr",
          "output_type": "stream",
          "text": [
            "Loading dataset isolet from isolet\n",
            "Loading train data... train data of shape (6238, 617) loaded\n",
            "Loading test data...  test  data of shape (1559, 617) loaded\n",
            "Data Loaded. Num of features = 617 Num of Classes = 26./QuantHD-clustering/hd_clustering/encoder.py:61: UserWarning: An output with one or more elements was resized since it had shape [63, 10000], which does not match the required output shape [1, 10000].This behavior is deprecated, and in a future PyTorch release outputs will not be resized unless they have zero elements. You can explicitly reuse an out tensor t by resizing it, inplace, to zero elements with t.resize_(0). (Triggered internally at  ../aten/src/ATen/native/Resize.cpp:24.)\n",
            "  torch.matmul(x[i:i+bsize], self.basis.T, out=temp)\n"
          ]
        },
        {
          "name": "stdout",
          "output_type": "stream",
          "text": [
            "selected initial labels: [0, 2, 4, 5, 5, 5, 7, 8, 8, 9, 10, 12, 12, 13, 13, 14, 15, 15, 16, 16, 16, 17, 19, 19, 22, 24]\n",
            "0.5795126643154858\n"
          ]
        },
        {
          "name": "stderr",
          "output_type": "stream",
          "text": [
            "Loading dataset isolet from isolet\n",
            "Loading train data... train data of shape (6238, 617) loaded\n",
            "Loading test data...  test  data of shape (1559, 617) loaded\n",
            "Data Loaded. Num of features = 617 Num of Classes = 26./QuantHD-clustering/hd_clustering/encoder.py:61: UserWarning: An output with one or more elements was resized since it had shape [63, 10000], which does not match the required output shape [1, 10000].This behavior is deprecated, and in a future PyTorch release outputs will not be resized unless they have zero elements. You can explicitly reuse an out tensor t by resizing it, inplace, to zero elements with t.resize_(0). (Triggered internally at  ../aten/src/ATen/native/Resize.cpp:24.)\n",
            "  torch.matmul(x[i:i+bsize], self.basis.T, out=temp)\n"
          ]
        },
        {
          "name": "stdout",
          "output_type": "stream",
          "text": [
            "selected initial labels: [2, 3, 6, 8, 9, 10, 10, 11, 12, 13, 13, 14, 14, 15, 16, 17, 17, 19, 20, 21, 21, 22, 22, 25, 25, 25]\n",
            "0.6054825264507855\n"
          ]
        },
        {
          "name": "stderr",
          "output_type": "stream",
          "text": [
            "Loading dataset isolet from isolet\n",
            "Loading train data... train data of shape (6238, 617) loaded\n",
            "Loading test data...  test  data of shape (1559, 617) loaded\n",
            "Data Loaded. Num of features = 617 Num of Classes = 26./QuantHD-clustering/hd_clustering/encoder.py:61: UserWarning: An output with one or more elements was resized since it had shape [63, 10000], which does not match the required output shape [1, 10000].This behavior is deprecated, and in a future PyTorch release outputs will not be resized unless they have zero elements. You can explicitly reuse an out tensor t by resizing it, inplace, to zero elements with t.resize_(0). (Triggered internally at  ../aten/src/ATen/native/Resize.cpp:24.)\n",
            "  torch.matmul(x[i:i+bsize], self.basis.T, out=temp)\n"
          ]
        },
        {
          "name": "stdout",
          "output_type": "stream",
          "text": [
            "selected initial labels: [0, 1, 1, 2, 5, 7, 10, 10, 11, 11, 12, 12, 13, 14, 15, 16, 18, 19, 20, 20, 21, 23, 24, 24, 25, 25]\n",
            "0.6354600833600513\n"
          ]
        },
        {
          "name": "stderr",
          "output_type": "stream",
          "text": [
            "Loading dataset isolet from isolet\n",
            "Loading train data... train data of shape (6238, 617) loaded\n",
            "Loading test data...  test  data of shape (1559, 617) loaded\n",
            "Data Loaded. Num of features = 617 Num of Classes = 26./QuantHD-clustering/hd_clustering/encoder.py:61: UserWarning: An output with one or more elements was resized since it had shape [63, 10000], which does not match the required output shape [1, 10000].This behavior is deprecated, and in a future PyTorch release outputs will not be resized unless they have zero elements. You can explicitly reuse an out tensor t by resizing it, inplace, to zero elements with t.resize_(0). (Triggered internally at  ../aten/src/ATen/native/Resize.cpp:24.)\n",
            "  torch.matmul(x[i:i+bsize], self.basis.T, out=temp)\n"
          ]
        },
        {
          "name": "stdout",
          "output_type": "stream",
          "text": [
            "selected initial labels: [1, 2, 2, 2, 4, 6, 6, 7, 7, 7, 8, 8, 9, 9, 12, 14, 15, 16, 18, 19, 20, 20, 20, 23, 23, 24]\n",
            "0.5613978839371594\n"
          ]
        },
        {
          "name": "stderr",
          "output_type": "stream",
          "text": [
            "Loading dataset isolet from isolet\n",
            "Loading train data... train data of shape (6238, 617) loaded\n",
            "Loading test data...  test  data of shape (1559, 617) loaded\n",
            "Data Loaded. Num of features = 617 Num of Classes = 26./QuantHD-clustering/hd_clustering/encoder.py:61: UserWarning: An output with one or more elements was resized since it had shape [63, 10000], which does not match the required output shape [1, 10000].This behavior is deprecated, and in a future PyTorch release outputs will not be resized unless they have zero elements. You can explicitly reuse an out tensor t by resizing it, inplace, to zero elements with t.resize_(0). (Triggered internally at  ../aten/src/ATen/native/Resize.cpp:24.)\n",
            "  torch.matmul(x[i:i+bsize], self.basis.T, out=temp)\n"
          ]
        },
        {
          "name": "stdout",
          "output_type": "stream",
          "text": [
            "selected initial labels: [1, 1, 6, 6, 8, 9, 10, 11, 11, 11, 13, 13, 13, 14, 14, 15, 16, 17, 18, 18, 20, 20, 22, 23, 24, 25]\n",
            "0.5811157422250721\n"
          ]
        },
        {
          "name": "stderr",
          "output_type": "stream",
          "text": [
            "Loading dataset isolet from isolet\n",
            "Loading train data... train data of shape (6238, 617) loaded\n",
            "Loading test data...  test  data of shape (1559, 617) loaded\n",
            "Data Loaded. Num of features = 617 Num of Classes = 26./QuantHD-clustering/hd_clustering/encoder.py:61: UserWarning: An output with one or more elements was resized since it had shape [63, 10000], which does not match the required output shape [1, 10000].This behavior is deprecated, and in a future PyTorch release outputs will not be resized unless they have zero elements. You can explicitly reuse an out tensor t by resizing it, inplace, to zero elements with t.resize_(0). (Triggered internally at  ../aten/src/ATen/native/Resize.cpp:24.)\n",
            "  torch.matmul(x[i:i+bsize], self.basis.T, out=temp)\n"
          ]
        },
        {
          "name": "stdout",
          "output_type": "stream",
          "text": [
            "selected initial labels: [0, 3, 4, 5, 6, 6, 8, 8, 9, 10, 11, 12, 12, 12, 15, 15, 17, 17, 20, 21, 22, 22, 23, 24, 25, 25]\n",
            "0.6147803783263867\n"
          ]
        },
        {
          "name": "stderr",
          "output_type": "stream",
          "text": [
            "Loading dataset isolet from isolet\n",
            "Loading train data... train data of shape (6238, 617) loaded\n",
            "Loading test data...  test  data of shape (1559, 617) loaded\n",
            "Data Loaded. Num of features = 617 Num of Classes = 26./QuantHD-clustering/hd_clustering/encoder.py:61: UserWarning: An output with one or more elements was resized since it had shape [63, 10000], which does not match the required output shape [1, 10000].This behavior is deprecated, and in a future PyTorch release outputs will not be resized unless they have zero elements. You can explicitly reuse an out tensor t by resizing it, inplace, to zero elements with t.resize_(0). (Triggered internally at  ../aten/src/ATen/native/Resize.cpp:24.)\n",
            "  torch.matmul(x[i:i+bsize], self.basis.T, out=temp)\n"
          ]
        },
        {
          "name": "stdout",
          "output_type": "stream",
          "text": [
            "selected initial labels: [0, 1, 2, 4, 5, 5, 6, 6, 7, 7, 9, 9, 11, 11, 12, 13, 14, 14, 15, 16, 18, 20, 21, 23, 24, 25]\n",
            "0.6215133055466495\n"
          ]
        },
        {
          "name": "stderr",
          "output_type": "stream",
          "text": [
            "Loading dataset isolet from isolet\n",
            "Loading train data... train data of shape (6238, 617) loaded\n",
            "Loading test data...  test  data of shape (1559, 617) loaded\n",
            "Data Loaded. Num of features = 617 Num of Classes = 26./QuantHD-clustering/hd_clustering/encoder.py:61: UserWarning: An output with one or more elements was resized since it had shape [63, 10000], which does not match the required output shape [1, 10000].This behavior is deprecated, and in a future PyTorch release outputs will not be resized unless they have zero elements. You can explicitly reuse an out tensor t by resizing it, inplace, to zero elements with t.resize_(0). (Triggered internally at  ../aten/src/ATen/native/Resize.cpp:24.)\n",
            "  torch.matmul(x[i:i+bsize], self.basis.T, out=temp)\n"
          ]
        },
        {
          "name": "stdout",
          "output_type": "stream",
          "text": [
            "selected initial labels: [0, 1, 5, 6, 6, 7, 7, 8, 10, 11, 12, 13, 13, 13, 15, 16, 16, 17, 19, 19, 20, 20, 23, 23, 24, 24]\n",
            "0.5788714331516511\n"
          ]
        },
        {
          "name": "stderr",
          "output_type": "stream",
          "text": [
            "Loading dataset isolet from isolet\n",
            "Loading train data... train data of shape (6238, 617) loaded\n",
            "Loading test data...  test  data of shape (1559, 617) loaded\n",
            "Data Loaded. Num of features = 617 Num of Classes = 26./QuantHD-clustering/hd_clustering/encoder.py:61: UserWarning: An output with one or more elements was resized since it had shape [63, 10000], which does not match the required output shape [1, 10000].This behavior is deprecated, and in a future PyTorch release outputs will not be resized unless they have zero elements. You can explicitly reuse an out tensor t by resizing it, inplace, to zero elements with t.resize_(0). (Triggered internally at  ../aten/src/ATen/native/Resize.cpp:24.)\n",
            "  torch.matmul(x[i:i+bsize], self.basis.T, out=temp)\n"
          ]
        },
        {
          "name": "stdout",
          "output_type": "stream",
          "text": [
            "selected initial labels: [0, 2, 3, 4, 5, 6, 7, 9, 9, 9, 11, 12, 12, 12, 12, 14, 15, 15, 16, 17, 20, 20, 21, 23, 24, 24]\n",
            "0.5952228278294325\n"
          ]
        }
      ],
      "source": [
        "histories = []\n",
        "for trial in tqdm(range(10)):\n",
        "  history = clustering_tester.run_clustering(\n",
        "    *clustering_tester.get_isolet_dataset(MAX_SAMPLES),\n",
        "    BITS,\n",
        "    DIM,\n",
        "    EPOCHS,\n",
        "    clustering_tester.get_prob_tables_from_json('../prob_table.json')['80C_Back_3nm_3bit']\n",
        "  )\n",
        "  histories.append(history)"
      ]
    },
    {
      "cell_type": "code",
      "execution_count": 8,
      "metadata": {
        "colab": {
          "base_uri": "https://localhost:8080/",
          "height": 442
        },
        "id": "uI_oVA1tICLQ",
        "outputId": "5f3ab8ab-89ab-414c-de56-980fcf719c42"
      },
      "outputs": [
        {
          "data": {
            "image/png": "[encoded data removed]",
            "text/plain": [
              "<Figure size 720x504 with 1 Axes>"
            ]
          },
          "metadata": {
            "needs_background": "light"
          },
          "output_type": "display_data"
        }
      ],
      "source": [
        "clustering_tester.plot_histories(histories)"
      ]
    },
    {
      "cell_type": "code",
      "execution_count": 9,
      "metadata": {
        "colab": {
          "base_uri": "https://localhost:8080/",
          "height": 1000,
          "referenced_widgets": [
            "2d6979c7842b418b890ba50d714e1274",
            "16001bab68a74da0862f8a09920ac5d0",
            "d468866c739246fea3c6c2f719703058",
            "955b31e7fcc9472c8c6d409832399f36",
            "8a5983f9e6f944a193628918afc35501",
            "145008da3eab4ba5a058a032de691b49",
            "545c6b031c8f4b9cbc6a56b8ba4c3650",
            "eb811614e59f4b09a76dced6490ccb33",
            "509a4f00e782430aba7096459529b5cf",
            "f726b81274d84139ae3a19fbadbc1b5b",
            "0347e5c63dad4b75ac59b35115edb666"
          ]
        },
        "id": "5Qf0HldUICLR",
        "outputId": "98f75e78-2ca4-4e78-bb84-9be10933ca5a"
      },
      "outputs": [
        {
          "data": {
            "application/vnd.jupyter.widget-view+json": {
              "model_id": "2d6979c7842b418b890ba50d714e1274",
              "version_major": 2,
              "version_minor": 0
            },
            "text/plain": [
              "  0%|          | 0/10 [00:00<?, ?it/s]"
            ]
          },
          "metadata": {},
          "output_type": "display_data"
        },
        {
          "name": "stderr",
          "output_type": "stream",
          "text": [
            "Loading dataset isolet from isolet\n",
            "Loading train data... train data of shape (6238, 617) loaded\n",
            "Loading test data...  test  data of shape (1559, 617) loaded\n",
            "Data Loaded. Num of features = 617 Num of Classes = 26./QuantHD-clustering/hd_clustering/encoder.py:61: UserWarning: An output with one or more elements was resized since it had shape [63, 10000], which does not match the required output shape [1, 10000].This behavior is deprecated, and in a future PyTorch release outputs will not be resized unless they have zero elements. You can explicitly reuse an out tensor t by resizing it, inplace, to zero elements with t.resize_(0). (Triggered internally at  ../aten/src/ATen/native/Resize.cpp:24.)\n",
            "  torch.matmul(x[i:i+bsize], self.basis.T, out=temp)\n"
          ]
        },
        {
          "name": "stdout",
          "output_type": "stream",
          "text": [
            "selected initial labels: [2, 4, 5, 5, 5, 6, 7, 7, 10, 10, 10, 11, 11, 12, 13, 13, 16, 16, 17, 18, 18, 19, 20, 22, 24, 25]\n",
            "0.5960243667842258\n"
          ]
        },
        {
          "name": "stderr",
          "output_type": "stream",
          "text": [
            "Loading dataset isolet from isolet\n",
            "Loading train data... train data of shape (6238, 617) loaded\n",
            "Loading test data...  test  data of shape (1559, 617) loaded\n",
            "Data Loaded. Num of features = 617 Num of Classes = 26./QuantHD-clustering/hd_clustering/encoder.py:61: UserWarning: An output with one or more elements was resized since it had shape [63, 10000], which does not match the required output shape [1, 10000].This behavior is deprecated, and in a future PyTorch release outputs will not be resized unless they have zero elements. You can explicitly reuse an out tensor t by resizing it, inplace, to zero elements with t.resize_(0). (Triggered internally at  ../aten/src/ATen/native/Resize.cpp:24.)\n",
            "  torch.matmul(x[i:i+bsize], self.basis.T, out=temp)\n"
          ]
        },
        {
          "name": "stdout",
          "output_type": "stream",
          "text": [
            "selected initial labels: [4, 5, 6, 7, 8, 8, 9, 11, 11, 11, 13, 13, 14, 14, 15, 16, 16, 17, 18, 19, 22, 22, 23, 23, 24, 25]\n",
            "0.5687720423212568\n"
          ]
        },
        {
          "name": "stderr",
          "output_type": "stream",
          "text": [
            "Loading dataset isolet from isolet\n",
            "Loading train data... train data of shape (6238, 617) loaded\n",
            "Loading test data...  test  data of shape (1559, 617) loaded\n",
            "Data Loaded. Num of features = 617 Num of Classes = 26./QuantHD-clustering/hd_clustering/encoder.py:61: UserWarning: An output with one or more elements was resized since it had shape [63, 10000], which does not match the required output shape [1, 10000].This behavior is deprecated, and in a future PyTorch release outputs will not be resized unless they have zero elements. You can explicitly reuse an out tensor t by resizing it, inplace, to zero elements with t.resize_(0). (Triggered internally at  ../aten/src/ATen/native/Resize.cpp:24.)\n",
            "  torch.matmul(x[i:i+bsize], self.basis.T, out=temp)\n"
          ]
        },
        {
          "name": "stdout",
          "output_type": "stream",
          "text": [
            "selected initial labels: [0, 3, 4, 5, 6, 6, 7, 12, 13, 13, 14, 14, 14, 15, 16, 17, 19, 20, 20, 20, 20, 21, 22, 22, 23, 25]\n",
            "0.5636421930105803\n"
          ]
        },
        {
          "name": "stderr",
          "output_type": "stream",
          "text": [
            "Loading dataset isolet from isolet\n",
            "Loading train data... train data of shape (6238, 617) loaded\n",
            "Loading test data...  test  data of shape (1559, 617) loaded\n",
            "Data Loaded. Num of features = 617 Num of Classes = 26./QuantHD-clustering/hd_clustering/encoder.py:61: UserWarning: An output with one or more elements was resized since it had shape [63, 10000], which does not match the required output shape [1, 10000].This behavior is deprecated, and in a future PyTorch release outputs will not be resized unless they have zero elements. You can explicitly reuse an out tensor t by resizing it, inplace, to zero elements with t.resize_(0). (Triggered internally at  ../aten/src/ATen/native/Resize.cpp:24.)\n",
            "  torch.matmul(x[i:i+bsize], self.basis.T, out=temp)\n"
          ]
        },
        {
          "name": "stdout",
          "output_type": "stream",
          "text": [
            "selected initial labels: [0, 2, 2, 2, 2, 3, 3, 4, 7, 7, 8, 8, 9, 9, 10, 12, 14, 14, 15, 15, 16, 17, 18, 23, 23, 25]\n",
            "0.5864058993267073\n"
          ]
        },
        {
          "name": "stderr",
          "output_type": "stream",
          "text": [
            "Loading dataset isolet from isolet\n",
            "Loading train data... train data of shape (6238, 617) loaded\n",
            "Loading test data...  test  data of shape (1559, 617) loaded\n",
            "Data Loaded. Num of features = 617 Num of Classes = 26./QuantHD-clustering/hd_clustering/encoder.py:61: UserWarning: An output with one or more elements was resized since it had shape [63, 10000], which does not match the required output shape [1, 10000].This behavior is deprecated, and in a future PyTorch release outputs will not be resized unless they have zero elements. You can explicitly reuse an out tensor t by resizing it, inplace, to zero elements with t.resize_(0). (Triggered internally at  ../aten/src/ATen/native/Resize.cpp:24.)\n",
            "  torch.matmul(x[i:i+bsize], self.basis.T, out=temp)\n"
          ]
        },
        {
          "name": "stdout",
          "output_type": "stream",
          "text": [
            "selected initial labels: [0, 1, 4, 6, 6, 7, 8, 8, 8, 8, 9, 12, 12, 13, 13, 16, 17, 17, 18, 19, 20, 20, 22, 24, 24, 25]\n",
            "0.5444052580955434\n"
          ]
        },
        {
          "name": "stderr",
          "output_type": "stream",
          "text": [
            "Loading dataset isolet from isolet\n",
            "Loading train data... train data of shape (6238, 617) loaded\n",
            "Loading test data...  test  data of shape (1559, 617) loaded\n",
            "Data Loaded. Num of features = 617 Num of Classes = 26./QuantHD-clustering/hd_clustering/encoder.py:61: UserWarning: An output with one or more elements was resized since it had shape [63, 10000], which does not match the required output shape [1, 10000].This behavior is deprecated, and in a future PyTorch release outputs will not be resized unless they have zero elements. You can explicitly reuse an out tensor t by resizing it, inplace, to zero elements with t.resize_(0). (Triggered internally at  ../aten/src/ATen/native/Resize.cpp:24.)\n",
            "  torch.matmul(x[i:i+bsize], self.basis.T, out=temp)\n"
          ]
        },
        {
          "name": "stdout",
          "output_type": "stream",
          "text": [
            "selected initial labels: [1, 1, 2, 7, 9, 10, 11, 11, 12, 12, 13, 13, 14, 14, 15, 15, 17, 19, 20, 21, 23, 24, 24, 25, 25, 25]\n",
            "0.5913754408464251\n"
          ]
        },
        {
          "name": "stderr",
          "output_type": "stream",
          "text": [
            "Loading dataset isolet from isolet\n",
            "Loading train data... train data of shape (6238, 617) loaded\n",
            "Loading test data...  test  data of shape (1559, 617) loaded\n",
            "Data Loaded. Num of features = 617 Num of Classes = 26./QuantHD-clustering/hd_clustering/encoder.py:61: UserWarning: An output with one or more elements was resized since it had shape [63, 10000], which does not match the required output shape [1, 10000].This behavior is deprecated, and in a future PyTorch release outputs will not be resized unless they have zero elements. You can explicitly reuse an out tensor t by resizing it, inplace, to zero elements with t.resize_(0). (Triggered internally at  ../aten/src/ATen/native/Resize.cpp:24.)\n",
            "  torch.matmul(x[i:i+bsize], self.basis.T, out=temp)\n"
          ]
        },
        {
          "name": "stdout",
          "output_type": "stream",
          "text": [
            "selected initial labels: [0, 1, 2, 2, 3, 3, 4, 8, 9, 10, 10, 11, 13, 13, 14, 15, 17, 17, 18, 18, 19, 22, 23, 23, 24, 25]\n",
            "0.5867265149086246\n"
          ]
        },
        {
          "name": "stderr",
          "output_type": "stream",
          "text": [
            "Loading dataset isolet from isolet\n",
            "Loading train data... train data of shape (6238, 617) loaded\n",
            "Loading test data...  test  data of shape (1559, 617) loaded\n",
            "Data Loaded. Num of features = 617 Num of Classes = 26./QuantHD-clustering/hd_clustering/encoder.py:61: UserWarning: An output with one or more elements was resized since it had shape [63, 10000], which does not match the required output shape [1, 10000].This behavior is deprecated, and in a future PyTorch release outputs will not be resized unless they have zero elements. You can explicitly reuse an out tensor t by resizing it, inplace, to zero elements with t.resize_(0). (Triggered internally at  ../aten/src/ATen/native/Resize.cpp:24.)\n",
            "  torch.matmul(x[i:i+bsize], self.basis.T, out=temp)\n"
          ]
        },
        {
          "name": "stdout",
          "output_type": "stream",
          "text": [
            "selected initial labels: [3, 5, 6, 7, 7, 7, 8, 9, 12, 12, 13, 13, 13, 14, 14, 17, 19, 20, 21, 21, 22, 23, 24, 24, 25, 25]\n",
            "0.5998717537672331\n"
          ]
        },
        {
          "name": "stderr",
          "output_type": "stream",
          "text": [
            "Loading dataset isolet from isolet\n",
            "Loading train data... train data of shape (6238, 617) loaded\n",
            "Loading test data...  test  data of shape (1559, 617) loaded\n",
            "Data Loaded. Num of features = 617 Num of Classes = 26./QuantHD-clustering/hd_clustering/encoder.py:61: UserWarning: An output with one or more elements was resized since it had shape [63, 10000], which does not match the required output shape [1, 10000].This behavior is deprecated, and in a future PyTorch release outputs will not be resized unless they have zero elements. You can explicitly reuse an out tensor t by resizing it, inplace, to zero elements with t.resize_(0). (Triggered internally at  ../aten/src/ATen/native/Resize.cpp:24.)\n",
            "  torch.matmul(x[i:i+bsize], self.basis.T, out=temp)\n"
          ]
        },
        {
          "name": "stdout",
          "output_type": "stream",
          "text": [
            "selected initial labels: [3, 3, 4, 4, 5, 7, 8, 8, 9, 9, 9, 14, 17, 18, 18, 19, 19, 21, 21, 22, 22, 22, 23, 23, 24, 24]\n",
            "0.600833600512985\n"
          ]
        },
        {
          "name": "stderr",
          "output_type": "stream",
          "text": [
            "Loading dataset isolet from isolet\n",
            "Loading train data... train data of shape (6238, 617) loaded\n",
            "Loading test data...  test  data of shape (1559, 617) loaded\n",
            "Data Loaded. Num of features = 617 Num of Classes = 26./QuantHD-clustering/hd_clustering/encoder.py:61: UserWarning: An output with one or more elements was resized since it had shape [63, 10000], which does not match the required output shape [1, 10000].This behavior is deprecated, and in a future PyTorch release outputs will not be resized unless they have zero elements. You can explicitly reuse an out tensor t by resizing it, inplace, to zero elements with t.resize_(0). (Triggered internally at  ../aten/src/ATen/native/Resize.cpp:24.)\n",
            "  torch.matmul(x[i:i+bsize], self.basis.T, out=temp)\n"
          ]
        },
        {
          "name": "stdout",
          "output_type": "stream",
          "text": [
            "selected initial labels: [1, 1, 2, 3, 5, 6, 6, 6, 7, 9, 9, 9, 11, 14, 15, 15, 16, 16, 17, 18, 19, 20, 21, 22, 23, 24]\n",
            "0.607085604360372\n"
          ]
        }
      ],
      "source": [
        "histories = []\n",
        "for trial in tqdm(range(10)):\n",
        "  history = clustering_tester.run_clustering(\n",
        "    *clustering_tester.get_isolet_dataset(MAX_SAMPLES),\n",
        "    BITS,\n",
        "    DIM,\n",
        "    EPOCHS,\n",
        "    clustering_tester.get_prob_tables_from_json('../prob_table.json')['27C_Front_3nm_3bit']\n",
        "  )\n",
        "  histories.append(history)"
      ]
    },
    {
      "cell_type": "code",
      "execution_count": 10,
      "metadata": {
        "colab": {
          "base_uri": "https://localhost:8080/",
          "height": 442
        },
        "id": "FuH-QTLYICLS",
        "outputId": "f2ade0bb-de72-470b-fa5d-d06cf6a806d2"
      },
      "outputs": [
        {
          "data": {
            "image/png": "[encoded data removed]",
            "text/plain": [
              "<Figure size 720x504 with 1 Axes>"
            ]
          },
          "metadata": {
            "needs_background": "light"
          },
          "output_type": "display_data"
        }
      ],
      "source": [
        "clustering_tester.plot_histories(histories)"
      ]
    },
    {
      "cell_type": "code",
      "execution_count": 11,
      "metadata": {
        "id": "1Lp68DEAICLS"
      },
      "outputs": [],
      "source": [
        "BITS = 4"
      ]
    },
    {
      "cell_type": "code",
      "execution_count": 12,
      "metadata": {
        "colab": {
          "base_uri": "https://localhost:8080/",
          "height": 1000,
          "referenced_widgets": [
            "cd5abf13f71c49a9b13fb733c5b2393f",
            "b39d0a267e6c43b5905ac4a3ae506ab1",
            "106e942e178e4785bb02d945572328a5",
            "6e95a6fa56cc49bd9d11caa22db59479",
            "13899c3c30e043a3b7ebe6d9de2109ef",
            "f61dc5e64dbb4991957a0ea9c703e8c8",
            "58c37c62b8274ad59419b95b4d28cc16",
            "62a7ecc8d4a544ea928b5abee8ea90ed",
            "281ffda0f826451ea965d027cbf3e999",
            "602ac7c33b304538bc89b4f4e30932ae",
            "2e575e87a1334f76bebd96492d2c89f4"
          ]
        },
        "id": "d655SzxKICLT",
        "outputId": "172527e6-96db-493f-8eea-06540774c20b"
      },
      "outputs": [
        {
          "data": {
            "application/vnd.jupyter.widget-view+json": {
              "model_id": "cd5abf13f71c49a9b13fb733c5b2393f",
              "version_major": 2,
              "version_minor": 0
            },
            "text/plain": [
              "  0%|          | 0/10 [00:00<?, ?it/s]"
            ]
          },
          "metadata": {},
          "output_type": "display_data"
        },
        {
          "name": "stderr",
          "output_type": "stream",
          "text": [
            "Loading dataset isolet from isolet\n",
            "Loading train data... train data of shape (6238, 617) loaded\n",
            "Loading test data...  test  data of shape (1559, 617) loaded\n",
            "Data Loaded. Num of features = 617 Num of Classes = 26./QuantHD-clustering/hd_clustering/encoder.py:61: UserWarning: An output with one or more elements was resized since it had shape [63, 10000], which does not match the required output shape [1, 10000].This behavior is deprecated, and in a future PyTorch release outputs will not be resized unless they have zero elements. You can explicitly reuse an out tensor t by resizing it, inplace, to zero elements with t.resize_(0). (Triggered internally at  ../aten/src/ATen/native/Resize.cpp:24.)\n",
            "  torch.matmul(x[i:i+bsize], self.basis.T, out=temp)\n"
          ]
        },
        {
          "name": "stdout",
          "output_type": "stream",
          "text": [
            "selected initial labels: [0, 2, 3, 7, 9, 10, 10, 11, 12, 13, 13, 13, 14, 16, 17, 18, 18, 18, 20, 20, 22, 22, 23, 23, 25, 25]\n",
            "0.6078871433151651\n"
          ]
        },
        {
          "name": "stderr",
          "output_type": "stream",
          "text": [
            "Loading dataset isolet from isolet\n",
            "Loading train data... train data of shape (6238, 617) loaded\n",
            "Loading test data...  test  data of shape (1559, 617) loaded\n",
            "Data Loaded. Num of features = 617 Num of Classes = 26./QuantHD-clustering/hd_clustering/encoder.py:61: UserWarning: An output with one or more elements was resized since it had shape [63, 10000], which does not match the required output shape [1, 10000].This behavior is deprecated, and in a future PyTorch release outputs will not be resized unless they have zero elements. You can explicitly reuse an out tensor t by resizing it, inplace, to zero elements with t.resize_(0). (Triggered internally at  ../aten/src/ATen/native/Resize.cpp:24.)\n",
            "  torch.matmul(x[i:i+bsize], self.basis.T, out=temp)\n"
          ]
        },
        {
          "name": "stdout",
          "output_type": "stream",
          "text": [
            "selected initial labels: [0, 0, 0, 0, 3, 5, 6, 12, 12, 12, 13, 16, 17, 17, 18, 19, 20, 20, 21, 21, 22, 23, 24, 24, 25, 25]\n",
            "0.5857646681628728\n"
          ]
        },
        {
          "name": "stderr",
          "output_type": "stream",
          "text": [
            "Loading dataset isolet from isolet\n",
            "Loading train data... train data of shape (6238, 617) loaded\n",
            "Loading test data...  test  data of shape (1559, 617) loaded\n",
            "Data Loaded. Num of features = 617 Num of Classes = 26./QuantHD-clustering/hd_clustering/encoder.py:61: UserWarning: An output with one or more elements was resized since it had shape [63, 10000], which does not match the required output shape [1, 10000].This behavior is deprecated, and in a future PyTorch release outputs will not be resized unless they have zero elements. You can explicitly reuse an out tensor t by resizing it, inplace, to zero elements with t.resize_(0). (Triggered internally at  ../aten/src/ATen/native/Resize.cpp:24.)\n",
            "  torch.matmul(x[i:i+bsize], self.basis.T, out=temp)\n"
          ]
        },
        {
          "name": "stdout",
          "output_type": "stream",
          "text": [
            "selected initial labels: [0, 1, 1, 1, 2, 2, 2, 6, 7, 7, 8, 9, 10, 11, 11, 12, 14, 17, 18, 20, 22, 23, 23, 24, 24, 24]\n",
            "0.5790317409426098\n"
          ]
        },
        {
          "name": "stderr",
          "output_type": "stream",
          "text": [
            "Loading dataset isolet from isolet\n",
            "Loading train data... train data of shape (6238, 617) loaded\n",
            "Loading test data...  test  data of shape (1559, 617) loaded\n",
            "Data Loaded. Num of features = 617 Num of Classes = 26./QuantHD-clustering/hd_clustering/encoder.py:61: UserWarning: An output with one or more elements was resized since it had shape [63, 10000], which does not match the required output shape [1, 10000].This behavior is deprecated, and in a future PyTorch release outputs will not be resized unless they have zero elements. You can explicitly reuse an out tensor t by resizing it, inplace, to zero elements with t.resize_(0). (Triggered internally at  ../aten/src/ATen/native/Resize.cpp:24.)\n",
            "  torch.matmul(x[i:i+bsize], self.basis.T, out=temp)\n"
          ]
        },
        {
          "name": "stdout",
          "output_type": "stream",
          "text": [
            "selected initial labels: [0, 0, 1, 1, 1, 2, 2, 4, 5, 7, 7, 9, 10, 10, 11, 14, 16, 16, 17, 17, 18, 20, 21, 23, 24, 25]\n",
            "0.5799935876883616\n"
          ]
        },
        {
          "name": "stderr",
          "output_type": "stream",
          "text": [
            "Loading dataset isolet from isolet\n",
            "Loading train data... train data of shape (6238, 617) loaded\n",
            "Loading test data...  test  data of shape (1559, 617) loaded\n",
            "Data Loaded. Num of features = 617 Num of Classes = 26./QuantHD-clustering/hd_clustering/encoder.py:61: UserWarning: An output with one or more elements was resized since it had shape [63, 10000], which does not match the required output shape [1, 10000].This behavior is deprecated, and in a future PyTorch release outputs will not be resized unless they have zero elements. You can explicitly reuse an out tensor t by resizing it, inplace, to zero elements with t.resize_(0). (Triggered internally at  ../aten/src/ATen/native/Resize.cpp:24.)\n",
            "  torch.matmul(x[i:i+bsize], self.basis.T, out=temp)\n"
          ]
        },
        {
          "name": "stdout",
          "output_type": "stream",
          "text": [
            "selected initial labels: [0, 1, 2, 3, 3, 4, 5, 8, 11, 11, 12, 13, 14, 14, 16, 17, 17, 17, 19, 20, 20, 22, 22, 23, 24, 25]\n",
            "0.5722988137223469\n"
          ]
        },
        {
          "name": "stderr",
          "output_type": "stream",
          "text": [
            "Loading dataset isolet from isolet\n",
            "Loading train data... train data of shape (6238, 617) loaded\n",
            "Loading test data...  test  data of shape (1559, 617) loaded\n",
            "Data Loaded. Num of features = 617 Num of Classes = 26./QuantHD-clustering/hd_clustering/encoder.py:61: UserWarning: An output with one or more elements was resized since it had shape [63, 10000], which does not match the required output shape [1, 10000].This behavior is deprecated, and in a future PyTorch release outputs will not be resized unless they have zero elements. You can explicitly reuse an out tensor t by resizing it, inplace, to zero elements with t.resize_(0). (Triggered internally at  ../aten/src/ATen/native/Resize.cpp:24.)\n",
            "  torch.matmul(x[i:i+bsize], self.basis.T, out=temp)\n"
          ]
        },
        {
          "name": "stdout",
          "output_type": "stream",
          "text": [
            "selected initial labels: [0, 1, 2, 2, 4, 5, 9, 11, 13, 14, 14, 14, 15, 16, 17, 17, 18, 18, 19, 21, 22, 22, 22, 23, 24, 25]\n",
            "0.5480923372875922\n"
          ]
        },
        {
          "name": "stderr",
          "output_type": "stream",
          "text": [
            "Loading dataset isolet from isolet\n",
            "Loading train data... train data of shape (6238, 617) loaded\n",
            "Loading test data...  test  data of shape (1559, 617) loaded\n",
            "Data Loaded. Num of features = 617 Num of Classes = 26./QuantHD-clustering/hd_clustering/encoder.py:61: UserWarning: An output with one or more elements was resized since it had shape [63, 10000], which does not match the required output shape [1, 10000].This behavior is deprecated, and in a future PyTorch release outputs will not be resized unless they have zero elements. You can explicitly reuse an out tensor t by resizing it, inplace, to zero elements with t.resize_(0). (Triggered internally at  ../aten/src/ATen/native/Resize.cpp:24.)\n",
            "  torch.matmul(x[i:i+bsize], self.basis.T, out=temp)\n"
          ]
        },
        {
          "name": "stdout",
          "output_type": "stream",
          "text": [
            "selected initial labels: [0, 0, 0, 2, 3, 4, 6, 7, 8, 8, 9, 10, 11, 11, 12, 13, 15, 17, 18, 19, 21, 21, 22, 22, 24, 24]\n",
            "0.604360371914075\n"
          ]
        },
        {
          "name": "stderr",
          "output_type": "stream",
          "text": [
            "Loading dataset isolet from isolet\n",
            "Loading train data... train data of shape (6238, 617) loaded\n",
            "Loading test data...  test  data of shape (1559, 617) loaded\n",
            "Data Loaded. Num of features = 617 Num of Classes = 26./QuantHD-clustering/hd_clustering/encoder.py:61: UserWarning: An output with one or more elements was resized since it had shape [63, 10000], which does not match the required output shape [1, 10000].This behavior is deprecated, and in a future PyTorch release outputs will not be resized unless they have zero elements. You can explicitly reuse an out tensor t by resizing it, inplace, to zero elements with t.resize_(0). (Triggered internally at  ../aten/src/ATen/native/Resize.cpp:24.)\n",
            "  torch.matmul(x[i:i+bsize], self.basis.T, out=temp)\n"
          ]
        },
        {
          "name": "stdout",
          "output_type": "stream",
          "text": [
            "selected initial labels: [0, 1, 2, 3, 5, 6, 6, 9, 10, 11, 12, 12, 12, 13, 16, 16, 17, 21, 21, 21, 21, 23, 23, 24, 24, 25]\n",
            "0.5739018916319333\n"
          ]
        },
        {
          "name": "stderr",
          "output_type": "stream",
          "text": [
            "Loading dataset isolet from isolet\n",
            "Loading train data... train data of shape (6238, 617) loaded\n",
            "Loading test data...  test  data of shape (1559, 617) loaded\n",
            "Data Loaded. Num of features = 617 Num of Classes = 26./QuantHD-clustering/hd_clustering/encoder.py:61: UserWarning: An output with one or more elements was resized since it had shape [63, 10000], which does not match the required output shape [1, 10000].This behavior is deprecated, and in a future PyTorch release outputs will not be resized unless they have zero elements. You can explicitly reuse an out tensor t by resizing it, inplace, to zero elements with t.resize_(0). (Triggered internally at  ../aten/src/ATen/native/Resize.cpp:24.)\n",
            "  torch.matmul(x[i:i+bsize], self.basis.T, out=temp)\n"
          ]
        },
        {
          "name": "stdout",
          "output_type": "stream",
          "text": [
            "selected initial labels: [0, 0, 2, 3, 4, 4, 7, 9, 11, 11, 12, 13, 13, 15, 15, 15, 16, 17, 18, 20, 22, 22, 23, 24, 24, 25]\n",
            "0.5771080474511061\n"
          ]
        },
        {
          "name": "stderr",
          "output_type": "stream",
          "text": [
            "Loading dataset isolet from isolet\n",
            "Loading train data... train data of shape (6238, 617) loaded\n",
            "Loading test data...  test  data of shape (1559, 617) loaded\n",
            "Data Loaded. Num of features = 617 Num of Classes = 26./QuantHD-clustering/hd_clustering/encoder.py:61: UserWarning: An output with one or more elements was resized since it had shape [63, 10000], which does not match the required output shape [1, 10000].This behavior is deprecated, and in a future PyTorch release outputs will not be resized unless they have zero elements. You can explicitly reuse an out tensor t by resizing it, inplace, to zero elements with t.resize_(0). (Triggered internally at  ../aten/src/ATen/native/Resize.cpp:24.)\n",
            "  torch.matmul(x[i:i+bsize], self.basis.T, out=temp)\n"
          ]
        },
        {
          "name": "stdout",
          "output_type": "stream",
          "text": [
            "selected initial labels: [2, 4, 4, 8, 8, 9, 9, 11, 13, 14, 16, 16, 16, 17, 18, 18, 20, 20, 21, 22, 22, 22, 22, 22, 23, 24]\n",
            "0.545046489259378\n"
          ]
        }
      ],
      "source": [
        "histories = []\n",
        "for trial in tqdm(range(10)):\n",
        "  history = clustering_tester.run_clustering(\n",
        "    *clustering_tester.get_isolet_dataset(MAX_SAMPLES),\n",
        "    BITS,\n",
        "    DIM,\n",
        "    EPOCHS,\n",
        "    clustering_tester.get_prob_tables_from_json('../prob_table.json')['27C_Front_10nm_4bit']\n",
        "  )\n",
        "  histories.append(history)"
      ]
    },
    {
      "cell_type": "code",
      "execution_count": 13,
      "metadata": {
        "colab": {
          "base_uri": "https://localhost:8080/",
          "height": 442
        },
        "id": "UeicnBXUICLT",
        "outputId": "7d95e966-3e9c-4efc-d3dd-6f9f9e9c1f93"
      },
      "outputs": [
        {
          "data": {
            "image/png": "[encoded data removed]",
            "text/plain": [
              "<Figure size 720x504 with 1 Axes>"
            ]
          },
          "metadata": {
            "needs_background": "light"
          },
          "output_type": "display_data"
        }
      ],
      "source": [
        "clustering_tester.plot_histories(histories)"
      ]
    },
    {
      "cell_type": "code",
      "execution_count": 14,
      "metadata": {
        "colab": {
          "base_uri": "https://localhost:8080/",
          "height": 1000,
          "referenced_widgets": [
            "c240c01508d540a69d1c5500151b7532",
            "41a06636f8ad4e0ca48aa49c41ebaac1",
            "e99623dae76c4b2d96463de7c44fa116",
            "c08b8e8001c642e981bcf75185271865",
            "c5984cd3dca544cf815322926f685c04",
            "a14d8699c2f84e04b45e948112011695",
            "fb7257e7b4894af8aa474d27b409f824",
            "6e9ec15719e14dd8a79b3808cf5b5215",
            "2f8e19ba7f2c40b0a418a60342a8627b",
            "ced233c4918045e09023059cfc517b2a",
            "11df2ca7bd2c401285241c1ce410a68b"
          ]
        },
        "id": "L30hBXDHICLT",
        "outputId": "42a6632e-5f46-4cc8-85e6-89ccf78aa063"
      },
      "outputs": [
        {
          "data": {
            "application/vnd.jupyter.widget-view+json": {
              "model_id": "c240c01508d540a69d1c5500151b7532",
              "version_major": 2,
              "version_minor": 0
            },
            "text/plain": [
              "  0%|          | 0/10 [00:00<?, ?it/s]"
            ]
          },
          "metadata": {},
          "output_type": "display_data"
        },
        {
          "name": "stderr",
          "output_type": "stream",
          "text": [
            "Loading dataset isolet from isolet\n",
            "Loading train data... train data of shape (6238, 617) loaded\n",
            "Loading test data...  test  data of shape (1559, 617) loaded\n",
            "Data Loaded. Num of features = 617 Num of Classes = 26./QuantHD-clustering/hd_clustering/encoder.py:61: UserWarning: An output with one or more elements was resized since it had shape [63, 10000], which does not match the required output shape [1, 10000].This behavior is deprecated, and in a future PyTorch release outputs will not be resized unless they have zero elements. You can explicitly reuse an out tensor t by resizing it, inplace, to zero elements with t.resize_(0). (Triggered internally at  ../aten/src/ATen/native/Resize.cpp:24.)\n",
            "  torch.matmul(x[i:i+bsize], self.basis.T, out=temp)\n"
          ]
        },
        {
          "name": "stdout",
          "output_type": "stream",
          "text": [
            "selected initial labels: [0, 0, 1, 2, 2, 3, 5, 8, 9, 10, 10, 10, 12, 12, 13, 13, 13, 14, 14, 16, 17, 19, 19, 19, 20, 22]\n",
            "0.5269317088810516\n"
          ]
        },
        {
          "name": "stderr",
          "output_type": "stream",
          "text": [
            "Loading dataset isolet from isolet\n",
            "Loading train data... train data of shape (6238, 617) loaded\n",
            "Loading test data...  test  data of shape (1559, 617) loaded\n",
            "Data Loaded. Num of features = 617 Num of Classes = 26./QuantHD-clustering/hd_clustering/encoder.py:61: UserWarning: An output with one or more elements was resized since it had shape [63, 10000], which does not match the required output shape [1, 10000].This behavior is deprecated, and in a future PyTorch release outputs will not be resized unless they have zero elements. You can explicitly reuse an out tensor t by resizing it, inplace, to zero elements with t.resize_(0). (Triggered internally at  ../aten/src/ATen/native/Resize.cpp:24.)\n",
            "  torch.matmul(x[i:i+bsize], self.basis.T, out=temp)\n"
          ]
        },
        {
          "name": "stdout",
          "output_type": "stream",
          "text": [
            "selected initial labels: [1, 2, 2, 3, 5, 8, 8, 9, 10, 11, 11, 11, 13, 13, 14, 14, 16, 17, 18, 19, 20, 22, 24, 24, 25, 25]\n",
            "0.5561077268355242\n"
          ]
        },
        {
          "name": "stderr",
          "output_type": "stream",
          "text": [
            "Loading dataset isolet from isolet\n",
            "Loading train data... train data of shape (6238, 617) loaded\n",
            "Loading test data...  test  data of shape (1559, 617) loaded\n",
            "Data Loaded. Num of features = 617 Num of Classes = 26./QuantHD-clustering/hd_clustering/encoder.py:61: UserWarning: An output with one or more elements was resized since it had shape [63, 10000], which does not match the required output shape [1, 10000].This behavior is deprecated, and in a future PyTorch release outputs will not be resized unless they have zero elements. You can explicitly reuse an out tensor t by resizing it, inplace, to zero elements with t.resize_(0). (Triggered internally at  ../aten/src/ATen/native/Resize.cpp:24.)\n",
            "  torch.matmul(x[i:i+bsize], self.basis.T, out=temp)\n"
          ]
        },
        {
          "name": "stdout",
          "output_type": "stream",
          "text": [
            "selected initial labels: [1, 1, 1, 2, 3, 4, 4, 6, 7, 8, 9, 9, 11, 11, 13, 13, 14, 14, 15, 17, 18, 18, 20, 20, 22, 24]\n",
            "0.590092978518756\n"
          ]
        },
        {
          "name": "stderr",
          "output_type": "stream",
          "text": [
            "Loading dataset isolet from isolet\n",
            "Loading train data... train data of shape (6238, 617) loaded\n",
            "Loading test data...  test  data of shape (1559, 617) loaded\n",
            "Data Loaded. Num of features = 617 Num of Classes = 26./QuantHD-clustering/hd_clustering/encoder.py:61: UserWarning: An output with one or more elements was resized since it had shape [63, 10000], which does not match the required output shape [1, 10000].This behavior is deprecated, and in a future PyTorch release outputs will not be resized unless they have zero elements. You can explicitly reuse an out tensor t by resizing it, inplace, to zero elements with t.resize_(0). (Triggered internally at  ../aten/src/ATen/native/Resize.cpp:24.)\n",
            "  torch.matmul(x[i:i+bsize], self.basis.T, out=temp)\n"
          ]
        },
        {
          "name": "stdout",
          "output_type": "stream",
          "text": [
            "selected initial labels: [0, 1, 2, 3, 3, 4, 4, 4, 5, 6, 7, 7, 13, 14, 16, 16, 16, 16, 17, 18, 20, 22, 23, 24, 24, 25]\n",
            "0.5647643475472908\n"
          ]
        },
        {
          "name": "stderr",
          "output_type": "stream",
          "text": [
            "Loading dataset isolet from isolet\n",
            "Loading train data... train data of shape (6238, 617) loaded\n",
            "Loading test data...  test  data of shape (1559, 617) loaded\n",
            "Data Loaded. Num of features = 617 Num of Classes = 26./QuantHD-clustering/hd_clustering/encoder.py:61: UserWarning: An output with one or more elements was resized since it had shape [63, 10000], which does not match the required output shape [1, 10000].This behavior is deprecated, and in a future PyTorch release outputs will not be resized unless they have zero elements. You can explicitly reuse an out tensor t by resizing it, inplace, to zero elements with t.resize_(0). (Triggered internally at  ../aten/src/ATen/native/Resize.cpp:24.)\n",
            "  torch.matmul(x[i:i+bsize], self.basis.T, out=temp)\n"
          ]
        },
        {
          "name": "stdout",
          "output_type": "stream",
          "text": [
            "selected initial labels: [0, 2, 4, 7, 8, 9, 9, 10, 11, 12, 14, 15, 15, 16, 18, 20, 20, 20, 21, 22, 23, 23, 24, 24, 24, 25]\n",
            "0.5814363578069894\n"
          ]
        },
        {
          "name": "stderr",
          "output_type": "stream",
          "text": [
            "Loading dataset isolet from isolet\n",
            "Loading train data... train data of shape (6238, 617) loaded\n",
            "Loading test data...  test  data of shape (1559, 617) loaded\n",
            "Data Loaded. Num of features = 617 Num of Classes = 26./QuantHD-clustering/hd_clustering/encoder.py:61: UserWarning: An output with one or more elements was resized since it had shape [63, 10000], which does not match the required output shape [1, 10000].This behavior is deprecated, and in a future PyTorch release outputs will not be resized unless they have zero elements. You can explicitly reuse an out tensor t by resizing it, inplace, to zero elements with t.resize_(0). (Triggered internally at  ../aten/src/ATen/native/Resize.cpp:24.)\n",
            "  torch.matmul(x[i:i+bsize], self.basis.T, out=temp)\n"
          ]
        },
        {
          "name": "stdout",
          "output_type": "stream",
          "text": [
            "selected initial labels: [0, 0, 1, 1, 2, 3, 9, 10, 10, 11, 13, 14, 16, 16, 19, 19, 21, 22, 22, 22, 22, 22, 23, 24, 24, 25]\n",
            "0.522763706316127\n"
          ]
        },
        {
          "name": "stderr",
          "output_type": "stream",
          "text": [
            "Loading dataset isolet from isolet\n",
            "Loading train data... train data of shape (6238, 617) loaded\n",
            "Loading test data...  test  data of shape (1559, 617) loaded\n",
            "Data Loaded. Num of features = 617 Num of Classes = 26./QuantHD-clustering/hd_clustering/encoder.py:61: UserWarning: An output with one or more elements was resized since it had shape [63, 10000], which does not match the required output shape [1, 10000].This behavior is deprecated, and in a future PyTorch release outputs will not be resized unless they have zero elements. You can explicitly reuse an out tensor t by resizing it, inplace, to zero elements with t.resize_(0). (Triggered internally at  ../aten/src/ATen/native/Resize.cpp:24.)\n",
            "  torch.matmul(x[i:i+bsize], self.basis.T, out=temp)\n"
          ]
        },
        {
          "name": "stdout",
          "output_type": "stream",
          "text": [
            "selected initial labels: [0, 0, 2, 4, 4, 4, 7, 8, 10, 11, 12, 14, 14, 15, 15, 15, 16, 18, 19, 20, 20, 21, 23, 23, 24, 25]\n",
            "0.623116383456236\n"
          ]
        },
        {
          "name": "stderr",
          "output_type": "stream",
          "text": [
            "Loading dataset isolet from isolet\n",
            "Loading train data... train data of shape (6238, 617) loaded\n",
            "Loading test data...  test  data of shape (1559, 617) loaded\n",
            "Data Loaded. Num of features = 617 Num of Classes = 26./QuantHD-clustering/hd_clustering/encoder.py:61: UserWarning: An output with one or more elements was resized since it had shape [63, 10000], which does not match the required output shape [1, 10000].This behavior is deprecated, and in a future PyTorch release outputs will not be resized unless they have zero elements. You can explicitly reuse an out tensor t by resizing it, inplace, to zero elements with t.resize_(0). (Triggered internally at  ../aten/src/ATen/native/Resize.cpp:24.)\n",
            "  torch.matmul(x[i:i+bsize], self.basis.T, out=temp)\n"
          ]
        },
        {
          "name": "stdout",
          "output_type": "stream",
          "text": [
            "selected initial labels: [1, 2, 2, 5, 6, 6, 7, 8, 10, 11, 12, 15, 16, 16, 17, 17, 20, 21, 21, 22, 22, 22, 22, 24, 25, 25]\n",
            "0.5828791279256171\n"
          ]
        },
        {
          "name": "stderr",
          "output_type": "stream",
          "text": [
            "Loading dataset isolet from isolet\n",
            "Loading train data... train data of shape (6238, 617) loaded\n",
            "Loading test data...  test  data of shape (1559, 617) loaded\n",
            "Data Loaded. Num of features = 617 Num of Classes = 26./QuantHD-clustering/hd_clustering/encoder.py:61: UserWarning: An output with one or more elements was resized since it had shape [63, 10000], which does not match the required output shape [1, 10000].This behavior is deprecated, and in a future PyTorch release outputs will not be resized unless they have zero elements. You can explicitly reuse an out tensor t by resizing it, inplace, to zero elements with t.resize_(0). (Triggered internally at  ../aten/src/ATen/native/Resize.cpp:24.)\n",
            "  torch.matmul(x[i:i+bsize], self.basis.T, out=temp)\n"
          ]
        },
        {
          "name": "stdout",
          "output_type": "stream",
          "text": [
            "selected initial labels: [0, 1, 2, 4, 5, 6, 7, 7, 7, 9, 11, 11, 12, 14, 14, 14, 14, 15, 16, 17, 20, 21, 22, 22, 22, 24]\n",
            "0.5949022122475153\n"
          ]
        },
        {
          "name": "stderr",
          "output_type": "stream",
          "text": [
            "Loading dataset isolet from isolet\n",
            "Loading train data... train data of shape (6238, 617) loaded\n",
            "Loading test data...  test  data of shape (1559, 617) loaded\n",
            "Data Loaded. Num of features = 617 Num of Classes = 26./QuantHD-clustering/hd_clustering/encoder.py:61: UserWarning: An output with one or more elements was resized since it had shape [63, 10000], which does not match the required output shape [1, 10000].This behavior is deprecated, and in a future PyTorch release outputs will not be resized unless they have zero elements. You can explicitly reuse an out tensor t by resizing it, inplace, to zero elements with t.resize_(0). (Triggered internally at  ../aten/src/ATen/native/Resize.cpp:24.)\n",
            "  torch.matmul(x[i:i+bsize], self.basis.T, out=temp)\n"
          ]
        },
        {
          "name": "stdout",
          "output_type": "stream",
          "text": [
            "selected initial labels: [1, 2, 2, 4, 5, 7, 8, 8, 8, 9, 11, 11, 13, 16, 16, 17, 19, 19, 20, 21, 22, 22, 22, 23, 24, 25]\n",
            "0.5429624879769157\n"
          ]
        }
      ],
      "source": [
        "histories = []\n",
        "for trial in tqdm(range(10)):\n",
        "  history = clustering_tester.run_clustering(\n",
        "    *clustering_tester.get_isolet_dataset(MAX_SAMPLES),\n",
        "    BITS,\n",
        "    DIM,\n",
        "    EPOCHS,\n",
        "    clustering_tester.get_prob_tables_from_json('../prob_table.json')['27C_Back_3nm_4bit']\n",
        "  )\n",
        "  histories.append(history)"
      ]
    },
    {
      "cell_type": "code",
      "execution_count": 15,
      "metadata": {
        "colab": {
          "base_uri": "https://localhost:8080/",
          "height": 442
        },
        "id": "Q8c8BdVOICLU",
        "outputId": "17cff015-f85d-4b96-9b70-263df1adc752"
      },
      "outputs": [
        {
          "data": {
            "image/png": "[encoded data removed]",
            "text/plain": [
              "<Figure size 720x504 with 1 Axes>"
            ]
          },
          "metadata": {
            "needs_background": "light"
          },
          "output_type": "display_data"
        }
      ],
      "source": [
        "clustering_tester.plot_histories(histories)"
      ]
    },
    {
      "cell_type": "code",
      "execution_count": 16,
      "metadata": {
        "colab": {
          "base_uri": "https://localhost:8080/",
          "height": 1000,
          "referenced_widgets": [
            "226a9b75e1fc4f42a91e23df085f5751",
            "40c3c7d43dce47a1832fd719eddab62a",
            "91594b276c60436492087eeabc9d3cab",
            "77c77d45101440c4bec6e220acacd7b6",
            "3a61f8cc8934462481737686173c24ea",
            "2489558ace5f4c18a0872b2e065da3f6",
            "7c5325a15b3f4c878989744b8ca4f1aa",
            "fdc3ebda37eb4fcdac89d10185ec8942",
            "f425626d77cc4bac8ed0c13c8769a888",
            "74485f6ae3c8495a8f9e1242c0ac9d6e",
            "7c47e49277c74cf38e1196d2e9721ddd"
          ]
        },
        "id": "AmLZ16oSICLU",
        "outputId": "2ca4537d-6599-4455-b808-bbf1c7733ed7"
      },
      "outputs": [
        {
          "data": {
            "application/vnd.jupyter.widget-view+json": {
              "model_id": "226a9b75e1fc4f42a91e23df085f5751",
              "version_major": 2,
              "version_minor": 0
            },
            "text/plain": [
              "  0%|          | 0/10 [00:00<?, ?it/s]"
            ]
          },
          "metadata": {},
          "output_type": "display_data"
        },
        {
          "name": "stderr",
          "output_type": "stream",
          "text": [
            "Loading dataset isolet from isolet\n",
            "Loading train data... train data of shape (6238, 617) loaded\n",
            "Loading test data...  test  data of shape (1559, 617) loaded\n",
            "Data Loaded. Num of features = 617 Num of Classes = 26./QuantHD-clustering/hd_clustering/encoder.py:61: UserWarning: An output with one or more elements was resized since it had shape [63, 10000], which does not match the required output shape [1, 10000].This behavior is deprecated, and in a future PyTorch release outputs will not be resized unless they have zero elements. You can explicitly reuse an out tensor t by resizing it, inplace, to zero elements with t.resize_(0). (Triggered internally at  ../aten/src/ATen/native/Resize.cpp:24.)\n",
            "  torch.matmul(x[i:i+bsize], self.basis.T, out=temp)\n"
          ]
        },
        {
          "name": "stdout",
          "output_type": "stream",
          "text": [
            "selected initial labels: [1, 2, 4, 4, 4, 5, 6, 7, 10, 11, 11, 12, 13, 16, 16, 17, 18, 18, 18, 18, 19, 19, 19, 20, 21, 23]\n",
            "0.6205514588008977\n"
          ]
        },
        {
          "name": "stderr",
          "output_type": "stream",
          "text": [
            "Loading dataset isolet from isolet\n",
            "Loading train data... train data of shape (6238, 617) loaded\n",
            "Loading test data...  test  data of shape (1559, 617) loaded\n",
            "Data Loaded. Num of features = 617 Num of Classes = 26./QuantHD-clustering/hd_clustering/encoder.py:61: UserWarning: An output with one or more elements was resized since it had shape [63, 10000], which does not match the required output shape [1, 10000].This behavior is deprecated, and in a future PyTorch release outputs will not be resized unless they have zero elements. You can explicitly reuse an out tensor t by resizing it, inplace, to zero elements with t.resize_(0). (Triggered internally at  ../aten/src/ATen/native/Resize.cpp:24.)\n",
            "  torch.matmul(x[i:i+bsize], self.basis.T, out=temp)\n"
          ]
        },
        {
          "name": "stdout",
          "output_type": "stream",
          "text": [
            "selected initial labels: [0, 1, 3, 4, 5, 5, 6, 7, 7, 7, 8, 8, 9, 10, 11, 12, 12, 14, 15, 16, 17, 18, 18, 20, 24, 25]\n",
            "0.5953831356203911\n"
          ]
        },
        {
          "name": "stderr",
          "output_type": "stream",
          "text": [
            "Loading dataset isolet from isolet\n",
            "Loading train data... train data of shape (6238, 617) loaded\n",
            "Loading test data...  test  data of shape (1559, 617) loaded\n",
            "Data Loaded. Num of features = 617 Num of Classes = 26./QuantHD-clustering/hd_clustering/encoder.py:61: UserWarning: An output with one or more elements was resized since it had shape [63, 10000], which does not match the required output shape [1, 10000].This behavior is deprecated, and in a future PyTorch release outputs will not be resized unless they have zero elements. You can explicitly reuse an out tensor t by resizing it, inplace, to zero elements with t.resize_(0). (Triggered internally at  ../aten/src/ATen/native/Resize.cpp:24.)\n",
            "  torch.matmul(x[i:i+bsize], self.basis.T, out=temp)\n"
          ]
        },
        {
          "name": "stdout",
          "output_type": "stream",
          "text": [
            "selected initial labels: [0, 1, 5, 6, 7, 8, 12, 12, 12, 13, 16, 17, 17, 19, 20, 20, 20, 20, 21, 22, 22, 22, 23, 23, 23, 25]\n",
            "0.6011542160949022\n"
          ]
        },
        {
          "name": "stderr",
          "output_type": "stream",
          "text": [
            "Loading dataset isolet from isolet\n",
            "Loading train data... train data of shape (6238, 617) loaded\n",
            "Loading test data...  test  data of shape (1559, 617) loaded\n",
            "Data Loaded. Num of features = 617 Num of Classes = 26./QuantHD-clustering/hd_clustering/encoder.py:61: UserWarning: An output with one or more elements was resized since it had shape [63, 10000], which does not match the required output shape [1, 10000].This behavior is deprecated, and in a future PyTorch release outputs will not be resized unless they have zero elements. You can explicitly reuse an out tensor t by resizing it, inplace, to zero elements with t.resize_(0). (Triggered internally at  ../aten/src/ATen/native/Resize.cpp:24.)\n",
            "  torch.matmul(x[i:i+bsize], self.basis.T, out=temp)\n"
          ]
        },
        {
          "name": "stdout",
          "output_type": "stream",
          "text": [
            "selected initial labels: [0, 1, 1, 2, 3, 6, 8, 9, 10, 12, 12, 12, 13, 14, 16, 17, 18, 19, 20, 21, 21, 23, 24, 24, 24, 24]\n",
            "0.5841615902532863\n"
          ]
        },
        {
          "name": "stderr",
          "output_type": "stream",
          "text": [
            "Loading dataset isolet from isolet\n",
            "Loading train data... train data of shape (6238, 617) loaded\n",
            "Loading test data...  test  data of shape (1559, 617) loaded\n",
            "Data Loaded. Num of features = 617 Num of Classes = 26./QuantHD-clustering/hd_clustering/encoder.py:61: UserWarning: An output with one or more elements was resized since it had shape [63, 10000], which does not match the required output shape [1, 10000].This behavior is deprecated, and in a future PyTorch release outputs will not be resized unless they have zero elements. You can explicitly reuse an out tensor t by resizing it, inplace, to zero elements with t.resize_(0). (Triggered internally at  ../aten/src/ATen/native/Resize.cpp:24.)\n",
            "  torch.matmul(x[i:i+bsize], self.basis.T, out=temp)\n"
          ]
        },
        {
          "name": "stdout",
          "output_type": "stream",
          "text": [
            "selected initial labels: [0, 1, 1, 3, 4, 5, 7, 7, 8, 8, 8, 8, 9, 11, 13, 13, 15, 16, 17, 19, 21, 22, 22, 23, 23, 24]\n",
            "0.5977877524847708\n"
          ]
        },
        {
          "name": "stderr",
          "output_type": "stream",
          "text": [
            "Loading dataset isolet from isolet\n",
            "Loading train data... train data of shape (6238, 617) loaded\n",
            "Loading test data...  test  data of shape (1559, 617) loaded\n",
            "Data Loaded. Num of features = 617 Num of Classes = 26./QuantHD-clustering/hd_clustering/encoder.py:61: UserWarning: An output with one or more elements was resized since it had shape [63, 10000], which does not match the required output shape [1, 10000].This behavior is deprecated, and in a future PyTorch release outputs will not be resized unless they have zero elements. You can explicitly reuse an out tensor t by resizing it, inplace, to zero elements with t.resize_(0). (Triggered internally at  ../aten/src/ATen/native/Resize.cpp:24.)\n",
            "  torch.matmul(x[i:i+bsize], self.basis.T, out=temp)\n"
          ]
        },
        {
          "name": "stdout",
          "output_type": "stream",
          "text": [
            "selected initial labels: [1, 2, 2, 2, 4, 4, 7, 7, 8, 9, 9, 10, 10, 12, 13, 16, 19, 20, 20, 20, 20, 21, 22, 22, 23, 25]\n",
            "0.5150689323501122\n"
          ]
        },
        {
          "name": "stderr",
          "output_type": "stream",
          "text": [
            "Loading dataset isolet from isolet\n",
            "Loading train data... train data of shape (6238, 617) loaded\n",
            "Loading test data...  test  data of shape (1559, 617) loaded\n",
            "Data Loaded. Num of features = 617 Num of Classes = 26./QuantHD-clustering/hd_clustering/encoder.py:61: UserWarning: An output with one or more elements was resized since it had shape [63, 10000], which does not match the required output shape [1, 10000].This behavior is deprecated, and in a future PyTorch release outputs will not be resized unless they have zero elements. You can explicitly reuse an out tensor t by resizing it, inplace, to zero elements with t.resize_(0). (Triggered internally at  ../aten/src/ATen/native/Resize.cpp:24.)\n",
            "  torch.matmul(x[i:i+bsize], self.basis.T, out=temp)\n"
          ]
        },
        {
          "name": "stdout",
          "output_type": "stream",
          "text": [
            "selected initial labels: [0, 0, 0, 2, 4, 5, 6, 7, 7, 13, 13, 14, 15, 15, 15, 17, 18, 19, 19, 19, 20, 22, 22, 24, 25, 25]\n",
            "0.5678101955755049\n"
          ]
        },
        {
          "name": "stderr",
          "output_type": "stream",
          "text": [
            "Loading dataset isolet from isolet\n",
            "Loading train data... train data of shape (6238, 617) loaded\n",
            "Loading test data...  test  data of shape (1559, 617) loaded\n",
            "Data Loaded. Num of features = 617 Num of Classes = 26./QuantHD-clustering/hd_clustering/encoder.py:61: UserWarning: An output with one or more elements was resized since it had shape [63, 10000], which does not match the required output shape [1, 10000].This behavior is deprecated, and in a future PyTorch release outputs will not be resized unless they have zero elements. You can explicitly reuse an out tensor t by resizing it, inplace, to zero elements with t.resize_(0). (Triggered internally at  ../aten/src/ATen/native/Resize.cpp:24.)\n",
            "  torch.matmul(x[i:i+bsize], self.basis.T, out=temp)\n"
          ]
        },
        {
          "name": "stdout",
          "output_type": "stream",
          "text": [
            "selected initial labels: [0, 1, 2, 4, 5, 5, 6, 7, 8, 8, 10, 11, 12, 12, 14, 15, 15, 16, 18, 20, 20, 20, 21, 23, 24, 25]\n",
            "0.5867265149086246\n"
          ]
        },
        {
          "name": "stderr",
          "output_type": "stream",
          "text": [
            "Loading dataset isolet from isolet\n",
            "Loading train data... train data of shape (6238, 617) loaded\n",
            "Loading test data...  test  data of shape (1559, 617) loaded\n",
            "Data Loaded. Num of features = 617 Num of Classes = 26./QuantHD-clustering/hd_clustering/encoder.py:61: UserWarning: An output with one or more elements was resized since it had shape [63, 10000], which does not match the required output shape [1, 10000].This behavior is deprecated, and in a future PyTorch release outputs will not be resized unless they have zero elements. You can explicitly reuse an out tensor t by resizing it, inplace, to zero elements with t.resize_(0). (Triggered internally at  ../aten/src/ATen/native/Resize.cpp:24.)\n",
            "  torch.matmul(x[i:i+bsize], self.basis.T, out=temp)\n"
          ]
        },
        {
          "name": "stdout",
          "output_type": "stream",
          "text": [
            "selected initial labels: [4, 4, 5, 5, 6, 6, 6, 7, 9, 11, 12, 15, 17, 18, 18, 20, 20, 20, 21, 22, 22, 22, 23, 23, 25, 25]\n",
            "0.5698941968579673\n"
          ]
        },
        {
          "name": "stderr",
          "output_type": "stream",
          "text": [
            "Loading dataset isolet from isolet\n",
            "Loading train data... train data of shape (6238, 617) loaded\n",
            "Loading test data...  test  data of shape (1559, 617) loaded\n",
            "Data Loaded. Num of features = 617 Num of Classes = 26./QuantHD-clustering/hd_clustering/encoder.py:61: UserWarning: An output with one or more elements was resized since it had shape [63, 10000], which does not match the required output shape [1, 10000].This behavior is deprecated, and in a future PyTorch release outputs will not be resized unless they have zero elements. You can explicitly reuse an out tensor t by resizing it, inplace, to zero elements with t.resize_(0). (Triggered internally at  ../aten/src/ATen/native/Resize.cpp:24.)\n",
            "  torch.matmul(x[i:i+bsize], self.basis.T, out=temp)\n"
          ]
        },
        {
          "name": "stdout",
          "output_type": "stream",
          "text": [
            "selected initial labels: [0, 2, 2, 4, 6, 6, 7, 8, 8, 9, 11, 11, 12, 13, 15, 16, 17, 18, 19, 20, 20, 20, 22, 22, 24, 25]\n",
            "0.5763065084963129\n"
          ]
        }
      ],
      "source": [
        "histories = []\n",
        "for trial in tqdm(range(10)):\n",
        "  history = clustering_tester.run_clustering(\n",
        "    *clustering_tester.get_isolet_dataset(MAX_SAMPLES),\n",
        "    BITS,\n",
        "    DIM,\n",
        "    EPOCHS,\n",
        "    clustering_tester.get_prob_tables_from_json('../prob_table.json')['80C_Back_3nm_4bit']\n",
        "  )\n",
        "  histories.append(history)"
      ]
    },
    {
      "cell_type": "code",
      "execution_count": 17,
      "metadata": {
        "colab": {
          "base_uri": "https://localhost:8080/",
          "height": 442
        },
        "id": "AzoFKaKgICLU",
        "outputId": "18fb85e8-c3f0-4f7e-9889-e78e150af29c"
      },
      "outputs": [
        {
          "data": {
            "image/png": "[encoded data removed]",
            "text/plain": [
              "<Figure size 720x504 with 1 Axes>"
            ]
          },
          "metadata": {
            "needs_background": "light"
          },
          "output_type": "display_data"
        }
      ],
      "source": [
        "clustering_tester.plot_histories(histories)"
      ]
    },
    {
      "cell_type": "code",
      "execution_count": 17,
      "metadata": {
        "id": "3yQVUDbJIwJI"
      },
      "outputs": [],
      "source": []
    }
  ],
  "metadata": {
    "colab": {
      "collapsed_sections": [],
      "name": "QuantHD_MNIST_02.ipynb의 사본",
      "provenance": []
    },
    "interpreter": {
      "hash": "07de9944a25ef994c7b45139c87e20861ad03da0f19921b48f76d01e36a1dc33"
    },
    "kernelspec": {
      "display_name": "Python 3.8.10 ('venv': venv)",
      "language": "python",
      "name": "python3"
    },
    "language_info": {
      "codemirror_mode": {
        "name": "ipython",
        "version": 3
      },
      "file_extension": ".py",
      "mimetype": "text/x-python",
      "name": "python",
      "nbconvert_exporter": "python",
      "pygments_lexer": "ipython3",
      "version": "3.8.10"
    },
    "orig_nbformat": 4,
    "widgets": {
      "application/vnd.jupyter.widget-state+json": {
        "0028c883dcfa4b8996c43941b14400df": {
          "model_module": "@jupyter-widgets/base",
          "model_module_version": "1.2.0",
          "model_name": "LayoutModel",
          "state": {
            "_model_module": "@jupyter-widgets/base",
            "_model_module_version": "1.2.0",
            "_model_name": "LayoutModel",
            "_view_count": null,
            "_view_module": "@jupyter-widgets/base",
            "_view_module_version": "1.2.0",
            "_view_name": "LayoutView",
            "align_content": null,
            "align_items": null,
            "align_self": null,
            "border": null,
            "bottom": null,
            "display": null,
            "flex": null,
            "flex_flow": null,
            "grid_area": null,
            "grid_auto_columns": null,
            "grid_auto_flow": null,
            "grid_auto_rows": null,
            "grid_column": null,
            "grid_gap": null,
            "grid_row": null,
            "grid_template_areas": null,
            "grid_template_columns": null,
            "grid_template_rows": null,
            "height": null,
            "justify_content": null,
            "justify_items": null,
            "left": null,
            "margin": null,
            "max_height": null,
            "max_width": null,
            "min_height": null,
            "min_width": null,
            "object_fit": null,
            "object_position": null,
            "order": null,
            "overflow": null,
            "overflow_x": null,
            "overflow_y": null,
            "padding": null,
            "right": null,
            "top": null,
            "visibility": null,
            "width": null
          }
        },
        "0223a27048f74baeb266ac85f2062a12": {
          "model_module": "@jupyter-widgets/base",
          "model_module_version": "1.2.0",
          "model_name": "LayoutModel",
          "state": {
            "_model_module": "@jupyter-widgets/base",
            "_model_module_version": "1.2.0",
            "_model_name": "LayoutModel",
            "_view_count": null,
            "_view_module": "@jupyter-widgets/base",
            "_view_module_version": "1.2.0",
            "_view_name": "LayoutView",
            "align_content": null,
            "align_items": null,
            "align_self": null,
            "border": null,
            "bottom": null,
            "display": null,
            "flex": null,
            "flex_flow": null,
            "grid_area": null,
            "grid_auto_columns": null,
            "grid_auto_flow": null,
            "grid_auto_rows": null,
            "grid_column": null,
            "grid_gap": null,
            "grid_row": null,
            "grid_template_areas": null,
            "grid_template_columns": null,
            "grid_template_rows": null,
            "height": null,
            "justify_content": null,
            "justify_items": null,
            "left": null,
            "margin": null,
            "max_height": null,
            "max_width": null,
            "min_height": null,
            "min_width": null,
            "object_fit": null,
            "object_position": null,
            "order": null,
            "overflow": null,
            "overflow_x": null,
            "overflow_y": null,
            "padding": null,
            "right": null,
            "top": null,
            "visibility": null,
            "width": null
          }
        },
        "0347e5c63dad4b75ac59b35115edb666": {
          "model_module": "@jupyter-widgets/controls",
          "model_module_version": "1.5.0",
          "model_name": "DescriptionStyleModel",
          "state": {
            "_model_module": "@jupyter-widgets/controls",
            "_model_module_version": "1.5.0",
            "_model_name": "DescriptionStyleModel",
            "_view_count": null,
            "_view_module": "@jupyter-widgets/base",
            "_view_module_version": "1.2.0",
            "_view_name": "StyleView",
            "description_width": ""
          }
        },
        "0a09d28863434c9faa5325132206a6ff": {
          "model_module": "@jupyter-widgets/controls",
          "model_module_version": "1.5.0",
          "model_name": "ProgressStyleModel",
          "state": {
            "_model_module": "@jupyter-widgets/controls",
            "_model_module_version": "1.5.0",
            "_model_name": "ProgressStyleModel",
            "_view_count": null,
            "_view_module": "@jupyter-widgets/base",
            "_view_module_version": "1.2.0",
            "_view_name": "StyleView",
            "bar_color": null,
            "description_width": ""
          }
        },
        "106e942e178e4785bb02d945572328a5": {
          "model_module": "@jupyter-widgets/controls",
          "model_module_version": "1.5.0",
          "model_name": "FloatProgressModel",
          "state": {
            "_dom_classes": [],
            "_model_module": "@jupyter-widgets/controls",
            "_model_module_version": "1.5.0",
            "_model_name": "FloatProgressModel",
            "_view_count": null,
            "_view_module": "@jupyter-widgets/controls",
            "_view_module_version": "1.5.0",
            "_view_name": "ProgressView",
            "bar_style": "success",
            "description": "",
            "description_tooltip": null,
            "layout": "IPY_MODEL_62a7ecc8d4a544ea928b5abee8ea90ed",
            "max": 10,
            "min": 0,
            "orientation": "horizontal",
            "style": "IPY_MODEL_281ffda0f826451ea965d027cbf3e999",
            "value": 10
          }
        },
        "11df2ca7bd2c401285241c1ce410a68b": {
          "model_module": "@jupyter-widgets/controls",
          "model_module_version": "1.5.0",
          "model_name": "DescriptionStyleModel",
          "state": {
            "_model_module": "@jupyter-widgets/controls",
            "_model_module_version": "1.5.0",
            "_model_name": "DescriptionStyleModel",
            "_view_count": null,
            "_view_module": "@jupyter-widgets/base",
            "_view_module_version": "1.2.0",
            "_view_name": "StyleView",
            "description_width": ""
          }
        },
        "13899c3c30e043a3b7ebe6d9de2109ef": {
          "model_module": "@jupyter-widgets/base",
          "model_module_version": "1.2.0",
          "model_name": "LayoutModel",
          "state": {
            "_model_module": "@jupyter-widgets/base",
            "_model_module_version": "1.2.0",
            "_model_name": "LayoutModel",
            "_view_count": null,
            "_view_module": "@jupyter-widgets/base",
            "_view_module_version": "1.2.0",
            "_view_name": "LayoutView",
            "align_content": null,
            "align_items": null,
            "align_self": null,
            "border": null,
            "bottom": null,
            "display": null,
            "flex": null,
            "flex_flow": null,
            "grid_area": null,
            "grid_auto_columns": null,
            "grid_auto_flow": null,
            "grid_auto_rows": null,
            "grid_column": null,
            "grid_gap": null,
            "grid_row": null,
            "grid_template_areas": null,
            "grid_template_columns": null,
            "grid_template_rows": null,
            "height": null,
            "justify_content": null,
            "justify_items": null,
            "left": null,
            "margin": null,
            "max_height": null,
            "max_width": null,
            "min_height": null,
            "min_width": null,
            "object_fit": null,
            "object_position": null,
            "order": null,
            "overflow": null,
            "overflow_x": null,
            "overflow_y": null,
            "padding": null,
            "right": null,
            "top": null,
            "visibility": null,
            "width": null
          }
        },
        "145008da3eab4ba5a058a032de691b49": {
          "model_module": "@jupyter-widgets/base",
          "model_module_version": "1.2.0",
          "model_name": "LayoutModel",
          "state": {
            "_model_module": "@jupyter-widgets/base",
            "_model_module_version": "1.2.0",
            "_model_name": "LayoutModel",
            "_view_count": null,
            "_view_module": "@jupyter-widgets/base",
            "_view_module_version": "1.2.0",
            "_view_name": "LayoutView",
            "align_content": null,
            "align_items": null,
            "align_self": null,
            "border": null,
            "bottom": null,
            "display": null,
            "flex": null,
            "flex_flow": null,
            "grid_area": null,
            "grid_auto_columns": null,
            "grid_auto_flow": null,
            "grid_auto_rows": null,
            "grid_column": null,
            "grid_gap": null,
            "grid_row": null,
            "grid_template_areas": null,
            "grid_template_columns": null,
            "grid_template_rows": null,
            "height": null,
            "justify_content": null,
            "justify_items": null,
            "left": null,
            "margin": null,
            "max_height": null,
            "max_width": null,
            "min_height": null,
            "min_width": null,
            "object_fit": null,
            "object_position": null,
            "order": null,
            "overflow": null,
            "overflow_x": null,
            "overflow_y": null,
            "padding": null,
            "right": null,
            "top": null,
            "visibility": null,
            "width": null
          }
        },
        "16001bab68a74da0862f8a09920ac5d0": {
          "model_module": "@jupyter-widgets/controls",
          "model_module_version": "1.5.0",
          "model_name": "HTMLModel",
          "state": {
            "_dom_classes": [],
            "_model_module": "@jupyter-widgets/controls",
            "_model_module_version": "1.5.0",
            "_model_name": "HTMLModel",
            "_view_count": null,
            "_view_module": "@jupyter-widgets/controls",
            "_view_module_version": "1.5.0",
            "_view_name": "HTMLView",
            "description": "",
            "description_tooltip": null,
            "layout": "IPY_MODEL_145008da3eab4ba5a058a032de691b49",
            "placeholder": "​",
            "style": "IPY_MODEL_545c6b031c8f4b9cbc6a56b8ba4c3650",
            "value": "100%"
          }
        },
        "1adb4b3b7a95433d85467089e42dbfe0": {
          "model_module": "@jupyter-widgets/controls",
          "model_module_version": "1.5.0",
          "model_name": "FloatProgressModel",
          "state": {
            "_dom_classes": [],
            "_model_module": "@jupyter-widgets/controls",
            "_model_module_version": "1.5.0",
            "_model_name": "FloatProgressModel",
            "_view_count": null,
            "_view_module": "@jupyter-widgets/controls",
            "_view_module_version": "1.5.0",
            "_view_name": "ProgressView",
            "bar_style": "success",
            "description": "",
            "description_tooltip": null,
            "layout": "IPY_MODEL_573ffb548bc945058a9248af109f980f",
            "max": 10,
            "min": 0,
            "orientation": "horizontal",
            "style": "IPY_MODEL_bc5d7af3cc784c699b56d2f536855bcb",
            "value": 10
          }
        },
        "1cf71e85b0a14780a0fdb831649f1b93": {
          "model_module": "@jupyter-widgets/controls",
          "model_module_version": "1.5.0",
          "model_name": "HTMLModel",
          "state": {
            "_dom_classes": [],
            "_model_module": "@jupyter-widgets/controls",
            "_model_module_version": "1.5.0",
            "_model_name": "HTMLModel",
            "_view_count": null,
            "_view_module": "@jupyter-widgets/controls",
            "_view_module_version": "1.5.0",
            "_view_name": "HTMLView",
            "description": "",
            "description_tooltip": null,
            "layout": "IPY_MODEL_f21b1b53a07340edad4deac402244ea5",
            "placeholder": "​",
            "style": "IPY_MODEL_cb4b5c3e43c04f56a5f4b5922807d09d",
            "value": " 10/10 [2:47:16&lt;00:00, 1001.85s/it]"
          }
        },
        "2048d060f9da433dbdda5a3c7a089e76": {
          "model_module": "@jupyter-widgets/base",
          "model_module_version": "1.2.0",
          "model_name": "LayoutModel",
          "state": {
            "_model_module": "@jupyter-widgets/base",
            "_model_module_version": "1.2.0",
            "_model_name": "LayoutModel",
            "_view_count": null,
            "_view_module": "@jupyter-widgets/base",
            "_view_module_version": "1.2.0",
            "_view_name": "LayoutView",
            "align_content": null,
            "align_items": null,
            "align_self": null,
            "border": null,
            "bottom": null,
            "display": null,
            "flex": null,
            "flex_flow": null,
            "grid_area": null,
            "grid_auto_columns": null,
            "grid_auto_flow": null,
            "grid_auto_rows": null,
            "grid_column": null,
            "grid_gap": null,
            "grid_row": null,
            "grid_template_areas": null,
            "grid_template_columns": null,
            "grid_template_rows": null,
            "height": null,
            "justify_content": null,
            "justify_items": null,
            "left": null,
            "margin": null,
            "max_height": null,
            "max_width": null,
            "min_height": null,
            "min_width": null,
            "object_fit": null,
            "object_position": null,
            "order": null,
            "overflow": null,
            "overflow_x": null,
            "overflow_y": null,
            "padding": null,
            "right": null,
            "top": null,
            "visibility": null,
            "width": null
          }
        },
        "226a9b75e1fc4f42a91e23df085f5751": {
          "model_module": "@jupyter-widgets/controls",
          "model_module_version": "1.5.0",
          "model_name": "HBoxModel",
          "state": {
            "_dom_classes": [],
            "_model_module": "@jupyter-widgets/controls",
            "_model_module_version": "1.5.0",
            "_model_name": "HBoxModel",
            "_view_count": null,
            "_view_module": "@jupyter-widgets/controls",
            "_view_module_version": "1.5.0",
            "_view_name": "HBoxView",
            "box_style": "",
            "children": [
              "IPY_MODEL_40c3c7d43dce47a1832fd719eddab62a",
              "IPY_MODEL_91594b276c60436492087eeabc9d3cab",
              "IPY_MODEL_77c77d45101440c4bec6e220acacd7b6"
            ],
            "layout": "IPY_MODEL_3a61f8cc8934462481737686173c24ea"
          }
        },
        "2489558ace5f4c18a0872b2e065da3f6": {
          "model_module": "@jupyter-widgets/base",
          "model_module_version": "1.2.0",
          "model_name": "LayoutModel",
          "state": {
            "_model_module": "@jupyter-widgets/base",
            "_model_module_version": "1.2.0",
            "_model_name": "LayoutModel",
            "_view_count": null,
            "_view_module": "@jupyter-widgets/base",
            "_view_module_version": "1.2.0",
            "_view_name": "LayoutView",
            "align_content": null,
            "align_items": null,
            "align_self": null,
            "border": null,
            "bottom": null,
            "display": null,
            "flex": null,
            "flex_flow": null,
            "grid_area": null,
            "grid_auto_columns": null,
            "grid_auto_flow": null,
            "grid_auto_rows": null,
            "grid_column": null,
            "grid_gap": null,
            "grid_row": null,
            "grid_template_areas": null,
            "grid_template_columns": null,
            "grid_template_rows": null,
            "height": null,
            "justify_content": null,
            "justify_items": null,
            "left": null,
            "margin": null,
            "max_height": null,
            "max_width": null,
            "min_height": null,
            "min_width": null,
            "object_fit": null,
            "object_position": null,
            "order": null,
            "overflow": null,
            "overflow_x": null,
            "overflow_y": null,
            "padding": null,
            "right": null,
            "top": null,
            "visibility": null,
            "width": null
          }
        },
        "281ffda0f826451ea965d027cbf3e999": {
          "model_module": "@jupyter-widgets/controls",
          "model_module_version": "1.5.0",
          "model_name": "ProgressStyleModel",
          "state": {
            "_model_module": "@jupyter-widgets/controls",
            "_model_module_version": "1.5.0",
            "_model_name": "ProgressStyleModel",
            "_view_count": null,
            "_view_module": "@jupyter-widgets/base",
            "_view_module_version": "1.2.0",
            "_view_name": "StyleView",
            "bar_color": null,
            "description_width": ""
          }
        },
        "2c3c038f42d749d4b55f3c5524009ea0": {
          "model_module": "@jupyter-widgets/base",
          "model_module_version": "1.2.0",
          "model_name": "LayoutModel",
          "state": {
            "_model_module": "@jupyter-widgets/base",
            "_model_module_version": "1.2.0",
            "_model_name": "LayoutModel",
            "_view_count": null,
            "_view_module": "@jupyter-widgets/base",
            "_view_module_version": "1.2.0",
            "_view_name": "LayoutView",
            "align_content": null,
            "align_items": null,
            "align_self": null,
            "border": null,
            "bottom": null,
            "display": null,
            "flex": null,
            "flex_flow": null,
            "grid_area": null,
            "grid_auto_columns": null,
            "grid_auto_flow": null,
            "grid_auto_rows": null,
            "grid_column": null,
            "grid_gap": null,
            "grid_row": null,
            "grid_template_areas": null,
            "grid_template_columns": null,
            "grid_template_rows": null,
            "height": null,
            "justify_content": null,
            "justify_items": null,
            "left": null,
            "margin": null,
            "max_height": null,
            "max_width": null,
            "min_height": null,
            "min_width": null,
            "object_fit": null,
            "object_position": null,
            "order": null,
            "overflow": null,
            "overflow_x": null,
            "overflow_y": null,
            "padding": null,
            "right": null,
            "top": null,
            "visibility": null,
            "width": null
          }
        },
        "2d6979c7842b418b890ba50d714e1274": {
          "model_module": "@jupyter-widgets/controls",
          "model_module_version": "1.5.0",
          "model_name": "HBoxModel",
          "state": {
            "_dom_classes": [],
            "_model_module": "@jupyter-widgets/controls",
            "_model_module_version": "1.5.0",
            "_model_name": "HBoxModel",
            "_view_count": null,
            "_view_module": "@jupyter-widgets/controls",
            "_view_module_version": "1.5.0",
            "_view_name": "HBoxView",
            "box_style": "",
            "children": [
              "IPY_MODEL_16001bab68a74da0862f8a09920ac5d0",
              "IPY_MODEL_d468866c739246fea3c6c2f719703058",
              "IPY_MODEL_955b31e7fcc9472c8c6d409832399f36"
            ],
            "layout": "IPY_MODEL_8a5983f9e6f944a193628918afc35501"
          }
        },
        "2e575e87a1334f76bebd96492d2c89f4": {
          "model_module": "@jupyter-widgets/controls",
          "model_module_version": "1.5.0",
          "model_name": "DescriptionStyleModel",
          "state": {
            "_model_module": "@jupyter-widgets/controls",
            "_model_module_version": "1.5.0",
            "_model_name": "DescriptionStyleModel",
            "_view_count": null,
            "_view_module": "@jupyter-widgets/base",
            "_view_module_version": "1.2.0",
            "_view_name": "StyleView",
            "description_width": ""
          }
        },
        "2f8e19ba7f2c40b0a418a60342a8627b": {
          "model_module": "@jupyter-widgets/controls",
          "model_module_version": "1.5.0",
          "model_name": "ProgressStyleModel",
          "state": {
            "_model_module": "@jupyter-widgets/controls",
            "_model_module_version": "1.5.0",
            "_model_name": "ProgressStyleModel",
            "_view_count": null,
            "_view_module": "@jupyter-widgets/base",
            "_view_module_version": "1.2.0",
            "_view_name": "StyleView",
            "bar_color": null,
            "description_width": ""
          }
        },
        "3a61f8cc8934462481737686173c24ea": {
          "model_module": "@jupyter-widgets/base",
          "model_module_version": "1.2.0",
          "model_name": "LayoutModel",
          "state": {
            "_model_module": "@jupyter-widgets/base",
            "_model_module_version": "1.2.0",
            "_model_name": "LayoutModel",
            "_view_count": null,
            "_view_module": "@jupyter-widgets/base",
            "_view_module_version": "1.2.0",
            "_view_name": "LayoutView",
            "align_content": null,
            "align_items": null,
            "align_self": null,
            "border": null,
            "bottom": null,
            "display": null,
            "flex": null,
            "flex_flow": null,
            "grid_area": null,
            "grid_auto_columns": null,
            "grid_auto_flow": null,
            "grid_auto_rows": null,
            "grid_column": null,
            "grid_gap": null,
            "grid_row": null,
            "grid_template_areas": null,
            "grid_template_columns": null,
            "grid_template_rows": null,
            "height": null,
            "justify_content": null,
            "justify_items": null,
            "left": null,
            "margin": null,
            "max_height": null,
            "max_width": null,
            "min_height": null,
            "min_width": null,
            "object_fit": null,
            "object_position": null,
            "order": null,
            "overflow": null,
            "overflow_x": null,
            "overflow_y": null,
            "padding": null,
            "right": null,
            "top": null,
            "visibility": null,
            "width": null
          }
        },
        "40c3c7d43dce47a1832fd719eddab62a": {
          "model_module": "@jupyter-widgets/controls",
          "model_module_version": "1.5.0",
          "model_name": "HTMLModel",
          "state": {
            "_dom_classes": [],
            "_model_module": "@jupyter-widgets/controls",
            "_model_module_version": "1.5.0",
            "_model_name": "HTMLModel",
            "_view_count": null,
            "_view_module": "@jupyter-widgets/controls",
            "_view_module_version": "1.5.0",
            "_view_name": "HTMLView",
            "description": "",
            "description_tooltip": null,
            "layout": "IPY_MODEL_2489558ace5f4c18a0872b2e065da3f6",
            "placeholder": "​",
            "style": "IPY_MODEL_7c5325a15b3f4c878989744b8ca4f1aa",
            "value": "100%"
          }
        },
        "41a06636f8ad4e0ca48aa49c41ebaac1": {
          "model_module": "@jupyter-widgets/controls",
          "model_module_version": "1.5.0",
          "model_name": "HTMLModel",
          "state": {
            "_dom_classes": [],
            "_model_module": "@jupyter-widgets/controls",
            "_model_module_version": "1.5.0",
            "_model_name": "HTMLModel",
            "_view_count": null,
            "_view_module": "@jupyter-widgets/controls",
            "_view_module_version": "1.5.0",
            "_view_name": "HTMLView",
            "description": "",
            "description_tooltip": null,
            "layout": "IPY_MODEL_a14d8699c2f84e04b45e948112011695",
            "placeholder": "​",
            "style": "IPY_MODEL_fb7257e7b4894af8aa474d27b409f824",
            "value": "100%"
          }
        },
        "485b0ed2190b4617aeff6637b4432347": {
          "model_module": "@jupyter-widgets/controls",
          "model_module_version": "1.5.0",
          "model_name": "DescriptionStyleModel",
          "state": {
            "_model_module": "@jupyter-widgets/controls",
            "_model_module_version": "1.5.0",
            "_model_name": "DescriptionStyleModel",
            "_view_count": null,
            "_view_module": "@jupyter-widgets/base",
            "_view_module_version": "1.2.0",
            "_view_name": "StyleView",
            "description_width": ""
          }
        },
        "509a4f00e782430aba7096459529b5cf": {
          "model_module": "@jupyter-widgets/controls",
          "model_module_version": "1.5.0",
          "model_name": "ProgressStyleModel",
          "state": {
            "_model_module": "@jupyter-widgets/controls",
            "_model_module_version": "1.5.0",
            "_model_name": "ProgressStyleModel",
            "_view_count": null,
            "_view_module": "@jupyter-widgets/base",
            "_view_module_version": "1.2.0",
            "_view_name": "StyleView",
            "bar_color": null,
            "description_width": ""
          }
        },
        "545c6b031c8f4b9cbc6a56b8ba4c3650": {
          "model_module": "@jupyter-widgets/controls",
          "model_module_version": "1.5.0",
          "model_name": "DescriptionStyleModel",
          "state": {
            "_model_module": "@jupyter-widgets/controls",
            "_model_module_version": "1.5.0",
            "_model_name": "DescriptionStyleModel",
            "_view_count": null,
            "_view_module": "@jupyter-widgets/base",
            "_view_module_version": "1.2.0",
            "_view_name": "StyleView",
            "description_width": ""
          }
        },
        "560f903fe4b44968bb8c440bc0b245ad": {
          "model_module": "@jupyter-widgets/controls",
          "model_module_version": "1.5.0",
          "model_name": "HTMLModel",
          "state": {
            "_dom_classes": [],
            "_model_module": "@jupyter-widgets/controls",
            "_model_module_version": "1.5.0",
            "_model_name": "HTMLModel",
            "_view_count": null,
            "_view_module": "@jupyter-widgets/controls",
            "_view_module_version": "1.5.0",
            "_view_name": "HTMLView",
            "description": "",
            "description_tooltip": null,
            "layout": "IPY_MODEL_0028c883dcfa4b8996c43941b14400df",
            "placeholder": "​",
            "style": "IPY_MODEL_c8e987a060764a4bb9b645cd9b9e70c7",
            "value": "100%"
          }
        },
        "573ffb548bc945058a9248af109f980f": {
          "model_module": "@jupyter-widgets/base",
          "model_module_version": "1.2.0",
          "model_name": "LayoutModel",
          "state": {
            "_model_module": "@jupyter-widgets/base",
            "_model_module_version": "1.2.0",
            "_model_name": "LayoutModel",
            "_view_count": null,
            "_view_module": "@jupyter-widgets/base",
            "_view_module_version": "1.2.0",
            "_view_name": "LayoutView",
            "align_content": null,
            "align_items": null,
            "align_self": null,
            "border": null,
            "bottom": null,
            "display": null,
            "flex": null,
            "flex_flow": null,
            "grid_area": null,
            "grid_auto_columns": null,
            "grid_auto_flow": null,
            "grid_auto_rows": null,
            "grid_column": null,
            "grid_gap": null,
            "grid_row": null,
            "grid_template_areas": null,
            "grid_template_columns": null,
            "grid_template_rows": null,
            "height": null,
            "justify_content": null,
            "justify_items": null,
            "left": null,
            "margin": null,
            "max_height": null,
            "max_width": null,
            "min_height": null,
            "min_width": null,
            "object_fit": null,
            "object_position": null,
            "order": null,
            "overflow": null,
            "overflow_x": null,
            "overflow_y": null,
            "padding": null,
            "right": null,
            "top": null,
            "visibility": null,
            "width": null
          }
        },
        "58c37c62b8274ad59419b95b4d28cc16": {
          "model_module": "@jupyter-widgets/controls",
          "model_module_version": "1.5.0",
          "model_name": "DescriptionStyleModel",
          "state": {
            "_model_module": "@jupyter-widgets/controls",
            "_model_module_version": "1.5.0",
            "_model_name": "DescriptionStyleModel",
            "_view_count": null,
            "_view_module": "@jupyter-widgets/base",
            "_view_module_version": "1.2.0",
            "_view_name": "StyleView",
            "description_width": ""
          }
        },
        "602ac7c33b304538bc89b4f4e30932ae": {
          "model_module": "@jupyter-widgets/base",
          "model_module_version": "1.2.0",
          "model_name": "LayoutModel",
          "state": {
            "_model_module": "@jupyter-widgets/base",
            "_model_module_version": "1.2.0",
            "_model_name": "LayoutModel",
            "_view_count": null,
            "_view_module": "@jupyter-widgets/base",
            "_view_module_version": "1.2.0",
            "_view_name": "LayoutView",
            "align_content": null,
            "align_items": null,
            "align_self": null,
            "border": null,
            "bottom": null,
            "display": null,
            "flex": null,
            "flex_flow": null,
            "grid_area": null,
            "grid_auto_columns": null,
            "grid_auto_flow": null,
            "grid_auto_rows": null,
            "grid_column": null,
            "grid_gap": null,
            "grid_row": null,
            "grid_template_areas": null,
            "grid_template_columns": null,
            "grid_template_rows": null,
            "height": null,
            "justify_content": null,
            "justify_items": null,
            "left": null,
            "margin": null,
            "max_height": null,
            "max_width": null,
            "min_height": null,
            "min_width": null,
            "object_fit": null,
            "object_position": null,
            "order": null,
            "overflow": null,
            "overflow_x": null,
            "overflow_y": null,
            "padding": null,
            "right": null,
            "top": null,
            "visibility": null,
            "width": null
          }
        },
        "62a7ecc8d4a544ea928b5abee8ea90ed": {
          "model_module": "@jupyter-widgets/base",
          "model_module_version": "1.2.0",
          "model_name": "LayoutModel",
          "state": {
            "_model_module": "@jupyter-widgets/base",
            "_model_module_version": "1.2.0",
            "_model_name": "LayoutModel",
            "_view_count": null,
            "_view_module": "@jupyter-widgets/base",
            "_view_module_version": "1.2.0",
            "_view_name": "LayoutView",
            "align_content": null,
            "align_items": null,
            "align_self": null,
            "border": null,
            "bottom": null,
            "display": null,
            "flex": null,
            "flex_flow": null,
            "grid_area": null,
            "grid_auto_columns": null,
            "grid_auto_flow": null,
            "grid_auto_rows": null,
            "grid_column": null,
            "grid_gap": null,
            "grid_row": null,
            "grid_template_areas": null,
            "grid_template_columns": null,
            "grid_template_rows": null,
            "height": null,
            "justify_content": null,
            "justify_items": null,
            "left": null,
            "margin": null,
            "max_height": null,
            "max_width": null,
            "min_height": null,
            "min_width": null,
            "object_fit": null,
            "object_position": null,
            "order": null,
            "overflow": null,
            "overflow_x": null,
            "overflow_y": null,
            "padding": null,
            "right": null,
            "top": null,
            "visibility": null,
            "width": null
          }
        },
        "6e95a6fa56cc49bd9d11caa22db59479": {
          "model_module": "@jupyter-widgets/controls",
          "model_module_version": "1.5.0",
          "model_name": "HTMLModel",
          "state": {
            "_dom_classes": [],
            "_model_module": "@jupyter-widgets/controls",
            "_model_module_version": "1.5.0",
            "_model_name": "HTMLModel",
            "_view_count": null,
            "_view_module": "@jupyter-widgets/controls",
            "_view_module_version": "1.5.0",
            "_view_name": "HTMLView",
            "description": "",
            "description_tooltip": null,
            "layout": "IPY_MODEL_602ac7c33b304538bc89b4f4e30932ae",
            "placeholder": "​",
            "style": "IPY_MODEL_2e575e87a1334f76bebd96492d2c89f4",
            "value": " 10/10 [2:53:17&lt;00:00, 1042.95s/it]"
          }
        },
        "6e9ec15719e14dd8a79b3808cf5b5215": {
          "model_module": "@jupyter-widgets/base",
          "model_module_version": "1.2.0",
          "model_name": "LayoutModel",
          "state": {
            "_model_module": "@jupyter-widgets/base",
            "_model_module_version": "1.2.0",
            "_model_name": "LayoutModel",
            "_view_count": null,
            "_view_module": "@jupyter-widgets/base",
            "_view_module_version": "1.2.0",
            "_view_name": "LayoutView",
            "align_content": null,
            "align_items": null,
            "align_self": null,
            "border": null,
            "bottom": null,
            "display": null,
            "flex": null,
            "flex_flow": null,
            "grid_area": null,
            "grid_auto_columns": null,
            "grid_auto_flow": null,
            "grid_auto_rows": null,
            "grid_column": null,
            "grid_gap": null,
            "grid_row": null,
            "grid_template_areas": null,
            "grid_template_columns": null,
            "grid_template_rows": null,
            "height": null,
            "justify_content": null,
            "justify_items": null,
            "left": null,
            "margin": null,
            "max_height": null,
            "max_width": null,
            "min_height": null,
            "min_width": null,
            "object_fit": null,
            "object_position": null,
            "order": null,
            "overflow": null,
            "overflow_x": null,
            "overflow_y": null,
            "padding": null,
            "right": null,
            "top": null,
            "visibility": null,
            "width": null
          }
        },
        "74485f6ae3c8495a8f9e1242c0ac9d6e": {
          "model_module": "@jupyter-widgets/base",
          "model_module_version": "1.2.0",
          "model_name": "LayoutModel",
          "state": {
            "_model_module": "@jupyter-widgets/base",
            "_model_module_version": "1.2.0",
            "_model_name": "LayoutModel",
            "_view_count": null,
            "_view_module": "@jupyter-widgets/base",
            "_view_module_version": "1.2.0",
            "_view_name": "LayoutView",
            "align_content": null,
            "align_items": null,
            "align_self": null,
            "border": null,
            "bottom": null,
            "display": null,
            "flex": null,
            "flex_flow": null,
            "grid_area": null,
            "grid_auto_columns": null,
            "grid_auto_flow": null,
            "grid_auto_rows": null,
            "grid_column": null,
            "grid_gap": null,
            "grid_row": null,
            "grid_template_areas": null,
            "grid_template_columns": null,
            "grid_template_rows": null,
            "height": null,
            "justify_content": null,
            "justify_items": null,
            "left": null,
            "margin": null,
            "max_height": null,
            "max_width": null,
            "min_height": null,
            "min_width": null,
            "object_fit": null,
            "object_position": null,
            "order": null,
            "overflow": null,
            "overflow_x": null,
            "overflow_y": null,
            "padding": null,
            "right": null,
            "top": null,
            "visibility": null,
            "width": null
          }
        },
        "757973b9a1294c438a3558c20e908148": {
          "model_module": "@jupyter-widgets/controls",
          "model_module_version": "1.5.0",
          "model_name": "HTMLModel",
          "state": {
            "_dom_classes": [],
            "_model_module": "@jupyter-widgets/controls",
            "_model_module_version": "1.5.0",
            "_model_name": "HTMLModel",
            "_view_count": null,
            "_view_module": "@jupyter-widgets/controls",
            "_view_module_version": "1.5.0",
            "_view_name": "HTMLView",
            "description": "",
            "description_tooltip": null,
            "layout": "IPY_MODEL_0223a27048f74baeb266ac85f2062a12",
            "placeholder": "​",
            "style": "IPY_MODEL_e3921341190d479bbf96f3108b240b9d",
            "value": " 10/10 [2:44:46&lt;00:00, 1001.87s/it]"
          }
        },
        "7714a9e83359492a815c0a2e7a74cf4e": {
          "model_module": "@jupyter-widgets/controls",
          "model_module_version": "1.5.0",
          "model_name": "HTMLModel",
          "state": {
            "_dom_classes": [],
            "_model_module": "@jupyter-widgets/controls",
            "_model_module_version": "1.5.0",
            "_model_name": "HTMLModel",
            "_view_count": null,
            "_view_module": "@jupyter-widgets/controls",
            "_view_module_version": "1.5.0",
            "_view_name": "HTMLView",
            "description": "",
            "description_tooltip": null,
            "layout": "IPY_MODEL_a3348f75260241d09cb6a66166e52cf2",
            "placeholder": "​",
            "style": "IPY_MODEL_485b0ed2190b4617aeff6637b4432347",
            "value": "100%"
          }
        },
        "77c77d45101440c4bec6e220acacd7b6": {
          "model_module": "@jupyter-widgets/controls",
          "model_module_version": "1.5.0",
          "model_name": "HTMLModel",
          "state": {
            "_dom_classes": [],
            "_model_module": "@jupyter-widgets/controls",
            "_model_module_version": "1.5.0",
            "_model_name": "HTMLModel",
            "_view_count": null,
            "_view_module": "@jupyter-widgets/controls",
            "_view_module_version": "1.5.0",
            "_view_name": "HTMLView",
            "description": "",
            "description_tooltip": null,
            "layout": "IPY_MODEL_74485f6ae3c8495a8f9e1242c0ac9d6e",
            "placeholder": "​",
            "style": "IPY_MODEL_7c47e49277c74cf38e1196d2e9721ddd",
            "value": " 10/10 [2:52:16&lt;00:00, 1036.50s/it]"
          }
        },
        "79caaae0e20641a6b89cc8b3995f8922": {
          "model_module": "@jupyter-widgets/controls",
          "model_module_version": "1.5.0",
          "model_name": "HBoxModel",
          "state": {
            "_dom_classes": [],
            "_model_module": "@jupyter-widgets/controls",
            "_model_module_version": "1.5.0",
            "_model_name": "HBoxModel",
            "_view_count": null,
            "_view_module": "@jupyter-widgets/controls",
            "_view_module_version": "1.5.0",
            "_view_name": "HBoxView",
            "box_style": "",
            "children": [
              "IPY_MODEL_560f903fe4b44968bb8c440bc0b245ad",
              "IPY_MODEL_7eca866a57c74f2baa662088ae59e8cd",
              "IPY_MODEL_757973b9a1294c438a3558c20e908148"
            ],
            "layout": "IPY_MODEL_d148b7bb12a44951a38809b799bed539"
          }
        },
        "7c47e49277c74cf38e1196d2e9721ddd": {
          "model_module": "@jupyter-widgets/controls",
          "model_module_version": "1.5.0",
          "model_name": "DescriptionStyleModel",
          "state": {
            "_model_module": "@jupyter-widgets/controls",
            "_model_module_version": "1.5.0",
            "_model_name": "DescriptionStyleModel",
            "_view_count": null,
            "_view_module": "@jupyter-widgets/base",
            "_view_module_version": "1.2.0",
            "_view_name": "StyleView",
            "description_width": ""
          }
        },
        "7c5325a15b3f4c878989744b8ca4f1aa": {
          "model_module": "@jupyter-widgets/controls",
          "model_module_version": "1.5.0",
          "model_name": "DescriptionStyleModel",
          "state": {
            "_model_module": "@jupyter-widgets/controls",
            "_model_module_version": "1.5.0",
            "_model_name": "DescriptionStyleModel",
            "_view_count": null,
            "_view_module": "@jupyter-widgets/base",
            "_view_module_version": "1.2.0",
            "_view_name": "StyleView",
            "description_width": ""
          }
        },
        "7eca866a57c74f2baa662088ae59e8cd": {
          "model_module": "@jupyter-widgets/controls",
          "model_module_version": "1.5.0",
          "model_name": "FloatProgressModel",
          "state": {
            "_dom_classes": [],
            "_model_module": "@jupyter-widgets/controls",
            "_model_module_version": "1.5.0",
            "_model_name": "FloatProgressModel",
            "_view_count": null,
            "_view_module": "@jupyter-widgets/controls",
            "_view_module_version": "1.5.0",
            "_view_name": "ProgressView",
            "bar_style": "success",
            "description": "",
            "description_tooltip": null,
            "layout": "IPY_MODEL_2c3c038f42d749d4b55f3c5524009ea0",
            "max": 10,
            "min": 0,
            "orientation": "horizontal",
            "style": "IPY_MODEL_0a09d28863434c9faa5325132206a6ff",
            "value": 10
          }
        },
        "8a5983f9e6f944a193628918afc35501": {
          "model_module": "@jupyter-widgets/base",
          "model_module_version": "1.2.0",
          "model_name": "LayoutModel",
          "state": {
            "_model_module": "@jupyter-widgets/base",
            "_model_module_version": "1.2.0",
            "_model_name": "LayoutModel",
            "_view_count": null,
            "_view_module": "@jupyter-widgets/base",
            "_view_module_version": "1.2.0",
            "_view_name": "LayoutView",
            "align_content": null,
            "align_items": null,
            "align_self": null,
            "border": null,
            "bottom": null,
            "display": null,
            "flex": null,
            "flex_flow": null,
            "grid_area": null,
            "grid_auto_columns": null,
            "grid_auto_flow": null,
            "grid_auto_rows": null,
            "grid_column": null,
            "grid_gap": null,
            "grid_row": null,
            "grid_template_areas": null,
            "grid_template_columns": null,
            "grid_template_rows": null,
            "height": null,
            "justify_content": null,
            "justify_items": null,
            "left": null,
            "margin": null,
            "max_height": null,
            "max_width": null,
            "min_height": null,
            "min_width": null,
            "object_fit": null,
            "object_position": null,
            "order": null,
            "overflow": null,
            "overflow_x": null,
            "overflow_y": null,
            "padding": null,
            "right": null,
            "top": null,
            "visibility": null,
            "width": null
          }
        },
        "91594b276c60436492087eeabc9d3cab": {
          "model_module": "@jupyter-widgets/controls",
          "model_module_version": "1.5.0",
          "model_name": "FloatProgressModel",
          "state": {
            "_dom_classes": [],
            "_model_module": "@jupyter-widgets/controls",
            "_model_module_version": "1.5.0",
            "_model_name": "FloatProgressModel",
            "_view_count": null,
            "_view_module": "@jupyter-widgets/controls",
            "_view_module_version": "1.5.0",
            "_view_name": "ProgressView",
            "bar_style": "success",
            "description": "",
            "description_tooltip": null,
            "layout": "IPY_MODEL_fdc3ebda37eb4fcdac89d10185ec8942",
            "max": 10,
            "min": 0,
            "orientation": "horizontal",
            "style": "IPY_MODEL_f425626d77cc4bac8ed0c13c8769a888",
            "value": 10
          }
        },
        "955b31e7fcc9472c8c6d409832399f36": {
          "model_module": "@jupyter-widgets/controls",
          "model_module_version": "1.5.0",
          "model_name": "HTMLModel",
          "state": {
            "_dom_classes": [],
            "_model_module": "@jupyter-widgets/controls",
            "_model_module_version": "1.5.0",
            "_model_name": "HTMLModel",
            "_view_count": null,
            "_view_module": "@jupyter-widgets/controls",
            "_view_module_version": "1.5.0",
            "_view_name": "HTMLView",
            "description": "",
            "description_tooltip": null,
            "layout": "IPY_MODEL_f726b81274d84139ae3a19fbadbc1b5b",
            "placeholder": "​",
            "style": "IPY_MODEL_0347e5c63dad4b75ac59b35115edb666",
            "value": " 10/10 [2:46:54&lt;00:00, 1000.39s/it]"
          }
        },
        "a14d8699c2f84e04b45e948112011695": {
          "model_module": "@jupyter-widgets/base",
          "model_module_version": "1.2.0",
          "model_name": "LayoutModel",
          "state": {
            "_model_module": "@jupyter-widgets/base",
            "_model_module_version": "1.2.0",
            "_model_name": "LayoutModel",
            "_view_count": null,
            "_view_module": "@jupyter-widgets/base",
            "_view_module_version": "1.2.0",
            "_view_name": "LayoutView",
            "align_content": null,
            "align_items": null,
            "align_self": null,
            "border": null,
            "bottom": null,
            "display": null,
            "flex": null,
            "flex_flow": null,
            "grid_area": null,
            "grid_auto_columns": null,
            "grid_auto_flow": null,
            "grid_auto_rows": null,
            "grid_column": null,
            "grid_gap": null,
            "grid_row": null,
            "grid_template_areas": null,
            "grid_template_columns": null,
            "grid_template_rows": null,
            "height": null,
            "justify_content": null,
            "justify_items": null,
            "left": null,
            "margin": null,
            "max_height": null,
            "max_width": null,
            "min_height": null,
            "min_width": null,
            "object_fit": null,
            "object_position": null,
            "order": null,
            "overflow": null,
            "overflow_x": null,
            "overflow_y": null,
            "padding": null,
            "right": null,
            "top": null,
            "visibility": null,
            "width": null
          }
        },
        "a3348f75260241d09cb6a66166e52cf2": {
          "model_module": "@jupyter-widgets/base",
          "model_module_version": "1.2.0",
          "model_name": "LayoutModel",
          "state": {
            "_model_module": "@jupyter-widgets/base",
            "_model_module_version": "1.2.0",
            "_model_name": "LayoutModel",
            "_view_count": null,
            "_view_module": "@jupyter-widgets/base",
            "_view_module_version": "1.2.0",
            "_view_name": "LayoutView",
            "align_content": null,
            "align_items": null,
            "align_self": null,
            "border": null,
            "bottom": null,
            "display": null,
            "flex": null,
            "flex_flow": null,
            "grid_area": null,
            "grid_auto_columns": null,
            "grid_auto_flow": null,
            "grid_auto_rows": null,
            "grid_column": null,
            "grid_gap": null,
            "grid_row": null,
            "grid_template_areas": null,
            "grid_template_columns": null,
            "grid_template_rows": null,
            "height": null,
            "justify_content": null,
            "justify_items": null,
            "left": null,
            "margin": null,
            "max_height": null,
            "max_width": null,
            "min_height": null,
            "min_width": null,
            "object_fit": null,
            "object_position": null,
            "order": null,
            "overflow": null,
            "overflow_x": null,
            "overflow_y": null,
            "padding": null,
            "right": null,
            "top": null,
            "visibility": null,
            "width": null
          }
        },
        "b39d0a267e6c43b5905ac4a3ae506ab1": {
          "model_module": "@jupyter-widgets/controls",
          "model_module_version": "1.5.0",
          "model_name": "HTMLModel",
          "state": {
            "_dom_classes": [],
            "_model_module": "@jupyter-widgets/controls",
            "_model_module_version": "1.5.0",
            "_model_name": "HTMLModel",
            "_view_count": null,
            "_view_module": "@jupyter-widgets/controls",
            "_view_module_version": "1.5.0",
            "_view_name": "HTMLView",
            "description": "",
            "description_tooltip": null,
            "layout": "IPY_MODEL_f61dc5e64dbb4991957a0ea9c703e8c8",
            "placeholder": "​",
            "style": "IPY_MODEL_58c37c62b8274ad59419b95b4d28cc16",
            "value": "100%"
          }
        },
        "bc5d7af3cc784c699b56d2f536855bcb": {
          "model_module": "@jupyter-widgets/controls",
          "model_module_version": "1.5.0",
          "model_name": "ProgressStyleModel",
          "state": {
            "_model_module": "@jupyter-widgets/controls",
            "_model_module_version": "1.5.0",
            "_model_name": "ProgressStyleModel",
            "_view_count": null,
            "_view_module": "@jupyter-widgets/base",
            "_view_module_version": "1.2.0",
            "_view_name": "StyleView",
            "bar_color": null,
            "description_width": ""
          }
        },
        "bfef8c813d234fd79c8a4d65d86c6e86": {
          "model_module": "@jupyter-widgets/controls",
          "model_module_version": "1.5.0",
          "model_name": "HBoxModel",
          "state": {
            "_dom_classes": [],
            "_model_module": "@jupyter-widgets/controls",
            "_model_module_version": "1.5.0",
            "_model_name": "HBoxModel",
            "_view_count": null,
            "_view_module": "@jupyter-widgets/controls",
            "_view_module_version": "1.5.0",
            "_view_name": "HBoxView",
            "box_style": "",
            "children": [
              "IPY_MODEL_7714a9e83359492a815c0a2e7a74cf4e",
              "IPY_MODEL_1adb4b3b7a95433d85467089e42dbfe0",
              "IPY_MODEL_1cf71e85b0a14780a0fdb831649f1b93"
            ],
            "layout": "IPY_MODEL_2048d060f9da433dbdda5a3c7a089e76"
          }
        },
        "c08b8e8001c642e981bcf75185271865": {
          "model_module": "@jupyter-widgets/controls",
          "model_module_version": "1.5.0",
          "model_name": "HTMLModel",
          "state": {
            "_dom_classes": [],
            "_model_module": "@jupyter-widgets/controls",
            "_model_module_version": "1.5.0",
            "_model_name": "HTMLModel",
            "_view_count": null,
            "_view_module": "@jupyter-widgets/controls",
            "_view_module_version": "1.5.0",
            "_view_name": "HTMLView",
            "description": "",
            "description_tooltip": null,
            "layout": "IPY_MODEL_ced233c4918045e09023059cfc517b2a",
            "placeholder": "​",
            "style": "IPY_MODEL_11df2ca7bd2c401285241c1ce410a68b",
            "value": " 10/10 [2:54:21&lt;00:00, 1043.31s/it]"
          }
        },
        "c240c01508d540a69d1c5500151b7532": {
          "model_module": "@jupyter-widgets/controls",
          "model_module_version": "1.5.0",
          "model_name": "HBoxModel",
          "state": {
            "_dom_classes": [],
            "_model_module": "@jupyter-widgets/controls",
            "_model_module_version": "1.5.0",
            "_model_name": "HBoxModel",
            "_view_count": null,
            "_view_module": "@jupyter-widgets/controls",
            "_view_module_version": "1.5.0",
            "_view_name": "HBoxView",
            "box_style": "",
            "children": [
              "IPY_MODEL_41a06636f8ad4e0ca48aa49c41ebaac1",
              "IPY_MODEL_e99623dae76c4b2d96463de7c44fa116",
              "IPY_MODEL_c08b8e8001c642e981bcf75185271865"
            ],
            "layout": "IPY_MODEL_c5984cd3dca544cf815322926f685c04"
          }
        },
        "c5984cd3dca544cf815322926f685c04": {
          "model_module": "@jupyter-widgets/base",
          "model_module_version": "1.2.0",
          "model_name": "LayoutModel",
          "state": {
            "_model_module": "@jupyter-widgets/base",
            "_model_module_version": "1.2.0",
            "_model_name": "LayoutModel",
            "_view_count": null,
            "_view_module": "@jupyter-widgets/base",
            "_view_module_version": "1.2.0",
            "_view_name": "LayoutView",
            "align_content": null,
            "align_items": null,
            "align_self": null,
            "border": null,
            "bottom": null,
            "display": null,
            "flex": null,
            "flex_flow": null,
            "grid_area": null,
            "grid_auto_columns": null,
            "grid_auto_flow": null,
            "grid_auto_rows": null,
            "grid_column": null,
            "grid_gap": null,
            "grid_row": null,
            "grid_template_areas": null,
            "grid_template_columns": null,
            "grid_template_rows": null,
            "height": null,
            "justify_content": null,
            "justify_items": null,
            "left": null,
            "margin": null,
            "max_height": null,
            "max_width": null,
            "min_height": null,
            "min_width": null,
            "object_fit": null,
            "object_position": null,
            "order": null,
            "overflow": null,
            "overflow_x": null,
            "overflow_y": null,
            "padding": null,
            "right": null,
            "top": null,
            "visibility": null,
            "width": null
          }
        },
        "c8e987a060764a4bb9b645cd9b9e70c7": {
          "model_module": "@jupyter-widgets/controls",
          "model_module_version": "1.5.0",
          "model_name": "DescriptionStyleModel",
          "state": {
            "_model_module": "@jupyter-widgets/controls",
            "_model_module_version": "1.5.0",
            "_model_name": "DescriptionStyleModel",
            "_view_count": null,
            "_view_module": "@jupyter-widgets/base",
            "_view_module_version": "1.2.0",
            "_view_name": "StyleView",
            "description_width": ""
          }
        },
        "cb4b5c3e43c04f56a5f4b5922807d09d": {
          "model_module": "@jupyter-widgets/controls",
          "model_module_version": "1.5.0",
          "model_name": "DescriptionStyleModel",
          "state": {
            "_model_module": "@jupyter-widgets/controls",
            "_model_module_version": "1.5.0",
            "_model_name": "DescriptionStyleModel",
            "_view_count": null,
            "_view_module": "@jupyter-widgets/base",
            "_view_module_version": "1.2.0",
            "_view_name": "StyleView",
            "description_width": ""
          }
        },
        "cd5abf13f71c49a9b13fb733c5b2393f": {
          "model_module": "@jupyter-widgets/controls",
          "model_module_version": "1.5.0",
          "model_name": "HBoxModel",
          "state": {
            "_dom_classes": [],
            "_model_module": "@jupyter-widgets/controls",
            "_model_module_version": "1.5.0",
            "_model_name": "HBoxModel",
            "_view_count": null,
            "_view_module": "@jupyter-widgets/controls",
            "_view_module_version": "1.5.0",
            "_view_name": "HBoxView",
            "box_style": "",
            "children": [
              "IPY_MODEL_b39d0a267e6c43b5905ac4a3ae506ab1",
              "IPY_MODEL_106e942e178e4785bb02d945572328a5",
              "IPY_MODEL_6e95a6fa56cc49bd9d11caa22db59479"
            ],
            "layout": "IPY_MODEL_13899c3c30e043a3b7ebe6d9de2109ef"
          }
        },
        "ced233c4918045e09023059cfc517b2a": {
          "model_module": "@jupyter-widgets/base",
          "model_module_version": "1.2.0",
          "model_name": "LayoutModel",
          "state": {
            "_model_module": "@jupyter-widgets/base",
            "_model_module_version": "1.2.0",
            "_model_name": "LayoutModel",
            "_view_count": null,
            "_view_module": "@jupyter-widgets/base",
            "_view_module_version": "1.2.0",
            "_view_name": "LayoutView",
            "align_content": null,
            "align_items": null,
            "align_self": null,
            "border": null,
            "bottom": null,
            "display": null,
            "flex": null,
            "flex_flow": null,
            "grid_area": null,
            "grid_auto_columns": null,
            "grid_auto_flow": null,
            "grid_auto_rows": null,
            "grid_column": null,
            "grid_gap": null,
            "grid_row": null,
            "grid_template_areas": null,
            "grid_template_columns": null,
            "grid_template_rows": null,
            "height": null,
            "justify_content": null,
            "justify_items": null,
            "left": null,
            "margin": null,
            "max_height": null,
            "max_width": null,
            "min_height": null,
            "min_width": null,
            "object_fit": null,
            "object_position": null,
            "order": null,
            "overflow": null,
            "overflow_x": null,
            "overflow_y": null,
            "padding": null,
            "right": null,
            "top": null,
            "visibility": null,
            "width": null
          }
        },
        "d148b7bb12a44951a38809b799bed539": {
          "model_module": "@jupyter-widgets/base",
          "model_module_version": "1.2.0",
          "model_name": "LayoutModel",
          "state": {
            "_model_module": "@jupyter-widgets/base",
            "_model_module_version": "1.2.0",
            "_model_name": "LayoutModel",
            "_view_count": null,
            "_view_module": "@jupyter-widgets/base",
            "_view_module_version": "1.2.0",
            "_view_name": "LayoutView",
            "align_content": null,
            "align_items": null,
            "align_self": null,
            "border": null,
            "bottom": null,
            "display": null,
            "flex": null,
            "flex_flow": null,
            "grid_area": null,
            "grid_auto_columns": null,
            "grid_auto_flow": null,
            "grid_auto_rows": null,
            "grid_column": null,
            "grid_gap": null,
            "grid_row": null,
            "grid_template_areas": null,
            "grid_template_columns": null,
            "grid_template_rows": null,
            "height": null,
            "justify_content": null,
            "justify_items": null,
            "left": null,
            "margin": null,
            "max_height": null,
            "max_width": null,
            "min_height": null,
            "min_width": null,
            "object_fit": null,
            "object_position": null,
            "order": null,
            "overflow": null,
            "overflow_x": null,
            "overflow_y": null,
            "padding": null,
            "right": null,
            "top": null,
            "visibility": null,
            "width": null
          }
        },
        "d468866c739246fea3c6c2f719703058": {
          "model_module": "@jupyter-widgets/controls",
          "model_module_version": "1.5.0",
          "model_name": "FloatProgressModel",
          "state": {
            "_dom_classes": [],
            "_model_module": "@jupyter-widgets/controls",
            "_model_module_version": "1.5.0",
            "_model_name": "FloatProgressModel",
            "_view_count": null,
            "_view_module": "@jupyter-widgets/controls",
            "_view_module_version": "1.5.0",
            "_view_name": "ProgressView",
            "bar_style": "success",
            "description": "",
            "description_tooltip": null,
            "layout": "IPY_MODEL_eb811614e59f4b09a76dced6490ccb33",
            "max": 10,
            "min": 0,
            "orientation": "horizontal",
            "style": "IPY_MODEL_509a4f00e782430aba7096459529b5cf",
            "value": 10
          }
        },
        "e3921341190d479bbf96f3108b240b9d": {
          "model_module": "@jupyter-widgets/controls",
          "model_module_version": "1.5.0",
          "model_name": "DescriptionStyleModel",
          "state": {
            "_model_module": "@jupyter-widgets/controls",
            "_model_module_version": "1.5.0",
            "_model_name": "DescriptionStyleModel",
            "_view_count": null,
            "_view_module": "@jupyter-widgets/base",
            "_view_module_version": "1.2.0",
            "_view_name": "StyleView",
            "description_width": ""
          }
        },
        "e99623dae76c4b2d96463de7c44fa116": {
          "model_module": "@jupyter-widgets/controls",
          "model_module_version": "1.5.0",
          "model_name": "FloatProgressModel",
          "state": {
            "_dom_classes": [],
            "_model_module": "@jupyter-widgets/controls",
            "_model_module_version": "1.5.0",
            "_model_name": "FloatProgressModel",
            "_view_count": null,
            "_view_module": "@jupyter-widgets/controls",
            "_view_module_version": "1.5.0",
            "_view_name": "ProgressView",
            "bar_style": "success",
            "description": "",
            "description_tooltip": null,
            "layout": "IPY_MODEL_6e9ec15719e14dd8a79b3808cf5b5215",
            "max": 10,
            "min": 0,
            "orientation": "horizontal",
            "style": "IPY_MODEL_2f8e19ba7f2c40b0a418a60342a8627b",
            "value": 10
          }
        },
        "eb811614e59f4b09a76dced6490ccb33": {
          "model_module": "@jupyter-widgets/base",
          "model_module_version": "1.2.0",
          "model_name": "LayoutModel",
          "state": {
            "_model_module": "@jupyter-widgets/base",
            "_model_module_version": "1.2.0",
            "_model_name": "LayoutModel",
            "_view_count": null,
            "_view_module": "@jupyter-widgets/base",
            "_view_module_version": "1.2.0",
            "_view_name": "LayoutView",
            "align_content": null,
            "align_items": null,
            "align_self": null,
            "border": null,
            "bottom": null,
            "display": null,
            "flex": null,
            "flex_flow": null,
            "grid_area": null,
            "grid_auto_columns": null,
            "grid_auto_flow": null,
            "grid_auto_rows": null,
            "grid_column": null,
            "grid_gap": null,
            "grid_row": null,
            "grid_template_areas": null,
            "grid_template_columns": null,
            "grid_template_rows": null,
            "height": null,
            "justify_content": null,
            "justify_items": null,
            "left": null,
            "margin": null,
            "max_height": null,
            "max_width": null,
            "min_height": null,
            "min_width": null,
            "object_fit": null,
            "object_position": null,
            "order": null,
            "overflow": null,
            "overflow_x": null,
            "overflow_y": null,
            "padding": null,
            "right": null,
            "top": null,
            "visibility": null,
            "width": null
          }
        },
        "f21b1b53a07340edad4deac402244ea5": {
          "model_module": "@jupyter-widgets/base",
          "model_module_version": "1.2.0",
          "model_name": "LayoutModel",
          "state": {
            "_model_module": "@jupyter-widgets/base",
            "_model_module_version": "1.2.0",
            "_model_name": "LayoutModel",
            "_view_count": null,
            "_view_module": "@jupyter-widgets/base",
            "_view_module_version": "1.2.0",
            "_view_name": "LayoutView",
            "align_content": null,
            "align_items": null,
            "align_self": null,
            "border": null,
            "bottom": null,
            "display": null,
            "flex": null,
            "flex_flow": null,
            "grid_area": null,
            "grid_auto_columns": null,
            "grid_auto_flow": null,
            "grid_auto_rows": null,
            "grid_column": null,
            "grid_gap": null,
            "grid_row": null,
            "grid_template_areas": null,
            "grid_template_columns": null,
            "grid_template_rows": null,
            "height": null,
            "justify_content": null,
            "justify_items": null,
            "left": null,
            "margin": null,
            "max_height": null,
            "max_width": null,
            "min_height": null,
            "min_width": null,
            "object_fit": null,
            "object_position": null,
            "order": null,
            "overflow": null,
            "overflow_x": null,
            "overflow_y": null,
            "padding": null,
            "right": null,
            "top": null,
            "visibility": null,
            "width": null
          }
        },
        "f425626d77cc4bac8ed0c13c8769a888": {
          "model_module": "@jupyter-widgets/controls",
          "model_module_version": "1.5.0",
          "model_name": "ProgressStyleModel",
          "state": {
            "_model_module": "@jupyter-widgets/controls",
            "_model_module_version": "1.5.0",
            "_model_name": "ProgressStyleModel",
            "_view_count": null,
            "_view_module": "@jupyter-widgets/base",
            "_view_module_version": "1.2.0",
            "_view_name": "StyleView",
            "bar_color": null,
            "description_width": ""
          }
        },
        "f61dc5e64dbb4991957a0ea9c703e8c8": {
          "model_module": "@jupyter-widgets/base",
          "model_module_version": "1.2.0",
          "model_name": "LayoutModel",
          "state": {
            "_model_module": "@jupyter-widgets/base",
            "_model_module_version": "1.2.0",
            "_model_name": "LayoutModel",
            "_view_count": null,
            "_view_module": "@jupyter-widgets/base",
            "_view_module_version": "1.2.0",
            "_view_name": "LayoutView",
            "align_content": null,
            "align_items": null,
            "align_self": null,
            "border": null,
            "bottom": null,
            "display": null,
            "flex": null,
            "flex_flow": null,
            "grid_area": null,
            "grid_auto_columns": null,
            "grid_auto_flow": null,
            "grid_auto_rows": null,
            "grid_column": null,
            "grid_gap": null,
            "grid_row": null,
            "grid_template_areas": null,
            "grid_template_columns": null,
            "grid_template_rows": null,
            "height": null,
            "justify_content": null,
            "justify_items": null,
            "left": null,
            "margin": null,
            "max_height": null,
            "max_width": null,
            "min_height": null,
            "min_width": null,
            "object_fit": null,
            "object_position": null,
            "order": null,
            "overflow": null,
            "overflow_x": null,
            "overflow_y": null,
            "padding": null,
            "right": null,
            "top": null,
            "visibility": null,
            "width": null
          }
        },
        "f726b81274d84139ae3a19fbadbc1b5b": {
          "model_module": "@jupyter-widgets/base",
          "model_module_version": "1.2.0",
          "model_name": "LayoutModel",
          "state": {
            "_model_module": "@jupyter-widgets/base",
            "_model_module_version": "1.2.0",
            "_model_name": "LayoutModel",
            "_view_count": null,
            "_view_module": "@jupyter-widgets/base",
            "_view_module_version": "1.2.0",
            "_view_name": "LayoutView",
            "align_content": null,
            "align_items": null,
            "align_self": null,
            "border": null,
            "bottom": null,
            "display": null,
            "flex": null,
            "flex_flow": null,
            "grid_area": null,
            "grid_auto_columns": null,
            "grid_auto_flow": null,
            "grid_auto_rows": null,
            "grid_column": null,
            "grid_gap": null,
            "grid_row": null,
            "grid_template_areas": null,
            "grid_template_columns": null,
            "grid_template_rows": null,
            "height": null,
            "justify_content": null,
            "justify_items": null,
            "left": null,
            "margin": null,
            "max_height": null,
            "max_width": null,
            "min_height": null,
            "min_width": null,
            "object_fit": null,
            "object_position": null,
            "order": null,
            "overflow": null,
            "overflow_x": null,
            "overflow_y": null,
            "padding": null,
            "right": null,
            "top": null,
            "visibility": null,
            "width": null
          }
        },
        "fb7257e7b4894af8aa474d27b409f824": {
          "model_module": "@jupyter-widgets/controls",
          "model_module_version": "1.5.0",
          "model_name": "DescriptionStyleModel",
          "state": {
            "_model_module": "@jupyter-widgets/controls",
            "_model_module_version": "1.5.0",
            "_model_name": "DescriptionStyleModel",
            "_view_count": null,
            "_view_module": "@jupyter-widgets/base",
            "_view_module_version": "1.2.0",
            "_view_name": "StyleView",
            "description_width": ""
          }
        },
        "fdc3ebda37eb4fcdac89d10185ec8942": {
          "model_module": "@jupyter-widgets/base",
          "model_module_version": "1.2.0",
          "model_name": "LayoutModel",
          "state": {
            "_model_module": "@jupyter-widgets/base",
            "_model_module_version": "1.2.0",
            "_model_name": "LayoutModel",
            "_view_count": null,
            "_view_module": "@jupyter-widgets/base",
            "_view_module_version": "1.2.0",
            "_view_name": "LayoutView",
            "align_content": null,
            "align_items": null,
            "align_self": null,
            "border": null,
            "bottom": null,
            "display": null,
            "flex": null,
            "flex_flow": null,
            "grid_area": null,
            "grid_auto_columns": null,
            "grid_auto_flow": null,
            "grid_auto_rows": null,
            "grid_column": null,
            "grid_gap": null,
            "grid_row": null,
            "grid_template_areas": null,
            "grid_template_columns": null,
            "grid_template_rows": null,
            "height": null,
            "justify_content": null,
            "justify_items": null,
            "left": null,
            "margin": null,
            "max_height": null,
            "max_width": null,
            "min_height": null,
            "min_width": null,
            "object_fit": null,
            "object_position": null,
            "order": null,
            "overflow": null,
            "overflow_x": null,
            "overflow_y": null,
            "padding": null,
            "right": null,
            "top": null,
            "visibility": null,
            "width": null
          }
        }
      }
    }
  },
  "nbformat": 4,
  "nbformat_minor": 0
}
