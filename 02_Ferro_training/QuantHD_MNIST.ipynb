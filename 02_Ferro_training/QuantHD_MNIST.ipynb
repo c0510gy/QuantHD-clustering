{
  "cells": [
    {
      "cell_type": "code",
      "execution_count": 3,
      "metadata": {
        "id": "6wDFt_pSICLK"
      },
      "outputs": [],
      "source": [
        "import sys\n",
        "sys.path.append('../')\n",
        "import clustering_tester\n",
        "from tqdm.notebook import tqdm"
      ]
    },
    {
      "cell_type": "code",
      "execution_count": 4,
      "metadata": {
        "id": "AC_HbjdRICLO"
      },
      "outputs": [],
      "source": [
        "DIM = 10000\n",
        "MAX_SAMPLES = 10000\n",
        "BITS = 3\n",
        "EPOCHS = 30"
      ]
    },
    {
      "cell_type": "code",
      "execution_count": 5,
      "metadata": {
        "colab": {
          "base_uri": "https://localhost:8080/",
          "height": 917,
          "referenced_widgets": [
            "225db3fc4def46fbba155509a3b084c6",
            "e5862ed67300479eab0750c9a86ada4b",
            "891b3dc0b6ca48be960d43c83f5eeca9",
            "85e534735bcb4ed2b425923b7bfaea9a",
            "bf5606af1a5f418cbf8e2965f912fcec",
            "4ef17015dd314b5c8f5f4ed7eef9198b",
            "8e5db89ac3824e82943c388a26ed7b7e",
            "91874d0966f04969bea27aa9a8b8caf7",
            "9f8984e400804515a2fbe97f80923123",
            "bf6d9429ef644fd6a230b14aea84a21f",
            "8ca72176bc6e4b9cb09a12e664757402"
          ]
        },
        "id": "Mori3EXWICLO",
        "outputId": "82b563b5-f683-46ca-d097-51304c0c99d4"
      },
      "outputs": [
        {
          "data": {
            "application/vnd.jupyter.widget-view+json": {
              "model_id": "225db3fc4def46fbba155509a3b084c6",
              "version_major": 2,
              "version_minor": 0
            },
            "text/plain": [
              "  0%|          | 0/10 [00:00<?, ?it/s]"
            ]
          },
          "metadata": {},
          "output_type": "display_data"
        },
        {
          "name": "stderr",
          "output_type": "stream",
          "text": [
            "Loading dataset mnist from mnist\n",
            "Loading train data... train data of shape (60000, 784) loaded\n",
            "Loading test data...  test  data of shape (10000, 784) loaded\n",
            "Data Loaded. Num of features = 784 Num of Classes = 10"
          ]
        },
        {
          "name": "stdout",
          "output_type": "stream",
          "text": [
            "selected initial labels: [1, 2, 4, 7, 7, 7, 7, 8, 8, 9]\n",
            "0.649\n"
          ]
        },
        {
          "name": "stderr",
          "output_type": "stream",
          "text": [
            "Loading dataset mnist from mnist\n",
            "Loading train data... train data of shape (60000, 784) loaded\n",
            "Loading test data...  test  data of shape (10000, 784) loaded\n",
            "Data Loaded. Num of features = 784 Num of Classes = 10"
          ]
        },
        {
          "name": "stdout",
          "output_type": "stream",
          "text": [
            "selected initial labels: [0, 0, 2, 5, 5, 7, 7, 7, 9, 9]\n",
            "0.631\n"
          ]
        },
        {
          "name": "stderr",
          "output_type": "stream",
          "text": [
            "Loading dataset mnist from mnist\n",
            "Loading train data... train data of shape (60000, 784) loaded\n",
            "Loading test data...  test  data of shape (10000, 784) loaded\n",
            "Data Loaded. Num of features = 784 Num of Classes = 10"
          ]
        },
        {
          "name": "stdout",
          "output_type": "stream",
          "text": [
            "selected initial labels: [2, 2, 2, 3, 4, 5, 8, 8, 9, 9]\n",
            "0.6653\n"
          ]
        },
        {
          "name": "stderr",
          "output_type": "stream",
          "text": [
            "Loading dataset mnist from mnist\n",
            "Loading train data... train data of shape (60000, 784) loaded\n",
            "Loading test data...  test  data of shape (10000, 784) loaded\n",
            "Data Loaded. Num of features = 784 Num of Classes = 10"
          ]
        },
        {
          "name": "stdout",
          "output_type": "stream",
          "text": [
            "selected initial labels: [0, 1, 4, 6, 6, 6, 7, 7, 7, 9]\n",
            "0.6332\n"
          ]
        },
        {
          "name": "stderr",
          "output_type": "stream",
          "text": [
            "Loading dataset mnist from mnist\n",
            "Loading train data... train data of shape (60000, 784) loaded\n",
            "Loading test data...  test  data of shape (10000, 784) loaded\n",
            "Data Loaded. Num of features = 784 Num of Classes = 10"
          ]
        },
        {
          "name": "stdout",
          "output_type": "stream",
          "text": [
            "selected initial labels: [0, 4, 4, 5, 5, 6, 6, 6, 7, 7]\n",
            "0.6795\n"
          ]
        },
        {
          "name": "stderr",
          "output_type": "stream",
          "text": [
            "Loading dataset mnist from mnist\n",
            "Loading train data... train data of shape (60000, 784) loaded\n",
            "Loading test data...  test  data of shape (10000, 784) loaded\n",
            "Data Loaded. Num of features = 784 Num of Classes = 10"
          ]
        },
        {
          "name": "stdout",
          "output_type": "stream",
          "text": [
            "selected initial labels: [2, 3, 4, 5, 6, 7, 7, 8, 8, 9]\n",
            "0.5593\n"
          ]
        },
        {
          "name": "stderr",
          "output_type": "stream",
          "text": [
            "Loading dataset mnist from mnist\n",
            "Loading train data... train data of shape (60000, 784) loaded\n",
            "Loading test data...  test  data of shape (10000, 784) loaded\n",
            "Data Loaded. Num of features = 784 Num of Classes = 10"
          ]
        },
        {
          "name": "stdout",
          "output_type": "stream",
          "text": [
            "selected initial labels: [1, 1, 2, 2, 3, 5, 7, 7, 8, 9]\n",
            "0.6127\n"
          ]
        },
        {
          "name": "stderr",
          "output_type": "stream",
          "text": [
            "Loading dataset mnist from mnist\n",
            "Loading train data... train data of shape (60000, 784) loaded\n",
            "Loading test data...  test  data of shape (10000, 784) loaded\n",
            "Data Loaded. Num of features = 784 Num of Classes = 10"
          ]
        },
        {
          "name": "stdout",
          "output_type": "stream",
          "text": [
            "selected initial labels: [1, 1, 3, 4, 4, 5, 5, 6, 8, 9]\n",
            "0.5494\n"
          ]
        },
        {
          "name": "stderr",
          "output_type": "stream",
          "text": [
            "Loading dataset mnist from mnist\n",
            "Loading train data... train data of shape (60000, 784) loaded\n",
            "Loading test data...  test  data of shape (10000, 784) loaded\n",
            "Data Loaded. Num of features = 784 Num of Classes = 10"
          ]
        },
        {
          "name": "stdout",
          "output_type": "stream",
          "text": [
            "selected initial labels: [0, 2, 2, 3, 3, 3, 4, 5, 6, 8]\n",
            "0.6279\n"
          ]
        },
        {
          "name": "stderr",
          "output_type": "stream",
          "text": [
            "Loading dataset mnist from mnist\n",
            "Loading train data... train data of shape (60000, 784) loaded\n",
            "Loading test data...  test  data of shape (10000, 784) loaded\n",
            "Data Loaded. Num of features = 784 Num of Classes = 10"
          ]
        },
        {
          "name": "stdout",
          "output_type": "stream",
          "text": [
            "selected initial labels: [0, 2, 3, 3, 4, 7, 7, 8, 8, 9]\n",
            "0.6351\n"
          ]
        }
      ],
      "source": [
        "histories = []\n",
        "for trial in tqdm(range(10)):\n",
        "  history = clustering_tester.run_clustering(\n",
        "    *clustering_tester.get_mnist_dataset(MAX_SAMPLES),\n",
        "    BITS,\n",
        "    DIM,\n",
        "    EPOCHS,\n",
        "    clustering_tester.get_prob_tables_from_json('../prob_table.json')['27C_Front_10nm_3bit']\n",
        "  )\n",
        "  histories.append(history)"
      ]
    },
    {
      "cell_type": "code",
      "execution_count": 6,
      "metadata": {
        "colab": {
          "base_uri": "https://localhost:8080/",
          "height": 442
        },
        "id": "8f5-a6aUICLP",
        "outputId": "f63904db-bdf5-4a02-87a4-2519990710f7"
      },
      "outputs": [
        {
          "data": {
            "image/png": "[encoded data removed]",
            "text/plain": [
              "<Figure size 720x504 with 1 Axes>"
            ]
          },
          "metadata": {
            "needs_background": "light"
          },
          "output_type": "display_data"
        }
      ],
      "source": [
        "clustering_tester.plot_histories(histories)"
      ]
    },
    {
      "cell_type": "code",
      "execution_count": 7,
      "metadata": {
        "colab": {
          "base_uri": "https://localhost:8080/",
          "height": 917,
          "referenced_widgets": [
            "6c34f07f93dc4e5c8223f188990318bb",
            "60a3332364084bf4860b397f3c1a793a",
            "0ab2960c76bb4fa6af1aeb2e2faae3e0",
            "8250bffee5f945a28533061b79569ebd",
            "a718a1be06ac487f8b4252cf80a84a2e",
            "3d1b0da2d00643dab882ae9036eefabf",
            "48ccc2954fae49ddb87ea178a1d8280a",
            "727801ed37364460a56931fdd466f46e",
            "d38c626095bf4778ad8ac6931de41386",
            "28f4a838296341d69c1299d8ff3bd54c",
            "af61858559134b1a9461837362f7bd6b"
          ]
        },
        "id": "savzbP3sICLQ",
        "outputId": "96f1dd2d-1d44-4d2f-d15a-b7a498e4bd6f"
      },
      "outputs": [
        {
          "data": {
            "application/vnd.jupyter.widget-view+json": {
              "model_id": "6c34f07f93dc4e5c8223f188990318bb",
              "version_major": 2,
              "version_minor": 0
            },
            "text/plain": [
              "  0%|          | 0/10 [00:00<?, ?it/s]"
            ]
          },
          "metadata": {},
          "output_type": "display_data"
        },
        {
          "name": "stderr",
          "output_type": "stream",
          "text": [
            "Loading dataset mnist from mnist\n",
            "Loading train data... train data of shape (60000, 784) loaded\n",
            "Loading test data...  test  data of shape (10000, 784) loaded\n",
            "Data Loaded. Num of features = 784 Num of Classes = 10"
          ]
        },
        {
          "name": "stdout",
          "output_type": "stream",
          "text": [
            "selected initial labels: [0, 0, 1, 2, 2, 2, 5, 7, 8, 9]\n",
            "0.6626\n"
          ]
        },
        {
          "name": "stderr",
          "output_type": "stream",
          "text": [
            "Loading dataset mnist from mnist\n",
            "Loading train data... train data of shape (60000, 784) loaded\n",
            "Loading test data...  test  data of shape (10000, 784) loaded\n",
            "Data Loaded. Num of features = 784 Num of Classes = 10"
          ]
        },
        {
          "name": "stdout",
          "output_type": "stream",
          "text": [
            "selected initial labels: [0, 1, 1, 3, 4, 4, 5, 6, 6, 8]\n",
            "0.6334\n"
          ]
        },
        {
          "name": "stderr",
          "output_type": "stream",
          "text": [
            "Loading dataset mnist from mnist\n",
            "Loading train data... train data of shape (60000, 784) loaded\n",
            "Loading test data...  test  data of shape (10000, 784) loaded\n",
            "Data Loaded. Num of features = 784 Num of Classes = 10"
          ]
        },
        {
          "name": "stdout",
          "output_type": "stream",
          "text": [
            "selected initial labels: [0, 1, 1, 2, 5, 5, 7, 8, 8, 9]\n",
            "0.6243\n"
          ]
        },
        {
          "name": "stderr",
          "output_type": "stream",
          "text": [
            "Loading dataset mnist from mnist\n",
            "Loading train data... train data of shape (60000, 784) loaded\n",
            "Loading test data...  test  data of shape (10000, 784) loaded\n",
            "Data Loaded. Num of features = 784 Num of Classes = 10"
          ]
        },
        {
          "name": "stdout",
          "output_type": "stream",
          "text": [
            "selected initial labels: [0, 3, 4, 5, 5, 6, 8, 9, 9, 9]\n",
            "0.5566\n"
          ]
        },
        {
          "name": "stderr",
          "output_type": "stream",
          "text": [
            "Loading dataset mnist from mnist\n",
            "Loading train data... train data of shape (60000, 784) loaded\n",
            "Loading test data...  test  data of shape (10000, 784) loaded\n",
            "Data Loaded. Num of features = 784 Num of Classes = 10"
          ]
        },
        {
          "name": "stdout",
          "output_type": "stream",
          "text": [
            "selected initial labels: [1, 1, 2, 4, 5, 5, 5, 7, 7, 8]\n",
            "0.6088\n"
          ]
        },
        {
          "name": "stderr",
          "output_type": "stream",
          "text": [
            "Loading dataset mnist from mnist\n",
            "Loading train data... train data of shape (60000, 784) loaded\n",
            "Loading test data...  test  data of shape (10000, 784) loaded\n",
            "Data Loaded. Num of features = 784 Num of Classes = 10"
          ]
        },
        {
          "name": "stdout",
          "output_type": "stream",
          "text": [
            "selected initial labels: [0, 1, 2, 2, 3, 4, 6, 7, 8, 9]\n",
            "0.6776\n"
          ]
        },
        {
          "name": "stderr",
          "output_type": "stream",
          "text": [
            "Loading dataset mnist from mnist\n",
            "Loading train data... train data of shape (60000, 784) loaded\n",
            "Loading test data...  test  data of shape (10000, 784) loaded\n",
            "Data Loaded. Num of features = 784 Num of Classes = 10"
          ]
        },
        {
          "name": "stdout",
          "output_type": "stream",
          "text": [
            "selected initial labels: [0, 0, 2, 3, 5, 5, 5, 6, 7, 7]\n",
            "0.6377\n"
          ]
        },
        {
          "name": "stderr",
          "output_type": "stream",
          "text": [
            "Loading dataset mnist from mnist\n",
            "Loading train data... train data of shape (60000, 784) loaded\n",
            "Loading test data...  test  data of shape (10000, 784) loaded\n",
            "Data Loaded. Num of features = 784 Num of Classes = 10"
          ]
        },
        {
          "name": "stdout",
          "output_type": "stream",
          "text": [
            "selected initial labels: [0, 0, 1, 2, 4, 6, 7, 7, 7, 9]\n",
            "0.6281\n"
          ]
        },
        {
          "name": "stderr",
          "output_type": "stream",
          "text": [
            "Loading dataset mnist from mnist\n",
            "Loading train data... train data of shape (60000, 784) loaded\n",
            "Loading test data...  test  data of shape (10000, 784) loaded\n",
            "Data Loaded. Num of features = 784 Num of Classes = 10"
          ]
        },
        {
          "name": "stdout",
          "output_type": "stream",
          "text": [
            "selected initial labels: [0, 1, 2, 4, 4, 5, 5, 6, 6, 7]\n",
            "0.6723\n"
          ]
        },
        {
          "name": "stderr",
          "output_type": "stream",
          "text": [
            "Loading dataset mnist from mnist\n",
            "Loading train data... train data of shape (60000, 784) loaded\n",
            "Loading test data...  test  data of shape (10000, 784) loaded\n",
            "Data Loaded. Num of features = 784 Num of Classes = 10"
          ]
        },
        {
          "name": "stdout",
          "output_type": "stream",
          "text": [
            "selected initial labels: [0, 2, 3, 5, 5, 8, 8, 9, 9, 9]\n",
            "0.6669\n"
          ]
        }
      ],
      "source": [
        "histories = []\n",
        "for trial in tqdm(range(10)):\n",
        "  history = clustering_tester.run_clustering(\n",
        "    *clustering_tester.get_mnist_dataset(MAX_SAMPLES),\n",
        "    BITS,\n",
        "    DIM,\n",
        "    EPOCHS,\n",
        "    clustering_tester.get_prob_tables_from_json('../prob_table.json')['80C_Back_3nm_3bit']\n",
        "  )\n",
        "  histories.append(history)"
      ]
    },
    {
      "cell_type": "code",
      "execution_count": 8,
      "metadata": {
        "colab": {
          "base_uri": "https://localhost:8080/",
          "height": 442
        },
        "id": "uI_oVA1tICLQ",
        "outputId": "a963d2cb-e8a1-46a5-ab8f-19344b725815"
      },
      "outputs": [
        {
          "data": {
            "image/png": "[encoded data removed]",
            "text/plain": [
              "<Figure size 720x504 with 1 Axes>"
            ]
          },
          "metadata": {
            "needs_background": "light"
          },
          "output_type": "display_data"
        }
      ],
      "source": [
        "clustering_tester.plot_histories(histories)"
      ]
    },
    {
      "cell_type": "code",
      "execution_count": 9,
      "metadata": {
        "colab": {
          "base_uri": "https://localhost:8080/",
          "height": 917,
          "referenced_widgets": [
            "9fc47f4271b4456f9eb4256907551868",
            "96b8b97ad7a6416598ac568afae92308",
            "5af1733e97db43b9a5bd128df0cfbac1",
            "6ff65b1e1ccc4352bd247480aa5179b3",
            "c7991e524e0c46d985935b618340eaa8",
            "f5e62b77376145aebb7332822e596341",
            "6ffce92485be45babc5a263d1016c370",
            "a3023c0d1da7454c9dfe418fc3441ccc",
            "763d3a074c9a4039ad4c7864c6f8a8ef",
            "a69cbf91244f4c68bf279e7cbd1a2bf7",
            "636f8ae00591449ab2d153bd3dad55e2"
          ]
        },
        "id": "5Qf0HldUICLR",
        "outputId": "2de5a06a-d5a2-46cb-bf35-2458270c118c"
      },
      "outputs": [
        {
          "data": {
            "application/vnd.jupyter.widget-view+json": {
              "model_id": "9fc47f4271b4456f9eb4256907551868",
              "version_major": 2,
              "version_minor": 0
            },
            "text/plain": [
              "  0%|          | 0/10 [00:00<?, ?it/s]"
            ]
          },
          "metadata": {},
          "output_type": "display_data"
        },
        {
          "name": "stderr",
          "output_type": "stream",
          "text": [
            "Loading dataset mnist from mnist\n",
            "Loading train data... train data of shape (60000, 784) loaded\n",
            "Loading test data...  test  data of shape (10000, 784) loaded\n",
            "Data Loaded. Num of features = 784 Num of Classes = 10"
          ]
        },
        {
          "name": "stdout",
          "output_type": "stream",
          "text": [
            "selected initial labels: [1, 2, 4, 7, 7, 7, 8, 8, 8, 8]\n",
            "0.6603\n"
          ]
        },
        {
          "name": "stderr",
          "output_type": "stream",
          "text": [
            "Loading dataset mnist from mnist\n",
            "Loading train data... train data of shape (60000, 784) loaded\n",
            "Loading test data...  test  data of shape (10000, 784) loaded\n",
            "Data Loaded. Num of features = 784 Num of Classes = 10"
          ]
        },
        {
          "name": "stdout",
          "output_type": "stream",
          "text": [
            "selected initial labels: [0, 1, 2, 2, 4, 5, 7, 7, 8, 8]\n",
            "0.6391\n"
          ]
        },
        {
          "name": "stderr",
          "output_type": "stream",
          "text": [
            "Loading dataset mnist from mnist\n",
            "Loading train data... train data of shape (60000, 784) loaded\n",
            "Loading test data...  test  data of shape (10000, 784) loaded\n",
            "Data Loaded. Num of features = 784 Num of Classes = 10"
          ]
        },
        {
          "name": "stdout",
          "output_type": "stream",
          "text": [
            "selected initial labels: [0, 0, 1, 1, 5, 6, 6, 7, 7, 9]\n",
            "0.6576\n"
          ]
        },
        {
          "name": "stderr",
          "output_type": "stream",
          "text": [
            "Loading dataset mnist from mnist\n",
            "Loading train data... train data of shape (60000, 784) loaded\n",
            "Loading test data...  test  data of shape (10000, 784) loaded\n",
            "Data Loaded. Num of features = 784 Num of Classes = 10"
          ]
        },
        {
          "name": "stdout",
          "output_type": "stream",
          "text": [
            "selected initial labels: [3, 3, 3, 3, 6, 6, 6, 7, 7, 9]\n",
            "0.6101\n"
          ]
        },
        {
          "name": "stderr",
          "output_type": "stream",
          "text": [
            "Loading dataset mnist from mnist\n",
            "Loading train data... train data of shape (60000, 784) loaded\n",
            "Loading test data...  test  data of shape (10000, 784) loaded\n",
            "Data Loaded. Num of features = 784 Num of Classes = 10"
          ]
        },
        {
          "name": "stdout",
          "output_type": "stream",
          "text": [
            "selected initial labels: [2, 3, 3, 4, 4, 6, 6, 8, 9, 9]\n",
            "0.6241\n"
          ]
        },
        {
          "name": "stderr",
          "output_type": "stream",
          "text": [
            "Loading dataset mnist from mnist\n",
            "Loading train data... train data of shape (60000, 784) loaded\n",
            "Loading test data...  test  data of shape (10000, 784) loaded\n",
            "Data Loaded. Num of features = 784 Num of Classes = 10"
          ]
        },
        {
          "name": "stdout",
          "output_type": "stream",
          "text": [
            "selected initial labels: [0, 0, 1, 2, 3, 5, 5, 7, 7, 8]\n",
            "0.6331\n"
          ]
        },
        {
          "name": "stderr",
          "output_type": "stream",
          "text": [
            "Loading dataset mnist from mnist\n",
            "Loading train data... train data of shape (60000, 784) loaded\n",
            "Loading test data...  test  data of shape (10000, 784) loaded\n",
            "Data Loaded. Num of features = 784 Num of Classes = 10"
          ]
        },
        {
          "name": "stdout",
          "output_type": "stream",
          "text": [
            "selected initial labels: [0, 2, 3, 5, 5, 6, 7, 9, 9, 9]\n",
            "0.6474\n"
          ]
        },
        {
          "name": "stderr",
          "output_type": "stream",
          "text": [
            "Loading dataset mnist from mnist\n",
            "Loading train data... train data of shape (60000, 784) loaded\n",
            "Loading test data...  test  data of shape (10000, 784) loaded\n",
            "Data Loaded. Num of features = 784 Num of Classes = 10"
          ]
        },
        {
          "name": "stdout",
          "output_type": "stream",
          "text": [
            "selected initial labels: [2, 2, 3, 4, 4, 4, 4, 8, 8, 8]\n",
            "0.648\n"
          ]
        },
        {
          "name": "stderr",
          "output_type": "stream",
          "text": [
            "Loading dataset mnist from mnist\n",
            "Loading train data... train data of shape (60000, 784) loaded\n",
            "Loading test data...  test  data of shape (10000, 784) loaded\n",
            "Data Loaded. Num of features = 784 Num of Classes = 10"
          ]
        },
        {
          "name": "stdout",
          "output_type": "stream",
          "text": [
            "selected initial labels: [0, 1, 4, 4, 6, 7, 7, 7, 8, 8]\n",
            "0.6279\n"
          ]
        },
        {
          "name": "stderr",
          "output_type": "stream",
          "text": [
            "Loading dataset mnist from mnist\n",
            "Loading train data... train data of shape (60000, 784) loaded\n",
            "Loading test data...  test  data of shape (10000, 784) loaded\n",
            "Data Loaded. Num of features = 784 Num of Classes = 10"
          ]
        },
        {
          "name": "stdout",
          "output_type": "stream",
          "text": [
            "selected initial labels: [1, 2, 3, 4, 5, 5, 7, 7, 8, 9]\n",
            "0.6568\n"
          ]
        }
      ],
      "source": [
        "histories = []\n",
        "for trial in tqdm(range(10)):\n",
        "  history = clustering_tester.run_clustering(\n",
        "    *clustering_tester.get_mnist_dataset(MAX_SAMPLES),\n",
        "    BITS,\n",
        "    DIM,\n",
        "    EPOCHS,\n",
        "    clustering_tester.get_prob_tables_from_json('../prob_table.json')['27C_Front_3nm_3bit']\n",
        "  )\n",
        "  histories.append(history)"
      ]
    },
    {
      "cell_type": "code",
      "execution_count": 10,
      "metadata": {
        "colab": {
          "base_uri": "https://localhost:8080/",
          "height": 442
        },
        "id": "FuH-QTLYICLS",
        "outputId": "0d1e95c0-e05e-43d7-e52b-8f6213677bd4"
      },
      "outputs": [
        {
          "data": {
            "image/png": "[encoded data removed]",
            "text/plain": [
              "<Figure size 720x504 with 1 Axes>"
            ]
          },
          "metadata": {
            "needs_background": "light"
          },
          "output_type": "display_data"
        }
      ],
      "source": [
        "clustering_tester.plot_histories(histories)"
      ]
    },
    {
      "cell_type": "code",
      "execution_count": 11,
      "metadata": {
        "id": "1Lp68DEAICLS"
      },
      "outputs": [],
      "source": [
        "BITS = 4"
      ]
    },
    {
      "cell_type": "code",
      "execution_count": 12,
      "metadata": {
        "colab": {
          "base_uri": "https://localhost:8080/",
          "height": 917,
          "referenced_widgets": [
            "819516cbd6da4bcba7e2e9b340f7a391",
            "2ab26ec2d747448e839a57dcce75260c",
            "d5028720287c48b68f85c5a8bd27e815",
            "bea0d931fb9e4ce0b211fc67c1237da3",
            "d67eddfa74984349bf2be1972da2ce38",
            "6d2904b4f38b4cd9bcb0ac7f60806e57",
            "d740de80fde14089afb6b1ea14227c32",
            "e57084e3fbb248219e5a236db32275a6",
            "ad1c5c186ec6489cb364a96241054460",
            "5b729e4473684681bc2f9a9654bc08a6",
            "c11c6d2626924153ae9de3f4afa98408"
          ]
        },
        "id": "d655SzxKICLT",
        "outputId": "64990eca-8592-475c-e2d1-6db086d9e02b"
      },
      "outputs": [
        {
          "data": {
            "application/vnd.jupyter.widget-view+json": {
              "model_id": "819516cbd6da4bcba7e2e9b340f7a391",
              "version_major": 2,
              "version_minor": 0
            },
            "text/plain": [
              "  0%|          | 0/10 [00:00<?, ?it/s]"
            ]
          },
          "metadata": {},
          "output_type": "display_data"
        },
        {
          "name": "stderr",
          "output_type": "stream",
          "text": [
            "Loading dataset mnist from mnist\n",
            "Loading train data... train data of shape (60000, 784) loaded\n",
            "Loading test data...  test  data of shape (10000, 784) loaded\n",
            "Data Loaded. Num of features = 784 Num of Classes = 10"
          ]
        },
        {
          "name": "stdout",
          "output_type": "stream",
          "text": [
            "selected initial labels: [0, 2, 2, 5, 6, 6, 6, 7, 8, 9]\n",
            "0.6482\n"
          ]
        },
        {
          "name": "stderr",
          "output_type": "stream",
          "text": [
            "Loading dataset mnist from mnist\n",
            "Loading train data... train data of shape (60000, 784) loaded\n",
            "Loading test data...  test  data of shape (10000, 784) loaded\n",
            "Data Loaded. Num of features = 784 Num of Classes = 10"
          ]
        },
        {
          "name": "stdout",
          "output_type": "stream",
          "text": [
            "selected initial labels: [0, 1, 2, 2, 5, 5, 8, 9, 9, 9]\n",
            "0.6385\n"
          ]
        },
        {
          "name": "stderr",
          "output_type": "stream",
          "text": [
            "Loading dataset mnist from mnist\n",
            "Loading train data... train data of shape (60000, 784) loaded\n",
            "Loading test data...  test  data of shape (10000, 784) loaded\n",
            "Data Loaded. Num of features = 784 Num of Classes = 10"
          ]
        },
        {
          "name": "stdout",
          "output_type": "stream",
          "text": [
            "selected initial labels: [1, 2, 2, 4, 4, 5, 6, 7, 7, 8]\n",
            "0.6612\n"
          ]
        },
        {
          "name": "stderr",
          "output_type": "stream",
          "text": [
            "Loading dataset mnist from mnist\n",
            "Loading train data... train data of shape (60000, 784) loaded\n",
            "Loading test data...  test  data of shape (10000, 784) loaded\n",
            "Data Loaded. Num of features = 784 Num of Classes = 10"
          ]
        },
        {
          "name": "stdout",
          "output_type": "stream",
          "text": [
            "selected initial labels: [0, 0, 1, 2, 6, 7, 8, 8, 9, 9]\n",
            "0.6665\n"
          ]
        },
        {
          "name": "stderr",
          "output_type": "stream",
          "text": [
            "Loading dataset mnist from mnist\n",
            "Loading train data... train data of shape (60000, 784) loaded\n",
            "Loading test data...  test  data of shape (10000, 784) loaded\n",
            "Data Loaded. Num of features = 784 Num of Classes = 10"
          ]
        },
        {
          "name": "stdout",
          "output_type": "stream",
          "text": [
            "selected initial labels: [0, 1, 2, 6, 6, 7, 7, 7, 7, 8]\n",
            "0.585\n"
          ]
        },
        {
          "name": "stderr",
          "output_type": "stream",
          "text": [
            "Loading dataset mnist from mnist\n",
            "Loading train data... train data of shape (60000, 784) loaded\n",
            "Loading test data...  test  data of shape (10000, 784) loaded\n",
            "Data Loaded. Num of features = 784 Num of Classes = 10"
          ]
        },
        {
          "name": "stdout",
          "output_type": "stream",
          "text": [
            "selected initial labels: [0, 1, 1, 1, 2, 6, 7, 7, 8, 9]\n",
            "0.6502\n"
          ]
        },
        {
          "name": "stderr",
          "output_type": "stream",
          "text": [
            "Loading dataset mnist from mnist\n",
            "Loading train data... train data of shape (60000, 784) loaded\n",
            "Loading test data...  test  data of shape (10000, 784) loaded\n",
            "Data Loaded. Num of features = 784 Num of Classes = 10"
          ]
        },
        {
          "name": "stdout",
          "output_type": "stream",
          "text": [
            "selected initial labels: [0, 0, 1, 2, 2, 4, 7, 7, 7, 7]\n",
            "0.6508\n"
          ]
        },
        {
          "name": "stderr",
          "output_type": "stream",
          "text": [
            "Loading dataset mnist from mnist\n",
            "Loading train data... train data of shape (60000, 784) loaded\n",
            "Loading test data...  test  data of shape (10000, 784) loaded\n",
            "Data Loaded. Num of features = 784 Num of Classes = 10"
          ]
        },
        {
          "name": "stdout",
          "output_type": "stream",
          "text": [
            "selected initial labels: [0, 2, 3, 5, 5, 6, 7, 8, 9, 9]\n",
            "0.6443\n"
          ]
        },
        {
          "name": "stderr",
          "output_type": "stream",
          "text": [
            "Loading dataset mnist from mnist\n",
            "Loading train data... train data of shape (60000, 784) loaded\n",
            "Loading test data...  test  data of shape (10000, 784) loaded\n",
            "Data Loaded. Num of features = 784 Num of Classes = 10"
          ]
        },
        {
          "name": "stdout",
          "output_type": "stream",
          "text": [
            "selected initial labels: [1, 1, 1, 3, 4, 5, 5, 5, 6, 7]\n",
            "0.5804\n"
          ]
        },
        {
          "name": "stderr",
          "output_type": "stream",
          "text": [
            "Loading dataset mnist from mnist\n",
            "Loading train data... train data of shape (60000, 784) loaded\n",
            "Loading test data...  test  data of shape (10000, 784) loaded\n",
            "Data Loaded. Num of features = 784 Num of Classes = 10"
          ]
        },
        {
          "name": "stdout",
          "output_type": "stream",
          "text": [
            "selected initial labels: [0, 1, 1, 2, 2, 2, 3, 4, 5, 9]\n",
            "0.6536\n"
          ]
        }
      ],
      "source": [
        "histories = []\n",
        "for trial in tqdm(range(10)):\n",
        "  history = clustering_tester.run_clustering(\n",
        "    *clustering_tester.get_mnist_dataset(MAX_SAMPLES),\n",
        "    BITS,\n",
        "    DIM,\n",
        "    EPOCHS,\n",
        "    clustering_tester.get_prob_tables_from_json('../prob_table.json')['27C_Front_10nm_4bit']\n",
        "  )\n",
        "  histories.append(history)"
      ]
    },
    {
      "cell_type": "code",
      "execution_count": 13,
      "metadata": {
        "colab": {
          "base_uri": "https://localhost:8080/",
          "height": 442
        },
        "id": "UeicnBXUICLT",
        "outputId": "dd555aa5-4bc4-427f-e22a-a00bb264b428"
      },
      "outputs": [
        {
          "data": {
            "image/png": "[encoded data removed]",
            "text/plain": [
              "<Figure size 720x504 with 1 Axes>"
            ]
          },
          "metadata": {
            "needs_background": "light"
          },
          "output_type": "display_data"
        }
      ],
      "source": [
        "clustering_tester.plot_histories(histories)"
      ]
    },
    {
      "cell_type": "code",
      "execution_count": 14,
      "metadata": {
        "colab": {
          "base_uri": "https://localhost:8080/",
          "height": 917,
          "referenced_widgets": [
            "d650a7af079b472eb6194bc92496ef38",
            "afc4438f7e0a4970b2922d2997506af6",
            "f78e07f226284ac1893583cab8c1d79b",
            "c5e4fe5b3985455fb65f724ee50997fd",
            "8e612920a88d444c80c06018acf00dcc",
            "3c19b47bc39b4868b64241c6e27e5174",
            "91ff5e0e09824f1b91c31250dfe78ee3",
            "5860f2d07d35402eafb4cc4bd0b01b2b",
            "738088c8187f45ff96da68a72ee174e3",
            "7657c5b618394b0eb63061f5a88ad7af",
            "b3c081fdd3ee4dcc923635a8115d755e"
          ]
        },
        "id": "L30hBXDHICLT",
        "outputId": "41d00556-5bb1-48ac-cb7c-a54277863bac"
      },
      "outputs": [
        {
          "data": {
            "application/vnd.jupyter.widget-view+json": {
              "model_id": "d650a7af079b472eb6194bc92496ef38",
              "version_major": 2,
              "version_minor": 0
            },
            "text/plain": [
              "  0%|          | 0/10 [00:00<?, ?it/s]"
            ]
          },
          "metadata": {},
          "output_type": "display_data"
        },
        {
          "name": "stderr",
          "output_type": "stream",
          "text": [
            "Loading dataset mnist from mnist\n",
            "Loading train data... train data of shape (60000, 784) loaded\n",
            "Loading test data...  test  data of shape (10000, 784) loaded\n",
            "Data Loaded. Num of features = 784 Num of Classes = 10"
          ]
        },
        {
          "name": "stdout",
          "output_type": "stream",
          "text": [
            "selected initial labels: [1, 2, 4, 5, 5, 6, 6, 7, 7, 8]\n",
            "0.644\n"
          ]
        },
        {
          "name": "stderr",
          "output_type": "stream",
          "text": [
            "Loading dataset mnist from mnist\n",
            "Loading train data... train data of shape (60000, 784) loaded\n",
            "Loading test data...  test  data of shape (10000, 784) loaded\n",
            "Data Loaded. Num of features = 784 Num of Classes = 10"
          ]
        },
        {
          "name": "stdout",
          "output_type": "stream",
          "text": [
            "selected initial labels: [0, 1, 3, 3, 5, 7, 7, 8, 9, 9]\n",
            "0.6626\n"
          ]
        },
        {
          "name": "stderr",
          "output_type": "stream",
          "text": [
            "Loading dataset mnist from mnist\n",
            "Loading train data... train data of shape (60000, 784) loaded\n",
            "Loading test data...  test  data of shape (10000, 784) loaded\n",
            "Data Loaded. Num of features = 784 Num of Classes = 10"
          ]
        },
        {
          "name": "stdout",
          "output_type": "stream",
          "text": [
            "selected initial labels: [0, 0, 3, 3, 5, 7, 9, 9, 9, 9]\n",
            "0.6444\n"
          ]
        },
        {
          "name": "stderr",
          "output_type": "stream",
          "text": [
            "Loading dataset mnist from mnist\n",
            "Loading train data... train data of shape (60000, 784) loaded\n",
            "Loading test data...  test  data of shape (10000, 784) loaded\n",
            "Data Loaded. Num of features = 784 Num of Classes = 10"
          ]
        },
        {
          "name": "stdout",
          "output_type": "stream",
          "text": [
            "selected initial labels: [0, 0, 1, 2, 3, 4, 4, 6, 7, 9]\n",
            "0.6126\n"
          ]
        },
        {
          "name": "stderr",
          "output_type": "stream",
          "text": [
            "Loading dataset mnist from mnist\n",
            "Loading train data... train data of shape (60000, 784) loaded\n",
            "Loading test data...  test  data of shape (10000, 784) loaded\n",
            "Data Loaded. Num of features = 784 Num of Classes = 10"
          ]
        },
        {
          "name": "stdout",
          "output_type": "stream",
          "text": [
            "selected initial labels: [0, 1, 2, 3, 3, 4, 4, 4, 5, 6]\n",
            "0.6217\n"
          ]
        },
        {
          "name": "stderr",
          "output_type": "stream",
          "text": [
            "Loading dataset mnist from mnist\n",
            "Loading train data... train data of shape (60000, 784) loaded\n",
            "Loading test data...  test  data of shape (10000, 784) loaded\n",
            "Data Loaded. Num of features = 784 Num of Classes = 10"
          ]
        },
        {
          "name": "stdout",
          "output_type": "stream",
          "text": [
            "selected initial labels: [0, 1, 2, 2, 3, 5, 6, 6, 7, 8]\n",
            "0.6342\n"
          ]
        },
        {
          "name": "stderr",
          "output_type": "stream",
          "text": [
            "Loading dataset mnist from mnist\n",
            "Loading train data... train data of shape (60000, 784) loaded\n",
            "Loading test data...  test  data of shape (10000, 784) loaded\n",
            "Data Loaded. Num of features = 784 Num of Classes = 10"
          ]
        },
        {
          "name": "stdout",
          "output_type": "stream",
          "text": [
            "selected initial labels: [1, 1, 2, 2, 2, 5, 7, 7, 8, 9]\n",
            "0.635\n"
          ]
        },
        {
          "name": "stderr",
          "output_type": "stream",
          "text": [
            "Loading dataset mnist from mnist\n",
            "Loading train data... train data of shape (60000, 784) loaded\n",
            "Loading test data...  test  data of shape (10000, 784) loaded\n",
            "Data Loaded. Num of features = 784 Num of Classes = 10"
          ]
        },
        {
          "name": "stdout",
          "output_type": "stream",
          "text": [
            "selected initial labels: [1, 2, 2, 3, 4, 5, 6, 6, 7, 9]\n",
            "0.6466\n"
          ]
        },
        {
          "name": "stderr",
          "output_type": "stream",
          "text": [
            "Loading dataset mnist from mnist\n",
            "Loading train data... train data of shape (60000, 784) loaded\n",
            "Loading test data...  test  data of shape (10000, 784) loaded\n",
            "Data Loaded. Num of features = 784 Num of Classes = 10"
          ]
        },
        {
          "name": "stdout",
          "output_type": "stream",
          "text": [
            "selected initial labels: [0, 0, 1, 2, 2, 3, 4, 6, 7, 9]\n",
            "0.6256\n"
          ]
        },
        {
          "name": "stderr",
          "output_type": "stream",
          "text": [
            "Loading dataset mnist from mnist\n",
            "Loading train data... train data of shape (60000, 784) loaded\n",
            "Loading test data...  test  data of shape (10000, 784) loaded\n",
            "Data Loaded. Num of features = 784 Num of Classes = 10"
          ]
        },
        {
          "name": "stdout",
          "output_type": "stream",
          "text": [
            "selected initial labels: [0, 0, 0, 1, 2, 4, 5, 7, 8, 8]\n",
            "0.559\n"
          ]
        }
      ],
      "source": [
        "histories = []\n",
        "for trial in tqdm(range(10)):\n",
        "  history = clustering_tester.run_clustering(\n",
        "    *clustering_tester.get_mnist_dataset(MAX_SAMPLES),\n",
        "    BITS,\n",
        "    DIM,\n",
        "    EPOCHS,\n",
        "    clustering_tester.get_prob_tables_from_json('../prob_table.json')['27C_Back_3nm_4bit']\n",
        "  )\n",
        "  histories.append(history)"
      ]
    },
    {
      "cell_type": "code",
      "execution_count": 15,
      "metadata": {
        "colab": {
          "base_uri": "https://localhost:8080/",
          "height": 442
        },
        "id": "Q8c8BdVOICLU",
        "outputId": "795c6380-ede2-451b-8b2f-0922e7c81625"
      },
      "outputs": [
        {
          "data": {
            "image/png": "[encoded data removed]",
            "text/plain": [
              "<Figure size 720x504 with 1 Axes>"
            ]
          },
          "metadata": {
            "needs_background": "light"
          },
          "output_type": "display_data"
        }
      ],
      "source": [
        "clustering_tester.plot_histories(histories)"
      ]
    },
    {
      "cell_type": "code",
      "execution_count": 16,
      "metadata": {
        "colab": {
          "base_uri": "https://localhost:8080/",
          "height": 917,
          "referenced_widgets": [
            "22a84ba8f192477fa6e961761328b536",
            "e06e8e4a018945fe980b26b17f472f0f",
            "2d70bcacc5694544a140c12dfa304403",
            "687c77f698f444e88144a9a37f728616",
            "e0a105bc8bbf486e8f25863f67ed18bd",
            "671ed91360fe4663af4ef7f04fb7bd6b",
            "755fdc3bc0d04dbf8718a6a252a20c48",
            "b7b56da66fe24de9845d3274372ece40",
            "646b95fad9104d67952742aa7abb3577",
            "6fd35e5425d949c68858a36a65f759cf",
            "5ad1ed16918b4947bb2de6a2e80563cc"
          ]
        },
        "id": "AmLZ16oSICLU",
        "outputId": "1fb56166-1cf8-4f5e-a367-accb69bbb452"
      },
      "outputs": [
        {
          "data": {
            "application/vnd.jupyter.widget-view+json": {
              "model_id": "22a84ba8f192477fa6e961761328b536",
              "version_major": 2,
              "version_minor": 0
            },
            "text/plain": [
              "  0%|          | 0/10 [00:00<?, ?it/s]"
            ]
          },
          "metadata": {},
          "output_type": "display_data"
        },
        {
          "name": "stderr",
          "output_type": "stream",
          "text": [
            "Loading dataset mnist from mnist\n",
            "Loading train data... train data of shape (60000, 784) loaded\n",
            "Loading test data...  test  data of shape (10000, 784) loaded\n",
            "Data Loaded. Num of features = 784 Num of Classes = 10"
          ]
        },
        {
          "name": "stdout",
          "output_type": "stream",
          "text": [
            "selected initial labels: [0, 1, 1, 3, 5, 6, 7, 8, 9, 9]\n",
            "0.6192\n"
          ]
        },
        {
          "name": "stderr",
          "output_type": "stream",
          "text": [
            "Loading dataset mnist from mnist\n",
            "Loading train data... train data of shape (60000, 784) loaded\n",
            "Loading test data...  test  data of shape (10000, 784) loaded\n",
            "Data Loaded. Num of features = 784 Num of Classes = 10"
          ]
        },
        {
          "name": "stdout",
          "output_type": "stream",
          "text": [
            "selected initial labels: [1, 3, 4, 6, 6, 7, 7, 8, 9, 9]\n",
            "0.6076\n"
          ]
        },
        {
          "name": "stderr",
          "output_type": "stream",
          "text": [
            "Loading dataset mnist from mnist\n",
            "Loading train data... train data of shape (60000, 784) loaded\n",
            "Loading test data...  test  data of shape (10000, 784) loaded\n",
            "Data Loaded. Num of features = 784 Num of Classes = 10"
          ]
        },
        {
          "name": "stdout",
          "output_type": "stream",
          "text": [
            "selected initial labels: [0, 0, 2, 2, 3, 3, 3, 5, 7, 9]\n",
            "0.6065\n"
          ]
        },
        {
          "name": "stderr",
          "output_type": "stream",
          "text": [
            "Loading dataset mnist from mnist\n",
            "Loading train data... train data of shape (60000, 784) loaded\n",
            "Loading test data...  test  data of shape (10000, 784) loaded\n",
            "Data Loaded. Num of features = 784 Num of Classes = 10"
          ]
        },
        {
          "name": "stdout",
          "output_type": "stream",
          "text": [
            "selected initial labels: [1, 3, 4, 4, 5, 5, 6, 6, 7, 8]\n",
            "0.6342\n"
          ]
        },
        {
          "name": "stderr",
          "output_type": "stream",
          "text": [
            "Loading dataset mnist from mnist\n",
            "Loading train data... train data of shape (60000, 784) loaded\n",
            "Loading test data...  test  data of shape (10000, 784) loaded\n",
            "Data Loaded. Num of features = 784 Num of Classes = 10"
          ]
        },
        {
          "name": "stdout",
          "output_type": "stream",
          "text": [
            "selected initial labels: [0, 2, 2, 4, 5, 6, 6, 7, 7, 9]\n",
            "0.636\n"
          ]
        },
        {
          "name": "stderr",
          "output_type": "stream",
          "text": [
            "Loading dataset mnist from mnist\n",
            "Loading train data... train data of shape (60000, 784) loaded\n",
            "Loading test data...  test  data of shape (10000, 784) loaded\n",
            "Data Loaded. Num of features = 784 Num of Classes = 10"
          ]
        },
        {
          "name": "stdout",
          "output_type": "stream",
          "text": [
            "selected initial labels: [0, 1, 2, 3, 4, 4, 5, 5, 6, 8]\n",
            "0.6203\n"
          ]
        },
        {
          "name": "stderr",
          "output_type": "stream",
          "text": [
            "Loading dataset mnist from mnist\n",
            "Loading train data... train data of shape (60000, 784) loaded\n",
            "Loading test data...  test  data of shape (10000, 784) loaded\n",
            "Data Loaded. Num of features = 784 Num of Classes = 10"
          ]
        },
        {
          "name": "stdout",
          "output_type": "stream",
          "text": [
            "selected initial labels: [1, 1, 2, 3, 3, 4, 4, 6, 8, 9]\n",
            "0.6261\n"
          ]
        },
        {
          "name": "stderr",
          "output_type": "stream",
          "text": [
            "Loading dataset mnist from mnist\n",
            "Loading train data... train data of shape (60000, 784) loaded\n",
            "Loading test data...  test  data of shape (10000, 784) loaded\n",
            "Data Loaded. Num of features = 784 Num of Classes = 10"
          ]
        },
        {
          "name": "stdout",
          "output_type": "stream",
          "text": [
            "selected initial labels: [0, 0, 1, 1, 6, 7, 7, 8, 8, 8]\n",
            "0.6346\n"
          ]
        },
        {
          "name": "stderr",
          "output_type": "stream",
          "text": [
            "Loading dataset mnist from mnist\n",
            "Loading train data... train data of shape (60000, 784) loaded\n",
            "Loading test data...  test  data of shape (10000, 784) loaded\n",
            "Data Loaded. Num of features = 784 Num of Classes = 10"
          ]
        },
        {
          "name": "stdout",
          "output_type": "stream",
          "text": [
            "selected initial labels: [1, 2, 3, 3, 5, 6, 6, 6, 7, 7]\n",
            "0.6408\n"
          ]
        },
        {
          "name": "stderr",
          "output_type": "stream",
          "text": [
            "Loading dataset mnist from mnist\n",
            "Loading train data... train data of shape (60000, 784) loaded\n",
            "Loading test data...  test  data of shape (10000, 784) loaded\n",
            "Data Loaded. Num of features = 784 Num of Classes = 10"
          ]
        },
        {
          "name": "stdout",
          "output_type": "stream",
          "text": [
            "selected initial labels: [0, 2, 3, 4, 4, 6, 6, 7, 9, 9]\n",
            "0.6594\n"
          ]
        }
      ],
      "source": [
        "histories = []\n",
        "for trial in tqdm(range(10)):\n",
        "  history = clustering_tester.run_clustering(\n",
        "    *clustering_tester.get_mnist_dataset(MAX_SAMPLES),\n",
        "    BITS,\n",
        "    DIM,\n",
        "    EPOCHS,\n",
        "    clustering_tester.get_prob_tables_from_json('../prob_table.json')['80C_Back_3nm_4bit']\n",
        "  )\n",
        "  histories.append(history)"
      ]
    },
    {
      "cell_type": "code",
      "execution_count": 17,
      "metadata": {
        "colab": {
          "base_uri": "https://localhost:8080/",
          "height": 442
        },
        "id": "AzoFKaKgICLU",
        "outputId": "eb29839b-2224-4c3b-f767-a3791611417b"
      },
      "outputs": [
        {
          "data": {
            "image/png": "[encoded data removed]",
            "text/plain": [
              "<Figure size 720x504 with 1 Axes>"
            ]
          },
          "metadata": {
            "needs_background": "light"
          },
          "output_type": "display_data"
        }
      ],
      "source": [
        "clustering_tester.plot_histories(histories)"
      ]
    },
    {
      "cell_type": "code",
      "execution_count": null,
      "metadata": {
        "id": "3yQVUDbJIwJI"
      },
      "outputs": [],
      "source": []
    }
  ],
  "metadata": {
    "colab": {
      "collapsed_sections": [],
      "name": "QuantHD_MNIST_02.ipynb",
      "provenance": []
    },
    "interpreter": {
      "hash": "07de9944a25ef994c7b45139c87e20861ad03da0f19921b48f76d01e36a1dc33"
    },
    "kernelspec": {
      "display_name": "Python 3.8.10 ('venv': venv)",
      "language": "python",
      "name": "python3"
    },
    "language_info": {
      "codemirror_mode": {
        "name": "ipython",
        "version": 3
      },
      "file_extension": ".py",
      "mimetype": "text/x-python",
      "name": "python",
      "nbconvert_exporter": "python",
      "pygments_lexer": "ipython3",
      "version": "3.8.10"
    },
    "orig_nbformat": 4,
    "widgets": {
      "application/vnd.jupyter.widget-state+json": {
        "0ab2960c76bb4fa6af1aeb2e2faae3e0": {
          "model_module": "@jupyter-widgets/controls",
          "model_module_version": "1.5.0",
          "model_name": "FloatProgressModel",
          "state": {
            "_dom_classes": [],
            "_model_module": "@jupyter-widgets/controls",
            "_model_module_version": "1.5.0",
            "_model_name": "FloatProgressModel",
            "_view_count": null,
            "_view_module": "@jupyter-widgets/controls",
            "_view_module_version": "1.5.0",
            "_view_name": "ProgressView",
            "bar_style": "success",
            "description": "",
            "description_tooltip": null,
            "layout": "IPY_MODEL_727801ed37364460a56931fdd466f46e",
            "max": 10,
            "min": 0,
            "orientation": "horizontal",
            "style": "IPY_MODEL_d38c626095bf4778ad8ac6931de41386",
            "value": 10
          }
        },
        "225db3fc4def46fbba155509a3b084c6": {
          "model_module": "@jupyter-widgets/controls",
          "model_module_version": "1.5.0",
          "model_name": "HBoxModel",
          "state": {
            "_dom_classes": [],
            "_model_module": "@jupyter-widgets/controls",
            "_model_module_version": "1.5.0",
            "_model_name": "HBoxModel",
            "_view_count": null,
            "_view_module": "@jupyter-widgets/controls",
            "_view_module_version": "1.5.0",
            "_view_name": "HBoxView",
            "box_style": "",
            "children": [
              "IPY_MODEL_e5862ed67300479eab0750c9a86ada4b",
              "IPY_MODEL_891b3dc0b6ca48be960d43c83f5eeca9",
              "IPY_MODEL_85e534735bcb4ed2b425923b7bfaea9a"
            ],
            "layout": "IPY_MODEL_bf5606af1a5f418cbf8e2965f912fcec"
          }
        },
        "22a84ba8f192477fa6e961761328b536": {
          "model_module": "@jupyter-widgets/controls",
          "model_module_version": "1.5.0",
          "model_name": "HBoxModel",
          "state": {
            "_dom_classes": [],
            "_model_module": "@jupyter-widgets/controls",
            "_model_module_version": "1.5.0",
            "_model_name": "HBoxModel",
            "_view_count": null,
            "_view_module": "@jupyter-widgets/controls",
            "_view_module_version": "1.5.0",
            "_view_name": "HBoxView",
            "box_style": "",
            "children": [
              "IPY_MODEL_e06e8e4a018945fe980b26b17f472f0f",
              "IPY_MODEL_2d70bcacc5694544a140c12dfa304403",
              "IPY_MODEL_687c77f698f444e88144a9a37f728616"
            ],
            "layout": "IPY_MODEL_e0a105bc8bbf486e8f25863f67ed18bd"
          }
        },
        "28f4a838296341d69c1299d8ff3bd54c": {
          "model_module": "@jupyter-widgets/base",
          "model_module_version": "1.2.0",
          "model_name": "LayoutModel",
          "state": {
            "_model_module": "@jupyter-widgets/base",
            "_model_module_version": "1.2.0",
            "_model_name": "LayoutModel",
            "_view_count": null,
            "_view_module": "@jupyter-widgets/base",
            "_view_module_version": "1.2.0",
            "_view_name": "LayoutView",
            "align_content": null,
            "align_items": null,
            "align_self": null,
            "border": null,
            "bottom": null,
            "display": null,
            "flex": null,
            "flex_flow": null,
            "grid_area": null,
            "grid_auto_columns": null,
            "grid_auto_flow": null,
            "grid_auto_rows": null,
            "grid_column": null,
            "grid_gap": null,
            "grid_row": null,
            "grid_template_areas": null,
            "grid_template_columns": null,
            "grid_template_rows": null,
            "height": null,
            "justify_content": null,
            "justify_items": null,
            "left": null,
            "margin": null,
            "max_height": null,
            "max_width": null,
            "min_height": null,
            "min_width": null,
            "object_fit": null,
            "object_position": null,
            "order": null,
            "overflow": null,
            "overflow_x": null,
            "overflow_y": null,
            "padding": null,
            "right": null,
            "top": null,
            "visibility": null,
            "width": null
          }
        },
        "2ab26ec2d747448e839a57dcce75260c": {
          "model_module": "@jupyter-widgets/controls",
          "model_module_version": "1.5.0",
          "model_name": "HTMLModel",
          "state": {
            "_dom_classes": [],
            "_model_module": "@jupyter-widgets/controls",
            "_model_module_version": "1.5.0",
            "_model_name": "HTMLModel",
            "_view_count": null,
            "_view_module": "@jupyter-widgets/controls",
            "_view_module_version": "1.5.0",
            "_view_name": "HTMLView",
            "description": "",
            "description_tooltip": null,
            "layout": "IPY_MODEL_6d2904b4f38b4cd9bcb0ac7f60806e57",
            "placeholder": "​",
            "style": "IPY_MODEL_d740de80fde14089afb6b1ea14227c32",
            "value": "100%"
          }
        },
        "2d70bcacc5694544a140c12dfa304403": {
          "model_module": "@jupyter-widgets/controls",
          "model_module_version": "1.5.0",
          "model_name": "FloatProgressModel",
          "state": {
            "_dom_classes": [],
            "_model_module": "@jupyter-widgets/controls",
            "_model_module_version": "1.5.0",
            "_model_name": "FloatProgressModel",
            "_view_count": null,
            "_view_module": "@jupyter-widgets/controls",
            "_view_module_version": "1.5.0",
            "_view_name": "ProgressView",
            "bar_style": "success",
            "description": "",
            "description_tooltip": null,
            "layout": "IPY_MODEL_b7b56da66fe24de9845d3274372ece40",
            "max": 10,
            "min": 0,
            "orientation": "horizontal",
            "style": "IPY_MODEL_646b95fad9104d67952742aa7abb3577",
            "value": 10
          }
        },
        "3c19b47bc39b4868b64241c6e27e5174": {
          "model_module": "@jupyter-widgets/base",
          "model_module_version": "1.2.0",
          "model_name": "LayoutModel",
          "state": {
            "_model_module": "@jupyter-widgets/base",
            "_model_module_version": "1.2.0",
            "_model_name": "LayoutModel",
            "_view_count": null,
            "_view_module": "@jupyter-widgets/base",
            "_view_module_version": "1.2.0",
            "_view_name": "LayoutView",
            "align_content": null,
            "align_items": null,
            "align_self": null,
            "border": null,
            "bottom": null,
            "display": null,
            "flex": null,
            "flex_flow": null,
            "grid_area": null,
            "grid_auto_columns": null,
            "grid_auto_flow": null,
            "grid_auto_rows": null,
            "grid_column": null,
            "grid_gap": null,
            "grid_row": null,
            "grid_template_areas": null,
            "grid_template_columns": null,
            "grid_template_rows": null,
            "height": null,
            "justify_content": null,
            "justify_items": null,
            "left": null,
            "margin": null,
            "max_height": null,
            "max_width": null,
            "min_height": null,
            "min_width": null,
            "object_fit": null,
            "object_position": null,
            "order": null,
            "overflow": null,
            "overflow_x": null,
            "overflow_y": null,
            "padding": null,
            "right": null,
            "top": null,
            "visibility": null,
            "width": null
          }
        },
        "3d1b0da2d00643dab882ae9036eefabf": {
          "model_module": "@jupyter-widgets/base",
          "model_module_version": "1.2.0",
          "model_name": "LayoutModel",
          "state": {
            "_model_module": "@jupyter-widgets/base",
            "_model_module_version": "1.2.0",
            "_model_name": "LayoutModel",
            "_view_count": null,
            "_view_module": "@jupyter-widgets/base",
            "_view_module_version": "1.2.0",
            "_view_name": "LayoutView",
            "align_content": null,
            "align_items": null,
            "align_self": null,
            "border": null,
            "bottom": null,
            "display": null,
            "flex": null,
            "flex_flow": null,
            "grid_area": null,
            "grid_auto_columns": null,
            "grid_auto_flow": null,
            "grid_auto_rows": null,
            "grid_column": null,
            "grid_gap": null,
            "grid_row": null,
            "grid_template_areas": null,
            "grid_template_columns": null,
            "grid_template_rows": null,
            "height": null,
            "justify_content": null,
            "justify_items": null,
            "left": null,
            "margin": null,
            "max_height": null,
            "max_width": null,
            "min_height": null,
            "min_width": null,
            "object_fit": null,
            "object_position": null,
            "order": null,
            "overflow": null,
            "overflow_x": null,
            "overflow_y": null,
            "padding": null,
            "right": null,
            "top": null,
            "visibility": null,
            "width": null
          }
        },
        "48ccc2954fae49ddb87ea178a1d8280a": {
          "model_module": "@jupyter-widgets/controls",
          "model_module_version": "1.5.0",
          "model_name": "DescriptionStyleModel",
          "state": {
            "_model_module": "@jupyter-widgets/controls",
            "_model_module_version": "1.5.0",
            "_model_name": "DescriptionStyleModel",
            "_view_count": null,
            "_view_module": "@jupyter-widgets/base",
            "_view_module_version": "1.2.0",
            "_view_name": "StyleView",
            "description_width": ""
          }
        },
        "4ef17015dd314b5c8f5f4ed7eef9198b": {
          "model_module": "@jupyter-widgets/base",
          "model_module_version": "1.2.0",
          "model_name": "LayoutModel",
          "state": {
            "_model_module": "@jupyter-widgets/base",
            "_model_module_version": "1.2.0",
            "_model_name": "LayoutModel",
            "_view_count": null,
            "_view_module": "@jupyter-widgets/base",
            "_view_module_version": "1.2.0",
            "_view_name": "LayoutView",
            "align_content": null,
            "align_items": null,
            "align_self": null,
            "border": null,
            "bottom": null,
            "display": null,
            "flex": null,
            "flex_flow": null,
            "grid_area": null,
            "grid_auto_columns": null,
            "grid_auto_flow": null,
            "grid_auto_rows": null,
            "grid_column": null,
            "grid_gap": null,
            "grid_row": null,
            "grid_template_areas": null,
            "grid_template_columns": null,
            "grid_template_rows": null,
            "height": null,
            "justify_content": null,
            "justify_items": null,
            "left": null,
            "margin": null,
            "max_height": null,
            "max_width": null,
            "min_height": null,
            "min_width": null,
            "object_fit": null,
            "object_position": null,
            "order": null,
            "overflow": null,
            "overflow_x": null,
            "overflow_y": null,
            "padding": null,
            "right": null,
            "top": null,
            "visibility": null,
            "width": null
          }
        },
        "5860f2d07d35402eafb4cc4bd0b01b2b": {
          "model_module": "@jupyter-widgets/base",
          "model_module_version": "1.2.0",
          "model_name": "LayoutModel",
          "state": {
            "_model_module": "@jupyter-widgets/base",
            "_model_module_version": "1.2.0",
            "_model_name": "LayoutModel",
            "_view_count": null,
            "_view_module": "@jupyter-widgets/base",
            "_view_module_version": "1.2.0",
            "_view_name": "LayoutView",
            "align_content": null,
            "align_items": null,
            "align_self": null,
            "border": null,
            "bottom": null,
            "display": null,
            "flex": null,
            "flex_flow": null,
            "grid_area": null,
            "grid_auto_columns": null,
            "grid_auto_flow": null,
            "grid_auto_rows": null,
            "grid_column": null,
            "grid_gap": null,
            "grid_row": null,
            "grid_template_areas": null,
            "grid_template_columns": null,
            "grid_template_rows": null,
            "height": null,
            "justify_content": null,
            "justify_items": null,
            "left": null,
            "margin": null,
            "max_height": null,
            "max_width": null,
            "min_height": null,
            "min_width": null,
            "object_fit": null,
            "object_position": null,
            "order": null,
            "overflow": null,
            "overflow_x": null,
            "overflow_y": null,
            "padding": null,
            "right": null,
            "top": null,
            "visibility": null,
            "width": null
          }
        },
        "5ad1ed16918b4947bb2de6a2e80563cc": {
          "model_module": "@jupyter-widgets/controls",
          "model_module_version": "1.5.0",
          "model_name": "DescriptionStyleModel",
          "state": {
            "_model_module": "@jupyter-widgets/controls",
            "_model_module_version": "1.5.0",
            "_model_name": "DescriptionStyleModel",
            "_view_count": null,
            "_view_module": "@jupyter-widgets/base",
            "_view_module_version": "1.2.0",
            "_view_name": "StyleView",
            "description_width": ""
          }
        },
        "5af1733e97db43b9a5bd128df0cfbac1": {
          "model_module": "@jupyter-widgets/controls",
          "model_module_version": "1.5.0",
          "model_name": "FloatProgressModel",
          "state": {
            "_dom_classes": [],
            "_model_module": "@jupyter-widgets/controls",
            "_model_module_version": "1.5.0",
            "_model_name": "FloatProgressModel",
            "_view_count": null,
            "_view_module": "@jupyter-widgets/controls",
            "_view_module_version": "1.5.0",
            "_view_name": "ProgressView",
            "bar_style": "success",
            "description": "",
            "description_tooltip": null,
            "layout": "IPY_MODEL_a3023c0d1da7454c9dfe418fc3441ccc",
            "max": 10,
            "min": 0,
            "orientation": "horizontal",
            "style": "IPY_MODEL_763d3a074c9a4039ad4c7864c6f8a8ef",
            "value": 10
          }
        },
        "5b729e4473684681bc2f9a9654bc08a6": {
          "model_module": "@jupyter-widgets/base",
          "model_module_version": "1.2.0",
          "model_name": "LayoutModel",
          "state": {
            "_model_module": "@jupyter-widgets/base",
            "_model_module_version": "1.2.0",
            "_model_name": "LayoutModel",
            "_view_count": null,
            "_view_module": "@jupyter-widgets/base",
            "_view_module_version": "1.2.0",
            "_view_name": "LayoutView",
            "align_content": null,
            "align_items": null,
            "align_self": null,
            "border": null,
            "bottom": null,
            "display": null,
            "flex": null,
            "flex_flow": null,
            "grid_area": null,
            "grid_auto_columns": null,
            "grid_auto_flow": null,
            "grid_auto_rows": null,
            "grid_column": null,
            "grid_gap": null,
            "grid_row": null,
            "grid_template_areas": null,
            "grid_template_columns": null,
            "grid_template_rows": null,
            "height": null,
            "justify_content": null,
            "justify_items": null,
            "left": null,
            "margin": null,
            "max_height": null,
            "max_width": null,
            "min_height": null,
            "min_width": null,
            "object_fit": null,
            "object_position": null,
            "order": null,
            "overflow": null,
            "overflow_x": null,
            "overflow_y": null,
            "padding": null,
            "right": null,
            "top": null,
            "visibility": null,
            "width": null
          }
        },
        "60a3332364084bf4860b397f3c1a793a": {
          "model_module": "@jupyter-widgets/controls",
          "model_module_version": "1.5.0",
          "model_name": "HTMLModel",
          "state": {
            "_dom_classes": [],
            "_model_module": "@jupyter-widgets/controls",
            "_model_module_version": "1.5.0",
            "_model_name": "HTMLModel",
            "_view_count": null,
            "_view_module": "@jupyter-widgets/controls",
            "_view_module_version": "1.5.0",
            "_view_name": "HTMLView",
            "description": "",
            "description_tooltip": null,
            "layout": "IPY_MODEL_3d1b0da2d00643dab882ae9036eefabf",
            "placeholder": "​",
            "style": "IPY_MODEL_48ccc2954fae49ddb87ea178a1d8280a",
            "value": "100%"
          }
        },
        "636f8ae00591449ab2d153bd3dad55e2": {
          "model_module": "@jupyter-widgets/controls",
          "model_module_version": "1.5.0",
          "model_name": "DescriptionStyleModel",
          "state": {
            "_model_module": "@jupyter-widgets/controls",
            "_model_module_version": "1.5.0",
            "_model_name": "DescriptionStyleModel",
            "_view_count": null,
            "_view_module": "@jupyter-widgets/base",
            "_view_module_version": "1.2.0",
            "_view_name": "StyleView",
            "description_width": ""
          }
        },
        "646b95fad9104d67952742aa7abb3577": {
          "model_module": "@jupyter-widgets/controls",
          "model_module_version": "1.5.0",
          "model_name": "ProgressStyleModel",
          "state": {
            "_model_module": "@jupyter-widgets/controls",
            "_model_module_version": "1.5.0",
            "_model_name": "ProgressStyleModel",
            "_view_count": null,
            "_view_module": "@jupyter-widgets/base",
            "_view_module_version": "1.2.0",
            "_view_name": "StyleView",
            "bar_color": null,
            "description_width": ""
          }
        },
        "671ed91360fe4663af4ef7f04fb7bd6b": {
          "model_module": "@jupyter-widgets/base",
          "model_module_version": "1.2.0",
          "model_name": "LayoutModel",
          "state": {
            "_model_module": "@jupyter-widgets/base",
            "_model_module_version": "1.2.0",
            "_model_name": "LayoutModel",
            "_view_count": null,
            "_view_module": "@jupyter-widgets/base",
            "_view_module_version": "1.2.0",
            "_view_name": "LayoutView",
            "align_content": null,
            "align_items": null,
            "align_self": null,
            "border": null,
            "bottom": null,
            "display": null,
            "flex": null,
            "flex_flow": null,
            "grid_area": null,
            "grid_auto_columns": null,
            "grid_auto_flow": null,
            "grid_auto_rows": null,
            "grid_column": null,
            "grid_gap": null,
            "grid_row": null,
            "grid_template_areas": null,
            "grid_template_columns": null,
            "grid_template_rows": null,
            "height": null,
            "justify_content": null,
            "justify_items": null,
            "left": null,
            "margin": null,
            "max_height": null,
            "max_width": null,
            "min_height": null,
            "min_width": null,
            "object_fit": null,
            "object_position": null,
            "order": null,
            "overflow": null,
            "overflow_x": null,
            "overflow_y": null,
            "padding": null,
            "right": null,
            "top": null,
            "visibility": null,
            "width": null
          }
        },
        "687c77f698f444e88144a9a37f728616": {
          "model_module": "@jupyter-widgets/controls",
          "model_module_version": "1.5.0",
          "model_name": "HTMLModel",
          "state": {
            "_dom_classes": [],
            "_model_module": "@jupyter-widgets/controls",
            "_model_module_version": "1.5.0",
            "_model_name": "HTMLModel",
            "_view_count": null,
            "_view_module": "@jupyter-widgets/controls",
            "_view_module_version": "1.5.0",
            "_view_name": "HTMLView",
            "description": "",
            "description_tooltip": null,
            "layout": "IPY_MODEL_6fd35e5425d949c68858a36a65f759cf",
            "placeholder": "​",
            "style": "IPY_MODEL_5ad1ed16918b4947bb2de6a2e80563cc",
            "value": " 10/10 [3:08:51&lt;00:00, 1127.77s/it]"
          }
        },
        "6c34f07f93dc4e5c8223f188990318bb": {
          "model_module": "@jupyter-widgets/controls",
          "model_module_version": "1.5.0",
          "model_name": "HBoxModel",
          "state": {
            "_dom_classes": [],
            "_model_module": "@jupyter-widgets/controls",
            "_model_module_version": "1.5.0",
            "_model_name": "HBoxModel",
            "_view_count": null,
            "_view_module": "@jupyter-widgets/controls",
            "_view_module_version": "1.5.0",
            "_view_name": "HBoxView",
            "box_style": "",
            "children": [
              "IPY_MODEL_60a3332364084bf4860b397f3c1a793a",
              "IPY_MODEL_0ab2960c76bb4fa6af1aeb2e2faae3e0",
              "IPY_MODEL_8250bffee5f945a28533061b79569ebd"
            ],
            "layout": "IPY_MODEL_a718a1be06ac487f8b4252cf80a84a2e"
          }
        },
        "6d2904b4f38b4cd9bcb0ac7f60806e57": {
          "model_module": "@jupyter-widgets/base",
          "model_module_version": "1.2.0",
          "model_name": "LayoutModel",
          "state": {
            "_model_module": "@jupyter-widgets/base",
            "_model_module_version": "1.2.0",
            "_model_name": "LayoutModel",
            "_view_count": null,
            "_view_module": "@jupyter-widgets/base",
            "_view_module_version": "1.2.0",
            "_view_name": "LayoutView",
            "align_content": null,
            "align_items": null,
            "align_self": null,
            "border": null,
            "bottom": null,
            "display": null,
            "flex": null,
            "flex_flow": null,
            "grid_area": null,
            "grid_auto_columns": null,
            "grid_auto_flow": null,
            "grid_auto_rows": null,
            "grid_column": null,
            "grid_gap": null,
            "grid_row": null,
            "grid_template_areas": null,
            "grid_template_columns": null,
            "grid_template_rows": null,
            "height": null,
            "justify_content": null,
            "justify_items": null,
            "left": null,
            "margin": null,
            "max_height": null,
            "max_width": null,
            "min_height": null,
            "min_width": null,
            "object_fit": null,
            "object_position": null,
            "order": null,
            "overflow": null,
            "overflow_x": null,
            "overflow_y": null,
            "padding": null,
            "right": null,
            "top": null,
            "visibility": null,
            "width": null
          }
        },
        "6fd35e5425d949c68858a36a65f759cf": {
          "model_module": "@jupyter-widgets/base",
          "model_module_version": "1.2.0",
          "model_name": "LayoutModel",
          "state": {
            "_model_module": "@jupyter-widgets/base",
            "_model_module_version": "1.2.0",
            "_model_name": "LayoutModel",
            "_view_count": null,
            "_view_module": "@jupyter-widgets/base",
            "_view_module_version": "1.2.0",
            "_view_name": "LayoutView",
            "align_content": null,
            "align_items": null,
            "align_self": null,
            "border": null,
            "bottom": null,
            "display": null,
            "flex": null,
            "flex_flow": null,
            "grid_area": null,
            "grid_auto_columns": null,
            "grid_auto_flow": null,
            "grid_auto_rows": null,
            "grid_column": null,
            "grid_gap": null,
            "grid_row": null,
            "grid_template_areas": null,
            "grid_template_columns": null,
            "grid_template_rows": null,
            "height": null,
            "justify_content": null,
            "justify_items": null,
            "left": null,
            "margin": null,
            "max_height": null,
            "max_width": null,
            "min_height": null,
            "min_width": null,
            "object_fit": null,
            "object_position": null,
            "order": null,
            "overflow": null,
            "overflow_x": null,
            "overflow_y": null,
            "padding": null,
            "right": null,
            "top": null,
            "visibility": null,
            "width": null
          }
        },
        "6ff65b1e1ccc4352bd247480aa5179b3": {
          "model_module": "@jupyter-widgets/controls",
          "model_module_version": "1.5.0",
          "model_name": "HTMLModel",
          "state": {
            "_dom_classes": [],
            "_model_module": "@jupyter-widgets/controls",
            "_model_module_version": "1.5.0",
            "_model_name": "HTMLModel",
            "_view_count": null,
            "_view_module": "@jupyter-widgets/controls",
            "_view_module_version": "1.5.0",
            "_view_name": "HTMLView",
            "description": "",
            "description_tooltip": null,
            "layout": "IPY_MODEL_a69cbf91244f4c68bf279e7cbd1a2bf7",
            "placeholder": "​",
            "style": "IPY_MODEL_636f8ae00591449ab2d153bd3dad55e2",
            "value": " 10/10 [3:01:28&lt;00:00, 1087.68s/it]"
          }
        },
        "6ffce92485be45babc5a263d1016c370": {
          "model_module": "@jupyter-widgets/controls",
          "model_module_version": "1.5.0",
          "model_name": "DescriptionStyleModel",
          "state": {
            "_model_module": "@jupyter-widgets/controls",
            "_model_module_version": "1.5.0",
            "_model_name": "DescriptionStyleModel",
            "_view_count": null,
            "_view_module": "@jupyter-widgets/base",
            "_view_module_version": "1.2.0",
            "_view_name": "StyleView",
            "description_width": ""
          }
        },
        "727801ed37364460a56931fdd466f46e": {
          "model_module": "@jupyter-widgets/base",
          "model_module_version": "1.2.0",
          "model_name": "LayoutModel",
          "state": {
            "_model_module": "@jupyter-widgets/base",
            "_model_module_version": "1.2.0",
            "_model_name": "LayoutModel",
            "_view_count": null,
            "_view_module": "@jupyter-widgets/base",
            "_view_module_version": "1.2.0",
            "_view_name": "LayoutView",
            "align_content": null,
            "align_items": null,
            "align_self": null,
            "border": null,
            "bottom": null,
            "display": null,
            "flex": null,
            "flex_flow": null,
            "grid_area": null,
            "grid_auto_columns": null,
            "grid_auto_flow": null,
            "grid_auto_rows": null,
            "grid_column": null,
            "grid_gap": null,
            "grid_row": null,
            "grid_template_areas": null,
            "grid_template_columns": null,
            "grid_template_rows": null,
            "height": null,
            "justify_content": null,
            "justify_items": null,
            "left": null,
            "margin": null,
            "max_height": null,
            "max_width": null,
            "min_height": null,
            "min_width": null,
            "object_fit": null,
            "object_position": null,
            "order": null,
            "overflow": null,
            "overflow_x": null,
            "overflow_y": null,
            "padding": null,
            "right": null,
            "top": null,
            "visibility": null,
            "width": null
          }
        },
        "738088c8187f45ff96da68a72ee174e3": {
          "model_module": "@jupyter-widgets/controls",
          "model_module_version": "1.5.0",
          "model_name": "ProgressStyleModel",
          "state": {
            "_model_module": "@jupyter-widgets/controls",
            "_model_module_version": "1.5.0",
            "_model_name": "ProgressStyleModel",
            "_view_count": null,
            "_view_module": "@jupyter-widgets/base",
            "_view_module_version": "1.2.0",
            "_view_name": "StyleView",
            "bar_color": null,
            "description_width": ""
          }
        },
        "755fdc3bc0d04dbf8718a6a252a20c48": {
          "model_module": "@jupyter-widgets/controls",
          "model_module_version": "1.5.0",
          "model_name": "DescriptionStyleModel",
          "state": {
            "_model_module": "@jupyter-widgets/controls",
            "_model_module_version": "1.5.0",
            "_model_name": "DescriptionStyleModel",
            "_view_count": null,
            "_view_module": "@jupyter-widgets/base",
            "_view_module_version": "1.2.0",
            "_view_name": "StyleView",
            "description_width": ""
          }
        },
        "763d3a074c9a4039ad4c7864c6f8a8ef": {
          "model_module": "@jupyter-widgets/controls",
          "model_module_version": "1.5.0",
          "model_name": "ProgressStyleModel",
          "state": {
            "_model_module": "@jupyter-widgets/controls",
            "_model_module_version": "1.5.0",
            "_model_name": "ProgressStyleModel",
            "_view_count": null,
            "_view_module": "@jupyter-widgets/base",
            "_view_module_version": "1.2.0",
            "_view_name": "StyleView",
            "bar_color": null,
            "description_width": ""
          }
        },
        "7657c5b618394b0eb63061f5a88ad7af": {
          "model_module": "@jupyter-widgets/base",
          "model_module_version": "1.2.0",
          "model_name": "LayoutModel",
          "state": {
            "_model_module": "@jupyter-widgets/base",
            "_model_module_version": "1.2.0",
            "_model_name": "LayoutModel",
            "_view_count": null,
            "_view_module": "@jupyter-widgets/base",
            "_view_module_version": "1.2.0",
            "_view_name": "LayoutView",
            "align_content": null,
            "align_items": null,
            "align_self": null,
            "border": null,
            "bottom": null,
            "display": null,
            "flex": null,
            "flex_flow": null,
            "grid_area": null,
            "grid_auto_columns": null,
            "grid_auto_flow": null,
            "grid_auto_rows": null,
            "grid_column": null,
            "grid_gap": null,
            "grid_row": null,
            "grid_template_areas": null,
            "grid_template_columns": null,
            "grid_template_rows": null,
            "height": null,
            "justify_content": null,
            "justify_items": null,
            "left": null,
            "margin": null,
            "max_height": null,
            "max_width": null,
            "min_height": null,
            "min_width": null,
            "object_fit": null,
            "object_position": null,
            "order": null,
            "overflow": null,
            "overflow_x": null,
            "overflow_y": null,
            "padding": null,
            "right": null,
            "top": null,
            "visibility": null,
            "width": null
          }
        },
        "819516cbd6da4bcba7e2e9b340f7a391": {
          "model_module": "@jupyter-widgets/controls",
          "model_module_version": "1.5.0",
          "model_name": "HBoxModel",
          "state": {
            "_dom_classes": [],
            "_model_module": "@jupyter-widgets/controls",
            "_model_module_version": "1.5.0",
            "_model_name": "HBoxModel",
            "_view_count": null,
            "_view_module": "@jupyter-widgets/controls",
            "_view_module_version": "1.5.0",
            "_view_name": "HBoxView",
            "box_style": "",
            "children": [
              "IPY_MODEL_2ab26ec2d747448e839a57dcce75260c",
              "IPY_MODEL_d5028720287c48b68f85c5a8bd27e815",
              "IPY_MODEL_bea0d931fb9e4ce0b211fc67c1237da3"
            ],
            "layout": "IPY_MODEL_d67eddfa74984349bf2be1972da2ce38"
          }
        },
        "8250bffee5f945a28533061b79569ebd": {
          "model_module": "@jupyter-widgets/controls",
          "model_module_version": "1.5.0",
          "model_name": "HTMLModel",
          "state": {
            "_dom_classes": [],
            "_model_module": "@jupyter-widgets/controls",
            "_model_module_version": "1.5.0",
            "_model_name": "HTMLModel",
            "_view_count": null,
            "_view_module": "@jupyter-widgets/controls",
            "_view_module_version": "1.5.0",
            "_view_name": "HTMLView",
            "description": "",
            "description_tooltip": null,
            "layout": "IPY_MODEL_28f4a838296341d69c1299d8ff3bd54c",
            "placeholder": "​",
            "style": "IPY_MODEL_af61858559134b1a9461837362f7bd6b",
            "value": " 10/10 [3:00:23&lt;00:00, 1079.88s/it]"
          }
        },
        "85e534735bcb4ed2b425923b7bfaea9a": {
          "model_module": "@jupyter-widgets/controls",
          "model_module_version": "1.5.0",
          "model_name": "HTMLModel",
          "state": {
            "_dom_classes": [],
            "_model_module": "@jupyter-widgets/controls",
            "_model_module_version": "1.5.0",
            "_model_name": "HTMLModel",
            "_view_count": null,
            "_view_module": "@jupyter-widgets/controls",
            "_view_module_version": "1.5.0",
            "_view_name": "HTMLView",
            "description": "",
            "description_tooltip": null,
            "layout": "IPY_MODEL_bf6d9429ef644fd6a230b14aea84a21f",
            "placeholder": "​",
            "style": "IPY_MODEL_8ca72176bc6e4b9cb09a12e664757402",
            "value": " 10/10 [2:57:49&lt;00:00, 1078.06s/it]"
          }
        },
        "891b3dc0b6ca48be960d43c83f5eeca9": {
          "model_module": "@jupyter-widgets/controls",
          "model_module_version": "1.5.0",
          "model_name": "FloatProgressModel",
          "state": {
            "_dom_classes": [],
            "_model_module": "@jupyter-widgets/controls",
            "_model_module_version": "1.5.0",
            "_model_name": "FloatProgressModel",
            "_view_count": null,
            "_view_module": "@jupyter-widgets/controls",
            "_view_module_version": "1.5.0",
            "_view_name": "ProgressView",
            "bar_style": "success",
            "description": "",
            "description_tooltip": null,
            "layout": "IPY_MODEL_91874d0966f04969bea27aa9a8b8caf7",
            "max": 10,
            "min": 0,
            "orientation": "horizontal",
            "style": "IPY_MODEL_9f8984e400804515a2fbe97f80923123",
            "value": 10
          }
        },
        "8ca72176bc6e4b9cb09a12e664757402": {
          "model_module": "@jupyter-widgets/controls",
          "model_module_version": "1.5.0",
          "model_name": "DescriptionStyleModel",
          "state": {
            "_model_module": "@jupyter-widgets/controls",
            "_model_module_version": "1.5.0",
            "_model_name": "DescriptionStyleModel",
            "_view_count": null,
            "_view_module": "@jupyter-widgets/base",
            "_view_module_version": "1.2.0",
            "_view_name": "StyleView",
            "description_width": ""
          }
        },
        "8e5db89ac3824e82943c388a26ed7b7e": {
          "model_module": "@jupyter-widgets/controls",
          "model_module_version": "1.5.0",
          "model_name": "DescriptionStyleModel",
          "state": {
            "_model_module": "@jupyter-widgets/controls",
            "_model_module_version": "1.5.0",
            "_model_name": "DescriptionStyleModel",
            "_view_count": null,
            "_view_module": "@jupyter-widgets/base",
            "_view_module_version": "1.2.0",
            "_view_name": "StyleView",
            "description_width": ""
          }
        },
        "8e612920a88d444c80c06018acf00dcc": {
          "model_module": "@jupyter-widgets/base",
          "model_module_version": "1.2.0",
          "model_name": "LayoutModel",
          "state": {
            "_model_module": "@jupyter-widgets/base",
            "_model_module_version": "1.2.0",
            "_model_name": "LayoutModel",
            "_view_count": null,
            "_view_module": "@jupyter-widgets/base",
            "_view_module_version": "1.2.0",
            "_view_name": "LayoutView",
            "align_content": null,
            "align_items": null,
            "align_self": null,
            "border": null,
            "bottom": null,
            "display": null,
            "flex": null,
            "flex_flow": null,
            "grid_area": null,
            "grid_auto_columns": null,
            "grid_auto_flow": null,
            "grid_auto_rows": null,
            "grid_column": null,
            "grid_gap": null,
            "grid_row": null,
            "grid_template_areas": null,
            "grid_template_columns": null,
            "grid_template_rows": null,
            "height": null,
            "justify_content": null,
            "justify_items": null,
            "left": null,
            "margin": null,
            "max_height": null,
            "max_width": null,
            "min_height": null,
            "min_width": null,
            "object_fit": null,
            "object_position": null,
            "order": null,
            "overflow": null,
            "overflow_x": null,
            "overflow_y": null,
            "padding": null,
            "right": null,
            "top": null,
            "visibility": null,
            "width": null
          }
        },
        "91874d0966f04969bea27aa9a8b8caf7": {
          "model_module": "@jupyter-widgets/base",
          "model_module_version": "1.2.0",
          "model_name": "LayoutModel",
          "state": {
            "_model_module": "@jupyter-widgets/base",
            "_model_module_version": "1.2.0",
            "_model_name": "LayoutModel",
            "_view_count": null,
            "_view_module": "@jupyter-widgets/base",
            "_view_module_version": "1.2.0",
            "_view_name": "LayoutView",
            "align_content": null,
            "align_items": null,
            "align_self": null,
            "border": null,
            "bottom": null,
            "display": null,
            "flex": null,
            "flex_flow": null,
            "grid_area": null,
            "grid_auto_columns": null,
            "grid_auto_flow": null,
            "grid_auto_rows": null,
            "grid_column": null,
            "grid_gap": null,
            "grid_row": null,
            "grid_template_areas": null,
            "grid_template_columns": null,
            "grid_template_rows": null,
            "height": null,
            "justify_content": null,
            "justify_items": null,
            "left": null,
            "margin": null,
            "max_height": null,
            "max_width": null,
            "min_height": null,
            "min_width": null,
            "object_fit": null,
            "object_position": null,
            "order": null,
            "overflow": null,
            "overflow_x": null,
            "overflow_y": null,
            "padding": null,
            "right": null,
            "top": null,
            "visibility": null,
            "width": null
          }
        },
        "91ff5e0e09824f1b91c31250dfe78ee3": {
          "model_module": "@jupyter-widgets/controls",
          "model_module_version": "1.5.0",
          "model_name": "DescriptionStyleModel",
          "state": {
            "_model_module": "@jupyter-widgets/controls",
            "_model_module_version": "1.5.0",
            "_model_name": "DescriptionStyleModel",
            "_view_count": null,
            "_view_module": "@jupyter-widgets/base",
            "_view_module_version": "1.2.0",
            "_view_name": "StyleView",
            "description_width": ""
          }
        },
        "96b8b97ad7a6416598ac568afae92308": {
          "model_module": "@jupyter-widgets/controls",
          "model_module_version": "1.5.0",
          "model_name": "HTMLModel",
          "state": {
            "_dom_classes": [],
            "_model_module": "@jupyter-widgets/controls",
            "_model_module_version": "1.5.0",
            "_model_name": "HTMLModel",
            "_view_count": null,
            "_view_module": "@jupyter-widgets/controls",
            "_view_module_version": "1.5.0",
            "_view_name": "HTMLView",
            "description": "",
            "description_tooltip": null,
            "layout": "IPY_MODEL_f5e62b77376145aebb7332822e596341",
            "placeholder": "​",
            "style": "IPY_MODEL_6ffce92485be45babc5a263d1016c370",
            "value": "100%"
          }
        },
        "9f8984e400804515a2fbe97f80923123": {
          "model_module": "@jupyter-widgets/controls",
          "model_module_version": "1.5.0",
          "model_name": "ProgressStyleModel",
          "state": {
            "_model_module": "@jupyter-widgets/controls",
            "_model_module_version": "1.5.0",
            "_model_name": "ProgressStyleModel",
            "_view_count": null,
            "_view_module": "@jupyter-widgets/base",
            "_view_module_version": "1.2.0",
            "_view_name": "StyleView",
            "bar_color": null,
            "description_width": ""
          }
        },
        "9fc47f4271b4456f9eb4256907551868": {
          "model_module": "@jupyter-widgets/controls",
          "model_module_version": "1.5.0",
          "model_name": "HBoxModel",
          "state": {
            "_dom_classes": [],
            "_model_module": "@jupyter-widgets/controls",
            "_model_module_version": "1.5.0",
            "_model_name": "HBoxModel",
            "_view_count": null,
            "_view_module": "@jupyter-widgets/controls",
            "_view_module_version": "1.5.0",
            "_view_name": "HBoxView",
            "box_style": "",
            "children": [
              "IPY_MODEL_96b8b97ad7a6416598ac568afae92308",
              "IPY_MODEL_5af1733e97db43b9a5bd128df0cfbac1",
              "IPY_MODEL_6ff65b1e1ccc4352bd247480aa5179b3"
            ],
            "layout": "IPY_MODEL_c7991e524e0c46d985935b618340eaa8"
          }
        },
        "a3023c0d1da7454c9dfe418fc3441ccc": {
          "model_module": "@jupyter-widgets/base",
          "model_module_version": "1.2.0",
          "model_name": "LayoutModel",
          "state": {
            "_model_module": "@jupyter-widgets/base",
            "_model_module_version": "1.2.0",
            "_model_name": "LayoutModel",
            "_view_count": null,
            "_view_module": "@jupyter-widgets/base",
            "_view_module_version": "1.2.0",
            "_view_name": "LayoutView",
            "align_content": null,
            "align_items": null,
            "align_self": null,
            "border": null,
            "bottom": null,
            "display": null,
            "flex": null,
            "flex_flow": null,
            "grid_area": null,
            "grid_auto_columns": null,
            "grid_auto_flow": null,
            "grid_auto_rows": null,
            "grid_column": null,
            "grid_gap": null,
            "grid_row": null,
            "grid_template_areas": null,
            "grid_template_columns": null,
            "grid_template_rows": null,
            "height": null,
            "justify_content": null,
            "justify_items": null,
            "left": null,
            "margin": null,
            "max_height": null,
            "max_width": null,
            "min_height": null,
            "min_width": null,
            "object_fit": null,
            "object_position": null,
            "order": null,
            "overflow": null,
            "overflow_x": null,
            "overflow_y": null,
            "padding": null,
            "right": null,
            "top": null,
            "visibility": null,
            "width": null
          }
        },
        "a69cbf91244f4c68bf279e7cbd1a2bf7": {
          "model_module": "@jupyter-widgets/base",
          "model_module_version": "1.2.0",
          "model_name": "LayoutModel",
          "state": {
            "_model_module": "@jupyter-widgets/base",
            "_model_module_version": "1.2.0",
            "_model_name": "LayoutModel",
            "_view_count": null,
            "_view_module": "@jupyter-widgets/base",
            "_view_module_version": "1.2.0",
            "_view_name": "LayoutView",
            "align_content": null,
            "align_items": null,
            "align_self": null,
            "border": null,
            "bottom": null,
            "display": null,
            "flex": null,
            "flex_flow": null,
            "grid_area": null,
            "grid_auto_columns": null,
            "grid_auto_flow": null,
            "grid_auto_rows": null,
            "grid_column": null,
            "grid_gap": null,
            "grid_row": null,
            "grid_template_areas": null,
            "grid_template_columns": null,
            "grid_template_rows": null,
            "height": null,
            "justify_content": null,
            "justify_items": null,
            "left": null,
            "margin": null,
            "max_height": null,
            "max_width": null,
            "min_height": null,
            "min_width": null,
            "object_fit": null,
            "object_position": null,
            "order": null,
            "overflow": null,
            "overflow_x": null,
            "overflow_y": null,
            "padding": null,
            "right": null,
            "top": null,
            "visibility": null,
            "width": null
          }
        },
        "a718a1be06ac487f8b4252cf80a84a2e": {
          "model_module": "@jupyter-widgets/base",
          "model_module_version": "1.2.0",
          "model_name": "LayoutModel",
          "state": {
            "_model_module": "@jupyter-widgets/base",
            "_model_module_version": "1.2.0",
            "_model_name": "LayoutModel",
            "_view_count": null,
            "_view_module": "@jupyter-widgets/base",
            "_view_module_version": "1.2.0",
            "_view_name": "LayoutView",
            "align_content": null,
            "align_items": null,
            "align_self": null,
            "border": null,
            "bottom": null,
            "display": null,
            "flex": null,
            "flex_flow": null,
            "grid_area": null,
            "grid_auto_columns": null,
            "grid_auto_flow": null,
            "grid_auto_rows": null,
            "grid_column": null,
            "grid_gap": null,
            "grid_row": null,
            "grid_template_areas": null,
            "grid_template_columns": null,
            "grid_template_rows": null,
            "height": null,
            "justify_content": null,
            "justify_items": null,
            "left": null,
            "margin": null,
            "max_height": null,
            "max_width": null,
            "min_height": null,
            "min_width": null,
            "object_fit": null,
            "object_position": null,
            "order": null,
            "overflow": null,
            "overflow_x": null,
            "overflow_y": null,
            "padding": null,
            "right": null,
            "top": null,
            "visibility": null,
            "width": null
          }
        },
        "ad1c5c186ec6489cb364a96241054460": {
          "model_module": "@jupyter-widgets/controls",
          "model_module_version": "1.5.0",
          "model_name": "ProgressStyleModel",
          "state": {
            "_model_module": "@jupyter-widgets/controls",
            "_model_module_version": "1.5.0",
            "_model_name": "ProgressStyleModel",
            "_view_count": null,
            "_view_module": "@jupyter-widgets/base",
            "_view_module_version": "1.2.0",
            "_view_name": "StyleView",
            "bar_color": null,
            "description_width": ""
          }
        },
        "af61858559134b1a9461837362f7bd6b": {
          "model_module": "@jupyter-widgets/controls",
          "model_module_version": "1.5.0",
          "model_name": "DescriptionStyleModel",
          "state": {
            "_model_module": "@jupyter-widgets/controls",
            "_model_module_version": "1.5.0",
            "_model_name": "DescriptionStyleModel",
            "_view_count": null,
            "_view_module": "@jupyter-widgets/base",
            "_view_module_version": "1.2.0",
            "_view_name": "StyleView",
            "description_width": ""
          }
        },
        "afc4438f7e0a4970b2922d2997506af6": {
          "model_module": "@jupyter-widgets/controls",
          "model_module_version": "1.5.0",
          "model_name": "HTMLModel",
          "state": {
            "_dom_classes": [],
            "_model_module": "@jupyter-widgets/controls",
            "_model_module_version": "1.5.0",
            "_model_name": "HTMLModel",
            "_view_count": null,
            "_view_module": "@jupyter-widgets/controls",
            "_view_module_version": "1.5.0",
            "_view_name": "HTMLView",
            "description": "",
            "description_tooltip": null,
            "layout": "IPY_MODEL_3c19b47bc39b4868b64241c6e27e5174",
            "placeholder": "​",
            "style": "IPY_MODEL_91ff5e0e09824f1b91c31250dfe78ee3",
            "value": "100%"
          }
        },
        "b3c081fdd3ee4dcc923635a8115d755e": {
          "model_module": "@jupyter-widgets/controls",
          "model_module_version": "1.5.0",
          "model_name": "DescriptionStyleModel",
          "state": {
            "_model_module": "@jupyter-widgets/controls",
            "_model_module_version": "1.5.0",
            "_model_name": "DescriptionStyleModel",
            "_view_count": null,
            "_view_module": "@jupyter-widgets/base",
            "_view_module_version": "1.2.0",
            "_view_name": "StyleView",
            "description_width": ""
          }
        },
        "b7b56da66fe24de9845d3274372ece40": {
          "model_module": "@jupyter-widgets/base",
          "model_module_version": "1.2.0",
          "model_name": "LayoutModel",
          "state": {
            "_model_module": "@jupyter-widgets/base",
            "_model_module_version": "1.2.0",
            "_model_name": "LayoutModel",
            "_view_count": null,
            "_view_module": "@jupyter-widgets/base",
            "_view_module_version": "1.2.0",
            "_view_name": "LayoutView",
            "align_content": null,
            "align_items": null,
            "align_self": null,
            "border": null,
            "bottom": null,
            "display": null,
            "flex": null,
            "flex_flow": null,
            "grid_area": null,
            "grid_auto_columns": null,
            "grid_auto_flow": null,
            "grid_auto_rows": null,
            "grid_column": null,
            "grid_gap": null,
            "grid_row": null,
            "grid_template_areas": null,
            "grid_template_columns": null,
            "grid_template_rows": null,
            "height": null,
            "justify_content": null,
            "justify_items": null,
            "left": null,
            "margin": null,
            "max_height": null,
            "max_width": null,
            "min_height": null,
            "min_width": null,
            "object_fit": null,
            "object_position": null,
            "order": null,
            "overflow": null,
            "overflow_x": null,
            "overflow_y": null,
            "padding": null,
            "right": null,
            "top": null,
            "visibility": null,
            "width": null
          }
        },
        "bea0d931fb9e4ce0b211fc67c1237da3": {
          "model_module": "@jupyter-widgets/controls",
          "model_module_version": "1.5.0",
          "model_name": "HTMLModel",
          "state": {
            "_dom_classes": [],
            "_model_module": "@jupyter-widgets/controls",
            "_model_module_version": "1.5.0",
            "_model_name": "HTMLModel",
            "_view_count": null,
            "_view_module": "@jupyter-widgets/controls",
            "_view_module_version": "1.5.0",
            "_view_name": "HTMLView",
            "description": "",
            "description_tooltip": null,
            "layout": "IPY_MODEL_5b729e4473684681bc2f9a9654bc08a6",
            "placeholder": "​",
            "style": "IPY_MODEL_c11c6d2626924153ae9de3f4afa98408",
            "value": " 10/10 [3:11:31&lt;00:00, 1149.09s/it]"
          }
        },
        "bf5606af1a5f418cbf8e2965f912fcec": {
          "model_module": "@jupyter-widgets/base",
          "model_module_version": "1.2.0",
          "model_name": "LayoutModel",
          "state": {
            "_model_module": "@jupyter-widgets/base",
            "_model_module_version": "1.2.0",
            "_model_name": "LayoutModel",
            "_view_count": null,
            "_view_module": "@jupyter-widgets/base",
            "_view_module_version": "1.2.0",
            "_view_name": "LayoutView",
            "align_content": null,
            "align_items": null,
            "align_self": null,
            "border": null,
            "bottom": null,
            "display": null,
            "flex": null,
            "flex_flow": null,
            "grid_area": null,
            "grid_auto_columns": null,
            "grid_auto_flow": null,
            "grid_auto_rows": null,
            "grid_column": null,
            "grid_gap": null,
            "grid_row": null,
            "grid_template_areas": null,
            "grid_template_columns": null,
            "grid_template_rows": null,
            "height": null,
            "justify_content": null,
            "justify_items": null,
            "left": null,
            "margin": null,
            "max_height": null,
            "max_width": null,
            "min_height": null,
            "min_width": null,
            "object_fit": null,
            "object_position": null,
            "order": null,
            "overflow": null,
            "overflow_x": null,
            "overflow_y": null,
            "padding": null,
            "right": null,
            "top": null,
            "visibility": null,
            "width": null
          }
        },
        "bf6d9429ef644fd6a230b14aea84a21f": {
          "model_module": "@jupyter-widgets/base",
          "model_module_version": "1.2.0",
          "model_name": "LayoutModel",
          "state": {
            "_model_module": "@jupyter-widgets/base",
            "_model_module_version": "1.2.0",
            "_model_name": "LayoutModel",
            "_view_count": null,
            "_view_module": "@jupyter-widgets/base",
            "_view_module_version": "1.2.0",
            "_view_name": "LayoutView",
            "align_content": null,
            "align_items": null,
            "align_self": null,
            "border": null,
            "bottom": null,
            "display": null,
            "flex": null,
            "flex_flow": null,
            "grid_area": null,
            "grid_auto_columns": null,
            "grid_auto_flow": null,
            "grid_auto_rows": null,
            "grid_column": null,
            "grid_gap": null,
            "grid_row": null,
            "grid_template_areas": null,
            "grid_template_columns": null,
            "grid_template_rows": null,
            "height": null,
            "justify_content": null,
            "justify_items": null,
            "left": null,
            "margin": null,
            "max_height": null,
            "max_width": null,
            "min_height": null,
            "min_width": null,
            "object_fit": null,
            "object_position": null,
            "order": null,
            "overflow": null,
            "overflow_x": null,
            "overflow_y": null,
            "padding": null,
            "right": null,
            "top": null,
            "visibility": null,
            "width": null
          }
        },
        "c11c6d2626924153ae9de3f4afa98408": {
          "model_module": "@jupyter-widgets/controls",
          "model_module_version": "1.5.0",
          "model_name": "DescriptionStyleModel",
          "state": {
            "_model_module": "@jupyter-widgets/controls",
            "_model_module_version": "1.5.0",
            "_model_name": "DescriptionStyleModel",
            "_view_count": null,
            "_view_module": "@jupyter-widgets/base",
            "_view_module_version": "1.2.0",
            "_view_name": "StyleView",
            "description_width": ""
          }
        },
        "c5e4fe5b3985455fb65f724ee50997fd": {
          "model_module": "@jupyter-widgets/controls",
          "model_module_version": "1.5.0",
          "model_name": "HTMLModel",
          "state": {
            "_dom_classes": [],
            "_model_module": "@jupyter-widgets/controls",
            "_model_module_version": "1.5.0",
            "_model_name": "HTMLModel",
            "_view_count": null,
            "_view_module": "@jupyter-widgets/controls",
            "_view_module_version": "1.5.0",
            "_view_name": "HTMLView",
            "description": "",
            "description_tooltip": null,
            "layout": "IPY_MODEL_7657c5b618394b0eb63061f5a88ad7af",
            "placeholder": "​",
            "style": "IPY_MODEL_b3c081fdd3ee4dcc923635a8115d755e",
            "value": " 10/10 [3:10:29&lt;00:00, 1141.94s/it]"
          }
        },
        "c7991e524e0c46d985935b618340eaa8": {
          "model_module": "@jupyter-widgets/base",
          "model_module_version": "1.2.0",
          "model_name": "LayoutModel",
          "state": {
            "_model_module": "@jupyter-widgets/base",
            "_model_module_version": "1.2.0",
            "_model_name": "LayoutModel",
            "_view_count": null,
            "_view_module": "@jupyter-widgets/base",
            "_view_module_version": "1.2.0",
            "_view_name": "LayoutView",
            "align_content": null,
            "align_items": null,
            "align_self": null,
            "border": null,
            "bottom": null,
            "display": null,
            "flex": null,
            "flex_flow": null,
            "grid_area": null,
            "grid_auto_columns": null,
            "grid_auto_flow": null,
            "grid_auto_rows": null,
            "grid_column": null,
            "grid_gap": null,
            "grid_row": null,
            "grid_template_areas": null,
            "grid_template_columns": null,
            "grid_template_rows": null,
            "height": null,
            "justify_content": null,
            "justify_items": null,
            "left": null,
            "margin": null,
            "max_height": null,
            "max_width": null,
            "min_height": null,
            "min_width": null,
            "object_fit": null,
            "object_position": null,
            "order": null,
            "overflow": null,
            "overflow_x": null,
            "overflow_y": null,
            "padding": null,
            "right": null,
            "top": null,
            "visibility": null,
            "width": null
          }
        },
        "d38c626095bf4778ad8ac6931de41386": {
          "model_module": "@jupyter-widgets/controls",
          "model_module_version": "1.5.0",
          "model_name": "ProgressStyleModel",
          "state": {
            "_model_module": "@jupyter-widgets/controls",
            "_model_module_version": "1.5.0",
            "_model_name": "ProgressStyleModel",
            "_view_count": null,
            "_view_module": "@jupyter-widgets/base",
            "_view_module_version": "1.2.0",
            "_view_name": "StyleView",
            "bar_color": null,
            "description_width": ""
          }
        },
        "d5028720287c48b68f85c5a8bd27e815": {
          "model_module": "@jupyter-widgets/controls",
          "model_module_version": "1.5.0",
          "model_name": "FloatProgressModel",
          "state": {
            "_dom_classes": [],
            "_model_module": "@jupyter-widgets/controls",
            "_model_module_version": "1.5.0",
            "_model_name": "FloatProgressModel",
            "_view_count": null,
            "_view_module": "@jupyter-widgets/controls",
            "_view_module_version": "1.5.0",
            "_view_name": "ProgressView",
            "bar_style": "success",
            "description": "",
            "description_tooltip": null,
            "layout": "IPY_MODEL_e57084e3fbb248219e5a236db32275a6",
            "max": 10,
            "min": 0,
            "orientation": "horizontal",
            "style": "IPY_MODEL_ad1c5c186ec6489cb364a96241054460",
            "value": 10
          }
        },
        "d650a7af079b472eb6194bc92496ef38": {
          "model_module": "@jupyter-widgets/controls",
          "model_module_version": "1.5.0",
          "model_name": "HBoxModel",
          "state": {
            "_dom_classes": [],
            "_model_module": "@jupyter-widgets/controls",
            "_model_module_version": "1.5.0",
            "_model_name": "HBoxModel",
            "_view_count": null,
            "_view_module": "@jupyter-widgets/controls",
            "_view_module_version": "1.5.0",
            "_view_name": "HBoxView",
            "box_style": "",
            "children": [
              "IPY_MODEL_afc4438f7e0a4970b2922d2997506af6",
              "IPY_MODEL_f78e07f226284ac1893583cab8c1d79b",
              "IPY_MODEL_c5e4fe5b3985455fb65f724ee50997fd"
            ],
            "layout": "IPY_MODEL_8e612920a88d444c80c06018acf00dcc"
          }
        },
        "d67eddfa74984349bf2be1972da2ce38": {
          "model_module": "@jupyter-widgets/base",
          "model_module_version": "1.2.0",
          "model_name": "LayoutModel",
          "state": {
            "_model_module": "@jupyter-widgets/base",
            "_model_module_version": "1.2.0",
            "_model_name": "LayoutModel",
            "_view_count": null,
            "_view_module": "@jupyter-widgets/base",
            "_view_module_version": "1.2.0",
            "_view_name": "LayoutView",
            "align_content": null,
            "align_items": null,
            "align_self": null,
            "border": null,
            "bottom": null,
            "display": null,
            "flex": null,
            "flex_flow": null,
            "grid_area": null,
            "grid_auto_columns": null,
            "grid_auto_flow": null,
            "grid_auto_rows": null,
            "grid_column": null,
            "grid_gap": null,
            "grid_row": null,
            "grid_template_areas": null,
            "grid_template_columns": null,
            "grid_template_rows": null,
            "height": null,
            "justify_content": null,
            "justify_items": null,
            "left": null,
            "margin": null,
            "max_height": null,
            "max_width": null,
            "min_height": null,
            "min_width": null,
            "object_fit": null,
            "object_position": null,
            "order": null,
            "overflow": null,
            "overflow_x": null,
            "overflow_y": null,
            "padding": null,
            "right": null,
            "top": null,
            "visibility": null,
            "width": null
          }
        },
        "d740de80fde14089afb6b1ea14227c32": {
          "model_module": "@jupyter-widgets/controls",
          "model_module_version": "1.5.0",
          "model_name": "DescriptionStyleModel",
          "state": {
            "_model_module": "@jupyter-widgets/controls",
            "_model_module_version": "1.5.0",
            "_model_name": "DescriptionStyleModel",
            "_view_count": null,
            "_view_module": "@jupyter-widgets/base",
            "_view_module_version": "1.2.0",
            "_view_name": "StyleView",
            "description_width": ""
          }
        },
        "e06e8e4a018945fe980b26b17f472f0f": {
          "model_module": "@jupyter-widgets/controls",
          "model_module_version": "1.5.0",
          "model_name": "HTMLModel",
          "state": {
            "_dom_classes": [],
            "_model_module": "@jupyter-widgets/controls",
            "_model_module_version": "1.5.0",
            "_model_name": "HTMLModel",
            "_view_count": null,
            "_view_module": "@jupyter-widgets/controls",
            "_view_module_version": "1.5.0",
            "_view_name": "HTMLView",
            "description": "",
            "description_tooltip": null,
            "layout": "IPY_MODEL_671ed91360fe4663af4ef7f04fb7bd6b",
            "placeholder": "​",
            "style": "IPY_MODEL_755fdc3bc0d04dbf8718a6a252a20c48",
            "value": "100%"
          }
        },
        "e0a105bc8bbf486e8f25863f67ed18bd": {
          "model_module": "@jupyter-widgets/base",
          "model_module_version": "1.2.0",
          "model_name": "LayoutModel",
          "state": {
            "_model_module": "@jupyter-widgets/base",
            "_model_module_version": "1.2.0",
            "_model_name": "LayoutModel",
            "_view_count": null,
            "_view_module": "@jupyter-widgets/base",
            "_view_module_version": "1.2.0",
            "_view_name": "LayoutView",
            "align_content": null,
            "align_items": null,
            "align_self": null,
            "border": null,
            "bottom": null,
            "display": null,
            "flex": null,
            "flex_flow": null,
            "grid_area": null,
            "grid_auto_columns": null,
            "grid_auto_flow": null,
            "grid_auto_rows": null,
            "grid_column": null,
            "grid_gap": null,
            "grid_row": null,
            "grid_template_areas": null,
            "grid_template_columns": null,
            "grid_template_rows": null,
            "height": null,
            "justify_content": null,
            "justify_items": null,
            "left": null,
            "margin": null,
            "max_height": null,
            "max_width": null,
            "min_height": null,
            "min_width": null,
            "object_fit": null,
            "object_position": null,
            "order": null,
            "overflow": null,
            "overflow_x": null,
            "overflow_y": null,
            "padding": null,
            "right": null,
            "top": null,
            "visibility": null,
            "width": null
          }
        },
        "e57084e3fbb248219e5a236db32275a6": {
          "model_module": "@jupyter-widgets/base",
          "model_module_version": "1.2.0",
          "model_name": "LayoutModel",
          "state": {
            "_model_module": "@jupyter-widgets/base",
            "_model_module_version": "1.2.0",
            "_model_name": "LayoutModel",
            "_view_count": null,
            "_view_module": "@jupyter-widgets/base",
            "_view_module_version": "1.2.0",
            "_view_name": "LayoutView",
            "align_content": null,
            "align_items": null,
            "align_self": null,
            "border": null,
            "bottom": null,
            "display": null,
            "flex": null,
            "flex_flow": null,
            "grid_area": null,
            "grid_auto_columns": null,
            "grid_auto_flow": null,
            "grid_auto_rows": null,
            "grid_column": null,
            "grid_gap": null,
            "grid_row": null,
            "grid_template_areas": null,
            "grid_template_columns": null,
            "grid_template_rows": null,
            "height": null,
            "justify_content": null,
            "justify_items": null,
            "left": null,
            "margin": null,
            "max_height": null,
            "max_width": null,
            "min_height": null,
            "min_width": null,
            "object_fit": null,
            "object_position": null,
            "order": null,
            "overflow": null,
            "overflow_x": null,
            "overflow_y": null,
            "padding": null,
            "right": null,
            "top": null,
            "visibility": null,
            "width": null
          }
        },
        "e5862ed67300479eab0750c9a86ada4b": {
          "model_module": "@jupyter-widgets/controls",
          "model_module_version": "1.5.0",
          "model_name": "HTMLModel",
          "state": {
            "_dom_classes": [],
            "_model_module": "@jupyter-widgets/controls",
            "_model_module_version": "1.5.0",
            "_model_name": "HTMLModel",
            "_view_count": null,
            "_view_module": "@jupyter-widgets/controls",
            "_view_module_version": "1.5.0",
            "_view_name": "HTMLView",
            "description": "",
            "description_tooltip": null,
            "layout": "IPY_MODEL_4ef17015dd314b5c8f5f4ed7eef9198b",
            "placeholder": "​",
            "style": "IPY_MODEL_8e5db89ac3824e82943c388a26ed7b7e",
            "value": "100%"
          }
        },
        "f5e62b77376145aebb7332822e596341": {
          "model_module": "@jupyter-widgets/base",
          "model_module_version": "1.2.0",
          "model_name": "LayoutModel",
          "state": {
            "_model_module": "@jupyter-widgets/base",
            "_model_module_version": "1.2.0",
            "_model_name": "LayoutModel",
            "_view_count": null,
            "_view_module": "@jupyter-widgets/base",
            "_view_module_version": "1.2.0",
            "_view_name": "LayoutView",
            "align_content": null,
            "align_items": null,
            "align_self": null,
            "border": null,
            "bottom": null,
            "display": null,
            "flex": null,
            "flex_flow": null,
            "grid_area": null,
            "grid_auto_columns": null,
            "grid_auto_flow": null,
            "grid_auto_rows": null,
            "grid_column": null,
            "grid_gap": null,
            "grid_row": null,
            "grid_template_areas": null,
            "grid_template_columns": null,
            "grid_template_rows": null,
            "height": null,
            "justify_content": null,
            "justify_items": null,
            "left": null,
            "margin": null,
            "max_height": null,
            "max_width": null,
            "min_height": null,
            "min_width": null,
            "object_fit": null,
            "object_position": null,
            "order": null,
            "overflow": null,
            "overflow_x": null,
            "overflow_y": null,
            "padding": null,
            "right": null,
            "top": null,
            "visibility": null,
            "width": null
          }
        },
        "f78e07f226284ac1893583cab8c1d79b": {
          "model_module": "@jupyter-widgets/controls",
          "model_module_version": "1.5.0",
          "model_name": "FloatProgressModel",
          "state": {
            "_dom_classes": [],
            "_model_module": "@jupyter-widgets/controls",
            "_model_module_version": "1.5.0",
            "_model_name": "FloatProgressModel",
            "_view_count": null,
            "_view_module": "@jupyter-widgets/controls",
            "_view_module_version": "1.5.0",
            "_view_name": "ProgressView",
            "bar_style": "success",
            "description": "",
            "description_tooltip": null,
            "layout": "IPY_MODEL_5860f2d07d35402eafb4cc4bd0b01b2b",
            "max": 10,
            "min": 0,
            "orientation": "horizontal",
            "style": "IPY_MODEL_738088c8187f45ff96da68a72ee174e3",
            "value": 10
          }
        }
      }
    }
  },
  "nbformat": 4,
  "nbformat_minor": 0
}
