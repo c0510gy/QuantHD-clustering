{
 "cells": [
  {
   "cell_type": "code",
   "execution_count": 1,
   "metadata": {},
   "outputs": [],
   "source": [
    "import hd_clustering\n",
    "import torch\n",
    "import numpy as np"
   ]
  },
  {
   "cell_type": "code",
   "execution_count": 2,
   "metadata": {},
   "outputs": [],
   "source": [
    "DIM = 10000\n",
    "MAX_SAMPLES = 10000\n",
    "DATA_SET = 'mnist'\n",
    "DATA_LOC = './Conventional_Data/'\n",
    "# FEATURES = None\n",
    "# CLUSTERS = None\n",
    "BITS = 3"
   ]
  },
  {
   "cell_type": "code",
   "execution_count": 3,
   "metadata": {},
   "outputs": [
    {
     "name": "stderr",
     "output_type": "stream",
     "text": [
      "Loading dataset mnist from mnist\n",
      "Loading train data... train data of shape (60000, 784) loaded\n",
      "Loading test data...  test  data of shape (10000, 784) loaded\n",
      "Data Loaded. Num of features = 784 Num of Classes = 10"
     ]
    }
   ],
   "source": [
    "dl = hd_clustering.Dataloader(dir=DATA_SET, dataset=DATA_SET, data_loc=DATA_LOC)\n",
    "nFeatures, nClasses, traindata, trainlabels, testdata, testlabels = dl.getParam()\n",
    "traindata = traindata[:MAX_SAMPLES]\n",
    "trainlabels = trainlabels[:MAX_SAMPLES]\n",
    "testdata = testdata[:]"
   ]
  },
  {
   "cell_type": "code",
   "execution_count": 4,
   "metadata": {},
   "outputs": [],
   "source": [
    "traindata = (traindata - traindata.mean()) / traindata.std()"
   ]
  },
  {
   "cell_type": "code",
   "execution_count": 5,
   "metadata": {},
   "outputs": [],
   "source": [
    "clusters = nClasses\n",
    "features = traindata.shape[1]\n",
    "model = hd_clustering.FebHD(clusters, features, dim=DIM)"
   ]
  },
  {
   "cell_type": "code",
   "execution_count": 6,
   "metadata": {},
   "outputs": [
    {
     "data": {
      "text/plain": [
       "7840000"
      ]
     },
     "execution_count": 6,
     "metadata": {},
     "output_type": "execute_result"
    }
   ],
   "source": [
    "traindata.size"
   ]
  },
  {
   "cell_type": "code",
   "execution_count": 7,
   "metadata": {},
   "outputs": [
    {
     "name": "stdout",
     "output_type": "stream",
     "text": [
      "0 0.1019\n",
      "1 0.1036\n",
      "2 0.0986\n",
      "3 0.1045\n",
      "4 0.0999\n",
      "5 0.0981\n",
      "6 0.1024\n",
      "7 0.0997\n",
      "8 0.1069\n",
      "9 0.1008\n"
     ]
    }
   ],
   "source": [
    "histories = []\n",
    "for trial in range(10):\n",
    "  history = model.fit(torch.tensor(traindata.astype(np.float32)), labels=trainlabels)\n",
    "\n",
    "  histories.append(history)\n",
    "\n",
    "  ypred = model(torch.tensor(traindata.astype(np.float32)))\n",
    "  train_acc = (ypred == torch.tensor(trainlabels)).sum().item() / len(ypred)\n",
    "\n",
    "  print(trial, max(history))\n"
   ]
  },
  {
   "cell_type": "code",
   "execution_count": 8,
   "metadata": {},
   "outputs": [],
   "source": [
    "ypred = model(torch.tensor(traindata.astype(np.float32)))"
   ]
  },
  {
   "cell_type": "code",
   "execution_count": 9,
   "metadata": {},
   "outputs": [
    {
     "data": {
      "text/plain": [
       "tensor([7, 5, 8,  ..., 6, 2, 9])"
      ]
     },
     "execution_count": 9,
     "metadata": {},
     "output_type": "execute_result"
    }
   ],
   "source": [
    "ypred"
   ]
  },
  {
   "cell_type": "code",
   "execution_count": 10,
   "metadata": {},
   "outputs": [
    {
     "data": {
      "text/plain": [
       "0.0986"
      ]
     },
     "execution_count": 10,
     "metadata": {},
     "output_type": "execute_result"
    }
   ],
   "source": [
    "(ypred == torch.tensor(trainlabels)).sum().item() / len(ypred)"
   ]
  },
  {
   "cell_type": "code",
   "execution_count": null,
   "metadata": {},
   "outputs": [],
   "source": []
  }
 ],
 "metadata": {
  "interpreter": {
   "hash": "07de9944a25ef994c7b45139c87e20861ad03da0f19921b48f76d01e36a1dc33"
  },
  "kernelspec": {
   "display_name": "Python 3.8.10 ('venv': venv)",
   "language": "python",
   "name": "python3"
  },
  "language_info": {
   "codemirror_mode": {
    "name": "ipython",
    "version": 3
   },
   "file_extension": ".py",
   "mimetype": "text/x-python",
   "name": "python",
   "nbconvert_exporter": "python",
   "pygments_lexer": "ipython3",
   "version": "3.8.10"
  },
  "orig_nbformat": 4
 },
 "nbformat": 4,
 "nbformat_minor": 2
}
